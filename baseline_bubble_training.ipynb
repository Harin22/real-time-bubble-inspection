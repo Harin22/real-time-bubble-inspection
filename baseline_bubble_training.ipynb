{
  "nbformat": 4,
  "nbformat_minor": 0,
  "metadata": {
    "colab": {
      "provenance": [],
      "gpuType": "T4",
      "authorship_tag": "ABX9TyNCdw0O6APGOmJgX0JMPVg5",
      "include_colab_link": true
    },
    "kernelspec": {
      "name": "python3",
      "display_name": "Python 3"
    },
    "language_info": {
      "name": "python"
    },
    "accelerator": "GPU"
  },
  "cells": [
    {
      "cell_type": "markdown",
      "metadata": {
        "id": "view-in-github",
        "colab_type": "text"
      },
      "source": [
        "<a href=\"https://colab.research.google.com/github/Harin22/real-time-bubble-inspection/blob/main/baseline_bubble_training.ipynb\" target=\"_parent\"><img src=\"https://colab.research.google.com/assets/colab-badge.svg\" alt=\"Open In Colab\"/></a>"
      ]
    },
    {
      "cell_type": "code",
      "execution_count": null,
      "metadata": {
        "colab": {
          "base_uri": "https://localhost:8080/"
        },
        "id": "gCwLXH1ffxjO",
        "outputId": "5dc77308-252a-460f-f664-623551543605"
      },
      "outputs": [
        {
          "output_type": "stream",
          "name": "stdout",
          "text": [
            "\u001b[?25l   \u001b[90m━━━━━━━━━━━━━━━━━━━━━━━━━━━━━━━━━━━━━━━━\u001b[0m \u001b[32m0.0/1.0 MB\u001b[0m \u001b[31m?\u001b[0m eta \u001b[36m-:--:--\u001b[0m\r\u001b[2K   \u001b[91m━━━━━━━━━━━━━━━━━━━━━━━━━━━━━━━━━━━━━━━\u001b[0m\u001b[91m╸\u001b[0m \u001b[32m1.0/1.0 MB\u001b[0m \u001b[31m35.0 MB/s\u001b[0m eta \u001b[36m0:00:01\u001b[0m\r\u001b[2K   \u001b[90m━━━━━━━━━━━━━━━━━━━━━━━━━━━━━━━━━━━━━━━━\u001b[0m \u001b[32m1.0/1.0 MB\u001b[0m \u001b[31m23.8 MB/s\u001b[0m eta \u001b[36m0:00:00\u001b[0m\n",
            "\u001b[?25h\u001b[?25l   \u001b[90m━━━━━━━━━━━━━━━━━━━━━━━━━━━━━━━━━━━━━━━━\u001b[0m \u001b[32m0.0/86.9 kB\u001b[0m \u001b[31m?\u001b[0m eta \u001b[36m-:--:--\u001b[0m\r\u001b[2K   \u001b[90m━━━━━━━━━━━━━━━━━━━━━━━━━━━━━━━━━━━━━━━━\u001b[0m \u001b[32m86.9/86.9 kB\u001b[0m \u001b[31m8.0 MB/s\u001b[0m eta \u001b[36m0:00:00\u001b[0m\n",
            "\u001b[2K   \u001b[90m━━━━━━━━━━━━━━━━━━━━━━━━━━━━━━━━━━━━━━━━\u001b[0m \u001b[32m66.8/66.8 kB\u001b[0m \u001b[31m6.0 MB/s\u001b[0m eta \u001b[36m0:00:00\u001b[0m\n",
            "\u001b[2K   \u001b[90m━━━━━━━━━━━━━━━━━━━━━━━━━━━━━━━━━━━━━━━━\u001b[0m \u001b[32m49.9/49.9 MB\u001b[0m \u001b[31m18.2 MB/s\u001b[0m eta \u001b[36m0:00:00\u001b[0m\n",
            "\u001b[2K   \u001b[90m━━━━━━━━━━━━━━━━━━━━━━━━━━━━━━━━━━━━━━━━\u001b[0m \u001b[32m1.4/1.4 MB\u001b[0m \u001b[31m64.3 MB/s\u001b[0m eta \u001b[36m0:00:00\u001b[0m\n",
            "\u001b[2K   \u001b[90m━━━━━━━━━━━━━━━━━━━━━━━━━━━━━━━━━━━━━━━━\u001b[0m \u001b[32m4.2/4.2 MB\u001b[0m \u001b[31m47.3 MB/s\u001b[0m eta \u001b[36m0:00:00\u001b[0m\n",
            "\u001b[2K   \u001b[90m━━━━━━━━━━━━━━━━━━━━━━━━━━━━━━━━━━━━━━━━\u001b[0m \u001b[32m363.4/363.4 MB\u001b[0m \u001b[31m1.4 MB/s\u001b[0m eta \u001b[36m0:00:00\u001b[0m\n",
            "\u001b[2K   \u001b[90m━━━━━━━━━━━━━━━━━━━━━━━━━━━━━━━━━━━━━━━━\u001b[0m \u001b[32m13.8/13.8 MB\u001b[0m \u001b[31m123.7 MB/s\u001b[0m eta \u001b[36m0:00:00\u001b[0m\n",
            "\u001b[2K   \u001b[90m━━━━━━━━━━━━━━━━━━━━━━━━━━━━━━━━━━━━━━━━\u001b[0m \u001b[32m24.6/24.6 MB\u001b[0m \u001b[31m93.4 MB/s\u001b[0m eta \u001b[36m0:00:00\u001b[0m\n",
            "\u001b[2K   \u001b[90m━━━━━━━━━━━━━━━━━━━━━━━━━━━━━━━━━━━━━━━━\u001b[0m \u001b[32m883.7/883.7 kB\u001b[0m \u001b[31m55.2 MB/s\u001b[0m eta \u001b[36m0:00:00\u001b[0m\n",
            "\u001b[2K   \u001b[90m━━━━━━━━━━━━━━━━━━━━━━━━━━━━━━━━━━━━━━━━\u001b[0m \u001b[32m664.8/664.8 MB\u001b[0m \u001b[31m2.9 MB/s\u001b[0m eta \u001b[36m0:00:00\u001b[0m\n",
            "\u001b[2K   \u001b[90m━━━━━━━━━━━━━━━━━━━━━━━━━━━━━━━━━━━━━━━━\u001b[0m \u001b[32m211.5/211.5 MB\u001b[0m \u001b[31m5.4 MB/s\u001b[0m eta \u001b[36m0:00:00\u001b[0m\n",
            "\u001b[2K   \u001b[90m━━━━━━━━━━━━━━━━━━━━━━━━━━━━━━━━━━━━━━━━\u001b[0m \u001b[32m56.3/56.3 MB\u001b[0m \u001b[31m12.7 MB/s\u001b[0m eta \u001b[36m0:00:00\u001b[0m\n",
            "\u001b[2K   \u001b[90m━━━━━━━━━━━━━━━━━━━━━━━━━━━━━━━━━━━━━━━━\u001b[0m \u001b[32m127.9/127.9 MB\u001b[0m \u001b[31m7.5 MB/s\u001b[0m eta \u001b[36m0:00:00\u001b[0m\n",
            "\u001b[2K   \u001b[90m━━━━━━━━━━━━━━━━━━━━━━━━━━━━━━━━━━━━━━━━\u001b[0m \u001b[32m207.5/207.5 MB\u001b[0m \u001b[31m5.5 MB/s\u001b[0m eta \u001b[36m0:00:00\u001b[0m\n",
            "\u001b[2K   \u001b[90m━━━━━━━━━━━━━━━━━━━━━━━━━━━━━━━━━━━━━━━━\u001b[0m \u001b[32m21.1/21.1 MB\u001b[0m \u001b[31m105.7 MB/s\u001b[0m eta \u001b[36m0:00:00\u001b[0m\n",
            "loading Roboflow workspace...\n",
            "loading Roboflow project...\n"
          ]
        },
        {
          "output_type": "stream",
          "name": "stderr",
          "text": [
            "Downloading Dataset Version Zip in BubbleSegmentation-v1-1 to yolov8:: 100%|██████████| 8202/8202 [00:00<00:00, 24566.49it/s]"
          ]
        },
        {
          "output_type": "stream",
          "name": "stdout",
          "text": [
            "\n"
          ]
        },
        {
          "output_type": "stream",
          "name": "stderr",
          "text": [
            "\n",
            "Extracting Dataset Version Zip to BubbleSegmentation-v1-1 in yolov8:: 100%|██████████| 386/386 [00:00<00:00, 6123.00it/s]\n"
          ]
        },
        {
          "output_type": "stream",
          "name": "stdout",
          "text": [
            "Creating new Ultralytics Settings v0.0.6 file ✅ \n",
            "View Ultralytics Settings with 'yolo settings' or at '/root/.config/Ultralytics/settings.json'\n",
            "Update Settings with 'yolo settings key=value', i.e. 'yolo settings runs_dir=path/to/dir'. For help see https://docs.ultralytics.com/quickstart/#ultralytics-settings.\n"
          ]
        }
      ],
      "source": [
        "!pip install ultralytics roboflow --quiet\n",
        "from roboflow import Roboflow\n",
        "\n",
        "rf = Roboflow(api_key=\"eG8tu3x56u8b6w6vxBRn\")\n",
        "project = rf.workspace(\"uni-project-ifxad\").project(\"bubblesegmentation-v1-5vmrc\")\n",
        "dataset = project.version(1).download(\"yolov8\")\n"
      ]
    },
    {
      "cell_type": "code",
      "source": [
        "from ultralytics import YOLO\n",
        "\n",
        "model = YOLO(\"yolov8n-seg.pt\")\n",
        "\n",
        "model.train(\n",
        "    data=\"/content/BubbleSegmentation-v1-1/data.yaml\",\n",
        "    epochs=50,\n",
        "    imgsz=640,\n",
        "    batch=8\n",
        ")\n"
      ],
      "metadata": {
        "colab": {
          "base_uri": "https://localhost:8080/"
        },
        "id": "iVfYWOfGg3-Z",
        "outputId": "01bf0675-0cfa-4aa2-ecc0-c14e61260cf0"
      },
      "execution_count": null,
      "outputs": [
        {
          "output_type": "stream",
          "name": "stderr",
          "text": [
            "Downloading https://github.com/ultralytics/assets/releases/download/v8.3.0/yolov8n-seg.pt to 'yolov8n-seg.pt': 100%|██████████| 6.74M/6.74M [00:00<00:00, 83.2MB/s]\n"
          ]
        },
        {
          "output_type": "stream",
          "name": "stdout",
          "text": [
            "Ultralytics 8.3.174 🚀 Python-3.11.13 torch-2.6.0+cu124 CUDA:0 (Tesla T4, 15095MiB)\n",
            "\u001b[34m\u001b[1mengine/trainer: \u001b[0magnostic_nms=False, amp=True, augment=False, auto_augment=randaugment, batch=8, bgr=0.0, box=7.5, cache=False, cfg=None, classes=None, close_mosaic=10, cls=0.5, conf=None, copy_paste=0.0, copy_paste_mode=flip, cos_lr=False, cutmix=0.0, data=/content/BubbleSegmentation-v1-1/data.yaml, degrees=0.0, deterministic=True, device=None, dfl=1.5, dnn=False, dropout=0.0, dynamic=False, embed=None, epochs=50, erasing=0.4, exist_ok=False, fliplr=0.5, flipud=0.0, format=torchscript, fraction=1.0, freeze=None, half=False, hsv_h=0.015, hsv_s=0.7, hsv_v=0.4, imgsz=640, int8=False, iou=0.7, keras=False, kobj=1.0, line_width=None, lr0=0.01, lrf=0.01, mask_ratio=4, max_det=300, mixup=0.0, mode=train, model=yolov8n-seg.pt, momentum=0.937, mosaic=1.0, multi_scale=False, name=train, nbs=64, nms=False, opset=None, optimize=False, optimizer=auto, overlap_mask=True, patience=100, perspective=0.0, plots=True, pose=12.0, pretrained=True, profile=False, project=None, rect=False, resume=False, retina_masks=False, save=True, save_conf=False, save_crop=False, save_dir=runs/segment/train, save_frames=False, save_json=False, save_period=-1, save_txt=False, scale=0.5, seed=0, shear=0.0, show=False, show_boxes=True, show_conf=True, show_labels=True, simplify=True, single_cls=False, source=None, split=val, stream_buffer=False, task=segment, time=None, tracker=botsort.yaml, translate=0.1, val=True, verbose=True, vid_stride=1, visualize=False, warmup_bias_lr=0.1, warmup_epochs=3.0, warmup_momentum=0.8, weight_decay=0.0005, workers=8, workspace=None\n"
          ]
        },
        {
          "output_type": "stream",
          "name": "stderr",
          "text": [
            "Downloading https://ultralytics.com/assets/Arial.ttf to '/root/.config/Ultralytics/Arial.ttf': 100%|██████████| 755k/755k [00:00<00:00, 19.8MB/s]"
          ]
        },
        {
          "output_type": "stream",
          "name": "stdout",
          "text": [
            "Overriding model.yaml nc=80 with nc=1\n",
            "\n",
            "                   from  n    params  module                                       arguments                     \n",
            "  0                  -1  1       464  ultralytics.nn.modules.conv.Conv             [3, 16, 3, 2]                 \n",
            "  1                  -1  1      4672  ultralytics.nn.modules.conv.Conv             [16, 32, 3, 2]                \n",
            "  2                  -1  1      7360  ultralytics.nn.modules.block.C2f             [32, 32, 1, True]             \n",
            "  3                  -1  1     18560  ultralytics.nn.modules.conv.Conv             [32, 64, 3, 2]                \n",
            "  4                  -1  2     49664  ultralytics.nn.modules.block.C2f             [64, 64, 2, True]             \n",
            "  5                  -1  1     73984  ultralytics.nn.modules.conv.Conv             [64, 128, 3, 2]               \n",
            "  6                  -1  2    197632  ultralytics.nn.modules.block.C2f             [128, 128, 2, True]           \n",
            "  7                  -1  1    295424  ultralytics.nn.modules.conv.Conv             [128, 256, 3, 2]              \n",
            "  8                  -1  1    460288  ultralytics.nn.modules.block.C2f             [256, 256, 1, True]           \n",
            "  9                  -1  1    164608  ultralytics.nn.modules.block.SPPF            [256, 256, 5]                 \n",
            " 10                  -1  1         0  torch.nn.modules.upsampling.Upsample         [None, 2, 'nearest']          \n",
            " 11             [-1, 6]  1         0  ultralytics.nn.modules.conv.Concat           [1]                           \n",
            " 12                  -1  1    148224  ultralytics.nn.modules.block.C2f             [384, 128, 1]                 \n",
            " 13                  -1  1         0  torch.nn.modules.upsampling.Upsample         [None, 2, 'nearest']          \n",
            " 14             [-1, 4]  1         0  ultralytics.nn.modules.conv.Concat           [1]                           \n",
            " 15                  -1  1     37248  ultralytics.nn.modules.block.C2f             [192, 64, 1]                  \n",
            " 16                  -1  1     36992  ultralytics.nn.modules.conv.Conv             [64, 64, 3, 2]                \n",
            " 17            [-1, 12]  1         0  ultralytics.nn.modules.conv.Concat           [1]                           \n",
            " 18                  -1  1    123648  ultralytics.nn.modules.block.C2f             [192, 128, 1]                 \n",
            " 19                  -1  1    147712  ultralytics.nn.modules.conv.Conv             [128, 128, 3, 2]              \n",
            " 20             [-1, 9]  1         0  ultralytics.nn.modules.conv.Concat           [1]                           \n",
            " 21                  -1  1    493056  ultralytics.nn.modules.block.C2f             [384, 256, 1]                 \n",
            " 22        [15, 18, 21]  1   1004275  ultralytics.nn.modules.head.Segment          [1, 32, 64, [64, 128, 256]]   \n"
          ]
        },
        {
          "output_type": "stream",
          "name": "stderr",
          "text": [
            "\n"
          ]
        },
        {
          "output_type": "stream",
          "name": "stdout",
          "text": [
            "YOLOv8n-seg summary: 151 layers, 3,263,811 parameters, 3,263,795 gradients, 12.1 GFLOPs\n",
            "\n",
            "Transferred 381/417 items from pretrained weights\n",
            "Freezing layer 'model.22.dfl.conv.weight'\n",
            "\u001b[34m\u001b[1mAMP: \u001b[0mrunning Automatic Mixed Precision (AMP) checks...\n"
          ]
        },
        {
          "output_type": "stream",
          "name": "stderr",
          "text": [
            "Downloading https://github.com/ultralytics/assets/releases/download/v8.3.0/yolo11n.pt to 'yolo11n.pt': 100%|██████████| 5.35M/5.35M [00:00<00:00, 77.1MB/s]\n"
          ]
        },
        {
          "output_type": "stream",
          "name": "stdout",
          "text": [
            "\u001b[34m\u001b[1mAMP: \u001b[0mchecks passed ✅\n",
            "\u001b[34m\u001b[1mtrain: \u001b[0mFast image access ✅ (ping: 0.0±0.0 ms, read: 731.8±270.0 MB/s, size: 40.3 KB)\n"
          ]
        },
        {
          "output_type": "stream",
          "name": "stderr",
          "text": [
            "\u001b[34m\u001b[1mtrain: \u001b[0mScanning /content/BubbleSegmentation-v1-1/train/labels... 131 images, 0 backgrounds, 0 corrupt: 100%|██████████| 131/131 [00:00<00:00, 1324.76it/s]"
          ]
        },
        {
          "output_type": "stream",
          "name": "stdout",
          "text": [
            "\u001b[34m\u001b[1mtrain: \u001b[0mNew cache created: /content/BubbleSegmentation-v1-1/train/labels.cache\n"
          ]
        },
        {
          "output_type": "stream",
          "name": "stderr",
          "text": [
            "\n"
          ]
        },
        {
          "output_type": "stream",
          "name": "stdout",
          "text": [
            "\u001b[34m\u001b[1malbumentations: \u001b[0mBlur(p=0.01, blur_limit=(3, 7)), MedianBlur(p=0.01, blur_limit=(3, 7)), ToGray(p=0.01, method='weighted_average', num_output_channels=3), CLAHE(p=0.01, clip_limit=(1.0, 4.0), tile_grid_size=(8, 8))\n",
            "\u001b[34m\u001b[1mval: \u001b[0mFast image access ✅ (ping: 0.0±0.0 ms, read: 490.9±405.2 MB/s, size: 43.5 KB)\n"
          ]
        },
        {
          "output_type": "stream",
          "name": "stderr",
          "text": [
            "\u001b[34m\u001b[1mval: \u001b[0mScanning /content/BubbleSegmentation-v1-1/valid/labels... 37 images, 1 backgrounds, 0 corrupt: 100%|██████████| 37/37 [00:00<00:00, 723.66it/s]"
          ]
        },
        {
          "output_type": "stream",
          "name": "stdout",
          "text": [
            "\u001b[34m\u001b[1mval: \u001b[0mNew cache created: /content/BubbleSegmentation-v1-1/valid/labels.cache\n"
          ]
        },
        {
          "output_type": "stream",
          "name": "stderr",
          "text": [
            "\n"
          ]
        },
        {
          "output_type": "stream",
          "name": "stdout",
          "text": [
            "Plotting labels to runs/segment/train/labels.jpg... \n",
            "\u001b[34m\u001b[1moptimizer:\u001b[0m 'optimizer=auto' found, ignoring 'lr0=0.01' and 'momentum=0.937' and determining best 'optimizer', 'lr0' and 'momentum' automatically... \n",
            "\u001b[34m\u001b[1moptimizer:\u001b[0m AdamW(lr=0.002, momentum=0.9) with parameter groups 66 weight(decay=0.0), 77 weight(decay=0.0005), 76 bias(decay=0.0)\n",
            "Image sizes 640 train, 640 val\n",
            "Using 2 dataloader workers\n",
            "Logging results to \u001b[1mruns/segment/train\u001b[0m\n",
            "Starting training for 50 epochs...\n",
            "\n",
            "      Epoch    GPU_mem   box_loss   seg_loss   cls_loss   dfl_loss  Instances       Size\n"
          ]
        },
        {
          "output_type": "stream",
          "name": "stderr",
          "text": [
            "       1/50      1.95G      2.059      3.242      3.371      1.181        184        640: 100%|██████████| 17/17 [00:11<00:00,  1.44it/s]\n",
            "                 Class     Images  Instances      Box(P          R      mAP50  mAP50-95)     Mask(P          R      mAP50  mAP50-95): 100%|██████████| 3/3 [00:01<00:00,  1.78it/s]"
          ]
        },
        {
          "output_type": "stream",
          "name": "stdout",
          "text": [
            "                   all         37        889     0.0427      0.533     0.0544     0.0246      0.043      0.537     0.0592     0.0252\n"
          ]
        },
        {
          "output_type": "stream",
          "name": "stderr",
          "text": [
            "\n"
          ]
        },
        {
          "output_type": "stream",
          "name": "stdout",
          "text": [
            "\n",
            "      Epoch    GPU_mem   box_loss   seg_loss   cls_loss   dfl_loss  Instances       Size\n"
          ]
        },
        {
          "output_type": "stream",
          "name": "stderr",
          "text": [
            "       2/50      2.67G      1.688       2.36       1.58      1.027         39        640: 100%|██████████| 17/17 [00:06<00:00,  2.68it/s]\n",
            "                 Class     Images  Instances      Box(P          R      mAP50  mAP50-95)     Mask(P          R      mAP50  mAP50-95): 100%|██████████| 3/3 [00:01<00:00,  2.73it/s]"
          ]
        },
        {
          "output_type": "stream",
          "name": "stdout",
          "text": [
            "                   all         37        889      0.074      0.416       0.26      0.116     0.0811      0.502      0.265      0.104\n"
          ]
        },
        {
          "output_type": "stream",
          "name": "stderr",
          "text": [
            "\n"
          ]
        },
        {
          "output_type": "stream",
          "name": "stdout",
          "text": [
            "\n",
            "      Epoch    GPU_mem   box_loss   seg_loss   cls_loss   dfl_loss  Instances       Size\n"
          ]
        },
        {
          "output_type": "stream",
          "name": "stderr",
          "text": [
            "       3/50      2.79G      1.639      2.274      1.231      1.033         72        640: 100%|██████████| 17/17 [00:07<00:00,  2.19it/s]\n",
            "                 Class     Images  Instances      Box(P          R      mAP50  mAP50-95)     Mask(P          R      mAP50  mAP50-95): 100%|██████████| 3/3 [00:01<00:00,  2.22it/s]"
          ]
        },
        {
          "output_type": "stream",
          "name": "stdout",
          "text": [
            "                   all         37        889     0.0569      0.711      0.074     0.0373     0.0575      0.718     0.0749     0.0346\n"
          ]
        },
        {
          "output_type": "stream",
          "name": "stderr",
          "text": [
            "\n"
          ]
        },
        {
          "output_type": "stream",
          "name": "stdout",
          "text": [
            "\n",
            "      Epoch    GPU_mem   box_loss   seg_loss   cls_loss   dfl_loss  Instances       Size\n"
          ]
        },
        {
          "output_type": "stream",
          "name": "stderr",
          "text": [
            "       4/50      2.82G      1.653      2.291      1.199      1.057        108        640: 100%|██████████| 17/17 [00:07<00:00,  2.32it/s]\n",
            "                 Class     Images  Instances      Box(P          R      mAP50  mAP50-95)     Mask(P          R      mAP50  mAP50-95): 100%|██████████| 3/3 [00:01<00:00,  1.89it/s]"
          ]
        },
        {
          "output_type": "stream",
          "name": "stdout",
          "text": [
            "                   all         37        889      0.246      0.387       0.21      0.114      0.245      0.386      0.208     0.0986\n"
          ]
        },
        {
          "output_type": "stream",
          "name": "stderr",
          "text": [
            "\n"
          ]
        },
        {
          "output_type": "stream",
          "name": "stdout",
          "text": [
            "\n",
            "      Epoch    GPU_mem   box_loss   seg_loss   cls_loss   dfl_loss  Instances       Size\n"
          ]
        },
        {
          "output_type": "stream",
          "name": "stderr",
          "text": [
            "       5/50      2.83G      1.616      2.274      1.163      1.029         66        640: 100%|██████████| 17/17 [00:06<00:00,  2.56it/s]\n",
            "                 Class     Images  Instances      Box(P          R      mAP50  mAP50-95)     Mask(P          R      mAP50  mAP50-95): 100%|██████████| 3/3 [00:01<00:00,  2.66it/s]"
          ]
        },
        {
          "output_type": "stream",
          "name": "stdout",
          "text": [
            "                   all         37        889      0.761      0.375      0.553      0.261      0.756      0.373      0.548      0.221\n"
          ]
        },
        {
          "output_type": "stream",
          "name": "stderr",
          "text": [
            "\n"
          ]
        },
        {
          "output_type": "stream",
          "name": "stdout",
          "text": [
            "\n",
            "      Epoch    GPU_mem   box_loss   seg_loss   cls_loss   dfl_loss  Instances       Size\n"
          ]
        },
        {
          "output_type": "stream",
          "name": "stderr",
          "text": [
            "       6/50      2.86G      1.628      2.215       1.17       1.05        141        640: 100%|██████████| 17/17 [00:07<00:00,  2.27it/s]\n",
            "                 Class     Images  Instances      Box(P          R      mAP50  mAP50-95)     Mask(P          R      mAP50  mAP50-95): 100%|██████████| 3/3 [00:01<00:00,  1.96it/s]"
          ]
        },
        {
          "output_type": "stream",
          "name": "stdout",
          "text": [
            "                   all         37        889      0.795      0.632       0.75      0.392      0.792       0.63      0.746      0.368\n"
          ]
        },
        {
          "output_type": "stream",
          "name": "stderr",
          "text": [
            "\n"
          ]
        },
        {
          "output_type": "stream",
          "name": "stdout",
          "text": [
            "\n",
            "      Epoch    GPU_mem   box_loss   seg_loss   cls_loss   dfl_loss  Instances       Size\n"
          ]
        },
        {
          "output_type": "stream",
          "name": "stderr",
          "text": [
            "       7/50         3G      1.608       2.21      1.118      1.026         84        640: 100%|██████████| 17/17 [00:07<00:00,  2.26it/s]\n",
            "                 Class     Images  Instances      Box(P          R      mAP50  mAP50-95)     Mask(P          R      mAP50  mAP50-95): 100%|██████████| 3/3 [00:01<00:00,  2.34it/s]"
          ]
        },
        {
          "output_type": "stream",
          "name": "stdout",
          "text": [
            "                   all         37        889      0.737      0.672      0.747      0.398      0.737      0.672      0.749      0.391\n"
          ]
        },
        {
          "output_type": "stream",
          "name": "stderr",
          "text": [
            "\n"
          ]
        },
        {
          "output_type": "stream",
          "name": "stdout",
          "text": [
            "\n",
            "      Epoch    GPU_mem   box_loss   seg_loss   cls_loss   dfl_loss  Instances       Size\n"
          ]
        },
        {
          "output_type": "stream",
          "name": "stderr",
          "text": [
            "       8/50      3.02G      1.588      2.213      1.096       1.04         43        640: 100%|██████████| 17/17 [00:06<00:00,  2.56it/s]\n",
            "                 Class     Images  Instances      Box(P          R      mAP50  mAP50-95)     Mask(P          R      mAP50  mAP50-95): 100%|██████████| 3/3 [00:01<00:00,  1.59it/s]"
          ]
        },
        {
          "output_type": "stream",
          "name": "stdout",
          "text": [
            "                   all         37        889      0.789       0.67      0.787      0.412      0.786      0.662      0.772      0.347\n"
          ]
        },
        {
          "output_type": "stream",
          "name": "stderr",
          "text": [
            "\n"
          ]
        },
        {
          "output_type": "stream",
          "name": "stdout",
          "text": [
            "\n",
            "      Epoch    GPU_mem   box_loss   seg_loss   cls_loss   dfl_loss  Instances       Size\n"
          ]
        },
        {
          "output_type": "stream",
          "name": "stderr",
          "text": [
            "       9/50      3.04G      1.576      2.155      1.047      1.021         80        640: 100%|██████████| 17/17 [00:06<00:00,  2.54it/s]\n",
            "                 Class     Images  Instances      Box(P          R      mAP50  mAP50-95)     Mask(P          R      mAP50  mAP50-95): 100%|██████████| 3/3 [00:01<00:00,  2.28it/s]"
          ]
        },
        {
          "output_type": "stream",
          "name": "stdout",
          "text": [
            "                   all         37        889      0.775      0.667      0.776      0.422      0.773      0.666      0.768      0.383\n"
          ]
        },
        {
          "output_type": "stream",
          "name": "stderr",
          "text": [
            "\n"
          ]
        },
        {
          "output_type": "stream",
          "name": "stdout",
          "text": [
            "\n",
            "      Epoch    GPU_mem   box_loss   seg_loss   cls_loss   dfl_loss  Instances       Size\n"
          ]
        },
        {
          "output_type": "stream",
          "name": "stderr",
          "text": [
            "      10/50      3.05G      1.544      2.173      1.038      1.016         73        640: 100%|██████████| 17/17 [00:07<00:00,  2.30it/s]\n",
            "                 Class     Images  Instances      Box(P          R      mAP50  mAP50-95)     Mask(P          R      mAP50  mAP50-95): 100%|██████████| 3/3 [00:01<00:00,  2.32it/s]"
          ]
        },
        {
          "output_type": "stream",
          "name": "stdout",
          "text": [
            "                   all         37        889      0.774      0.742      0.815      0.443      0.775      0.744      0.812      0.415\n"
          ]
        },
        {
          "output_type": "stream",
          "name": "stderr",
          "text": [
            "\n"
          ]
        },
        {
          "output_type": "stream",
          "name": "stdout",
          "text": [
            "\n",
            "      Epoch    GPU_mem   box_loss   seg_loss   cls_loss   dfl_loss  Instances       Size\n"
          ]
        },
        {
          "output_type": "stream",
          "name": "stderr",
          "text": [
            "      11/50      3.07G      1.551      2.189      1.032      1.026        154        640: 100%|██████████| 17/17 [00:06<00:00,  2.50it/s]\n",
            "                 Class     Images  Instances      Box(P          R      mAP50  mAP50-95)     Mask(P          R      mAP50  mAP50-95): 100%|██████████| 3/3 [00:01<00:00,  1.60it/s]"
          ]
        },
        {
          "output_type": "stream",
          "name": "stdout",
          "text": [
            "                   all         37        889      0.787      0.757      0.828      0.432      0.787      0.752      0.823      0.399\n"
          ]
        },
        {
          "output_type": "stream",
          "name": "stderr",
          "text": [
            "\n"
          ]
        },
        {
          "output_type": "stream",
          "name": "stdout",
          "text": [
            "\n",
            "      Epoch    GPU_mem   box_loss   seg_loss   cls_loss   dfl_loss  Instances       Size\n"
          ]
        },
        {
          "output_type": "stream",
          "name": "stderr",
          "text": [
            "      12/50      3.08G      1.553      2.158      1.033      1.009         86        640: 100%|██████████| 17/17 [00:06<00:00,  2.63it/s]\n",
            "                 Class     Images  Instances      Box(P          R      mAP50  mAP50-95)     Mask(P          R      mAP50  mAP50-95): 100%|██████████| 3/3 [00:01<00:00,  2.16it/s]"
          ]
        },
        {
          "output_type": "stream",
          "name": "stdout",
          "text": [
            "                   all         37        889      0.764      0.766      0.822      0.458      0.764      0.766      0.819      0.432\n"
          ]
        },
        {
          "output_type": "stream",
          "name": "stderr",
          "text": [
            "\n"
          ]
        },
        {
          "output_type": "stream",
          "name": "stdout",
          "text": [
            "\n",
            "      Epoch    GPU_mem   box_loss   seg_loss   cls_loss   dfl_loss  Instances       Size\n"
          ]
        },
        {
          "output_type": "stream",
          "name": "stderr",
          "text": [
            "      13/50      3.11G      1.534      2.096      1.001      1.005         79        640: 100%|██████████| 17/17 [00:07<00:00,  2.28it/s]\n",
            "                 Class     Images  Instances      Box(P          R      mAP50  mAP50-95)     Mask(P          R      mAP50  mAP50-95): 100%|██████████| 3/3 [00:01<00:00,  2.16it/s]"
          ]
        },
        {
          "output_type": "stream",
          "name": "stdout",
          "text": [
            "                   all         37        889       0.79      0.789      0.844       0.43      0.788       0.78      0.836      0.399\n"
          ]
        },
        {
          "output_type": "stream",
          "name": "stderr",
          "text": [
            "\n"
          ]
        },
        {
          "output_type": "stream",
          "name": "stdout",
          "text": [
            "\n",
            "      Epoch    GPU_mem   box_loss   seg_loss   cls_loss   dfl_loss  Instances       Size\n"
          ]
        },
        {
          "output_type": "stream",
          "name": "stderr",
          "text": [
            "      14/50      3.13G      1.519      2.119     0.9879      1.017         98        640: 100%|██████████| 17/17 [00:07<00:00,  2.32it/s]\n",
            "                 Class     Images  Instances      Box(P          R      mAP50  mAP50-95)     Mask(P          R      mAP50  mAP50-95): 100%|██████████| 3/3 [00:01<00:00,  2.22it/s]"
          ]
        },
        {
          "output_type": "stream",
          "name": "stdout",
          "text": [
            "                   all         37        889      0.793      0.789      0.858      0.482      0.809      0.767      0.847      0.427\n"
          ]
        },
        {
          "output_type": "stream",
          "name": "stderr",
          "text": [
            "\n"
          ]
        },
        {
          "output_type": "stream",
          "name": "stdout",
          "text": [
            "\n",
            "      Epoch    GPU_mem   box_loss   seg_loss   cls_loss   dfl_loss  Instances       Size\n"
          ]
        },
        {
          "output_type": "stream",
          "name": "stderr",
          "text": [
            "      15/50      3.28G      1.544      2.143      1.014     0.9967        103        640: 100%|██████████| 17/17 [00:06<00:00,  2.70it/s]\n",
            "                 Class     Images  Instances      Box(P          R      mAP50  mAP50-95)     Mask(P          R      mAP50  mAP50-95): 100%|██████████| 3/3 [00:01<00:00,  2.06it/s]"
          ]
        },
        {
          "output_type": "stream",
          "name": "stdout",
          "text": [
            "                   all         37        889      0.783      0.816      0.861      0.471      0.777      0.804      0.851      0.429\n"
          ]
        },
        {
          "output_type": "stream",
          "name": "stderr",
          "text": [
            "\n"
          ]
        },
        {
          "output_type": "stream",
          "name": "stdout",
          "text": [
            "\n",
            "      Epoch    GPU_mem   box_loss   seg_loss   cls_loss   dfl_loss  Instances       Size\n"
          ]
        },
        {
          "output_type": "stream",
          "name": "stderr",
          "text": [
            "      16/50       3.3G      1.556      2.123      1.019       1.01         81        640: 100%|██████████| 17/17 [00:07<00:00,  2.36it/s]\n",
            "                 Class     Images  Instances      Box(P          R      mAP50  mAP50-95)     Mask(P          R      mAP50  mAP50-95): 100%|██████████| 3/3 [00:01<00:00,  2.35it/s]"
          ]
        },
        {
          "output_type": "stream",
          "name": "stdout",
          "text": [
            "                   all         37        889      0.777      0.797      0.848      0.475      0.777      0.792       0.84      0.423\n"
          ]
        },
        {
          "output_type": "stream",
          "name": "stderr",
          "text": [
            "\n"
          ]
        },
        {
          "output_type": "stream",
          "name": "stdout",
          "text": [
            "\n",
            "      Epoch    GPU_mem   box_loss   seg_loss   cls_loss   dfl_loss  Instances       Size\n"
          ]
        },
        {
          "output_type": "stream",
          "name": "stderr",
          "text": [
            "      17/50      3.32G      1.537      2.144          1      1.012         94        640: 100%|██████████| 17/17 [00:07<00:00,  2.27it/s]\n",
            "                 Class     Images  Instances      Box(P          R      mAP50  mAP50-95)     Mask(P          R      mAP50  mAP50-95): 100%|██████████| 3/3 [00:01<00:00,  2.20it/s]"
          ]
        },
        {
          "output_type": "stream",
          "name": "stdout",
          "text": [
            "                   all         37        889      0.779      0.762      0.827      0.427      0.782      0.762      0.825      0.376\n"
          ]
        },
        {
          "output_type": "stream",
          "name": "stderr",
          "text": [
            "\n"
          ]
        },
        {
          "output_type": "stream",
          "name": "stdout",
          "text": [
            "\n",
            "      Epoch    GPU_mem   box_loss   seg_loss   cls_loss   dfl_loss  Instances       Size\n"
          ]
        },
        {
          "output_type": "stream",
          "name": "stderr",
          "text": [
            "      18/50      3.34G      1.515      2.139     0.9843      1.009         84        640: 100%|██████████| 17/17 [00:06<00:00,  2.69it/s]\n",
            "                 Class     Images  Instances      Box(P          R      mAP50  mAP50-95)     Mask(P          R      mAP50  mAP50-95): 100%|██████████| 3/3 [00:01<00:00,  1.81it/s]"
          ]
        },
        {
          "output_type": "stream",
          "name": "stdout",
          "text": [
            "                   all         37        889       0.79      0.797      0.857      0.471      0.783      0.785      0.835       0.39\n"
          ]
        },
        {
          "output_type": "stream",
          "name": "stderr",
          "text": [
            "\n"
          ]
        },
        {
          "output_type": "stream",
          "name": "stdout",
          "text": [
            "\n",
            "      Epoch    GPU_mem   box_loss   seg_loss   cls_loss   dfl_loss  Instances       Size\n"
          ]
        },
        {
          "output_type": "stream",
          "name": "stderr",
          "text": [
            "      19/50      3.36G      1.549       2.13     0.9873      1.013         91        640: 100%|██████████| 17/17 [00:07<00:00,  2.26it/s]\n",
            "                 Class     Images  Instances      Box(P          R      mAP50  mAP50-95)     Mask(P          R      mAP50  mAP50-95): 100%|██████████| 3/3 [00:01<00:00,  2.55it/s]"
          ]
        },
        {
          "output_type": "stream",
          "name": "stdout",
          "text": [
            "                   all         37        889      0.761      0.819      0.856      0.481      0.766      0.812      0.852      0.425\n"
          ]
        },
        {
          "output_type": "stream",
          "name": "stderr",
          "text": [
            "\n"
          ]
        },
        {
          "output_type": "stream",
          "name": "stdout",
          "text": [
            "\n",
            "      Epoch    GPU_mem   box_loss   seg_loss   cls_loss   dfl_loss  Instances       Size\n"
          ]
        },
        {
          "output_type": "stream",
          "name": "stderr",
          "text": [
            "      20/50      3.36G       1.53      2.067     0.9559     0.9962         51        640: 100%|██████████| 17/17 [00:07<00:00,  2.24it/s]\n",
            "                 Class     Images  Instances      Box(P          R      mAP50  mAP50-95)     Mask(P          R      mAP50  mAP50-95): 100%|██████████| 3/3 [00:01<00:00,  2.49it/s]"
          ]
        },
        {
          "output_type": "stream",
          "name": "stdout",
          "text": [
            "                   all         37        889      0.781      0.811      0.863      0.442      0.772      0.797      0.837      0.345\n"
          ]
        },
        {
          "output_type": "stream",
          "name": "stderr",
          "text": [
            "\n"
          ]
        },
        {
          "output_type": "stream",
          "name": "stdout",
          "text": [
            "\n",
            "      Epoch    GPU_mem   box_loss   seg_loss   cls_loss   dfl_loss  Instances       Size\n"
          ]
        },
        {
          "output_type": "stream",
          "name": "stderr",
          "text": [
            "      21/50      3.39G      1.571      2.133     0.9824      1.018         90        640: 100%|██████████| 17/17 [00:06<00:00,  2.64it/s]\n",
            "                 Class     Images  Instances      Box(P          R      mAP50  mAP50-95)     Mask(P          R      mAP50  mAP50-95): 100%|██████████| 3/3 [00:02<00:00,  1.42it/s]"
          ]
        },
        {
          "output_type": "stream",
          "name": "stdout",
          "text": [
            "                   all         37        889      0.771      0.805      0.856      0.481      0.804       0.78      0.859      0.438\n"
          ]
        },
        {
          "output_type": "stream",
          "name": "stderr",
          "text": [
            "\n"
          ]
        },
        {
          "output_type": "stream",
          "name": "stdout",
          "text": [
            "\n",
            "      Epoch    GPU_mem   box_loss   seg_loss   cls_loss   dfl_loss  Instances       Size\n"
          ]
        },
        {
          "output_type": "stream",
          "name": "stderr",
          "text": [
            "      22/50      3.41G      1.528      2.075     0.9496      0.998         90        640: 100%|██████████| 17/17 [00:06<00:00,  2.60it/s]\n",
            "                 Class     Images  Instances      Box(P          R      mAP50  mAP50-95)     Mask(P          R      mAP50  mAP50-95): 100%|██████████| 3/3 [00:01<00:00,  2.08it/s]\n"
          ]
        },
        {
          "output_type": "stream",
          "name": "stdout",
          "text": [
            "                   all         37        889       0.77      0.816      0.857      0.478      0.784      0.789      0.855      0.438\n",
            "\n",
            "      Epoch    GPU_mem   box_loss   seg_loss   cls_loss   dfl_loss  Instances       Size\n"
          ]
        },
        {
          "output_type": "stream",
          "name": "stderr",
          "text": [
            "      23/50      3.43G      1.518        2.1     0.9358     0.9963        130        640: 100%|██████████| 17/17 [00:07<00:00,  2.24it/s]\n",
            "                 Class     Images  Instances      Box(P          R      mAP50  mAP50-95)     Mask(P          R      mAP50  mAP50-95): 100%|██████████| 3/3 [00:01<00:00,  2.00it/s]"
          ]
        },
        {
          "output_type": "stream",
          "name": "stdout",
          "text": [
            "                   all         37        889       0.79      0.812       0.87      0.474      0.791      0.802      0.853      0.387\n"
          ]
        },
        {
          "output_type": "stream",
          "name": "stderr",
          "text": [
            "\n"
          ]
        },
        {
          "output_type": "stream",
          "name": "stdout",
          "text": [
            "\n",
            "      Epoch    GPU_mem   box_loss   seg_loss   cls_loss   dfl_loss  Instances       Size\n"
          ]
        },
        {
          "output_type": "stream",
          "name": "stderr",
          "text": [
            "      24/50      3.45G      1.498      2.059     0.9429      1.001         76        640: 100%|██████████| 17/17 [00:07<00:00,  2.38it/s]\n",
            "                 Class     Images  Instances      Box(P          R      mAP50  mAP50-95)     Mask(P          R      mAP50  mAP50-95): 100%|██████████| 3/3 [00:01<00:00,  2.16it/s]"
          ]
        },
        {
          "output_type": "stream",
          "name": "stdout",
          "text": [
            "                   all         37        889      0.782      0.817      0.868      0.489      0.782      0.818      0.866      0.446\n"
          ]
        },
        {
          "output_type": "stream",
          "name": "stderr",
          "text": [
            "\n"
          ]
        },
        {
          "output_type": "stream",
          "name": "stdout",
          "text": [
            "\n",
            "      Epoch    GPU_mem   box_loss   seg_loss   cls_loss   dfl_loss  Instances       Size\n"
          ]
        },
        {
          "output_type": "stream",
          "name": "stderr",
          "text": [
            "      25/50      3.47G      1.508      2.028     0.9289     0.9942         53        640: 100%|██████████| 17/17 [00:06<00:00,  2.57it/s]\n",
            "                 Class     Images  Instances      Box(P          R      mAP50  mAP50-95)     Mask(P          R      mAP50  mAP50-95): 100%|██████████| 3/3 [00:01<00:00,  2.37it/s]"
          ]
        },
        {
          "output_type": "stream",
          "name": "stdout",
          "text": [
            "                   all         37        889      0.772      0.827      0.867      0.486      0.768      0.823      0.858      0.435\n"
          ]
        },
        {
          "output_type": "stream",
          "name": "stderr",
          "text": [
            "\n"
          ]
        },
        {
          "output_type": "stream",
          "name": "stdout",
          "text": [
            "\n",
            "      Epoch    GPU_mem   box_loss   seg_loss   cls_loss   dfl_loss  Instances       Size\n"
          ]
        },
        {
          "output_type": "stream",
          "name": "stderr",
          "text": [
            "      26/50      3.48G      1.525      2.105     0.9483     0.9975         95        640: 100%|██████████| 17/17 [00:07<00:00,  2.27it/s]\n",
            "                 Class     Images  Instances      Box(P          R      mAP50  mAP50-95)     Mask(P          R      mAP50  mAP50-95): 100%|██████████| 3/3 [00:01<00:00,  2.32it/s]"
          ]
        },
        {
          "output_type": "stream",
          "name": "stdout",
          "text": [
            "                   all         37        889      0.754      0.846      0.866       0.46      0.752      0.825      0.843      0.381\n"
          ]
        },
        {
          "output_type": "stream",
          "name": "stderr",
          "text": [
            "\n"
          ]
        },
        {
          "output_type": "stream",
          "name": "stdout",
          "text": [
            "\n",
            "      Epoch    GPU_mem   box_loss   seg_loss   cls_loss   dfl_loss  Instances       Size\n"
          ]
        },
        {
          "output_type": "stream",
          "name": "stderr",
          "text": [
            "      27/50       3.5G      1.507      2.118     0.9185       1.01         47        640: 100%|██████████| 17/17 [00:07<00:00,  2.21it/s]\n",
            "                 Class     Images  Instances      Box(P          R      mAP50  mAP50-95)     Mask(P          R      mAP50  mAP50-95): 100%|██████████| 3/3 [00:01<00:00,  2.16it/s]"
          ]
        },
        {
          "output_type": "stream",
          "name": "stdout",
          "text": [
            "                   all         37        889      0.775      0.822      0.861      0.493      0.775      0.822       0.86      0.451\n"
          ]
        },
        {
          "output_type": "stream",
          "name": "stderr",
          "text": [
            "\n"
          ]
        },
        {
          "output_type": "stream",
          "name": "stdout",
          "text": [
            "\n",
            "      Epoch    GPU_mem   box_loss   seg_loss   cls_loss   dfl_loss  Instances       Size\n"
          ]
        },
        {
          "output_type": "stream",
          "name": "stderr",
          "text": [
            "      28/50      3.51G      1.523      2.069     0.9248      1.008        110        640: 100%|██████████| 17/17 [00:06<00:00,  2.62it/s]\n",
            "                 Class     Images  Instances      Box(P          R      mAP50  mAP50-95)     Mask(P          R      mAP50  mAP50-95): 100%|██████████| 3/3 [00:01<00:00,  2.16it/s]\n"
          ]
        },
        {
          "output_type": "stream",
          "name": "stdout",
          "text": [
            "                   all         37        889      0.767      0.821       0.87      0.472      0.763       0.81      0.854       0.41\n",
            "\n",
            "      Epoch    GPU_mem   box_loss   seg_loss   cls_loss   dfl_loss  Instances       Size\n"
          ]
        },
        {
          "output_type": "stream",
          "name": "stderr",
          "text": [
            "      29/50      3.54G      1.467      2.021     0.8896     0.9913         98        640: 100%|██████████| 17/17 [00:07<00:00,  2.36it/s]\n",
            "                 Class     Images  Instances      Box(P          R      mAP50  mAP50-95)     Mask(P          R      mAP50  mAP50-95): 100%|██████████| 3/3 [00:01<00:00,  2.44it/s]"
          ]
        },
        {
          "output_type": "stream",
          "name": "stdout",
          "text": [
            "                   all         37        889      0.782      0.816      0.869      0.483       0.78        0.8      0.855      0.415\n"
          ]
        },
        {
          "output_type": "stream",
          "name": "stderr",
          "text": [
            "\n"
          ]
        },
        {
          "output_type": "stream",
          "name": "stdout",
          "text": [
            "\n",
            "      Epoch    GPU_mem   box_loss   seg_loss   cls_loss   dfl_loss  Instances       Size\n"
          ]
        },
        {
          "output_type": "stream",
          "name": "stderr",
          "text": [
            "      30/50      3.56G      1.473      2.038     0.9088      1.001         37        640: 100%|██████████| 17/17 [00:07<00:00,  2.33it/s]\n",
            "                 Class     Images  Instances      Box(P          R      mAP50  mAP50-95)     Mask(P          R      mAP50  mAP50-95): 100%|██████████| 3/3 [00:01<00:00,  2.22it/s]"
          ]
        },
        {
          "output_type": "stream",
          "name": "stdout",
          "text": [
            "                   all         37        889      0.788      0.823      0.873      0.488      0.785      0.814      0.869      0.443\n"
          ]
        },
        {
          "output_type": "stream",
          "name": "stderr",
          "text": [
            "\n"
          ]
        },
        {
          "output_type": "stream",
          "name": "stdout",
          "text": [
            "\n",
            "      Epoch    GPU_mem   box_loss   seg_loss   cls_loss   dfl_loss  Instances       Size\n"
          ]
        },
        {
          "output_type": "stream",
          "name": "stderr",
          "text": [
            "      31/50      3.58G      1.507      2.036     0.8973     0.9955         88        640: 100%|██████████| 17/17 [00:06<00:00,  2.68it/s]\n",
            "                 Class     Images  Instances      Box(P          R      mAP50  mAP50-95)     Mask(P          R      mAP50  mAP50-95): 100%|██████████| 3/3 [00:01<00:00,  1.59it/s]\n"
          ]
        },
        {
          "output_type": "stream",
          "name": "stdout",
          "text": [
            "                   all         37        889      0.801      0.807      0.877      0.472      0.799      0.798      0.867      0.417\n",
            "\n",
            "      Epoch    GPU_mem   box_loss   seg_loss   cls_loss   dfl_loss  Instances       Size\n"
          ]
        },
        {
          "output_type": "stream",
          "name": "stderr",
          "text": [
            "      32/50       3.6G      1.527      2.073      0.926      1.008         87        640: 100%|██████████| 17/17 [00:06<00:00,  2.52it/s]\n",
            "                 Class     Images  Instances      Box(P          R      mAP50  mAP50-95)     Mask(P          R      mAP50  mAP50-95): 100%|██████████| 3/3 [00:01<00:00,  2.37it/s]\n"
          ]
        },
        {
          "output_type": "stream",
          "name": "stdout",
          "text": [
            "                   all         37        889      0.804      0.799       0.87      0.467      0.797       0.79      0.853      0.383\n",
            "\n",
            "      Epoch    GPU_mem   box_loss   seg_loss   cls_loss   dfl_loss  Instances       Size\n"
          ]
        },
        {
          "output_type": "stream",
          "name": "stderr",
          "text": [
            "      33/50      3.62G      1.493       2.03      0.878     0.9861         74        640: 100%|██████████| 17/17 [00:07<00:00,  2.28it/s]\n",
            "                 Class     Images  Instances      Box(P          R      mAP50  mAP50-95)     Mask(P          R      mAP50  mAP50-95): 100%|██████████| 3/3 [00:01<00:00,  2.10it/s]"
          ]
        },
        {
          "output_type": "stream",
          "name": "stdout",
          "text": [
            "                   all         37        889      0.799      0.796       0.87      0.491      0.801      0.794      0.866      0.436\n"
          ]
        },
        {
          "output_type": "stream",
          "name": "stderr",
          "text": [
            "\n"
          ]
        },
        {
          "output_type": "stream",
          "name": "stdout",
          "text": [
            "\n",
            "      Epoch    GPU_mem   box_loss   seg_loss   cls_loss   dfl_loss  Instances       Size\n"
          ]
        },
        {
          "output_type": "stream",
          "name": "stderr",
          "text": [
            "      34/50      3.63G      1.492      2.055     0.8935     0.9972         69        640: 100%|██████████| 17/17 [00:06<00:00,  2.57it/s]\n",
            "                 Class     Images  Instances      Box(P          R      mAP50  mAP50-95)     Mask(P          R      mAP50  mAP50-95): 100%|██████████| 3/3 [00:01<00:00,  1.73it/s]"
          ]
        },
        {
          "output_type": "stream",
          "name": "stdout",
          "text": [
            "                   all         37        889      0.797      0.801      0.868      0.461      0.798        0.8      0.865      0.422\n"
          ]
        },
        {
          "output_type": "stream",
          "name": "stderr",
          "text": [
            "\n"
          ]
        },
        {
          "output_type": "stream",
          "name": "stdout",
          "text": [
            "\n",
            "      Epoch    GPU_mem   box_loss   seg_loss   cls_loss   dfl_loss  Instances       Size\n"
          ]
        },
        {
          "output_type": "stream",
          "name": "stderr",
          "text": [
            "      35/50      3.65G      1.464      2.005     0.8725     0.9946        116        640: 100%|██████████| 17/17 [00:06<00:00,  2.55it/s]\n",
            "                 Class     Images  Instances      Box(P          R      mAP50  mAP50-95)     Mask(P          R      mAP50  mAP50-95): 100%|██████████| 3/3 [00:01<00:00,  2.11it/s]"
          ]
        },
        {
          "output_type": "stream",
          "name": "stdout",
          "text": [
            "                   all         37        889      0.799      0.801      0.874      0.493      0.799      0.798      0.865       0.42\n"
          ]
        },
        {
          "output_type": "stream",
          "name": "stderr",
          "text": [
            "\n"
          ]
        },
        {
          "output_type": "stream",
          "name": "stdout",
          "text": [
            "\n",
            "      Epoch    GPU_mem   box_loss   seg_loss   cls_loss   dfl_loss  Instances       Size\n"
          ]
        },
        {
          "output_type": "stream",
          "name": "stderr",
          "text": [
            "      36/50      3.66G      1.518      2.052     0.8968     0.9854         90        640: 100%|██████████| 17/17 [00:07<00:00,  2.31it/s]\n",
            "                 Class     Images  Instances      Box(P          R      mAP50  mAP50-95)     Mask(P          R      mAP50  mAP50-95): 100%|██████████| 3/3 [00:01<00:00,  2.32it/s]"
          ]
        },
        {
          "output_type": "stream",
          "name": "stdout",
          "text": [
            "                   all         37        889      0.792      0.829      0.877      0.491      0.786       0.82      0.867      0.416\n"
          ]
        },
        {
          "output_type": "stream",
          "name": "stderr",
          "text": [
            "\n"
          ]
        },
        {
          "output_type": "stream",
          "name": "stdout",
          "text": [
            "\n",
            "      Epoch    GPU_mem   box_loss   seg_loss   cls_loss   dfl_loss  Instances       Size\n"
          ]
        },
        {
          "output_type": "stream",
          "name": "stderr",
          "text": [
            "      37/50      3.69G      1.481      2.087     0.8883     0.9946         83        640: 100%|██████████| 17/17 [00:07<00:00,  2.24it/s]\n",
            "                 Class     Images  Instances      Box(P          R      mAP50  mAP50-95)     Mask(P          R      mAP50  mAP50-95): 100%|██████████| 3/3 [00:01<00:00,  1.97it/s]\n"
          ]
        },
        {
          "output_type": "stream",
          "name": "stdout",
          "text": [
            "                   all         37        889      0.775      0.838      0.874      0.484      0.776       0.82      0.868      0.424\n",
            "\n",
            "      Epoch    GPU_mem   box_loss   seg_loss   cls_loss   dfl_loss  Instances       Size\n"
          ]
        },
        {
          "output_type": "stream",
          "name": "stderr",
          "text": [
            "      38/50      3.71G      1.467      2.041     0.8826     0.9927        102        640: 100%|██████████| 17/17 [00:05<00:00,  2.91it/s]\n",
            "                 Class     Images  Instances      Box(P          R      mAP50  mAP50-95)     Mask(P          R      mAP50  mAP50-95): 100%|██████████| 3/3 [00:01<00:00,  2.31it/s]"
          ]
        },
        {
          "output_type": "stream",
          "name": "stdout",
          "text": [
            "                   all         37        889      0.775       0.84      0.876      0.503      0.779      0.826      0.871      0.444\n"
          ]
        },
        {
          "output_type": "stream",
          "name": "stderr",
          "text": [
            "\n"
          ]
        },
        {
          "output_type": "stream",
          "name": "stdout",
          "text": [
            "\n",
            "      Epoch    GPU_mem   box_loss   seg_loss   cls_loss   dfl_loss  Instances       Size\n"
          ]
        },
        {
          "output_type": "stream",
          "name": "stderr",
          "text": [
            "      39/50      3.73G      1.474      2.044     0.8897       1.01         49        640: 100%|██████████| 17/17 [00:07<00:00,  2.25it/s]\n",
            "                 Class     Images  Instances      Box(P          R      mAP50  mAP50-95)     Mask(P          R      mAP50  mAP50-95): 100%|██████████| 3/3 [00:01<00:00,  2.13it/s]"
          ]
        },
        {
          "output_type": "stream",
          "name": "stdout",
          "text": [
            "                   all         37        889      0.793      0.809      0.872      0.497      0.793      0.803      0.866      0.431\n"
          ]
        },
        {
          "output_type": "stream",
          "name": "stderr",
          "text": [
            "\n"
          ]
        },
        {
          "output_type": "stream",
          "name": "stdout",
          "text": [
            "\n",
            "      Epoch    GPU_mem   box_loss   seg_loss   cls_loss   dfl_loss  Instances       Size\n"
          ]
        },
        {
          "output_type": "stream",
          "name": "stderr",
          "text": [
            "      40/50      3.74G      1.461      2.021     0.8842     0.9877         49        640: 100%|██████████| 17/17 [00:07<00:00,  2.32it/s]\n",
            "                 Class     Images  Instances      Box(P          R      mAP50  mAP50-95)     Mask(P          R      mAP50  mAP50-95): 100%|██████████| 3/3 [00:01<00:00,  2.42it/s]"
          ]
        },
        {
          "output_type": "stream",
          "name": "stdout",
          "text": [
            "                   all         37        889      0.789      0.811      0.871      0.483      0.799      0.801      0.866      0.411\n"
          ]
        },
        {
          "output_type": "stream",
          "name": "stderr",
          "text": [
            "\n"
          ]
        },
        {
          "output_type": "stream",
          "name": "stdout",
          "text": [
            "Closing dataloader mosaic\n",
            "\u001b[34m\u001b[1malbumentations: \u001b[0mBlur(p=0.01, blur_limit=(3, 7)), MedianBlur(p=0.01, blur_limit=(3, 7)), ToGray(p=0.01, method='weighted_average', num_output_channels=3), CLAHE(p=0.01, clip_limit=(1.0, 4.0), tile_grid_size=(8, 8))\n",
            "\n",
            "      Epoch    GPU_mem   box_loss   seg_loss   cls_loss   dfl_loss  Instances       Size\n"
          ]
        },
        {
          "output_type": "stream",
          "name": "stderr",
          "text": [
            "      41/50      3.76G       1.47      2.047     0.9302      1.017         48        640: 100%|██████████| 17/17 [00:05<00:00,  3.14it/s]\n",
            "                 Class     Images  Instances      Box(P          R      mAP50  mAP50-95)     Mask(P          R      mAP50  mAP50-95): 100%|██████████| 3/3 [00:00<00:00,  4.90it/s]"
          ]
        },
        {
          "output_type": "stream",
          "name": "stdout",
          "text": [
            "                   all         37        889      0.778       0.83      0.874      0.504       0.79      0.815      0.869      0.439\n"
          ]
        },
        {
          "output_type": "stream",
          "name": "stderr",
          "text": [
            "\n"
          ]
        },
        {
          "output_type": "stream",
          "name": "stdout",
          "text": [
            "\n",
            "      Epoch    GPU_mem   box_loss   seg_loss   cls_loss   dfl_loss  Instances       Size\n"
          ]
        },
        {
          "output_type": "stream",
          "name": "stderr",
          "text": [
            "      42/50      3.78G      1.462      2.088     0.8894      1.025         60        640: 100%|██████████| 17/17 [00:04<00:00,  3.82it/s]\n",
            "                 Class     Images  Instances      Box(P          R      mAP50  mAP50-95)     Mask(P          R      mAP50  mAP50-95): 100%|██████████| 3/3 [00:00<00:00,  5.03it/s]"
          ]
        },
        {
          "output_type": "stream",
          "name": "stdout",
          "text": [
            "                   all         37        889      0.791      0.809      0.872        0.5      0.795      0.802      0.866      0.436\n"
          ]
        },
        {
          "output_type": "stream",
          "name": "stderr",
          "text": [
            "\n"
          ]
        },
        {
          "output_type": "stream",
          "name": "stdout",
          "text": [
            "\n",
            "      Epoch    GPU_mem   box_loss   seg_loss   cls_loss   dfl_loss  Instances       Size\n"
          ]
        },
        {
          "output_type": "stream",
          "name": "stderr",
          "text": [
            "      43/50       3.8G      1.466      2.082     0.8778       1.03         37        640: 100%|██████████| 17/17 [00:03<00:00,  4.96it/s]\n",
            "                 Class     Images  Instances      Box(P          R      mAP50  mAP50-95)     Mask(P          R      mAP50  mAP50-95): 100%|██████████| 3/3 [00:00<00:00,  4.88it/s]"
          ]
        },
        {
          "output_type": "stream",
          "name": "stdout",
          "text": [
            "                   all         37        889      0.785      0.809      0.867      0.476      0.782      0.805      0.858      0.399\n"
          ]
        },
        {
          "output_type": "stream",
          "name": "stderr",
          "text": [
            "\n"
          ]
        },
        {
          "output_type": "stream",
          "name": "stdout",
          "text": [
            "\n",
            "      Epoch    GPU_mem   box_loss   seg_loss   cls_loss   dfl_loss  Instances       Size\n"
          ]
        },
        {
          "output_type": "stream",
          "name": "stderr",
          "text": [
            "      44/50      3.81G      1.457      2.088     0.8853      1.008         52        640: 100%|██████████| 17/17 [00:03<00:00,  4.76it/s]\n",
            "                 Class     Images  Instances      Box(P          R      mAP50  mAP50-95)     Mask(P          R      mAP50  mAP50-95): 100%|██████████| 3/3 [00:00<00:00,  4.23it/s]"
          ]
        },
        {
          "output_type": "stream",
          "name": "stdout",
          "text": [
            "                   all         37        889      0.786      0.809      0.869      0.488      0.781      0.804      0.861      0.413\n"
          ]
        },
        {
          "output_type": "stream",
          "name": "stderr",
          "text": [
            "\n"
          ]
        },
        {
          "output_type": "stream",
          "name": "stdout",
          "text": [
            "\n",
            "      Epoch    GPU_mem   box_loss   seg_loss   cls_loss   dfl_loss  Instances       Size\n"
          ]
        },
        {
          "output_type": "stream",
          "name": "stderr",
          "text": [
            "      45/50      3.84G       1.46      2.053     0.8748      1.011         53        640: 100%|██████████| 17/17 [00:04<00:00,  4.02it/s]\n",
            "                 Class     Images  Instances      Box(P          R      mAP50  mAP50-95)     Mask(P          R      mAP50  mAP50-95): 100%|██████████| 3/3 [00:00<00:00,  5.20it/s]"
          ]
        },
        {
          "output_type": "stream",
          "name": "stdout",
          "text": [
            "                   all         37        889      0.786      0.818      0.874      0.496      0.786      0.813      0.866      0.428\n"
          ]
        },
        {
          "output_type": "stream",
          "name": "stderr",
          "text": [
            "\n"
          ]
        },
        {
          "output_type": "stream",
          "name": "stdout",
          "text": [
            "\n",
            "      Epoch    GPU_mem   box_loss   seg_loss   cls_loss   dfl_loss  Instances       Size\n"
          ]
        },
        {
          "output_type": "stream",
          "name": "stderr",
          "text": [
            "      46/50      3.86G      1.456      2.025     0.8547      1.009         51        640: 100%|██████████| 17/17 [00:03<00:00,  4.86it/s]\n",
            "                 Class     Images  Instances      Box(P          R      mAP50  mAP50-95)     Mask(P          R      mAP50  mAP50-95): 100%|██████████| 3/3 [00:00<00:00,  5.00it/s]"
          ]
        },
        {
          "output_type": "stream",
          "name": "stdout",
          "text": [
            "                   all         37        889      0.789      0.832      0.875      0.492      0.783      0.827      0.866      0.423\n"
          ]
        },
        {
          "output_type": "stream",
          "name": "stderr",
          "text": [
            "\n"
          ]
        },
        {
          "output_type": "stream",
          "name": "stdout",
          "text": [
            "\n",
            "      Epoch    GPU_mem   box_loss   seg_loss   cls_loss   dfl_loss  Instances       Size\n"
          ]
        },
        {
          "output_type": "stream",
          "name": "stderr",
          "text": [
            "      47/50      3.87G      1.444       2.05      0.861      1.017         53        640: 100%|██████████| 17/17 [00:04<00:00,  4.14it/s]\n",
            "                 Class     Images  Instances      Box(P          R      mAP50  mAP50-95)     Mask(P          R      mAP50  mAP50-95): 100%|██████████| 3/3 [00:00<00:00,  3.44it/s]"
          ]
        },
        {
          "output_type": "stream",
          "name": "stdout",
          "text": [
            "                   all         37        889      0.786      0.837      0.876      0.496      0.781      0.832      0.869      0.428\n"
          ]
        },
        {
          "output_type": "stream",
          "name": "stderr",
          "text": [
            "\n"
          ]
        },
        {
          "output_type": "stream",
          "name": "stdout",
          "text": [
            "\n",
            "      Epoch    GPU_mem   box_loss   seg_loss   cls_loss   dfl_loss  Instances       Size\n"
          ]
        },
        {
          "output_type": "stream",
          "name": "stderr",
          "text": [
            "      48/50      3.89G      1.447      2.033     0.8591      1.002         44        640: 100%|██████████| 17/17 [00:03<00:00,  4.99it/s]\n",
            "                 Class     Images  Instances      Box(P          R      mAP50  mAP50-95)     Mask(P          R      mAP50  mAP50-95): 100%|██████████| 3/3 [00:00<00:00,  4.68it/s]"
          ]
        },
        {
          "output_type": "stream",
          "name": "stdout",
          "text": [
            "                   all         37        889      0.783      0.836      0.877      0.493       0.78      0.832      0.869      0.429\n"
          ]
        },
        {
          "output_type": "stream",
          "name": "stderr",
          "text": [
            "\n"
          ]
        },
        {
          "output_type": "stream",
          "name": "stdout",
          "text": [
            "\n",
            "      Epoch    GPU_mem   box_loss   seg_loss   cls_loss   dfl_loss  Instances       Size\n"
          ]
        },
        {
          "output_type": "stream",
          "name": "stderr",
          "text": [
            "      49/50      3.91G      1.441      2.059     0.8481      1.018         62        640: 100%|██████████| 17/17 [00:03<00:00,  4.91it/s]\n",
            "                 Class     Images  Instances      Box(P          R      mAP50  mAP50-95)     Mask(P          R      mAP50  mAP50-95): 100%|██████████| 3/3 [00:00<00:00,  4.69it/s]"
          ]
        },
        {
          "output_type": "stream",
          "name": "stdout",
          "text": [
            "                   all         37        889      0.783      0.828      0.876      0.494      0.782      0.827      0.871      0.427\n"
          ]
        },
        {
          "output_type": "stream",
          "name": "stderr",
          "text": [
            "\n"
          ]
        },
        {
          "output_type": "stream",
          "name": "stdout",
          "text": [
            "\n",
            "      Epoch    GPU_mem   box_loss   seg_loss   cls_loss   dfl_loss  Instances       Size\n"
          ]
        },
        {
          "output_type": "stream",
          "name": "stderr",
          "text": [
            "      50/50      3.93G      1.447      2.049     0.8644      1.023         50        640: 100%|██████████| 17/17 [00:04<00:00,  3.85it/s]\n",
            "                 Class     Images  Instances      Box(P          R      mAP50  mAP50-95)     Mask(P          R      mAP50  mAP50-95): 100%|██████████| 3/3 [00:00<00:00,  5.00it/s]"
          ]
        },
        {
          "output_type": "stream",
          "name": "stdout",
          "text": [
            "                   all         37        889      0.779      0.827      0.875      0.494      0.781      0.824       0.87      0.424\n"
          ]
        },
        {
          "output_type": "stream",
          "name": "stderr",
          "text": [
            "\n"
          ]
        },
        {
          "output_type": "stream",
          "name": "stdout",
          "text": [
            "\n",
            "50 epochs completed in 0.115 hours.\n",
            "Optimizer stripped from runs/segment/train/weights/last.pt, 6.8MB\n",
            "Optimizer stripped from runs/segment/train/weights/best.pt, 6.8MB\n",
            "\n",
            "Validating runs/segment/train/weights/best.pt...\n",
            "Ultralytics 8.3.174 🚀 Python-3.11.13 torch-2.6.0+cu124 CUDA:0 (Tesla T4, 15095MiB)\n",
            "YOLOv8n-seg summary (fused): 85 layers, 3,258,259 parameters, 0 gradients, 12.0 GFLOPs\n"
          ]
        },
        {
          "output_type": "stream",
          "name": "stderr",
          "text": [
            "\r                 Class     Images  Instances      Box(P          R      mAP50  mAP50-95)     Mask(P          R      mAP50  mAP50-95):   0%|          | 0/3 [00:00<?, ?it/s]"
          ]
        },
        {
          "output_type": "stream",
          "name": "stdout",
          "text": [
            "WARNING ⚠️ Limiting validation plots to first 50 items per image for speed...\n",
            "WARNING ⚠️ Limiting validation plots to first 50 items per image for speed...\n",
            "WARNING ⚠️ Limiting validation plots to first 50 items per image for speed...\n",
            "WARNING ⚠️ Limiting validation plots to first 50 items per image for speed...\n",
            "WARNING ⚠️ Limiting validation plots to first 50 items per image for speed...\n",
            "WARNING ⚠️ Limiting validation plots to first 50 items per image for speed...\n",
            "WARNING ⚠️ Limiting validation plots to first 50 items per image for speed...\n",
            "WARNING ⚠️ Limiting validation plots to first 50 items per image for speed...\n",
            "WARNING ⚠️ Limiting validation plots to first 50 items per image for speed...\n",
            "WARNING ⚠️ Limiting validation plots to first 50 items per image for speed...\n",
            "WARNING ⚠️ Limiting validation plots to first 50 items per image for speed...\n",
            "WARNING ⚠️ Limiting validation plots to first 50 items per image for speed...\n",
            "WARNING ⚠️ Limiting validation plots to first 50 items per image for speed...\n",
            "WARNING ⚠️ Limiting validation plots to first 50 items per image for speed...\n",
            "WARNING ⚠️ Limiting validation plots to first 50 items per image for speed...\n",
            "WARNING ⚠️ Limiting validation plots to first 50 items per image for speed...\n"
          ]
        },
        {
          "output_type": "stream",
          "name": "stderr",
          "text": [
            "\r                 Class     Images  Instances      Box(P          R      mAP50  mAP50-95)     Mask(P          R      mAP50  mAP50-95):  33%|███▎      | 1/3 [00:00<00:00,  3.00it/s]"
          ]
        },
        {
          "output_type": "stream",
          "name": "stdout",
          "text": [
            "WARNING ⚠️ Limiting validation plots to first 50 items per image for speed...\n",
            "WARNING ⚠️ Limiting validation plots to first 50 items per image for speed...\n",
            "WARNING ⚠️ Limiting validation plots to first 50 items per image for speed...\n",
            "WARNING ⚠️ Limiting validation plots to first 50 items per image for speed...\n",
            "WARNING ⚠️ Limiting validation plots to first 50 items per image for speed...\n",
            "WARNING ⚠️ Limiting validation plots to first 50 items per image for speed...\n",
            "WARNING ⚠️ Limiting validation plots to first 50 items per image for speed...\n",
            "WARNING ⚠️ Limiting validation plots to first 50 items per image for speed...\n",
            "WARNING ⚠️ Limiting validation plots to first 50 items per image for speed...\n",
            "WARNING ⚠️ Limiting validation plots to first 50 items per image for speed...\n",
            "WARNING ⚠️ Limiting validation plots to first 50 items per image for speed...\n",
            "WARNING ⚠️ Limiting validation plots to first 50 items per image for speed...\n",
            "WARNING ⚠️ Limiting validation plots to first 50 items per image for speed...\n",
            "WARNING ⚠️ Limiting validation plots to first 50 items per image for speed...\n",
            "WARNING ⚠️ Limiting validation plots to first 50 items per image for speed...\n",
            "WARNING ⚠️ Limiting validation plots to first 50 items per image for speed...\n"
          ]
        },
        {
          "output_type": "stream",
          "name": "stderr",
          "text": [
            "\r                 Class     Images  Instances      Box(P          R      mAP50  mAP50-95)     Mask(P          R      mAP50  mAP50-95):  67%|██████▋   | 2/3 [00:00<00:00,  2.31it/s]"
          ]
        },
        {
          "output_type": "stream",
          "name": "stdout",
          "text": [
            "WARNING ⚠️ Limiting validation plots to first 50 items per image for speed...\n",
            "WARNING ⚠️ Limiting validation plots to first 50 items per image for speed...\n",
            "WARNING ⚠️ Limiting validation plots to first 50 items per image for speed...\n",
            "WARNING ⚠️ Limiting validation plots to first 50 items per image for speed...\n",
            "WARNING ⚠️ Limiting validation plots to first 50 items per image for speed...\n"
          ]
        },
        {
          "output_type": "stream",
          "name": "stderr",
          "text": [
            "                 Class     Images  Instances      Box(P          R      mAP50  mAP50-95)     Mask(P          R      mAP50  mAP50-95): 100%|██████████| 3/3 [00:01<00:00,  2.42it/s]\n"
          ]
        },
        {
          "output_type": "stream",
          "name": "stdout",
          "text": [
            "                   all         37        889      0.775       0.84      0.876      0.503      0.777      0.831      0.873      0.444\n",
            "Speed: 0.2ms preprocess, 4.7ms inference, 0.0ms loss, 6.0ms postprocess per image\n",
            "Results saved to \u001b[1mruns/segment/train\u001b[0m\n"
          ]
        },
        {
          "output_type": "execute_result",
          "data": {
            "text/plain": [
              "ultralytics.utils.metrics.SegmentMetrics object with attributes:\n",
              "\n",
              "ap_class_index: array([0])\n",
              "box: ultralytics.utils.metrics.Metric object\n",
              "confusion_matrix: <ultralytics.utils.metrics.ConfusionMatrix object at 0x7aaad8efef10>\n",
              "curves: ['Precision-Recall(B)', 'F1-Confidence(B)', 'Precision-Confidence(B)', 'Recall-Confidence(B)', 'Precision-Recall(M)', 'F1-Confidence(M)', 'Precision-Confidence(M)', 'Recall-Confidence(M)']\n",
              "curves_results: [[array([          0,    0.001001,    0.002002,    0.003003,    0.004004,    0.005005,    0.006006,    0.007007,    0.008008,    0.009009,     0.01001,    0.011011,    0.012012,    0.013013,    0.014014,    0.015015,    0.016016,    0.017017,    0.018018,    0.019019,     0.02002,    0.021021,    0.022022,    0.023023,\n",
              "          0.024024,    0.025025,    0.026026,    0.027027,    0.028028,    0.029029,     0.03003,    0.031031,    0.032032,    0.033033,    0.034034,    0.035035,    0.036036,    0.037037,    0.038038,    0.039039,     0.04004,    0.041041,    0.042042,    0.043043,    0.044044,    0.045045,    0.046046,    0.047047,\n",
              "          0.048048,    0.049049,     0.05005,    0.051051,    0.052052,    0.053053,    0.054054,    0.055055,    0.056056,    0.057057,    0.058058,    0.059059,     0.06006,    0.061061,    0.062062,    0.063063,    0.064064,    0.065065,    0.066066,    0.067067,    0.068068,    0.069069,     0.07007,    0.071071,\n",
              "          0.072072,    0.073073,    0.074074,    0.075075,    0.076076,    0.077077,    0.078078,    0.079079,     0.08008,    0.081081,    0.082082,    0.083083,    0.084084,    0.085085,    0.086086,    0.087087,    0.088088,    0.089089,     0.09009,    0.091091,    0.092092,    0.093093,    0.094094,    0.095095,\n",
              "          0.096096,    0.097097,    0.098098,    0.099099,      0.1001,      0.1011,      0.1021,      0.1031,      0.1041,     0.10511,     0.10611,     0.10711,     0.10811,     0.10911,     0.11011,     0.11111,     0.11211,     0.11311,     0.11411,     0.11512,     0.11612,     0.11712,     0.11812,     0.11912,\n",
              "           0.12012,     0.12112,     0.12212,     0.12312,     0.12412,     0.12513,     0.12613,     0.12713,     0.12813,     0.12913,     0.13013,     0.13113,     0.13213,     0.13313,     0.13413,     0.13514,     0.13614,     0.13714,     0.13814,     0.13914,     0.14014,     0.14114,     0.14214,     0.14314,\n",
              "           0.14414,     0.14515,     0.14615,     0.14715,     0.14815,     0.14915,     0.15015,     0.15115,     0.15215,     0.15315,     0.15415,     0.15516,     0.15616,     0.15716,     0.15816,     0.15916,     0.16016,     0.16116,     0.16216,     0.16316,     0.16416,     0.16517,     0.16617,     0.16717,\n",
              "           0.16817,     0.16917,     0.17017,     0.17117,     0.17217,     0.17317,     0.17417,     0.17518,     0.17618,     0.17718,     0.17818,     0.17918,     0.18018,     0.18118,     0.18218,     0.18318,     0.18418,     0.18519,     0.18619,     0.18719,     0.18819,     0.18919,     0.19019,     0.19119,\n",
              "           0.19219,     0.19319,     0.19419,      0.1952,      0.1962,      0.1972,      0.1982,      0.1992,      0.2002,      0.2012,      0.2022,      0.2032,      0.2042,     0.20521,     0.20621,     0.20721,     0.20821,     0.20921,     0.21021,     0.21121,     0.21221,     0.21321,     0.21421,     0.21522,\n",
              "           0.21622,     0.21722,     0.21822,     0.21922,     0.22022,     0.22122,     0.22222,     0.22322,     0.22422,     0.22523,     0.22623,     0.22723,     0.22823,     0.22923,     0.23023,     0.23123,     0.23223,     0.23323,     0.23423,     0.23524,     0.23624,     0.23724,     0.23824,     0.23924,\n",
              "           0.24024,     0.24124,     0.24224,     0.24324,     0.24424,     0.24525,     0.24625,     0.24725,     0.24825,     0.24925,     0.25025,     0.25125,     0.25225,     0.25325,     0.25425,     0.25526,     0.25626,     0.25726,     0.25826,     0.25926,     0.26026,     0.26126,     0.26226,     0.26326,\n",
              "           0.26426,     0.26527,     0.26627,     0.26727,     0.26827,     0.26927,     0.27027,     0.27127,     0.27227,     0.27327,     0.27427,     0.27528,     0.27628,     0.27728,     0.27828,     0.27928,     0.28028,     0.28128,     0.28228,     0.28328,     0.28428,     0.28529,     0.28629,     0.28729,\n",
              "           0.28829,     0.28929,     0.29029,     0.29129,     0.29229,     0.29329,     0.29429,      0.2953,      0.2963,      0.2973,      0.2983,      0.2993,      0.3003,      0.3013,      0.3023,      0.3033,      0.3043,     0.30531,     0.30631,     0.30731,     0.30831,     0.30931,     0.31031,     0.31131,\n",
              "           0.31231,     0.31331,     0.31431,     0.31532,     0.31632,     0.31732,     0.31832,     0.31932,     0.32032,     0.32132,     0.32232,     0.32332,     0.32432,     0.32533,     0.32633,     0.32733,     0.32833,     0.32933,     0.33033,     0.33133,     0.33233,     0.33333,     0.33433,     0.33534,\n",
              "           0.33634,     0.33734,     0.33834,     0.33934,     0.34034,     0.34134,     0.34234,     0.34334,     0.34434,     0.34535,     0.34635,     0.34735,     0.34835,     0.34935,     0.35035,     0.35135,     0.35235,     0.35335,     0.35435,     0.35536,     0.35636,     0.35736,     0.35836,     0.35936,\n",
              "           0.36036,     0.36136,     0.36236,     0.36336,     0.36436,     0.36537,     0.36637,     0.36737,     0.36837,     0.36937,     0.37037,     0.37137,     0.37237,     0.37337,     0.37437,     0.37538,     0.37638,     0.37738,     0.37838,     0.37938,     0.38038,     0.38138,     0.38238,     0.38338,\n",
              "           0.38438,     0.38539,     0.38639,     0.38739,     0.38839,     0.38939,     0.39039,     0.39139,     0.39239,     0.39339,     0.39439,      0.3954,      0.3964,      0.3974,      0.3984,      0.3994,      0.4004,      0.4014,      0.4024,      0.4034,      0.4044,     0.40541,     0.40641,     0.40741,\n",
              "           0.40841,     0.40941,     0.41041,     0.41141,     0.41241,     0.41341,     0.41441,     0.41542,     0.41642,     0.41742,     0.41842,     0.41942,     0.42042,     0.42142,     0.42242,     0.42342,     0.42442,     0.42543,     0.42643,     0.42743,     0.42843,     0.42943,     0.43043,     0.43143,\n",
              "           0.43243,     0.43343,     0.43443,     0.43544,     0.43644,     0.43744,     0.43844,     0.43944,     0.44044,     0.44144,     0.44244,     0.44344,     0.44444,     0.44545,     0.44645,     0.44745,     0.44845,     0.44945,     0.45045,     0.45145,     0.45245,     0.45345,     0.45445,     0.45546,\n",
              "           0.45646,     0.45746,     0.45846,     0.45946,     0.46046,     0.46146,     0.46246,     0.46346,     0.46446,     0.46547,     0.46647,     0.46747,     0.46847,     0.46947,     0.47047,     0.47147,     0.47247,     0.47347,     0.47447,     0.47548,     0.47648,     0.47748,     0.47848,     0.47948,\n",
              "           0.48048,     0.48148,     0.48248,     0.48348,     0.48448,     0.48549,     0.48649,     0.48749,     0.48849,     0.48949,     0.49049,     0.49149,     0.49249,     0.49349,     0.49449,      0.4955,      0.4965,      0.4975,      0.4985,      0.4995,      0.5005,      0.5015,      0.5025,      0.5035,\n",
              "            0.5045,     0.50551,     0.50651,     0.50751,     0.50851,     0.50951,     0.51051,     0.51151,     0.51251,     0.51351,     0.51451,     0.51552,     0.51652,     0.51752,     0.51852,     0.51952,     0.52052,     0.52152,     0.52252,     0.52352,     0.52452,     0.52553,     0.52653,     0.52753,\n",
              "           0.52853,     0.52953,     0.53053,     0.53153,     0.53253,     0.53353,     0.53453,     0.53554,     0.53654,     0.53754,     0.53854,     0.53954,     0.54054,     0.54154,     0.54254,     0.54354,     0.54454,     0.54555,     0.54655,     0.54755,     0.54855,     0.54955,     0.55055,     0.55155,\n",
              "           0.55255,     0.55355,     0.55455,     0.55556,     0.55656,     0.55756,     0.55856,     0.55956,     0.56056,     0.56156,     0.56256,     0.56356,     0.56456,     0.56557,     0.56657,     0.56757,     0.56857,     0.56957,     0.57057,     0.57157,     0.57257,     0.57357,     0.57457,     0.57558,\n",
              "           0.57658,     0.57758,     0.57858,     0.57958,     0.58058,     0.58158,     0.58258,     0.58358,     0.58458,     0.58559,     0.58659,     0.58759,     0.58859,     0.58959,     0.59059,     0.59159,     0.59259,     0.59359,     0.59459,      0.5956,      0.5966,      0.5976,      0.5986,      0.5996,\n",
              "            0.6006,      0.6016,      0.6026,      0.6036,      0.6046,     0.60561,     0.60661,     0.60761,     0.60861,     0.60961,     0.61061,     0.61161,     0.61261,     0.61361,     0.61461,     0.61562,     0.61662,     0.61762,     0.61862,     0.61962,     0.62062,     0.62162,     0.62262,     0.62362,\n",
              "           0.62462,     0.62563,     0.62663,     0.62763,     0.62863,     0.62963,     0.63063,     0.63163,     0.63263,     0.63363,     0.63463,     0.63564,     0.63664,     0.63764,     0.63864,     0.63964,     0.64064,     0.64164,     0.64264,     0.64364,     0.64464,     0.64565,     0.64665,     0.64765,\n",
              "           0.64865,     0.64965,     0.65065,     0.65165,     0.65265,     0.65365,     0.65465,     0.65566,     0.65666,     0.65766,     0.65866,     0.65966,     0.66066,     0.66166,     0.66266,     0.66366,     0.66466,     0.66567,     0.66667,     0.66767,     0.66867,     0.66967,     0.67067,     0.67167,\n",
              "           0.67267,     0.67367,     0.67467,     0.67568,     0.67668,     0.67768,     0.67868,     0.67968,     0.68068,     0.68168,     0.68268,     0.68368,     0.68468,     0.68569,     0.68669,     0.68769,     0.68869,     0.68969,     0.69069,     0.69169,     0.69269,     0.69369,     0.69469,      0.6957,\n",
              "            0.6967,      0.6977,      0.6987,      0.6997,      0.7007,      0.7017,      0.7027,      0.7037,      0.7047,     0.70571,     0.70671,     0.70771,     0.70871,     0.70971,     0.71071,     0.71171,     0.71271,     0.71371,     0.71471,     0.71572,     0.71672,     0.71772,     0.71872,     0.71972,\n",
              "           0.72072,     0.72172,     0.72272,     0.72372,     0.72472,     0.72573,     0.72673,     0.72773,     0.72873,     0.72973,     0.73073,     0.73173,     0.73273,     0.73373,     0.73473,     0.73574,     0.73674,     0.73774,     0.73874,     0.73974,     0.74074,     0.74174,     0.74274,     0.74374,\n",
              "           0.74474,     0.74575,     0.74675,     0.74775,     0.74875,     0.74975,     0.75075,     0.75175,     0.75275,     0.75375,     0.75475,     0.75576,     0.75676,     0.75776,     0.75876,     0.75976,     0.76076,     0.76176,     0.76276,     0.76376,     0.76476,     0.76577,     0.76677,     0.76777,\n",
              "           0.76877,     0.76977,     0.77077,     0.77177,     0.77277,     0.77377,     0.77477,     0.77578,     0.77678,     0.77778,     0.77878,     0.77978,     0.78078,     0.78178,     0.78278,     0.78378,     0.78478,     0.78579,     0.78679,     0.78779,     0.78879,     0.78979,     0.79079,     0.79179,\n",
              "           0.79279,     0.79379,     0.79479,      0.7958,      0.7968,      0.7978,      0.7988,      0.7998,      0.8008,      0.8018,      0.8028,      0.8038,      0.8048,     0.80581,     0.80681,     0.80781,     0.80881,     0.80981,     0.81081,     0.81181,     0.81281,     0.81381,     0.81481,     0.81582,\n",
              "           0.81682,     0.81782,     0.81882,     0.81982,     0.82082,     0.82182,     0.82282,     0.82382,     0.82482,     0.82583,     0.82683,     0.82783,     0.82883,     0.82983,     0.83083,     0.83183,     0.83283,     0.83383,     0.83483,     0.83584,     0.83684,     0.83784,     0.83884,     0.83984,\n",
              "           0.84084,     0.84184,     0.84284,     0.84384,     0.84484,     0.84585,     0.84685,     0.84785,     0.84885,     0.84985,     0.85085,     0.85185,     0.85285,     0.85385,     0.85485,     0.85586,     0.85686,     0.85786,     0.85886,     0.85986,     0.86086,     0.86186,     0.86286,     0.86386,\n",
              "           0.86486,     0.86587,     0.86687,     0.86787,     0.86887,     0.86987,     0.87087,     0.87187,     0.87287,     0.87387,     0.87487,     0.87588,     0.87688,     0.87788,     0.87888,     0.87988,     0.88088,     0.88188,     0.88288,     0.88388,     0.88488,     0.88589,     0.88689,     0.88789,\n",
              "           0.88889,     0.88989,     0.89089,     0.89189,     0.89289,     0.89389,     0.89489,      0.8959,      0.8969,      0.8979,      0.8989,      0.8999,      0.9009,      0.9019,      0.9029,      0.9039,      0.9049,     0.90591,     0.90691,     0.90791,     0.90891,     0.90991,     0.91091,     0.91191,\n",
              "           0.91291,     0.91391,     0.91491,     0.91592,     0.91692,     0.91792,     0.91892,     0.91992,     0.92092,     0.92192,     0.92292,     0.92392,     0.92492,     0.92593,     0.92693,     0.92793,     0.92893,     0.92993,     0.93093,     0.93193,     0.93293,     0.93393,     0.93493,     0.93594,\n",
              "           0.93694,     0.93794,     0.93894,     0.93994,     0.94094,     0.94194,     0.94294,     0.94394,     0.94494,     0.94595,     0.94695,     0.94795,     0.94895,     0.94995,     0.95095,     0.95195,     0.95295,     0.95395,     0.95495,     0.95596,     0.95696,     0.95796,     0.95896,     0.95996,\n",
              "           0.96096,     0.96196,     0.96296,     0.96396,     0.96496,     0.96597,     0.96697,     0.96797,     0.96897,     0.96997,     0.97097,     0.97197,     0.97297,     0.97397,     0.97497,     0.97598,     0.97698,     0.97798,     0.97898,     0.97998,     0.98098,     0.98198,     0.98298,     0.98398,\n",
              "           0.98498,     0.98599,     0.98699,     0.98799,     0.98899,     0.98999,     0.99099,     0.99199,     0.99299,     0.99399,     0.99499,       0.996,       0.997,       0.998,       0.999,           1]), array([[          1,           1,           1,           1,           1,           1,           1,           1,           1,           1,           1,           1,           1,           1,           1,           1,           1,           1,           1,           1,           1,           1,           1,\n",
              "                  1,           1,           1,           1,           1,           1,           1,           1,           1,           1,           1,           1,           1,           1,           1,           1,           1,           1,           1,           1,           1,           1,           1,\n",
              "                  1,           1,           1,           1,           1,           1,           1,           1,           1,           1,           1,           1,           1,           1,           1,     0.98649,     0.98649,     0.98649,     0.98649,     0.98649,     0.98649,     0.98649,     0.98649,\n",
              "            0.98649,     0.98649,     0.98649,     0.98649,     0.98649,     0.98649,     0.98649,     0.98649,     0.98649,     0.98649,     0.98649,     0.98649,     0.98649,     0.98649,     0.98039,     0.98039,     0.98039,     0.98039,     0.98039,     0.98039,     0.98039,     0.98039,     0.98039,\n",
              "            0.98039,     0.98039,     0.98039,     0.98039,     0.98039,     0.98039,     0.98039,     0.98039,     0.98039,     0.98039,     0.98039,     0.98039,     0.98039,     0.98039,     0.98039,     0.98039,     0.98039,     0.98039,     0.98039,     0.98039,     0.98039,     0.97248,     0.97248,\n",
              "            0.97248,     0.97248,     0.97248,     0.97248,     0.97248,     0.96774,     0.96774,     0.96774,     0.96774,     0.96774,     0.96774,     0.96774,     0.96774,     0.96774,     0.96774,     0.96774,     0.96774,     0.96774,     0.96774,     0.96774,     0.96774,     0.96774,     0.96774,\n",
              "            0.96774,     0.96774,     0.96774,     0.96774,     0.96774,     0.96774,     0.96774,     0.96774,     0.96774,     0.96774,     0.96774,     0.96774,     0.96774,     0.96774,     0.96774,     0.96774,     0.96774,     0.96774,     0.96774,     0.96774,     0.96774,     0.96774,     0.96774,\n",
              "            0.96774,     0.96774,     0.96774,     0.96774,     0.96774,     0.96774,     0.96774,     0.96774,     0.96774,     0.96774,     0.96774,     0.96774,     0.96774,     0.96774,     0.96774,     0.96774,     0.96774,     0.96774,     0.96774,     0.96774,     0.96774,     0.96774,     0.96774,\n",
              "            0.96774,     0.96774,     0.96774,     0.96774,     0.96774,     0.96774,     0.96774,     0.96774,     0.96774,     0.96774,     0.96774,     0.96774,     0.96774,     0.96774,     0.96774,     0.96774,     0.96774,     0.96774,     0.96774,     0.96774,     0.96774,     0.96774,     0.96774,\n",
              "            0.96774,     0.96774,     0.96774,     0.96774,     0.96774,     0.96774,     0.96774,     0.96774,     0.96774,     0.96774,     0.96774,     0.96774,     0.96774,     0.96774,     0.96774,     0.96774,     0.96774,     0.96774,     0.96774,     0.96774,     0.96774,     0.96774,     0.96774,\n",
              "            0.96774,     0.96774,     0.96774,     0.96774,     0.96774,     0.96774,     0.96774,     0.96774,     0.96774,     0.96774,     0.96774,     0.96774,     0.96774,     0.96774,     0.96774,     0.96774,     0.96774,     0.96774,     0.96774,     0.96774,     0.96774,     0.96774,     0.96774,\n",
              "            0.96774,     0.96774,     0.96774,     0.96774,     0.96774,     0.96774,     0.96774,     0.96774,     0.96774,     0.96774,     0.96774,     0.96774,     0.96774,     0.96774,     0.96774,     0.96774,     0.96774,     0.96429,     0.96429,     0.96429,     0.96429,     0.96348,     0.96348,\n",
              "            0.96348,     0.96348,     0.96348,     0.96348,     0.96348,     0.96348,     0.96348,     0.96348,     0.96348,     0.96348,     0.96348,     0.96348,     0.96348,     0.96348,     0.96348,     0.96348,     0.96348,     0.96348,     0.96348,     0.96348,     0.96348,     0.96348,     0.96348,\n",
              "            0.96348,     0.96348,     0.96348,     0.96348,     0.96348,     0.96348,     0.96348,     0.96348,     0.96348,     0.96348,     0.96348,     0.96348,     0.96348,     0.96348,     0.96348,     0.96348,     0.96348,     0.96348,     0.96348,     0.96348,     0.96348,     0.96348,     0.96348,\n",
              "            0.96348,     0.96348,     0.96348,     0.96348,     0.96348,     0.96348,     0.96348,     0.96348,     0.96348,     0.96348,     0.96348,     0.96348,     0.96348,     0.96348,     0.96348,     0.96348,     0.96348,     0.96348,     0.96348,     0.96348,     0.96348,     0.96348,     0.96348,\n",
              "            0.96348,     0.96348,     0.96348,     0.96348,     0.96348,     0.96348,     0.96348,     0.96348,     0.96348,     0.96348,     0.96348,     0.96348,     0.96348,     0.96348,     0.96348,     0.96348,     0.96348,     0.96348,     0.96348,     0.96348,     0.96348,     0.96348,     0.96348,\n",
              "            0.96348,     0.96348,     0.96348,     0.96348,     0.96348,     0.96348,     0.96348,     0.96348,     0.96348,     0.96348,     0.96348,     0.96348,     0.96348,     0.96348,     0.96348,     0.96348,     0.96348,     0.96348,     0.96185,     0.96185,     0.96185,     0.96185,     0.96185,\n",
              "            0.96185,     0.96185,     0.96185,     0.96185,     0.96185,     0.96185,     0.96154,     0.96154,     0.96154,     0.96154,     0.96154,     0.96154,     0.96154,     0.96154,     0.96154,     0.96154,     0.96154,     0.96154,     0.96154,     0.96154,     0.96154,     0.96154,     0.96154,\n",
              "            0.96154,     0.96154,     0.96154,     0.96154,     0.96154,     0.96154,     0.96154,     0.96154,     0.96154,     0.96154,     0.96154,     0.96154,     0.96154,     0.96154,     0.96154,     0.96154,     0.96154,     0.96154,     0.96154,     0.96154,     0.96154,     0.96154,     0.96154,\n",
              "            0.96154,     0.96154,     0.96154,     0.96154,     0.96154,     0.96154,     0.96154,     0.96154,     0.96154,     0.96154,     0.96154,     0.96154,     0.96154,     0.95972,     0.95972,     0.95972,     0.95972,     0.95972,     0.95972,     0.95652,     0.95652,     0.95652,     0.95652,\n",
              "            0.95652,     0.95652,     0.95652,     0.95652,     0.95652,     0.95652,     0.95652,     0.95652,     0.95652,     0.95652,     0.95506,     0.95506,     0.95506,     0.95506,     0.95506,     0.95506,     0.95506,     0.95506,     0.95312,     0.95312,     0.95186,     0.95186,     0.95186,\n",
              "            0.95186,     0.95186,     0.95186,     0.95186,     0.95186,     0.95186,     0.94989,     0.94681,     0.94681,     0.94681,     0.94681,     0.94681,     0.94681,     0.94681,     0.94681,     0.94681,     0.94681,     0.94681,     0.94492,     0.94375,     0.94375,     0.94375,     0.94375,\n",
              "            0.94375,     0.94375,     0.94375,     0.94375,     0.94203,     0.94203,     0.93827,     0.93496,     0.93496,     0.93496,     0.93496,     0.93307,     0.93307,     0.93307,     0.93307,     0.93307,     0.93307,     0.93307,     0.93307,     0.93307,     0.93307,     0.93307,     0.93307,\n",
              "            0.93307,     0.93307,     0.93307,     0.93307,     0.92969,     0.92969,     0.92551,     0.92551,     0.92551,     0.92551,     0.92551,     0.92551,     0.92551,     0.92551,     0.92551,     0.92551,     0.92551,     0.92551,     0.92551,     0.92551,     0.92551,     0.92551,     0.92551,\n",
              "            0.92551,     0.92551,     0.92551,     0.92551,     0.92551,     0.92551,     0.92551,     0.92421,     0.92421,     0.92421,     0.92322,     0.92322,     0.92322,     0.92322,     0.92322,     0.92322,     0.92168,     0.92072,     0.92072,     0.92072,     0.92072,     0.92072,     0.92072,\n",
              "            0.91979,     0.91979,     0.91979,     0.91979,     0.91979,     0.91887,     0.91887,     0.91887,     0.91887,     0.91887,     0.91887,      0.9174,     0.91594,     0.91493,     0.91493,     0.91493,     0.91493,     0.91493,     0.91267,     0.91267,     0.91267,     0.91267,     0.91267,\n",
              "            0.91267,     0.90986,     0.90986,     0.90986,     0.90909,     0.90909,     0.90909,     0.90909,     0.90909,     0.90803,     0.90803,     0.90803,     0.90803,     0.90682,     0.90682,     0.90554,     0.90554,     0.90554,     0.90554,     0.90554,     0.90554,     0.90554,     0.90554,\n",
              "            0.90554,     0.90554,     0.90554,     0.90554,     0.90291,     0.90291,     0.90291,     0.90161,     0.90064,     0.90064,     0.90064,     0.89699,     0.89699,     0.89699,     0.89699,     0.89699,     0.89573,     0.89449,     0.89335,     0.89335,     0.89335,     0.89335,     0.89335,\n",
              "            0.89335,     0.89335,     0.89335,     0.89335,     0.89335,     0.89335,     0.89231,     0.89231,     0.88838,     0.88737,     0.88737,     0.88737,     0.88619,     0.88438,     0.88438,     0.88438,     0.88438,     0.88438,     0.88209,     0.88209,     0.88209,     0.88095,     0.87758,\n",
              "            0.87758,     0.87758,     0.87701,     0.87701,     0.87701,     0.87701,     0.87701,     0.87627,     0.87627,     0.87627,     0.87393,     0.87393,     0.87393,     0.87393,     0.87393,     0.87393,     0.87393,     0.87393,     0.87393,     0.87304,     0.87304,     0.87006,     0.87006,\n",
              "            0.87006,     0.87006,     0.87006,      0.8692,      0.8692,     0.86769,     0.86769,     0.86769,     0.86769,     0.86769,     0.86769,     0.86612,     0.86612,     0.86612,     0.86612,     0.86612,     0.86612,     0.86612,     0.86612,     0.86612,     0.86612,     0.86612,     0.86612,\n",
              "            0.86395,     0.86198,     0.86198,     0.86071,     0.86071,     0.86071,     0.86071,     0.86071,     0.86071,     0.86071,     0.86071,     0.86071,     0.86071,     0.86071,     0.86071,     0.86071,     0.86071,     0.86071,     0.86071,     0.86071,     0.86071,     0.86071,     0.86071,\n",
              "            0.86071,     0.85976,     0.85882,     0.85677,     0.85473,     0.85382,      0.8529,     0.85199,        0.85,        0.85,      0.8491,     0.84625,     0.84625,     0.84537,     0.84509,     0.84509,     0.84509,     0.84509,     0.84509,     0.84422,     0.83292,      0.8321,     0.83128,\n",
              "            0.82843,     0.82763,     0.82582,     0.82104,     0.82104,     0.82048,     0.82048,     0.81873,     0.81797,     0.81797,     0.81797,     0.81797,     0.81797,     0.81797,     0.81797,     0.81797,     0.81797,     0.81797,     0.81797,     0.81722,     0.81551,     0.81404,     0.81404,\n",
              "            0.81404,     0.81047,     0.80974,     0.80809,     0.80805,     0.80805,     0.80805,     0.80805,     0.80641,     0.80641,     0.80571,     0.80502,     0.80499,     0.80499,     0.80499,     0.80499,     0.80068,         0.8,         0.8,     0.79777,     0.79777,     0.79733,     0.79733,\n",
              "            0.79667,     0.79623,     0.79623,     0.78719,     0.78719,     0.78719,     0.78719,     0.78719,     0.78719,     0.78719,     0.78687,     0.78687,     0.78687,     0.78687,     0.78687,     0.78687,     0.78687,     0.78648,     0.78648,     0.78503,     0.78358,     0.78155,     0.78155,\n",
              "            0.78155,     0.78036,     0.78036,     0.77813,     0.77754,      0.7772,      0.7772,     0.77662,     0.77662,     0.77604,      0.7757,      0.7757,     0.77034,     0.76978,     0.76813,     0.76813,     0.76813,     0.76813,     0.76704,     0.76704,     0.76494,     0.76441,     0.76411,\n",
              "            0.76411,     0.75976,     0.75872,     0.75872,     0.75872,      0.7567,      0.7542,      0.7542,     0.75369,     0.75246,     0.75049,        0.75,        0.75,     0.74951,     0.74927,     0.74927,     0.74446,     0.74398,     0.73926,     0.73905,     0.73905,     0.73905,     0.73814,\n",
              "            0.73814,     0.73794,     0.73794,     0.73333,     0.73084,     0.72998,     0.72998,     0.72998,     0.72845,     0.72845,     0.72736,     0.72627,     0.72319,     0.72212,      0.7204,     0.71545,     0.71506,     0.71506,     0.71339,     0.70793,     0.70745,     0.70745,     0.70745,\n",
              "            0.70583,     0.70573,     0.70573,     0.70573,     0.70536,     0.70254,     0.69974,     0.69965,     0.69965,      0.6933,      0.6847,      0.6847,      0.6847,      0.6847,     0.68266,      0.6778,     0.67694,     0.67217,     0.67189,     0.65622,     0.65622,     0.65622,     0.65545,\n",
              "             0.6552,     0.64878,     0.64878,     0.64878,     0.64854,     0.64655,     0.64655,     0.64655,     0.64582,     0.64308,     0.64264,     0.64264,     0.63214,     0.62907,     0.62698,     0.62072,     0.62072,     0.61869,     0.61715,     0.61516,     0.61319,     0.61257,       0.601,\n",
              "            0.59744,     0.59561,     0.59561,     0.59338,     0.59283,     0.59104,     0.58926,     0.58425,     0.57028,     0.57028,     0.56942,     0.56942,     0.55665,     0.55476,      0.5465,     0.54575,     0.54153,     0.53807,     0.53467,     0.53296,     0.53296,      0.5147,     0.49884,\n",
              "            0.49711,     0.49597,     0.47441,     0.44628,     0.44628,     0.44502,     0.44502,     0.44502,     0.42709,     0.41771,     0.40952,     0.40166,     0.39006,     0.32537,     0.32429,     0.32429,     0.29231,     0.26588,     0.26457,     0.23275,     0.20119,     0.13762,    0.077517,\n",
              "            0.07047,    0.063423,    0.056376,    0.049329,    0.042282,    0.035235,    0.028188,    0.021141,    0.014094,    0.007047,           0]]), 'Recall', 'Precision'], [array([          0,    0.001001,    0.002002,    0.003003,    0.004004,    0.005005,    0.006006,    0.007007,    0.008008,    0.009009,     0.01001,    0.011011,    0.012012,    0.013013,    0.014014,    0.015015,    0.016016,    0.017017,    0.018018,    0.019019,     0.02002,    0.021021,    0.022022,    0.023023,\n",
              "          0.024024,    0.025025,    0.026026,    0.027027,    0.028028,    0.029029,     0.03003,    0.031031,    0.032032,    0.033033,    0.034034,    0.035035,    0.036036,    0.037037,    0.038038,    0.039039,     0.04004,    0.041041,    0.042042,    0.043043,    0.044044,    0.045045,    0.046046,    0.047047,\n",
              "          0.048048,    0.049049,     0.05005,    0.051051,    0.052052,    0.053053,    0.054054,    0.055055,    0.056056,    0.057057,    0.058058,    0.059059,     0.06006,    0.061061,    0.062062,    0.063063,    0.064064,    0.065065,    0.066066,    0.067067,    0.068068,    0.069069,     0.07007,    0.071071,\n",
              "          0.072072,    0.073073,    0.074074,    0.075075,    0.076076,    0.077077,    0.078078,    0.079079,     0.08008,    0.081081,    0.082082,    0.083083,    0.084084,    0.085085,    0.086086,    0.087087,    0.088088,    0.089089,     0.09009,    0.091091,    0.092092,    0.093093,    0.094094,    0.095095,\n",
              "          0.096096,    0.097097,    0.098098,    0.099099,      0.1001,      0.1011,      0.1021,      0.1031,      0.1041,     0.10511,     0.10611,     0.10711,     0.10811,     0.10911,     0.11011,     0.11111,     0.11211,     0.11311,     0.11411,     0.11512,     0.11612,     0.11712,     0.11812,     0.11912,\n",
              "           0.12012,     0.12112,     0.12212,     0.12312,     0.12412,     0.12513,     0.12613,     0.12713,     0.12813,     0.12913,     0.13013,     0.13113,     0.13213,     0.13313,     0.13413,     0.13514,     0.13614,     0.13714,     0.13814,     0.13914,     0.14014,     0.14114,     0.14214,     0.14314,\n",
              "           0.14414,     0.14515,     0.14615,     0.14715,     0.14815,     0.14915,     0.15015,     0.15115,     0.15215,     0.15315,     0.15415,     0.15516,     0.15616,     0.15716,     0.15816,     0.15916,     0.16016,     0.16116,     0.16216,     0.16316,     0.16416,     0.16517,     0.16617,     0.16717,\n",
              "           0.16817,     0.16917,     0.17017,     0.17117,     0.17217,     0.17317,     0.17417,     0.17518,     0.17618,     0.17718,     0.17818,     0.17918,     0.18018,     0.18118,     0.18218,     0.18318,     0.18418,     0.18519,     0.18619,     0.18719,     0.18819,     0.18919,     0.19019,     0.19119,\n",
              "           0.19219,     0.19319,     0.19419,      0.1952,      0.1962,      0.1972,      0.1982,      0.1992,      0.2002,      0.2012,      0.2022,      0.2032,      0.2042,     0.20521,     0.20621,     0.20721,     0.20821,     0.20921,     0.21021,     0.21121,     0.21221,     0.21321,     0.21421,     0.21522,\n",
              "           0.21622,     0.21722,     0.21822,     0.21922,     0.22022,     0.22122,     0.22222,     0.22322,     0.22422,     0.22523,     0.22623,     0.22723,     0.22823,     0.22923,     0.23023,     0.23123,     0.23223,     0.23323,     0.23423,     0.23524,     0.23624,     0.23724,     0.23824,     0.23924,\n",
              "           0.24024,     0.24124,     0.24224,     0.24324,     0.24424,     0.24525,     0.24625,     0.24725,     0.24825,     0.24925,     0.25025,     0.25125,     0.25225,     0.25325,     0.25425,     0.25526,     0.25626,     0.25726,     0.25826,     0.25926,     0.26026,     0.26126,     0.26226,     0.26326,\n",
              "           0.26426,     0.26527,     0.26627,     0.26727,     0.26827,     0.26927,     0.27027,     0.27127,     0.27227,     0.27327,     0.27427,     0.27528,     0.27628,     0.27728,     0.27828,     0.27928,     0.28028,     0.28128,     0.28228,     0.28328,     0.28428,     0.28529,     0.28629,     0.28729,\n",
              "           0.28829,     0.28929,     0.29029,     0.29129,     0.29229,     0.29329,     0.29429,      0.2953,      0.2963,      0.2973,      0.2983,      0.2993,      0.3003,      0.3013,      0.3023,      0.3033,      0.3043,     0.30531,     0.30631,     0.30731,     0.30831,     0.30931,     0.31031,     0.31131,\n",
              "           0.31231,     0.31331,     0.31431,     0.31532,     0.31632,     0.31732,     0.31832,     0.31932,     0.32032,     0.32132,     0.32232,     0.32332,     0.32432,     0.32533,     0.32633,     0.32733,     0.32833,     0.32933,     0.33033,     0.33133,     0.33233,     0.33333,     0.33433,     0.33534,\n",
              "           0.33634,     0.33734,     0.33834,     0.33934,     0.34034,     0.34134,     0.34234,     0.34334,     0.34434,     0.34535,     0.34635,     0.34735,     0.34835,     0.34935,     0.35035,     0.35135,     0.35235,     0.35335,     0.35435,     0.35536,     0.35636,     0.35736,     0.35836,     0.35936,\n",
              "           0.36036,     0.36136,     0.36236,     0.36336,     0.36436,     0.36537,     0.36637,     0.36737,     0.36837,     0.36937,     0.37037,     0.37137,     0.37237,     0.37337,     0.37437,     0.37538,     0.37638,     0.37738,     0.37838,     0.37938,     0.38038,     0.38138,     0.38238,     0.38338,\n",
              "           0.38438,     0.38539,     0.38639,     0.38739,     0.38839,     0.38939,     0.39039,     0.39139,     0.39239,     0.39339,     0.39439,      0.3954,      0.3964,      0.3974,      0.3984,      0.3994,      0.4004,      0.4014,      0.4024,      0.4034,      0.4044,     0.40541,     0.40641,     0.40741,\n",
              "           0.40841,     0.40941,     0.41041,     0.41141,     0.41241,     0.41341,     0.41441,     0.41542,     0.41642,     0.41742,     0.41842,     0.41942,     0.42042,     0.42142,     0.42242,     0.42342,     0.42442,     0.42543,     0.42643,     0.42743,     0.42843,     0.42943,     0.43043,     0.43143,\n",
              "           0.43243,     0.43343,     0.43443,     0.43544,     0.43644,     0.43744,     0.43844,     0.43944,     0.44044,     0.44144,     0.44244,     0.44344,     0.44444,     0.44545,     0.44645,     0.44745,     0.44845,     0.44945,     0.45045,     0.45145,     0.45245,     0.45345,     0.45445,     0.45546,\n",
              "           0.45646,     0.45746,     0.45846,     0.45946,     0.46046,     0.46146,     0.46246,     0.46346,     0.46446,     0.46547,     0.46647,     0.46747,     0.46847,     0.46947,     0.47047,     0.47147,     0.47247,     0.47347,     0.47447,     0.47548,     0.47648,     0.47748,     0.47848,     0.47948,\n",
              "           0.48048,     0.48148,     0.48248,     0.48348,     0.48448,     0.48549,     0.48649,     0.48749,     0.48849,     0.48949,     0.49049,     0.49149,     0.49249,     0.49349,     0.49449,      0.4955,      0.4965,      0.4975,      0.4985,      0.4995,      0.5005,      0.5015,      0.5025,      0.5035,\n",
              "            0.5045,     0.50551,     0.50651,     0.50751,     0.50851,     0.50951,     0.51051,     0.51151,     0.51251,     0.51351,     0.51451,     0.51552,     0.51652,     0.51752,     0.51852,     0.51952,     0.52052,     0.52152,     0.52252,     0.52352,     0.52452,     0.52553,     0.52653,     0.52753,\n",
              "           0.52853,     0.52953,     0.53053,     0.53153,     0.53253,     0.53353,     0.53453,     0.53554,     0.53654,     0.53754,     0.53854,     0.53954,     0.54054,     0.54154,     0.54254,     0.54354,     0.54454,     0.54555,     0.54655,     0.54755,     0.54855,     0.54955,     0.55055,     0.55155,\n",
              "           0.55255,     0.55355,     0.55455,     0.55556,     0.55656,     0.55756,     0.55856,     0.55956,     0.56056,     0.56156,     0.56256,     0.56356,     0.56456,     0.56557,     0.56657,     0.56757,     0.56857,     0.56957,     0.57057,     0.57157,     0.57257,     0.57357,     0.57457,     0.57558,\n",
              "           0.57658,     0.57758,     0.57858,     0.57958,     0.58058,     0.58158,     0.58258,     0.58358,     0.58458,     0.58559,     0.58659,     0.58759,     0.58859,     0.58959,     0.59059,     0.59159,     0.59259,     0.59359,     0.59459,      0.5956,      0.5966,      0.5976,      0.5986,      0.5996,\n",
              "            0.6006,      0.6016,      0.6026,      0.6036,      0.6046,     0.60561,     0.60661,     0.60761,     0.60861,     0.60961,     0.61061,     0.61161,     0.61261,     0.61361,     0.61461,     0.61562,     0.61662,     0.61762,     0.61862,     0.61962,     0.62062,     0.62162,     0.62262,     0.62362,\n",
              "           0.62462,     0.62563,     0.62663,     0.62763,     0.62863,     0.62963,     0.63063,     0.63163,     0.63263,     0.63363,     0.63463,     0.63564,     0.63664,     0.63764,     0.63864,     0.63964,     0.64064,     0.64164,     0.64264,     0.64364,     0.64464,     0.64565,     0.64665,     0.64765,\n",
              "           0.64865,     0.64965,     0.65065,     0.65165,     0.65265,     0.65365,     0.65465,     0.65566,     0.65666,     0.65766,     0.65866,     0.65966,     0.66066,     0.66166,     0.66266,     0.66366,     0.66466,     0.66567,     0.66667,     0.66767,     0.66867,     0.66967,     0.67067,     0.67167,\n",
              "           0.67267,     0.67367,     0.67467,     0.67568,     0.67668,     0.67768,     0.67868,     0.67968,     0.68068,     0.68168,     0.68268,     0.68368,     0.68468,     0.68569,     0.68669,     0.68769,     0.68869,     0.68969,     0.69069,     0.69169,     0.69269,     0.69369,     0.69469,      0.6957,\n",
              "            0.6967,      0.6977,      0.6987,      0.6997,      0.7007,      0.7017,      0.7027,      0.7037,      0.7047,     0.70571,     0.70671,     0.70771,     0.70871,     0.70971,     0.71071,     0.71171,     0.71271,     0.71371,     0.71471,     0.71572,     0.71672,     0.71772,     0.71872,     0.71972,\n",
              "           0.72072,     0.72172,     0.72272,     0.72372,     0.72472,     0.72573,     0.72673,     0.72773,     0.72873,     0.72973,     0.73073,     0.73173,     0.73273,     0.73373,     0.73473,     0.73574,     0.73674,     0.73774,     0.73874,     0.73974,     0.74074,     0.74174,     0.74274,     0.74374,\n",
              "           0.74474,     0.74575,     0.74675,     0.74775,     0.74875,     0.74975,     0.75075,     0.75175,     0.75275,     0.75375,     0.75475,     0.75576,     0.75676,     0.75776,     0.75876,     0.75976,     0.76076,     0.76176,     0.76276,     0.76376,     0.76476,     0.76577,     0.76677,     0.76777,\n",
              "           0.76877,     0.76977,     0.77077,     0.77177,     0.77277,     0.77377,     0.77477,     0.77578,     0.77678,     0.77778,     0.77878,     0.77978,     0.78078,     0.78178,     0.78278,     0.78378,     0.78478,     0.78579,     0.78679,     0.78779,     0.78879,     0.78979,     0.79079,     0.79179,\n",
              "           0.79279,     0.79379,     0.79479,      0.7958,      0.7968,      0.7978,      0.7988,      0.7998,      0.8008,      0.8018,      0.8028,      0.8038,      0.8048,     0.80581,     0.80681,     0.80781,     0.80881,     0.80981,     0.81081,     0.81181,     0.81281,     0.81381,     0.81481,     0.81582,\n",
              "           0.81682,     0.81782,     0.81882,     0.81982,     0.82082,     0.82182,     0.82282,     0.82382,     0.82482,     0.82583,     0.82683,     0.82783,     0.82883,     0.82983,     0.83083,     0.83183,     0.83283,     0.83383,     0.83483,     0.83584,     0.83684,     0.83784,     0.83884,     0.83984,\n",
              "           0.84084,     0.84184,     0.84284,     0.84384,     0.84484,     0.84585,     0.84685,     0.84785,     0.84885,     0.84985,     0.85085,     0.85185,     0.85285,     0.85385,     0.85485,     0.85586,     0.85686,     0.85786,     0.85886,     0.85986,     0.86086,     0.86186,     0.86286,     0.86386,\n",
              "           0.86486,     0.86587,     0.86687,     0.86787,     0.86887,     0.86987,     0.87087,     0.87187,     0.87287,     0.87387,     0.87487,     0.87588,     0.87688,     0.87788,     0.87888,     0.87988,     0.88088,     0.88188,     0.88288,     0.88388,     0.88488,     0.88589,     0.88689,     0.88789,\n",
              "           0.88889,     0.88989,     0.89089,     0.89189,     0.89289,     0.89389,     0.89489,      0.8959,      0.8969,      0.8979,      0.8989,      0.8999,      0.9009,      0.9019,      0.9029,      0.9039,      0.9049,     0.90591,     0.90691,     0.90791,     0.90891,     0.90991,     0.91091,     0.91191,\n",
              "           0.91291,     0.91391,     0.91491,     0.91592,     0.91692,     0.91792,     0.91892,     0.91992,     0.92092,     0.92192,     0.92292,     0.92392,     0.92492,     0.92593,     0.92693,     0.92793,     0.92893,     0.92993,     0.93093,     0.93193,     0.93293,     0.93393,     0.93493,     0.93594,\n",
              "           0.93694,     0.93794,     0.93894,     0.93994,     0.94094,     0.94194,     0.94294,     0.94394,     0.94494,     0.94595,     0.94695,     0.94795,     0.94895,     0.94995,     0.95095,     0.95195,     0.95295,     0.95395,     0.95495,     0.95596,     0.95696,     0.95796,     0.95896,     0.95996,\n",
              "           0.96096,     0.96196,     0.96296,     0.96396,     0.96496,     0.96597,     0.96697,     0.96797,     0.96897,     0.96997,     0.97097,     0.97197,     0.97297,     0.97397,     0.97497,     0.97598,     0.97698,     0.97798,     0.97898,     0.97998,     0.98098,     0.98198,     0.98298,     0.98398,\n",
              "           0.98498,     0.98599,     0.98699,     0.98799,     0.98899,     0.98999,     0.99099,     0.99199,     0.99299,     0.99399,     0.99499,       0.996,       0.997,       0.998,       0.999,           1]), array([[    0.14663,     0.14663,     0.14663,      0.3735,     0.42267,     0.45745,      0.4865,     0.50829,     0.52711,     0.54172,      0.5562,     0.56595,     0.57714,     0.58778,     0.59768,     0.60911,      0.6146,     0.62116,     0.62907,     0.63526,     0.64206,     0.64753,     0.65323,\n",
              "            0.65625,     0.65936,     0.66464,     0.66964,     0.67362,     0.67733,     0.68283,     0.68614,     0.68928,     0.69288,     0.69558,     0.69956,     0.70292,     0.70653,     0.70969,     0.71373,     0.71566,      0.7187,     0.72257,     0.72586,      0.7273,      0.7293,     0.73072,\n",
              "            0.73195,     0.73332,     0.73398,     0.73655,     0.73914,     0.74186,     0.74281,     0.74395,     0.74652,     0.74763,     0.74993,     0.75134,     0.75193,     0.75357,     0.75538,     0.75566,     0.75705,     0.75884,      0.7599,     0.76063,     0.76194,     0.76209,     0.76241,\n",
              "            0.76242,     0.76163,     0.76272,     0.76314,     0.76458,     0.76557,      0.7647,     0.76595,     0.76697,     0.76852,     0.76967,      0.7705,     0.77256,     0.77481,     0.77506,     0.77603,     0.77725,     0.77783,     0.77766,     0.77918,     0.78003,     0.78033,     0.78061,\n",
              "            0.78183,     0.78143,     0.78057,     0.78113,     0.78241,     0.78295,     0.78391,     0.78577,     0.78612,     0.78723,     0.78863,     0.78909,     0.78904,      0.7899,     0.79148,     0.79036,     0.79025,     0.79105,     0.78987,     0.78991,     0.79246,     0.79301,     0.79366,\n",
              "            0.79323,     0.79474,     0.79611,      0.7957,      0.7967,     0.79632,     0.79658,     0.79698,      0.7981,     0.79809,     0.79861,     0.79832,     0.79873,     0.79835,     0.79833,     0.79925,     0.79904,     0.80004,     0.80116,     0.80056,     0.80028,     0.80027,     0.79922,\n",
              "            0.80032,     0.80158,     0.80292,     0.80287,     0.80239,     0.80242,      0.8021,     0.80252,     0.80296,     0.80301,     0.80298,     0.80334,     0.80308,     0.80282,     0.80373,     0.80333,     0.80326,     0.80348,      0.8047,     0.80554,     0.80581,     0.80518,     0.80487,\n",
              "            0.80479,     0.80506,     0.80444,     0.80444,     0.80501,     0.80384,     0.80326,     0.80425,     0.80415,     0.80419,     0.80588,      0.8063,     0.80653,     0.80615,     0.80577,     0.80521,      0.8056,     0.80425,     0.80411,     0.80375,     0.80411,     0.80405,      0.8035,\n",
              "            0.80414,     0.80455,     0.80453,     0.80499,     0.80392,     0.80395,     0.80273,     0.80192,     0.80078,     0.79848,     0.79884,     0.79842,     0.79891,     0.79992,     0.80028,     0.80146,     0.80198,     0.80002,     0.79999,     0.80003,      0.8004,     0.79975,     0.79994,\n",
              "            0.80112,      0.8011,     0.80076,     0.79917,     0.79916,       0.799,     0.79849,      0.7992,     0.79869,     0.79778,     0.79666,      0.7969,     0.79684,     0.79651,     0.79673,      0.7972,     0.79684,     0.79639,     0.79661,     0.79689,     0.79757,     0.79778,     0.79739,\n",
              "            0.79713,     0.79687,     0.79745,     0.79714,     0.79759,     0.79625,     0.79577,     0.79396,     0.79348,     0.79202,     0.79189,     0.79197,     0.79188,     0.79219,     0.79175,     0.79125,     0.79172,     0.79203,     0.79226,     0.79249,     0.79298,      0.7925,     0.79308,\n",
              "            0.79357,     0.79307,     0.79309,     0.79489,      0.7954,     0.79572,     0.79683,     0.79747,      0.7974,     0.79711,     0.79712,     0.79681,     0.79553,     0.79478,     0.79471,     0.79436,     0.79392,     0.79343,     0.79356,      0.7943,     0.79445,      0.7946,     0.79461,\n",
              "            0.79412,      0.7944,     0.79391,     0.79413,     0.79456,     0.79437,     0.79408,     0.79384,     0.79412,     0.79367,     0.79383,     0.79389,     0.79377,     0.79443,      0.7939,      0.7941,     0.79382,     0.79187,     0.79017,     0.78852,     0.78766,     0.78591,     0.78423,\n",
              "            0.78408,     0.78394,     0.78379,     0.78365,     0.78321,      0.7832,     0.78277,     0.78292,     0.78219,     0.78195,     0.78171,     0.78184,     0.78215,     0.78231,     0.78246,     0.78229,     0.78113,     0.78133,     0.78153,     0.78161,     0.78186,     0.78122,     0.78033,\n",
              "            0.77941,     0.77859,     0.77766,     0.77722,     0.77702,      0.7772,     0.77738,     0.77593,     0.77488,     0.77514,     0.77297,     0.77266,     0.77235,     0.77182,     0.77103,     0.77137,     0.77091,      0.7703,     0.76874,     0.76919,     0.76972,      0.7683,     0.76866,\n",
              "            0.76713,     0.76668,     0.76544,     0.76498,      0.7635,       0.763,     0.76349,      0.7639,     0.76176,     0.76102,     0.76034,     0.75987,     0.75926,     0.75866,     0.75784,     0.75765,     0.75778,     0.75791,     0.75813,     0.75784,     0.75809,     0.75686,     0.75751,\n",
              "            0.75599,     0.75517,     0.75408,     0.75424,     0.75441,     0.75416,     0.75371,     0.75289,     0.75277,      0.7523,     0.75274,     0.75324,     0.75292,     0.75262,     0.75232,     0.75233,     0.74987,     0.74811,     0.74717,     0.74633,     0.74496,     0.74454,     0.74464,\n",
              "             0.7446,     0.74502,     0.74429,      0.7447,      0.7444,     0.74409,      0.7429,     0.74248,     0.74166,     0.74191,      0.7416,     0.74129,      0.7406,     0.74085,     0.74049,     0.73978,     0.73886,     0.73809,     0.73766,     0.73711,     0.73625,     0.73539,     0.73464,\n",
              "            0.73415,     0.73087,     0.73138,     0.73096,     0.73019,      0.7297,      0.7293,     0.72907,     0.72883,      0.7278,     0.72816,     0.72728,      0.7264,     0.72465,     0.72405,     0.72424,     0.72346,     0.72302,     0.72362,     0.72338,     0.72315,     0.72291,     0.72177,\n",
              "            0.72147,     0.72117,     0.72077,     0.72032,     0.71912,     0.71882,     0.71852,     0.71868,     0.71894,     0.71941,     0.71864,     0.71742,     0.71712,     0.71595,     0.71557,     0.71582,     0.71521,     0.71376,     0.71267,     0.71176,     0.71134,     0.70864,     0.70732,\n",
              "             0.7055,     0.70458,     0.70354,     0.70323,       0.703,     0.70325,     0.70274,     0.70182,     0.69907,     0.69897,      0.6985,     0.69712,     0.69665,     0.69629,     0.69443,     0.69165,     0.69071,     0.68976,     0.68926,     0.68879,     0.68599,     0.68317,     0.68128,\n",
              "            0.68032,     0.67855,      0.6788,      0.6781,     0.67835,     0.67865,     0.67915,     0.67927,     0.67777,     0.67814,     0.67824,     0.67834,     0.67844,     0.67854,     0.67818,     0.67721,     0.67529,     0.67241,     0.67047,     0.66757,      0.6655,     0.66585,      0.6661,\n",
              "            0.66361,     0.66311,     0.66166,     0.66108,     0.66007,     0.65808,     0.65708,     0.65607,     0.65505,     0.65452,     0.65444,     0.65393,     0.65195,     0.65093,     0.64892,      0.6459,     0.64634,     0.64599,     0.64565,     0.64521,     0.64418,     0.64315,     0.64222,\n",
              "             0.6417,     0.64118,     0.64066,     0.64019,     0.63985,      0.6395,     0.63889,     0.63846,     0.63691,     0.63671,     0.63504,     0.63482,     0.63461,      0.6344,     0.63419,     0.63287,     0.63252,     0.63217,     0.63134,     0.63029,      0.6297,     0.62864,     0.62799,\n",
              "            0.62746,     0.62545,     0.62394,     0.62359,     0.62323,     0.62255,     0.61982,     0.61928,     0.61847,     0.61703,     0.61728,     0.61752,     0.61776,     0.61717,     0.61609,     0.61325,     0.61271,     0.61224,     0.61069,     0.61042,     0.61015,     0.60987,     0.60891,\n",
              "            0.60674,     0.60629,     0.60593,     0.60556,     0.60233,     0.59797,     0.59681,      0.5952,     0.59298,     0.59077,     0.59017,     0.58989,      0.5896,     0.58932,     0.58884,     0.58827,     0.58727,     0.58614,      0.5839,     0.58244,     0.58223,     0.58203,     0.58182,\n",
              "            0.58161,     0.58096,      0.5787,     0.57756,     0.57462,     0.57347,     0.57153,     0.57095,        0.57,       0.566,     0.55969,      0.5591,     0.55856,     0.55816,     0.55777,     0.55712,     0.55478,     0.55061,     0.55074,     0.55087,       0.551,     0.54985,     0.54749,\n",
              "            0.54394,     0.54277,     0.54217,     0.54136,      0.5397,     0.53532,     0.53471,     0.53248,     0.52886,     0.52763,     0.52398,     0.52093,     0.51968,     0.51844,     0.51743,      0.5168,     0.51537,     0.51464,     0.51401,     0.51216,     0.51153,     0.51103,     0.51052,\n",
              "            0.50871,     0.50808,      0.5058,     0.50329,     0.50231,     0.50136,     0.49884,     0.49755,      0.4964,     0.49555,     0.49307,     0.49178,     0.48922,     0.48665,     0.48576,     0.48085,     0.48029,     0.48045,     0.48052,     0.47929,     0.47885,     0.47841,      0.4779,\n",
              "            0.47702,     0.47561,     0.47582,     0.47418,     0.47365,     0.47158,      0.4685,     0.46695,     0.46631,     0.46578,     0.46489,     0.46355,     0.46242,     0.46153,     0.46085,     0.45882,     0.45621,     0.45567,     0.45513,     0.45405,      0.4533,     0.45285,     0.45239,\n",
              "            0.45177,     0.45109,     0.44755,     0.44671,     0.44602,      0.4432,     0.44229,      0.4416,     0.44069,     0.43705,     0.43615,     0.43634,     0.43646,     0.43553,     0.43324,     0.43233,     0.43163,     0.42677,     0.42583,     0.42568,     0.42583,     0.42554,     0.42427,\n",
              "            0.42332,     0.42176,     0.42129,     0.42081,     0.41733,     0.41662,     0.41625,     0.41589,     0.41553,     0.41375,     0.41318,      0.4126,     0.40897,       0.408,     0.40704,     0.40323,     0.40226,     0.40129,     0.39746,     0.39373,     0.39314,     0.39255,     0.39119,\n",
              "            0.38914,     0.38865,     0.38816,     0.38476,     0.38426,     0.38376,     0.38316,     0.38256,     0.37929,     0.37829,     0.37728,     0.37481,      0.3738,     0.36836,     0.36287,     0.36185,     0.35933,     0.35853,     0.35819,     0.35785,      0.3575,     0.35716,     0.35466,\n",
              "            0.34909,       0.345,     0.34396,     0.34333,     0.34305,     0.34276,     0.34248,     0.34219,     0.33705,     0.33513,     0.32884,     0.32465,     0.32358,     0.31972,     0.31843,     0.31779,     0.31714,     0.31452,     0.31215,     0.31174,     0.31133,     0.31093,     0.30856,\n",
              "            0.30747,     0.30638,     0.30335,      0.3024,     0.30185,      0.3013,     0.29906,      0.2984,     0.29635,     0.29654,       0.292,      0.2881,     0.28768,     0.28726,     0.28684,     0.28577,      0.2844,     0.27969,     0.27855,     0.27548,     0.27434,     0.27402,     0.27177,\n",
              "            0.26888,     0.26401,     0.26357,     0.26314,     0.26271,     0.26193,     0.25698,     0.25581,     0.25075,     0.24434,      0.2412,     0.23769,     0.23673,     0.23682,     0.23692,     0.22815,     0.22695,     0.22541,     0.22069,     0.21997,     0.21921,      0.2183,     0.21568,\n",
              "            0.21516,     0.21464,     0.21412,       0.211,     0.20965,     0.20641,     0.20169,     0.19928,     0.19193,     0.18848,     0.18722,     0.18349,     0.17974,     0.17596,      0.1703,     0.16837,     0.16455,      0.1627,     0.16141,     0.15834,     0.15673,     0.15608,     0.15543,\n",
              "            0.15376,     0.15179,     0.15159,     0.14801,     0.14603,     0.14405,     0.14207,     0.13813,     0.13027,     0.12426,     0.11984,     0.11882,     0.11444,     0.11451,     0.10721,      0.1038,     0.10276,    0.097945,    0.096192,    0.095495,    0.094798,    0.094056,    0.093218,\n",
              "            0.09238,     0.09105,     0.08936,    0.087253,    0.082101,    0.077844,    0.075746,    0.075212,    0.074678,    0.074144,    0.071413,    0.069983,    0.065978,    0.064701,    0.063837,    0.062137,    0.059434,    0.054072,    0.051198,    0.047996,     0.04763,    0.047263,    0.046897,\n",
              "            0.04653,    0.046164,    0.041856,    0.041409,    0.040967,    0.040524,    0.040081,    0.039632,     0.03914,    0.038647,    0.038154,    0.037661,    0.036447,    0.032889,    0.031773,    0.030726,    0.029831,    0.028936,    0.027516,    0.021782,    0.020653,    0.017957,    0.017562,\n",
              "           0.017278,    0.016995,    0.016712,    0.016428,    0.016144,    0.015861,    0.015529,    0.014961,    0.014393,    0.013825,    0.013347,     0.01312,    0.012892,    0.012664,    0.012437,    0.012209,    0.011981,    0.011753,    0.011525,    0.011297,   0.0089061,   0.0065095,   0.0041222,\n",
              "          0.0034659,   0.0028091,           0,           0,           0,           0,           0,           0,           0,           0,           0,           0,           0,           0,           0,           0,           0,           0,           0,           0,           0,           0,           0,\n",
              "                  0,           0,           0,           0,           0,           0,           0,           0,           0,           0,           0,           0,           0,           0,           0,           0,           0,           0,           0,           0,           0,           0,           0,\n",
              "                  0,           0,           0,           0,           0,           0,           0,           0,           0,           0,           0]]), 'Confidence', 'F1'], [array([          0,    0.001001,    0.002002,    0.003003,    0.004004,    0.005005,    0.006006,    0.007007,    0.008008,    0.009009,     0.01001,    0.011011,    0.012012,    0.013013,    0.014014,    0.015015,    0.016016,    0.017017,    0.018018,    0.019019,     0.02002,    0.021021,    0.022022,    0.023023,\n",
              "          0.024024,    0.025025,    0.026026,    0.027027,    0.028028,    0.029029,     0.03003,    0.031031,    0.032032,    0.033033,    0.034034,    0.035035,    0.036036,    0.037037,    0.038038,    0.039039,     0.04004,    0.041041,    0.042042,    0.043043,    0.044044,    0.045045,    0.046046,    0.047047,\n",
              "          0.048048,    0.049049,     0.05005,    0.051051,    0.052052,    0.053053,    0.054054,    0.055055,    0.056056,    0.057057,    0.058058,    0.059059,     0.06006,    0.061061,    0.062062,    0.063063,    0.064064,    0.065065,    0.066066,    0.067067,    0.068068,    0.069069,     0.07007,    0.071071,\n",
              "          0.072072,    0.073073,    0.074074,    0.075075,    0.076076,    0.077077,    0.078078,    0.079079,     0.08008,    0.081081,    0.082082,    0.083083,    0.084084,    0.085085,    0.086086,    0.087087,    0.088088,    0.089089,     0.09009,    0.091091,    0.092092,    0.093093,    0.094094,    0.095095,\n",
              "          0.096096,    0.097097,    0.098098,    0.099099,      0.1001,      0.1011,      0.1021,      0.1031,      0.1041,     0.10511,     0.10611,     0.10711,     0.10811,     0.10911,     0.11011,     0.11111,     0.11211,     0.11311,     0.11411,     0.11512,     0.11612,     0.11712,     0.11812,     0.11912,\n",
              "           0.12012,     0.12112,     0.12212,     0.12312,     0.12412,     0.12513,     0.12613,     0.12713,     0.12813,     0.12913,     0.13013,     0.13113,     0.13213,     0.13313,     0.13413,     0.13514,     0.13614,     0.13714,     0.13814,     0.13914,     0.14014,     0.14114,     0.14214,     0.14314,\n",
              "           0.14414,     0.14515,     0.14615,     0.14715,     0.14815,     0.14915,     0.15015,     0.15115,     0.15215,     0.15315,     0.15415,     0.15516,     0.15616,     0.15716,     0.15816,     0.15916,     0.16016,     0.16116,     0.16216,     0.16316,     0.16416,     0.16517,     0.16617,     0.16717,\n",
              "           0.16817,     0.16917,     0.17017,     0.17117,     0.17217,     0.17317,     0.17417,     0.17518,     0.17618,     0.17718,     0.17818,     0.17918,     0.18018,     0.18118,     0.18218,     0.18318,     0.18418,     0.18519,     0.18619,     0.18719,     0.18819,     0.18919,     0.19019,     0.19119,\n",
              "           0.19219,     0.19319,     0.19419,      0.1952,      0.1962,      0.1972,      0.1982,      0.1992,      0.2002,      0.2012,      0.2022,      0.2032,      0.2042,     0.20521,     0.20621,     0.20721,     0.20821,     0.20921,     0.21021,     0.21121,     0.21221,     0.21321,     0.21421,     0.21522,\n",
              "           0.21622,     0.21722,     0.21822,     0.21922,     0.22022,     0.22122,     0.22222,     0.22322,     0.22422,     0.22523,     0.22623,     0.22723,     0.22823,     0.22923,     0.23023,     0.23123,     0.23223,     0.23323,     0.23423,     0.23524,     0.23624,     0.23724,     0.23824,     0.23924,\n",
              "           0.24024,     0.24124,     0.24224,     0.24324,     0.24424,     0.24525,     0.24625,     0.24725,     0.24825,     0.24925,     0.25025,     0.25125,     0.25225,     0.25325,     0.25425,     0.25526,     0.25626,     0.25726,     0.25826,     0.25926,     0.26026,     0.26126,     0.26226,     0.26326,\n",
              "           0.26426,     0.26527,     0.26627,     0.26727,     0.26827,     0.26927,     0.27027,     0.27127,     0.27227,     0.27327,     0.27427,     0.27528,     0.27628,     0.27728,     0.27828,     0.27928,     0.28028,     0.28128,     0.28228,     0.28328,     0.28428,     0.28529,     0.28629,     0.28729,\n",
              "           0.28829,     0.28929,     0.29029,     0.29129,     0.29229,     0.29329,     0.29429,      0.2953,      0.2963,      0.2973,      0.2983,      0.2993,      0.3003,      0.3013,      0.3023,      0.3033,      0.3043,     0.30531,     0.30631,     0.30731,     0.30831,     0.30931,     0.31031,     0.31131,\n",
              "           0.31231,     0.31331,     0.31431,     0.31532,     0.31632,     0.31732,     0.31832,     0.31932,     0.32032,     0.32132,     0.32232,     0.32332,     0.32432,     0.32533,     0.32633,     0.32733,     0.32833,     0.32933,     0.33033,     0.33133,     0.33233,     0.33333,     0.33433,     0.33534,\n",
              "           0.33634,     0.33734,     0.33834,     0.33934,     0.34034,     0.34134,     0.34234,     0.34334,     0.34434,     0.34535,     0.34635,     0.34735,     0.34835,     0.34935,     0.35035,     0.35135,     0.35235,     0.35335,     0.35435,     0.35536,     0.35636,     0.35736,     0.35836,     0.35936,\n",
              "           0.36036,     0.36136,     0.36236,     0.36336,     0.36436,     0.36537,     0.36637,     0.36737,     0.36837,     0.36937,     0.37037,     0.37137,     0.37237,     0.37337,     0.37437,     0.37538,     0.37638,     0.37738,     0.37838,     0.37938,     0.38038,     0.38138,     0.38238,     0.38338,\n",
              "           0.38438,     0.38539,     0.38639,     0.38739,     0.38839,     0.38939,     0.39039,     0.39139,     0.39239,     0.39339,     0.39439,      0.3954,      0.3964,      0.3974,      0.3984,      0.3994,      0.4004,      0.4014,      0.4024,      0.4034,      0.4044,     0.40541,     0.40641,     0.40741,\n",
              "           0.40841,     0.40941,     0.41041,     0.41141,     0.41241,     0.41341,     0.41441,     0.41542,     0.41642,     0.41742,     0.41842,     0.41942,     0.42042,     0.42142,     0.42242,     0.42342,     0.42442,     0.42543,     0.42643,     0.42743,     0.42843,     0.42943,     0.43043,     0.43143,\n",
              "           0.43243,     0.43343,     0.43443,     0.43544,     0.43644,     0.43744,     0.43844,     0.43944,     0.44044,     0.44144,     0.44244,     0.44344,     0.44444,     0.44545,     0.44645,     0.44745,     0.44845,     0.44945,     0.45045,     0.45145,     0.45245,     0.45345,     0.45445,     0.45546,\n",
              "           0.45646,     0.45746,     0.45846,     0.45946,     0.46046,     0.46146,     0.46246,     0.46346,     0.46446,     0.46547,     0.46647,     0.46747,     0.46847,     0.46947,     0.47047,     0.47147,     0.47247,     0.47347,     0.47447,     0.47548,     0.47648,     0.47748,     0.47848,     0.47948,\n",
              "           0.48048,     0.48148,     0.48248,     0.48348,     0.48448,     0.48549,     0.48649,     0.48749,     0.48849,     0.48949,     0.49049,     0.49149,     0.49249,     0.49349,     0.49449,      0.4955,      0.4965,      0.4975,      0.4985,      0.4995,      0.5005,      0.5015,      0.5025,      0.5035,\n",
              "            0.5045,     0.50551,     0.50651,     0.50751,     0.50851,     0.50951,     0.51051,     0.51151,     0.51251,     0.51351,     0.51451,     0.51552,     0.51652,     0.51752,     0.51852,     0.51952,     0.52052,     0.52152,     0.52252,     0.52352,     0.52452,     0.52553,     0.52653,     0.52753,\n",
              "           0.52853,     0.52953,     0.53053,     0.53153,     0.53253,     0.53353,     0.53453,     0.53554,     0.53654,     0.53754,     0.53854,     0.53954,     0.54054,     0.54154,     0.54254,     0.54354,     0.54454,     0.54555,     0.54655,     0.54755,     0.54855,     0.54955,     0.55055,     0.55155,\n",
              "           0.55255,     0.55355,     0.55455,     0.55556,     0.55656,     0.55756,     0.55856,     0.55956,     0.56056,     0.56156,     0.56256,     0.56356,     0.56456,     0.56557,     0.56657,     0.56757,     0.56857,     0.56957,     0.57057,     0.57157,     0.57257,     0.57357,     0.57457,     0.57558,\n",
              "           0.57658,     0.57758,     0.57858,     0.57958,     0.58058,     0.58158,     0.58258,     0.58358,     0.58458,     0.58559,     0.58659,     0.58759,     0.58859,     0.58959,     0.59059,     0.59159,     0.59259,     0.59359,     0.59459,      0.5956,      0.5966,      0.5976,      0.5986,      0.5996,\n",
              "            0.6006,      0.6016,      0.6026,      0.6036,      0.6046,     0.60561,     0.60661,     0.60761,     0.60861,     0.60961,     0.61061,     0.61161,     0.61261,     0.61361,     0.61461,     0.61562,     0.61662,     0.61762,     0.61862,     0.61962,     0.62062,     0.62162,     0.62262,     0.62362,\n",
              "           0.62462,     0.62563,     0.62663,     0.62763,     0.62863,     0.62963,     0.63063,     0.63163,     0.63263,     0.63363,     0.63463,     0.63564,     0.63664,     0.63764,     0.63864,     0.63964,     0.64064,     0.64164,     0.64264,     0.64364,     0.64464,     0.64565,     0.64665,     0.64765,\n",
              "           0.64865,     0.64965,     0.65065,     0.65165,     0.65265,     0.65365,     0.65465,     0.65566,     0.65666,     0.65766,     0.65866,     0.65966,     0.66066,     0.66166,     0.66266,     0.66366,     0.66466,     0.66567,     0.66667,     0.66767,     0.66867,     0.66967,     0.67067,     0.67167,\n",
              "           0.67267,     0.67367,     0.67467,     0.67568,     0.67668,     0.67768,     0.67868,     0.67968,     0.68068,     0.68168,     0.68268,     0.68368,     0.68468,     0.68569,     0.68669,     0.68769,     0.68869,     0.68969,     0.69069,     0.69169,     0.69269,     0.69369,     0.69469,      0.6957,\n",
              "            0.6967,      0.6977,      0.6987,      0.6997,      0.7007,      0.7017,      0.7027,      0.7037,      0.7047,     0.70571,     0.70671,     0.70771,     0.70871,     0.70971,     0.71071,     0.71171,     0.71271,     0.71371,     0.71471,     0.71572,     0.71672,     0.71772,     0.71872,     0.71972,\n",
              "           0.72072,     0.72172,     0.72272,     0.72372,     0.72472,     0.72573,     0.72673,     0.72773,     0.72873,     0.72973,     0.73073,     0.73173,     0.73273,     0.73373,     0.73473,     0.73574,     0.73674,     0.73774,     0.73874,     0.73974,     0.74074,     0.74174,     0.74274,     0.74374,\n",
              "           0.74474,     0.74575,     0.74675,     0.74775,     0.74875,     0.74975,     0.75075,     0.75175,     0.75275,     0.75375,     0.75475,     0.75576,     0.75676,     0.75776,     0.75876,     0.75976,     0.76076,     0.76176,     0.76276,     0.76376,     0.76476,     0.76577,     0.76677,     0.76777,\n",
              "           0.76877,     0.76977,     0.77077,     0.77177,     0.77277,     0.77377,     0.77477,     0.77578,     0.77678,     0.77778,     0.77878,     0.77978,     0.78078,     0.78178,     0.78278,     0.78378,     0.78478,     0.78579,     0.78679,     0.78779,     0.78879,     0.78979,     0.79079,     0.79179,\n",
              "           0.79279,     0.79379,     0.79479,      0.7958,      0.7968,      0.7978,      0.7988,      0.7998,      0.8008,      0.8018,      0.8028,      0.8038,      0.8048,     0.80581,     0.80681,     0.80781,     0.80881,     0.80981,     0.81081,     0.81181,     0.81281,     0.81381,     0.81481,     0.81582,\n",
              "           0.81682,     0.81782,     0.81882,     0.81982,     0.82082,     0.82182,     0.82282,     0.82382,     0.82482,     0.82583,     0.82683,     0.82783,     0.82883,     0.82983,     0.83083,     0.83183,     0.83283,     0.83383,     0.83483,     0.83584,     0.83684,     0.83784,     0.83884,     0.83984,\n",
              "           0.84084,     0.84184,     0.84284,     0.84384,     0.84484,     0.84585,     0.84685,     0.84785,     0.84885,     0.84985,     0.85085,     0.85185,     0.85285,     0.85385,     0.85485,     0.85586,     0.85686,     0.85786,     0.85886,     0.85986,     0.86086,     0.86186,     0.86286,     0.86386,\n",
              "           0.86486,     0.86587,     0.86687,     0.86787,     0.86887,     0.86987,     0.87087,     0.87187,     0.87287,     0.87387,     0.87487,     0.87588,     0.87688,     0.87788,     0.87888,     0.87988,     0.88088,     0.88188,     0.88288,     0.88388,     0.88488,     0.88589,     0.88689,     0.88789,\n",
              "           0.88889,     0.88989,     0.89089,     0.89189,     0.89289,     0.89389,     0.89489,      0.8959,      0.8969,      0.8979,      0.8989,      0.8999,      0.9009,      0.9019,      0.9029,      0.9039,      0.9049,     0.90591,     0.90691,     0.90791,     0.90891,     0.90991,     0.91091,     0.91191,\n",
              "           0.91291,     0.91391,     0.91491,     0.91592,     0.91692,     0.91792,     0.91892,     0.91992,     0.92092,     0.92192,     0.92292,     0.92392,     0.92492,     0.92593,     0.92693,     0.92793,     0.92893,     0.92993,     0.93093,     0.93193,     0.93293,     0.93393,     0.93493,     0.93594,\n",
              "           0.93694,     0.93794,     0.93894,     0.93994,     0.94094,     0.94194,     0.94294,     0.94394,     0.94494,     0.94595,     0.94695,     0.94795,     0.94895,     0.94995,     0.95095,     0.95195,     0.95295,     0.95395,     0.95495,     0.95596,     0.95696,     0.95796,     0.95896,     0.95996,\n",
              "           0.96096,     0.96196,     0.96296,     0.96396,     0.96496,     0.96597,     0.96697,     0.96797,     0.96897,     0.96997,     0.97097,     0.97197,     0.97297,     0.97397,     0.97497,     0.97598,     0.97698,     0.97798,     0.97898,     0.97998,     0.98098,     0.98198,     0.98298,     0.98398,\n",
              "           0.98498,     0.98599,     0.98699,     0.98799,     0.98899,     0.98999,     0.99099,     0.99199,     0.99299,     0.99399,     0.99499,       0.996,       0.997,       0.998,       0.999,           1]), array([[   0.079189,    0.079189,    0.079189,     0.23036,      0.2692,     0.29818,     0.32334,     0.34316,     0.36054,     0.37435,     0.38832,     0.39809,     0.40964,     0.42065,     0.43109,     0.44308,     0.44987,     0.45694,     0.46556,     0.47237,      0.4802,     0.48635,     0.49281,\n",
              "            0.49683,     0.50072,     0.50684,     0.51267,     0.51769,     0.52208,     0.52864,     0.53296,     0.53712,     0.54221,     0.54625,     0.55118,     0.55574,     0.56066,     0.56465,     0.57023,     0.57346,     0.57738,     0.58239,      0.5871,     0.58942,      0.5925,     0.59526,\n",
              "             0.5974,     0.59962,     0.60096,     0.60441,     0.60791,     0.61159,     0.61384,     0.61589,      0.6204,     0.62242,     0.62562,     0.62809,     0.62944,     0.63174,      0.6348,      0.6352,     0.63716,      0.6397,     0.64228,     0.64386,     0.64574,     0.64651,     0.64806,\n",
              "            0.64863,     0.64914,     0.65074,     0.65135,     0.65345,     0.65489,      0.6559,     0.65775,     0.65926,     0.66155,     0.66326,     0.66449,     0.66756,     0.67093,     0.67251,     0.67398,     0.67582,     0.67731,     0.67767,     0.67998,     0.68128,     0.68173,     0.68217,\n",
              "            0.68469,     0.68451,     0.68464,      0.6855,     0.68747,     0.68831,     0.68979,     0.69268,     0.69388,     0.69561,      0.6978,     0.69934,     0.70047,     0.70182,       0.705,     0.70529,      0.7058,      0.7071,     0.70684,     0.70807,     0.71218,      0.7133,     0.71484,\n",
              "            0.71482,     0.71805,     0.72029,     0.72036,     0.72199,     0.72193,      0.7233,     0.72395,     0.72615,     0.72715,     0.72817,     0.72826,      0.7299,     0.72981,     0.73078,     0.73311,     0.73353,     0.73523,     0.73711,      0.7375,     0.73792,     0.73881,     0.73862,\n",
              "            0.74132,     0.74387,     0.74746,     0.74885,     0.74979,     0.75037,     0.75025,     0.75098,     0.75176,     0.75232,     0.75351,     0.75419,     0.75409,     0.75399,     0.75668,     0.75652,      0.7584,     0.75968,     0.76185,     0.76337,     0.76385,     0.76382,     0.76371,\n",
              "            0.76383,     0.76432,     0.76502,     0.76685,     0.76808,     0.76765,     0.76743,     0.76931,     0.76965,     0.77108,      0.7742,     0.77497,     0.77564,      0.7755,     0.77537,     0.77583,     0.77657,     0.77697,     0.77804,     0.77998,     0.78066,     0.78136,     0.78116,\n",
              "            0.78272,     0.78349,     0.78492,     0.78646,     0.78608,     0.78643,     0.78636,     0.78667,     0.78708,     0.78631,     0.78702,     0.78695,     0.78928,     0.79125,     0.79196,     0.79427,     0.79608,     0.79692,     0.79761,     0.79916,      0.7999,     0.80052,     0.80124,\n",
              "            0.80361,     0.80476,     0.80464,     0.80426,     0.80539,     0.80639,     0.80622,     0.80801,     0.80784,     0.80755,     0.80718,     0.80781,     0.80803,     0.80792,     0.80866,     0.80972,     0.80961,     0.81035,      0.8108,     0.81139,     0.81279,     0.81391,     0.81379,\n",
              "            0.81371,     0.81363,     0.81499,     0.81556,     0.81774,     0.81752,     0.81737,     0.81763,     0.81748,     0.81703,     0.81782,     0.81844,     0.81953,     0.82021,     0.82031,       0.821,     0.82309,     0.82377,     0.82427,     0.82475,     0.82582,     0.82568,     0.82737,\n",
              "            0.83126,       0.832,     0.83276,     0.83812,     0.83925,     0.83997,     0.84243,     0.84388,     0.84416,     0.84408,      0.8445,     0.84493,     0.84458,     0.84488,     0.84615,     0.84614,     0.84603,     0.84589,     0.84642,     0.84812,     0.84846,     0.84881,     0.84907,\n",
              "            0.84916,      0.8498,     0.85015,     0.85065,     0.85164,     0.85266,      0.8528,     0.85292,     0.85357,     0.85465,     0.85589,     0.85669,     0.85727,      0.8588,     0.85909,     0.85955,     0.86042,     0.86019,     0.85976,     0.85935,     0.85913,     0.85868,     0.85825,\n",
              "            0.85822,     0.85818,     0.85814,     0.85811,     0.85799,     0.85902,     0.85891,     0.85963,      0.8598,     0.85974,     0.85968,     0.86024,       0.861,     0.86137,     0.86174,     0.86191,     0.86178,     0.86226,     0.86274,     0.86384,     0.86521,     0.86587,     0.86566,\n",
              "            0.86543,     0.86523,       0.865,     0.86489,       0.865,     0.86545,      0.8659,     0.86566,     0.86649,     0.86764,     0.86711,     0.86703,     0.86696,     0.86904,     0.86885,     0.87004,     0.86993,     0.86978,     0.86941,     0.87144,      0.8728,     0.87278,     0.87391,\n",
              "            0.87355,     0.87344,     0.87315,     0.87305,      0.8727,     0.87374,     0.87504,     0.87626,     0.87616,     0.87677,     0.87661,     0.87651,     0.87717,     0.87741,     0.87722,     0.87869,     0.87905,      0.8794,     0.88087,     0.88118,     0.88185,      0.8818,     0.88427,\n",
              "            0.88404,     0.88386,     0.88496,     0.88542,     0.88588,     0.88611,     0.88726,     0.88709,     0.88831,     0.88821,     0.88952,     0.89092,     0.89214,     0.89208,     0.89202,      0.8933,      0.8928,     0.89244,     0.89224,     0.89207,     0.89179,      0.8917,     0.89229,\n",
              "            0.89437,     0.89572,     0.89569,     0.89698,     0.89692,     0.89686,     0.89663,     0.89654,     0.89703,     0.90045,     0.90039,     0.90033,     0.90077,     0.90151,     0.90275,     0.90277,     0.90535,     0.90521,     0.90513,     0.90503,     0.90487,     0.90471,     0.90458,\n",
              "            0.90448,     0.90387,     0.90631,     0.90672,     0.90759,     0.90791,     0.90784,      0.9078,     0.90776,     0.90769,     0.90907,     0.90892,     0.90876,     0.90845,     0.90864,     0.90983,     0.90969,     0.90961,     0.91266,     0.91262,     0.91258,     0.91254,     0.91234,\n",
              "            0.91229,     0.91223,     0.91216,     0.91209,     0.91188,     0.91183,     0.91177,     0.91245,     0.91325,     0.91479,     0.91479,     0.91459,     0.91454,     0.91435,     0.91582,     0.91664,     0.91739,     0.91856,     0.91838,     0.91824,     0.91972,     0.91929,     0.92065,\n",
              "            0.92036,     0.92021,     0.92094,     0.92159,     0.92205,     0.92291,     0.92312,     0.92298,     0.92255,     0.92416,     0.92409,     0.92388,     0.92381,      0.9254,     0.92511,     0.92469,     0.92454,     0.92439,     0.92432,     0.92424,     0.92381,     0.92337,     0.92307,\n",
              "            0.92292,     0.92273,     0.92365,     0.92442,     0.92534,     0.92645,     0.92831,     0.92965,     0.92994,     0.93135,     0.93173,      0.9321,     0.93248,     0.93286,     0.93301,     0.93288,     0.93261,      0.9322,     0.93193,     0.93151,     0.93228,     0.93364,     0.93462,\n",
              "            0.93461,     0.94142,     0.94319,     0.94366,     0.94354,      0.9433,     0.94318,     0.94306,     0.94293,     0.94481,     0.94676,      0.9467,     0.94647,     0.94635,     0.94612,     0.94986,     0.95186,     0.95182,     0.95179,     0.95174,     0.95163,     0.95152,     0.95142,\n",
              "            0.95137,     0.95131,     0.95126,     0.95121,     0.95117,     0.95113,     0.95107,     0.95188,     0.95385,     0.95501,     0.95484,     0.95482,      0.9548,     0.95478,     0.95476,     0.95463,     0.95459,     0.95456,     0.95447,     0.95437,     0.95645,     0.95635,     0.95628,\n",
              "            0.95623,     0.95603,     0.95589,     0.95585,     0.95582,     0.95575,     0.95548,     0.95543,     0.95535,      0.9558,     0.95695,     0.95812,     0.95928,     0.95965,     0.95956,      0.9593,     0.95925,     0.96147,     0.96133,     0.96131,     0.96129,     0.96126,     0.96118,\n",
              "            0.96099,     0.96095,     0.96091,     0.96088,     0.96059,      0.9602,     0.96009,     0.95994,     0.95974,     0.95953,     0.95948,     0.95945,     0.95942,      0.9594,     0.95935,      0.9593,     0.95921,      0.9591,     0.95889,     0.95875,     0.95873,     0.95871,     0.95869,\n",
              "            0.95867,      0.9586,     0.95839,     0.95827,     0.96047,     0.96036,     0.96018,     0.96013,     0.96004,     0.95966,     0.96163,     0.96158,     0.96153,     0.96149,     0.96146,      0.9614,     0.96118,     0.96109,     0.96188,     0.96267,     0.96346,     0.96338,     0.96317,\n",
              "            0.96285,     0.96275,     0.96269,     0.96262,     0.96247,     0.96206,     0.96201,      0.9618,     0.96145,     0.96134,     0.96099,     0.96069,     0.96057,     0.96044,     0.96034,     0.96028,     0.96014,     0.96006,        0.96,     0.95981,     0.95975,      0.9597,     0.95965,\n",
              "            0.95946,      0.9594,     0.95916,      0.9589,      0.9588,      0.9587,     0.95843,     0.95829,     0.95817,     0.95808,     0.95781,     0.95767,     0.95739,      0.9571,       0.957,     0.95645,     0.95704,     0.95836,     0.95959,     0.95946,     0.95941,     0.95936,     0.95931,\n",
              "            0.95921,     0.96022,      0.9619,     0.96216,     0.96211,      0.9619,     0.96158,     0.96142,     0.96136,      0.9613,     0.96121,     0.96107,     0.96095,     0.96085,     0.96078,     0.96056,     0.96028,     0.96022,     0.96017,     0.96005,     0.95997,     0.95992,     0.95987,\n",
              "             0.9598,     0.95972,     0.95933,     0.95923,     0.95916,     0.95883,     0.95873,     0.95865,     0.95855,     0.95812,     0.95805,     0.95993,     0.96168,     0.96158,     0.96133,     0.96123,     0.96115,     0.96061,      0.9605,     0.96161,     0.96317,     0.96424,     0.96411,\n",
              "            0.96402,      0.9677,     0.96766,     0.96761,     0.96728,     0.96722,     0.96718,     0.96715,     0.96711,     0.96694,     0.96688,     0.96683,     0.96647,     0.96637,     0.96627,     0.96589,     0.96579,     0.96569,     0.96529,     0.96489,     0.96483,     0.96477,     0.96462,\n",
              "             0.9644,     0.96434,     0.96429,     0.96391,     0.96385,      0.9638,     0.96373,     0.96366,     0.96329,     0.96317,     0.96306,     0.96277,     0.96265,       0.962,     0.96132,     0.96119,     0.96087,     0.96077,     0.96073,     0.96068,     0.96064,     0.96059,     0.96027,\n",
              "            0.95953,     0.95897,     0.95883,     0.95874,      0.9587,     0.95866,     0.95862,     0.95858,     0.95785,     0.95757,     0.95664,       0.956,     0.95583,     0.95523,     0.95502,     0.95492,     0.95481,     0.95439,     0.95399,     0.95393,     0.95386,     0.95379,     0.95339,\n",
              "             0.9532,     0.95302,     0.95249,     0.95232,     0.95222,     0.95212,     0.95172,      0.9516,     0.95227,     0.95626,      0.9563,     0.95564,     0.95556,     0.95549,     0.95542,     0.95523,     0.95499,     0.95415,     0.95394,     0.95972,     0.95954,     0.96334,     0.96566,\n",
              "            0.96524,     0.96453,     0.96446,      0.9644,     0.96433,     0.96422,     0.96345,     0.96327,     0.96245,     0.96137,     0.96082,     0.96018,     0.96138,     0.96455,     0.96773,     0.96638,     0.96619,     0.96594,     0.96514,     0.96502,     0.96489,     0.96473,     0.96427,\n",
              "            0.96417,     0.96408,     0.96399,     0.97227,     0.97208,      0.9716,      0.9744,     0.98012,     0.97929,     0.97888,     0.97873,     0.97826,     0.97777,     0.97726,     0.97645,     0.97616,     0.97557,     0.97528,     0.97507,     0.97456,     0.97428,     0.97417,     0.97405,\n",
              "            0.97375,      0.9734,     0.98447,     0.98614,     0.98594,     0.98573,     0.98552,     0.98508,     0.98413,     0.98332,     0.98268,     0.98252,     0.98724,     0.99656,           1,           1,           1,           1,           1,           1,           1,           1,           1,\n",
              "                  1,           1,           1,           1,           1,           1,           1,           1,           1,           1,           1,           1,           1,           1,           1,           1,           1,           1,           1,           1,           1,           1,           1,\n",
              "                  1,           1,           1,           1,           1,           1,           1,           1,           1,           1,           1,           1,           1,           1,           1,           1,           1,           1,           1,           1,           1,           1,           1,\n",
              "                  1,           1,           1,           1,           1,           1,           1,           1,           1,           1,           1,           1,           1,           1,           1,           1,           1,           1,           1,           1,           1,           1,           1,\n",
              "                  1,           1,           1,           1,           1,           1,           1,           1,           1,           1,           1,           1,           1,           1,           1,           1,           1,           1,           1,           1,           1,           1,           1,\n",
              "                  1,           1,           1,           1,           1,           1,           1,           1,           1,           1,           1,           1,           1,           1,           1,           1,           1,           1,           1,           1,           1,           1,           1,\n",
              "                  1,           1,           1,           1,           1,           1,           1,           1,           1,           1,           1]]), 'Confidence', 'Precision'], [array([          0,    0.001001,    0.002002,    0.003003,    0.004004,    0.005005,    0.006006,    0.007007,    0.008008,    0.009009,     0.01001,    0.011011,    0.012012,    0.013013,    0.014014,    0.015015,    0.016016,    0.017017,    0.018018,    0.019019,     0.02002,    0.021021,    0.022022,    0.023023,\n",
              "          0.024024,    0.025025,    0.026026,    0.027027,    0.028028,    0.029029,     0.03003,    0.031031,    0.032032,    0.033033,    0.034034,    0.035035,    0.036036,    0.037037,    0.038038,    0.039039,     0.04004,    0.041041,    0.042042,    0.043043,    0.044044,    0.045045,    0.046046,    0.047047,\n",
              "          0.048048,    0.049049,     0.05005,    0.051051,    0.052052,    0.053053,    0.054054,    0.055055,    0.056056,    0.057057,    0.058058,    0.059059,     0.06006,    0.061061,    0.062062,    0.063063,    0.064064,    0.065065,    0.066066,    0.067067,    0.068068,    0.069069,     0.07007,    0.071071,\n",
              "          0.072072,    0.073073,    0.074074,    0.075075,    0.076076,    0.077077,    0.078078,    0.079079,     0.08008,    0.081081,    0.082082,    0.083083,    0.084084,    0.085085,    0.086086,    0.087087,    0.088088,    0.089089,     0.09009,    0.091091,    0.092092,    0.093093,    0.094094,    0.095095,\n",
              "          0.096096,    0.097097,    0.098098,    0.099099,      0.1001,      0.1011,      0.1021,      0.1031,      0.1041,     0.10511,     0.10611,     0.10711,     0.10811,     0.10911,     0.11011,     0.11111,     0.11211,     0.11311,     0.11411,     0.11512,     0.11612,     0.11712,     0.11812,     0.11912,\n",
              "           0.12012,     0.12112,     0.12212,     0.12312,     0.12412,     0.12513,     0.12613,     0.12713,     0.12813,     0.12913,     0.13013,     0.13113,     0.13213,     0.13313,     0.13413,     0.13514,     0.13614,     0.13714,     0.13814,     0.13914,     0.14014,     0.14114,     0.14214,     0.14314,\n",
              "           0.14414,     0.14515,     0.14615,     0.14715,     0.14815,     0.14915,     0.15015,     0.15115,     0.15215,     0.15315,     0.15415,     0.15516,     0.15616,     0.15716,     0.15816,     0.15916,     0.16016,     0.16116,     0.16216,     0.16316,     0.16416,     0.16517,     0.16617,     0.16717,\n",
              "           0.16817,     0.16917,     0.17017,     0.17117,     0.17217,     0.17317,     0.17417,     0.17518,     0.17618,     0.17718,     0.17818,     0.17918,     0.18018,     0.18118,     0.18218,     0.18318,     0.18418,     0.18519,     0.18619,     0.18719,     0.18819,     0.18919,     0.19019,     0.19119,\n",
              "           0.19219,     0.19319,     0.19419,      0.1952,      0.1962,      0.1972,      0.1982,      0.1992,      0.2002,      0.2012,      0.2022,      0.2032,      0.2042,     0.20521,     0.20621,     0.20721,     0.20821,     0.20921,     0.21021,     0.21121,     0.21221,     0.21321,     0.21421,     0.21522,\n",
              "           0.21622,     0.21722,     0.21822,     0.21922,     0.22022,     0.22122,     0.22222,     0.22322,     0.22422,     0.22523,     0.22623,     0.22723,     0.22823,     0.22923,     0.23023,     0.23123,     0.23223,     0.23323,     0.23423,     0.23524,     0.23624,     0.23724,     0.23824,     0.23924,\n",
              "           0.24024,     0.24124,     0.24224,     0.24324,     0.24424,     0.24525,     0.24625,     0.24725,     0.24825,     0.24925,     0.25025,     0.25125,     0.25225,     0.25325,     0.25425,     0.25526,     0.25626,     0.25726,     0.25826,     0.25926,     0.26026,     0.26126,     0.26226,     0.26326,\n",
              "           0.26426,     0.26527,     0.26627,     0.26727,     0.26827,     0.26927,     0.27027,     0.27127,     0.27227,     0.27327,     0.27427,     0.27528,     0.27628,     0.27728,     0.27828,     0.27928,     0.28028,     0.28128,     0.28228,     0.28328,     0.28428,     0.28529,     0.28629,     0.28729,\n",
              "           0.28829,     0.28929,     0.29029,     0.29129,     0.29229,     0.29329,     0.29429,      0.2953,      0.2963,      0.2973,      0.2983,      0.2993,      0.3003,      0.3013,      0.3023,      0.3033,      0.3043,     0.30531,     0.30631,     0.30731,     0.30831,     0.30931,     0.31031,     0.31131,\n",
              "           0.31231,     0.31331,     0.31431,     0.31532,     0.31632,     0.31732,     0.31832,     0.31932,     0.32032,     0.32132,     0.32232,     0.32332,     0.32432,     0.32533,     0.32633,     0.32733,     0.32833,     0.32933,     0.33033,     0.33133,     0.33233,     0.33333,     0.33433,     0.33534,\n",
              "           0.33634,     0.33734,     0.33834,     0.33934,     0.34034,     0.34134,     0.34234,     0.34334,     0.34434,     0.34535,     0.34635,     0.34735,     0.34835,     0.34935,     0.35035,     0.35135,     0.35235,     0.35335,     0.35435,     0.35536,     0.35636,     0.35736,     0.35836,     0.35936,\n",
              "           0.36036,     0.36136,     0.36236,     0.36336,     0.36436,     0.36537,     0.36637,     0.36737,     0.36837,     0.36937,     0.37037,     0.37137,     0.37237,     0.37337,     0.37437,     0.37538,     0.37638,     0.37738,     0.37838,     0.37938,     0.38038,     0.38138,     0.38238,     0.38338,\n",
              "           0.38438,     0.38539,     0.38639,     0.38739,     0.38839,     0.38939,     0.39039,     0.39139,     0.39239,     0.39339,     0.39439,      0.3954,      0.3964,      0.3974,      0.3984,      0.3994,      0.4004,      0.4014,      0.4024,      0.4034,      0.4044,     0.40541,     0.40641,     0.40741,\n",
              "           0.40841,     0.40941,     0.41041,     0.41141,     0.41241,     0.41341,     0.41441,     0.41542,     0.41642,     0.41742,     0.41842,     0.41942,     0.42042,     0.42142,     0.42242,     0.42342,     0.42442,     0.42543,     0.42643,     0.42743,     0.42843,     0.42943,     0.43043,     0.43143,\n",
              "           0.43243,     0.43343,     0.43443,     0.43544,     0.43644,     0.43744,     0.43844,     0.43944,     0.44044,     0.44144,     0.44244,     0.44344,     0.44444,     0.44545,     0.44645,     0.44745,     0.44845,     0.44945,     0.45045,     0.45145,     0.45245,     0.45345,     0.45445,     0.45546,\n",
              "           0.45646,     0.45746,     0.45846,     0.45946,     0.46046,     0.46146,     0.46246,     0.46346,     0.46446,     0.46547,     0.46647,     0.46747,     0.46847,     0.46947,     0.47047,     0.47147,     0.47247,     0.47347,     0.47447,     0.47548,     0.47648,     0.47748,     0.47848,     0.47948,\n",
              "           0.48048,     0.48148,     0.48248,     0.48348,     0.48448,     0.48549,     0.48649,     0.48749,     0.48849,     0.48949,     0.49049,     0.49149,     0.49249,     0.49349,     0.49449,      0.4955,      0.4965,      0.4975,      0.4985,      0.4995,      0.5005,      0.5015,      0.5025,      0.5035,\n",
              "            0.5045,     0.50551,     0.50651,     0.50751,     0.50851,     0.50951,     0.51051,     0.51151,     0.51251,     0.51351,     0.51451,     0.51552,     0.51652,     0.51752,     0.51852,     0.51952,     0.52052,     0.52152,     0.52252,     0.52352,     0.52452,     0.52553,     0.52653,     0.52753,\n",
              "           0.52853,     0.52953,     0.53053,     0.53153,     0.53253,     0.53353,     0.53453,     0.53554,     0.53654,     0.53754,     0.53854,     0.53954,     0.54054,     0.54154,     0.54254,     0.54354,     0.54454,     0.54555,     0.54655,     0.54755,     0.54855,     0.54955,     0.55055,     0.55155,\n",
              "           0.55255,     0.55355,     0.55455,     0.55556,     0.55656,     0.55756,     0.55856,     0.55956,     0.56056,     0.56156,     0.56256,     0.56356,     0.56456,     0.56557,     0.56657,     0.56757,     0.56857,     0.56957,     0.57057,     0.57157,     0.57257,     0.57357,     0.57457,     0.57558,\n",
              "           0.57658,     0.57758,     0.57858,     0.57958,     0.58058,     0.58158,     0.58258,     0.58358,     0.58458,     0.58559,     0.58659,     0.58759,     0.58859,     0.58959,     0.59059,     0.59159,     0.59259,     0.59359,     0.59459,      0.5956,      0.5966,      0.5976,      0.5986,      0.5996,\n",
              "            0.6006,      0.6016,      0.6026,      0.6036,      0.6046,     0.60561,     0.60661,     0.60761,     0.60861,     0.60961,     0.61061,     0.61161,     0.61261,     0.61361,     0.61461,     0.61562,     0.61662,     0.61762,     0.61862,     0.61962,     0.62062,     0.62162,     0.62262,     0.62362,\n",
              "           0.62462,     0.62563,     0.62663,     0.62763,     0.62863,     0.62963,     0.63063,     0.63163,     0.63263,     0.63363,     0.63463,     0.63564,     0.63664,     0.63764,     0.63864,     0.63964,     0.64064,     0.64164,     0.64264,     0.64364,     0.64464,     0.64565,     0.64665,     0.64765,\n",
              "           0.64865,     0.64965,     0.65065,     0.65165,     0.65265,     0.65365,     0.65465,     0.65566,     0.65666,     0.65766,     0.65866,     0.65966,     0.66066,     0.66166,     0.66266,     0.66366,     0.66466,     0.66567,     0.66667,     0.66767,     0.66867,     0.66967,     0.67067,     0.67167,\n",
              "           0.67267,     0.67367,     0.67467,     0.67568,     0.67668,     0.67768,     0.67868,     0.67968,     0.68068,     0.68168,     0.68268,     0.68368,     0.68468,     0.68569,     0.68669,     0.68769,     0.68869,     0.68969,     0.69069,     0.69169,     0.69269,     0.69369,     0.69469,      0.6957,\n",
              "            0.6967,      0.6977,      0.6987,      0.6997,      0.7007,      0.7017,      0.7027,      0.7037,      0.7047,     0.70571,     0.70671,     0.70771,     0.70871,     0.70971,     0.71071,     0.71171,     0.71271,     0.71371,     0.71471,     0.71572,     0.71672,     0.71772,     0.71872,     0.71972,\n",
              "           0.72072,     0.72172,     0.72272,     0.72372,     0.72472,     0.72573,     0.72673,     0.72773,     0.72873,     0.72973,     0.73073,     0.73173,     0.73273,     0.73373,     0.73473,     0.73574,     0.73674,     0.73774,     0.73874,     0.73974,     0.74074,     0.74174,     0.74274,     0.74374,\n",
              "           0.74474,     0.74575,     0.74675,     0.74775,     0.74875,     0.74975,     0.75075,     0.75175,     0.75275,     0.75375,     0.75475,     0.75576,     0.75676,     0.75776,     0.75876,     0.75976,     0.76076,     0.76176,     0.76276,     0.76376,     0.76476,     0.76577,     0.76677,     0.76777,\n",
              "           0.76877,     0.76977,     0.77077,     0.77177,     0.77277,     0.77377,     0.77477,     0.77578,     0.77678,     0.77778,     0.77878,     0.77978,     0.78078,     0.78178,     0.78278,     0.78378,     0.78478,     0.78579,     0.78679,     0.78779,     0.78879,     0.78979,     0.79079,     0.79179,\n",
              "           0.79279,     0.79379,     0.79479,      0.7958,      0.7968,      0.7978,      0.7988,      0.7998,      0.8008,      0.8018,      0.8028,      0.8038,      0.8048,     0.80581,     0.80681,     0.80781,     0.80881,     0.80981,     0.81081,     0.81181,     0.81281,     0.81381,     0.81481,     0.81582,\n",
              "           0.81682,     0.81782,     0.81882,     0.81982,     0.82082,     0.82182,     0.82282,     0.82382,     0.82482,     0.82583,     0.82683,     0.82783,     0.82883,     0.82983,     0.83083,     0.83183,     0.83283,     0.83383,     0.83483,     0.83584,     0.83684,     0.83784,     0.83884,     0.83984,\n",
              "           0.84084,     0.84184,     0.84284,     0.84384,     0.84484,     0.84585,     0.84685,     0.84785,     0.84885,     0.84985,     0.85085,     0.85185,     0.85285,     0.85385,     0.85485,     0.85586,     0.85686,     0.85786,     0.85886,     0.85986,     0.86086,     0.86186,     0.86286,     0.86386,\n",
              "           0.86486,     0.86587,     0.86687,     0.86787,     0.86887,     0.86987,     0.87087,     0.87187,     0.87287,     0.87387,     0.87487,     0.87588,     0.87688,     0.87788,     0.87888,     0.87988,     0.88088,     0.88188,     0.88288,     0.88388,     0.88488,     0.88589,     0.88689,     0.88789,\n",
              "           0.88889,     0.88989,     0.89089,     0.89189,     0.89289,     0.89389,     0.89489,      0.8959,      0.8969,      0.8979,      0.8989,      0.8999,      0.9009,      0.9019,      0.9029,      0.9039,      0.9049,     0.90591,     0.90691,     0.90791,     0.90891,     0.90991,     0.91091,     0.91191,\n",
              "           0.91291,     0.91391,     0.91491,     0.91592,     0.91692,     0.91792,     0.91892,     0.91992,     0.92092,     0.92192,     0.92292,     0.92392,     0.92492,     0.92593,     0.92693,     0.92793,     0.92893,     0.92993,     0.93093,     0.93193,     0.93293,     0.93393,     0.93493,     0.93594,\n",
              "           0.93694,     0.93794,     0.93894,     0.93994,     0.94094,     0.94194,     0.94294,     0.94394,     0.94494,     0.94595,     0.94695,     0.94795,     0.94895,     0.94995,     0.95095,     0.95195,     0.95295,     0.95395,     0.95495,     0.95596,     0.95696,     0.95796,     0.95896,     0.95996,\n",
              "           0.96096,     0.96196,     0.96296,     0.96396,     0.96496,     0.96597,     0.96697,     0.96797,     0.96897,     0.96997,     0.97097,     0.97197,     0.97297,     0.97397,     0.97497,     0.97598,     0.97698,     0.97798,     0.97898,     0.97998,     0.98098,     0.98198,     0.98298,     0.98398,\n",
              "           0.98498,     0.98599,     0.98699,     0.98799,     0.98899,     0.98999,     0.99099,     0.99199,     0.99299,     0.99399,     0.99499,       0.996,       0.997,       0.998,       0.999,           1]), array([[    0.98875,     0.98875,     0.98875,      0.9865,     0.98313,       0.982,       0.982,     0.97975,     0.97975,     0.97975,     0.97975,     0.97863,     0.97638,     0.97525,     0.97413,     0.97413,     0.96963,     0.96963,     0.96963,     0.96963,      0.9685,      0.9685,      0.9685,\n",
              "            0.96632,     0.96513,     0.96513,     0.96513,       0.964,       0.964,       0.964,     0.96288,     0.96175,     0.95951,     0.95726,     0.95726,     0.95613,     0.95501,     0.95501,     0.95372,     0.95163,     0.95163,     0.95163,     0.95051,     0.94938,     0.94826,     0.94601,\n",
              "            0.94473,     0.94376,     0.94263,     0.94263,     0.94263,     0.94263,     0.94038,     0.93926,     0.93701,     0.93588,     0.93588,     0.93476,     0.93363,     0.93363,     0.93251,     0.93251,     0.93251,     0.93251,     0.93026,     0.92913,     0.92913,     0.92801,     0.92576,\n",
              "            0.92463,     0.92126,     0.92126,     0.92126,     0.92126,     0.92126,     0.91676,     0.91676,     0.91676,     0.91676,     0.91676,     0.91676,     0.91676,     0.91676,     0.91451,     0.91451,     0.91451,     0.91339,     0.91226,     0.91226,     0.91226,     0.91226,     0.91226,\n",
              "             0.9111,     0.91033,     0.90776,     0.90776,     0.90776,     0.90776,     0.90776,     0.90776,     0.90664,     0.90664,     0.90664,     0.90528,     0.90326,     0.90326,     0.90214,     0.89876,     0.89764,     0.89764,     0.89501,     0.89314,     0.89314,     0.89278,     0.89201,\n",
              "            0.89097,     0.88976,     0.88976,     0.88864,     0.88864,     0.88779,     0.88639,     0.88639,     0.88587,     0.88436,     0.88414,      0.8833,     0.88189,     0.88111,     0.87964,     0.87852,     0.87739,     0.87739,     0.87739,      0.8754,     0.87415,     0.87289,     0.87064,\n",
              "            0.86952,       0.869,     0.86727,     0.86531,     0.86293,     0.86223,     0.86165,     0.86164,     0.86164,     0.86102,     0.85939,     0.85935,     0.85888,     0.85842,     0.85702,     0.85631,     0.85377,     0.85264,     0.85264,     0.85264,     0.85264,     0.85127,     0.85072,\n",
              "            0.85039,     0.85039,     0.84814,     0.84589,     0.84566,     0.84362,     0.84259,     0.84252,     0.84188,     0.84027,     0.84027,     0.84027,     0.83998,     0.83932,     0.83866,      0.8369,      0.8369,     0.83352,     0.83198,     0.82902,     0.82902,     0.82809,     0.82715,\n",
              "            0.82677,     0.82677,     0.82514,     0.82442,     0.82258,     0.82227,     0.81979,     0.81777,     0.81497,     0.81102,     0.81102,     0.81023,     0.80877,     0.80877,     0.80877,     0.80877,     0.80798,     0.80315,     0.80238,      0.8009,      0.8009,     0.79898,     0.79865,\n",
              "            0.79865,     0.79748,      0.7969,     0.79415,     0.79303,     0.79175,     0.79091,     0.79059,     0.78975,     0.78825,      0.7864,     0.78628,     0.78596,     0.78541,     0.78515,     0.78505,     0.78447,      0.7829,      0.7829,      0.7829,      0.7829,     0.78228,     0.78163,\n",
              "            0.78121,     0.78079,     0.78065,     0.77953,      0.7784,     0.77605,     0.77529,     0.77161,     0.77084,     0.76849,     0.76756,     0.76715,     0.76603,     0.76603,     0.76512,     0.76358,     0.76265,     0.76265,     0.76265,     0.76265,     0.76265,     0.76188,     0.76153,\n",
              "            0.75916,     0.75762,     0.75703,     0.75591,     0.75591,     0.75591,     0.75591,     0.75591,     0.75555,     0.75509,     0.75478,     0.75387,     0.75187,     0.75028,     0.74916,     0.74854,     0.74786,     0.74709,     0.74691,     0.74691,     0.74691,     0.74691,     0.74671,\n",
              "            0.74578,     0.74578,     0.74466,     0.74466,     0.74466,     0.74353,     0.74293,     0.74241,     0.74241,     0.74081,     0.74016,     0.73967,     0.73903,     0.73903,     0.73791,     0.73791,     0.73678,      0.7336,       0.731,     0.72848,     0.72717,     0.72451,     0.72195,\n",
              "            0.72173,     0.72152,      0.7213,     0.72108,     0.72041,     0.71968,     0.71902,     0.71879,     0.71742,     0.71707,     0.71671,     0.71654,     0.71654,     0.71654,     0.71654,     0.71613,     0.71429,     0.71429,     0.71429,     0.71367,     0.71316,     0.71165,     0.71031,\n",
              "            0.70895,     0.70772,     0.70634,     0.70568,     0.70529,     0.70529,     0.70529,     0.70306,     0.70079,     0.70047,     0.69727,     0.69681,     0.69635,     0.69417,     0.69302,      0.6928,     0.69214,     0.69124,     0.68897,     0.68841,     0.68841,     0.68616,     0.68604,\n",
              "            0.68383,     0.68317,     0.68139,     0.68073,     0.67859,     0.67717,     0.67717,     0.67708,     0.67379,     0.67226,     0.67129,     0.67064,     0.66929,     0.66823,     0.66706,     0.66592,     0.66592,     0.66592,     0.66542,     0.66479,     0.66479,     0.66293,     0.66254,\n",
              "            0.66034,     0.65919,     0.65692,     0.65692,     0.65692,     0.65642,     0.65511,     0.65395,     0.65312,     0.65246,     0.65242,     0.65242,     0.65129,     0.65087,     0.65045,     0.64979,     0.64639,     0.64397,     0.64268,     0.64152,     0.63965,     0.63907,     0.63892,\n",
              "             0.6378,     0.63773,     0.63667,     0.63663,     0.63621,     0.63579,     0.63418,      0.6336,     0.63217,     0.63084,     0.63042,        0.63,      0.6288,      0.6288,     0.62767,     0.62665,     0.62409,     0.62305,     0.62248,     0.62175,      0.6206,     0.61945,     0.61846,\n",
              "             0.6178,     0.61346,     0.61305,     0.61228,      0.6108,     0.60997,     0.60945,     0.60914,     0.60883,     0.60742,      0.6073,     0.60615,     0.60499,     0.60272,      0.6018,     0.60153,     0.60053,     0.59995,     0.59946,     0.59915,     0.59884,     0.59853,     0.59705,\n",
              "            0.59667,     0.59628,     0.59576,     0.59519,     0.59363,     0.59325,     0.59286,      0.5928,      0.5928,      0.5928,     0.59175,     0.59019,     0.58981,      0.5883,     0.58718,     0.58718,     0.58605,     0.58364,     0.58224,     0.58109,     0.57994,     0.57653,     0.57426,\n",
              "            0.57198,     0.57083,     0.56918,     0.56852,     0.56805,     0.56805,     0.56731,     0.56616,     0.56275,     0.56202,     0.56144,     0.55974,     0.55916,     0.55811,     0.55584,     0.55243,     0.55128,     0.55013,     0.54952,     0.54894,     0.54554,     0.54214,     0.53986,\n",
              "            0.53871,     0.53656,     0.53656,     0.53543,     0.53543,     0.53543,     0.53543,     0.53514,     0.53318,     0.53318,     0.53318,     0.53318,     0.53318,     0.53318,     0.53269,     0.53154,     0.52926,     0.52586,     0.52358,     0.52018,     0.51744,     0.51744,     0.51744,\n",
              "            0.51444,     0.51181,     0.50956,     0.50873,     0.50758,      0.5053,     0.50415,     0.50299,     0.50184,     0.50069,     0.50005,     0.49947,     0.49723,     0.49608,      0.4938,     0.48931,     0.48929,     0.48891,     0.48852,     0.48803,     0.48688,     0.48573,     0.48469,\n",
              "            0.48412,     0.48354,     0.48296,     0.48245,     0.48206,     0.48168,       0.481,     0.48031,     0.47807,     0.47754,     0.47571,     0.47548,     0.47524,     0.47501,     0.47478,     0.47334,     0.47295,     0.47257,     0.47167,     0.47051,     0.46936,     0.46821,      0.4675,\n",
              "            0.46692,     0.46475,     0.46312,     0.46273,     0.46235,     0.46161,     0.45868,     0.45811,     0.45724,     0.45557,     0.45557,     0.45557,     0.45557,     0.45485,      0.4537,     0.45068,      0.4501,     0.44911,     0.44748,     0.44719,      0.4469,     0.44661,      0.4456,\n",
              "            0.44332,     0.44285,     0.44247,     0.44208,     0.43871,     0.43418,     0.43298,     0.43131,     0.42903,     0.42676,     0.42614,     0.42585,     0.42557,     0.42528,     0.42478,      0.4242,     0.42318,     0.42203,     0.41975,     0.41827,     0.41806,     0.41785,     0.41764,\n",
              "            0.41743,     0.41677,     0.41449,     0.41334,     0.40994,     0.40879,     0.40685,     0.40628,     0.40533,     0.40136,      0.3947,     0.39413,      0.3936,     0.39322,     0.39283,     0.39219,     0.38992,     0.38583,     0.38583,     0.38583,     0.38583,     0.38471,     0.38243,\n",
              "            0.37903,     0.37792,     0.37734,     0.37657,     0.37498,     0.37083,     0.37025,     0.36815,     0.36475,     0.36359,     0.36019,     0.35735,      0.3562,     0.35504,     0.35411,     0.35353,     0.35221,     0.35154,     0.35096,     0.34926,     0.34869,     0.34823,     0.34777,\n",
              "            0.34611,     0.34553,     0.34346,     0.34118,      0.3403,     0.33944,     0.33716,     0.33601,     0.33497,      0.3342,     0.33198,     0.33083,     0.32855,     0.32628,     0.32548,     0.32116,     0.32058,     0.32058,     0.32051,     0.31943,     0.31904,     0.31866,     0.31821,\n",
              "            0.31744,     0.31609,     0.31609,     0.31462,     0.31415,     0.31235,     0.30969,     0.30836,     0.30781,     0.30735,     0.30659,     0.30544,     0.30447,      0.3037,     0.30313,     0.30139,     0.29917,     0.29871,     0.29825,     0.29734,      0.2967,     0.29632,     0.29593,\n",
              "            0.29541,     0.29483,     0.29185,     0.29115,     0.29057,     0.28821,     0.28745,     0.28687,     0.28611,      0.2831,     0.28234,     0.28234,     0.28229,     0.28152,     0.27963,     0.27888,     0.27831,     0.27432,     0.27355,     0.27334,     0.27334,     0.27301,     0.27198,\n",
              "            0.27121,     0.26964,     0.26926,     0.26887,     0.26606,     0.26548,     0.26519,      0.2649,     0.26461,     0.26319,     0.26273,     0.26226,     0.25936,     0.25859,     0.25782,      0.2548,     0.25404,     0.25327,     0.25025,     0.24733,     0.24686,      0.2464,     0.24534,\n",
              "            0.24375,     0.24337,     0.24298,     0.24035,     0.23996,     0.23958,     0.23911,     0.23865,     0.23613,     0.23536,     0.23459,      0.2327,     0.23193,     0.22779,     0.22365,     0.22288,     0.22098,     0.22039,     0.22013,     0.21987,     0.21962,     0.21936,      0.2175,\n",
              "            0.21335,     0.21033,     0.20957,     0.20911,      0.2089,     0.20869,     0.20848,     0.20827,     0.20451,     0.20311,     0.19854,     0.19552,     0.19475,     0.19199,     0.19107,     0.19061,     0.19015,     0.18829,      0.1866,     0.18631,     0.18603,     0.18574,     0.18407,\n",
              "             0.1833,     0.18253,     0.18041,     0.17974,     0.17935,     0.17897,      0.1774,     0.17694,     0.17548,     0.17548,     0.17231,     0.16962,     0.16933,     0.16904,     0.16875,     0.16802,     0.16708,     0.16386,     0.16308,     0.16082,     0.16005,     0.15973,     0.15814,\n",
              "            0.15619,     0.15293,     0.15264,     0.15236,     0.15207,     0.15155,     0.14826,     0.14749,     0.14416,     0.13995,     0.13791,     0.13564,     0.13498,     0.13498,     0.13498,     0.12934,     0.12857,     0.12759,     0.12459,     0.12413,     0.12365,     0.12308,     0.12142,\n",
              "            0.12109,     0.12076,     0.12043,     0.11834,     0.11749,     0.11547,     0.11249,     0.11092,     0.10639,     0.10428,     0.10351,     0.10124,    0.098964,    0.096686,    0.093283,     0.09213,    0.089853,    0.088754,    0.087986,    0.086173,    0.085219,    0.084835,     0.08445,\n",
              "           0.083469,    0.082316,    0.082115,     0.08001,    0.078857,    0.077704,    0.076551,    0.074273,    0.069749,    0.066318,     0.06381,    0.063233,    0.060742,    0.060742,     0.05664,     0.05474,    0.054164,    0.051494,    0.050526,    0.050142,    0.049757,    0.049349,    0.048888,\n",
              "           0.048427,    0.047696,    0.046769,    0.045616,    0.042808,    0.040498,    0.039364,    0.039076,    0.038787,    0.038499,    0.037029,     0.03626,    0.034115,    0.033432,    0.032971,    0.032065,    0.030627,    0.027787,    0.026271,    0.024588,    0.024396,    0.024204,    0.024012,\n",
              "           0.023819,    0.023627,    0.021375,    0.021142,    0.020912,    0.020681,     0.02045,    0.020217,    0.019961,    0.019704,    0.019448,    0.019192,    0.018562,    0.016719,    0.016143,    0.015603,    0.015142,     0.01468,     0.01395,    0.011011,    0.010434,   0.0090597,   0.0088585,\n",
              "          0.0087144,   0.0085703,   0.0084262,    0.008282,   0.0081379,   0.0079938,   0.0078253,   0.0075371,   0.0072488,   0.0069606,   0.0067184,   0.0066031,   0.0064878,   0.0063725,   0.0062572,   0.0061419,   0.0060266,   0.0059113,    0.005796,   0.0056807,    0.004473,   0.0032654,   0.0020654,\n",
              "          0.0017359,   0.0014065,           0,           0,           0,           0,           0,           0,           0,           0,           0,           0,           0,           0,           0,           0,           0,           0,           0,           0,           0,           0,           0,\n",
              "                  0,           0,           0,           0,           0,           0,           0,           0,           0,           0,           0,           0,           0,           0,           0,           0,           0,           0,           0,           0,           0,           0,           0,\n",
              "                  0,           0,           0,           0,           0,           0,           0,           0,           0,           0,           0]]), 'Confidence', 'Recall'], [array([          0,    0.001001,    0.002002,    0.003003,    0.004004,    0.005005,    0.006006,    0.007007,    0.008008,    0.009009,     0.01001,    0.011011,    0.012012,    0.013013,    0.014014,    0.015015,    0.016016,    0.017017,    0.018018,    0.019019,     0.02002,    0.021021,    0.022022,    0.023023,\n",
              "          0.024024,    0.025025,    0.026026,    0.027027,    0.028028,    0.029029,     0.03003,    0.031031,    0.032032,    0.033033,    0.034034,    0.035035,    0.036036,    0.037037,    0.038038,    0.039039,     0.04004,    0.041041,    0.042042,    0.043043,    0.044044,    0.045045,    0.046046,    0.047047,\n",
              "          0.048048,    0.049049,     0.05005,    0.051051,    0.052052,    0.053053,    0.054054,    0.055055,    0.056056,    0.057057,    0.058058,    0.059059,     0.06006,    0.061061,    0.062062,    0.063063,    0.064064,    0.065065,    0.066066,    0.067067,    0.068068,    0.069069,     0.07007,    0.071071,\n",
              "          0.072072,    0.073073,    0.074074,    0.075075,    0.076076,    0.077077,    0.078078,    0.079079,     0.08008,    0.081081,    0.082082,    0.083083,    0.084084,    0.085085,    0.086086,    0.087087,    0.088088,    0.089089,     0.09009,    0.091091,    0.092092,    0.093093,    0.094094,    0.095095,\n",
              "          0.096096,    0.097097,    0.098098,    0.099099,      0.1001,      0.1011,      0.1021,      0.1031,      0.1041,     0.10511,     0.10611,     0.10711,     0.10811,     0.10911,     0.11011,     0.11111,     0.11211,     0.11311,     0.11411,     0.11512,     0.11612,     0.11712,     0.11812,     0.11912,\n",
              "           0.12012,     0.12112,     0.12212,     0.12312,     0.12412,     0.12513,     0.12613,     0.12713,     0.12813,     0.12913,     0.13013,     0.13113,     0.13213,     0.13313,     0.13413,     0.13514,     0.13614,     0.13714,     0.13814,     0.13914,     0.14014,     0.14114,     0.14214,     0.14314,\n",
              "           0.14414,     0.14515,     0.14615,     0.14715,     0.14815,     0.14915,     0.15015,     0.15115,     0.15215,     0.15315,     0.15415,     0.15516,     0.15616,     0.15716,     0.15816,     0.15916,     0.16016,     0.16116,     0.16216,     0.16316,     0.16416,     0.16517,     0.16617,     0.16717,\n",
              "           0.16817,     0.16917,     0.17017,     0.17117,     0.17217,     0.17317,     0.17417,     0.17518,     0.17618,     0.17718,     0.17818,     0.17918,     0.18018,     0.18118,     0.18218,     0.18318,     0.18418,     0.18519,     0.18619,     0.18719,     0.18819,     0.18919,     0.19019,     0.19119,\n",
              "           0.19219,     0.19319,     0.19419,      0.1952,      0.1962,      0.1972,      0.1982,      0.1992,      0.2002,      0.2012,      0.2022,      0.2032,      0.2042,     0.20521,     0.20621,     0.20721,     0.20821,     0.20921,     0.21021,     0.21121,     0.21221,     0.21321,     0.21421,     0.21522,\n",
              "           0.21622,     0.21722,     0.21822,     0.21922,     0.22022,     0.22122,     0.22222,     0.22322,     0.22422,     0.22523,     0.22623,     0.22723,     0.22823,     0.22923,     0.23023,     0.23123,     0.23223,     0.23323,     0.23423,     0.23524,     0.23624,     0.23724,     0.23824,     0.23924,\n",
              "           0.24024,     0.24124,     0.24224,     0.24324,     0.24424,     0.24525,     0.24625,     0.24725,     0.24825,     0.24925,     0.25025,     0.25125,     0.25225,     0.25325,     0.25425,     0.25526,     0.25626,     0.25726,     0.25826,     0.25926,     0.26026,     0.26126,     0.26226,     0.26326,\n",
              "           0.26426,     0.26527,     0.26627,     0.26727,     0.26827,     0.26927,     0.27027,     0.27127,     0.27227,     0.27327,     0.27427,     0.27528,     0.27628,     0.27728,     0.27828,     0.27928,     0.28028,     0.28128,     0.28228,     0.28328,     0.28428,     0.28529,     0.28629,     0.28729,\n",
              "           0.28829,     0.28929,     0.29029,     0.29129,     0.29229,     0.29329,     0.29429,      0.2953,      0.2963,      0.2973,      0.2983,      0.2993,      0.3003,      0.3013,      0.3023,      0.3033,      0.3043,     0.30531,     0.30631,     0.30731,     0.30831,     0.30931,     0.31031,     0.31131,\n",
              "           0.31231,     0.31331,     0.31431,     0.31532,     0.31632,     0.31732,     0.31832,     0.31932,     0.32032,     0.32132,     0.32232,     0.32332,     0.32432,     0.32533,     0.32633,     0.32733,     0.32833,     0.32933,     0.33033,     0.33133,     0.33233,     0.33333,     0.33433,     0.33534,\n",
              "           0.33634,     0.33734,     0.33834,     0.33934,     0.34034,     0.34134,     0.34234,     0.34334,     0.34434,     0.34535,     0.34635,     0.34735,     0.34835,     0.34935,     0.35035,     0.35135,     0.35235,     0.35335,     0.35435,     0.35536,     0.35636,     0.35736,     0.35836,     0.35936,\n",
              "           0.36036,     0.36136,     0.36236,     0.36336,     0.36436,     0.36537,     0.36637,     0.36737,     0.36837,     0.36937,     0.37037,     0.37137,     0.37237,     0.37337,     0.37437,     0.37538,     0.37638,     0.37738,     0.37838,     0.37938,     0.38038,     0.38138,     0.38238,     0.38338,\n",
              "           0.38438,     0.38539,     0.38639,     0.38739,     0.38839,     0.38939,     0.39039,     0.39139,     0.39239,     0.39339,     0.39439,      0.3954,      0.3964,      0.3974,      0.3984,      0.3994,      0.4004,      0.4014,      0.4024,      0.4034,      0.4044,     0.40541,     0.40641,     0.40741,\n",
              "           0.40841,     0.40941,     0.41041,     0.41141,     0.41241,     0.41341,     0.41441,     0.41542,     0.41642,     0.41742,     0.41842,     0.41942,     0.42042,     0.42142,     0.42242,     0.42342,     0.42442,     0.42543,     0.42643,     0.42743,     0.42843,     0.42943,     0.43043,     0.43143,\n",
              "           0.43243,     0.43343,     0.43443,     0.43544,     0.43644,     0.43744,     0.43844,     0.43944,     0.44044,     0.44144,     0.44244,     0.44344,     0.44444,     0.44545,     0.44645,     0.44745,     0.44845,     0.44945,     0.45045,     0.45145,     0.45245,     0.45345,     0.45445,     0.45546,\n",
              "           0.45646,     0.45746,     0.45846,     0.45946,     0.46046,     0.46146,     0.46246,     0.46346,     0.46446,     0.46547,     0.46647,     0.46747,     0.46847,     0.46947,     0.47047,     0.47147,     0.47247,     0.47347,     0.47447,     0.47548,     0.47648,     0.47748,     0.47848,     0.47948,\n",
              "           0.48048,     0.48148,     0.48248,     0.48348,     0.48448,     0.48549,     0.48649,     0.48749,     0.48849,     0.48949,     0.49049,     0.49149,     0.49249,     0.49349,     0.49449,      0.4955,      0.4965,      0.4975,      0.4985,      0.4995,      0.5005,      0.5015,      0.5025,      0.5035,\n",
              "            0.5045,     0.50551,     0.50651,     0.50751,     0.50851,     0.50951,     0.51051,     0.51151,     0.51251,     0.51351,     0.51451,     0.51552,     0.51652,     0.51752,     0.51852,     0.51952,     0.52052,     0.52152,     0.52252,     0.52352,     0.52452,     0.52553,     0.52653,     0.52753,\n",
              "           0.52853,     0.52953,     0.53053,     0.53153,     0.53253,     0.53353,     0.53453,     0.53554,     0.53654,     0.53754,     0.53854,     0.53954,     0.54054,     0.54154,     0.54254,     0.54354,     0.54454,     0.54555,     0.54655,     0.54755,     0.54855,     0.54955,     0.55055,     0.55155,\n",
              "           0.55255,     0.55355,     0.55455,     0.55556,     0.55656,     0.55756,     0.55856,     0.55956,     0.56056,     0.56156,     0.56256,     0.56356,     0.56456,     0.56557,     0.56657,     0.56757,     0.56857,     0.56957,     0.57057,     0.57157,     0.57257,     0.57357,     0.57457,     0.57558,\n",
              "           0.57658,     0.57758,     0.57858,     0.57958,     0.58058,     0.58158,     0.58258,     0.58358,     0.58458,     0.58559,     0.58659,     0.58759,     0.58859,     0.58959,     0.59059,     0.59159,     0.59259,     0.59359,     0.59459,      0.5956,      0.5966,      0.5976,      0.5986,      0.5996,\n",
              "            0.6006,      0.6016,      0.6026,      0.6036,      0.6046,     0.60561,     0.60661,     0.60761,     0.60861,     0.60961,     0.61061,     0.61161,     0.61261,     0.61361,     0.61461,     0.61562,     0.61662,     0.61762,     0.61862,     0.61962,     0.62062,     0.62162,     0.62262,     0.62362,\n",
              "           0.62462,     0.62563,     0.62663,     0.62763,     0.62863,     0.62963,     0.63063,     0.63163,     0.63263,     0.63363,     0.63463,     0.63564,     0.63664,     0.63764,     0.63864,     0.63964,     0.64064,     0.64164,     0.64264,     0.64364,     0.64464,     0.64565,     0.64665,     0.64765,\n",
              "           0.64865,     0.64965,     0.65065,     0.65165,     0.65265,     0.65365,     0.65465,     0.65566,     0.65666,     0.65766,     0.65866,     0.65966,     0.66066,     0.66166,     0.66266,     0.66366,     0.66466,     0.66567,     0.66667,     0.66767,     0.66867,     0.66967,     0.67067,     0.67167,\n",
              "           0.67267,     0.67367,     0.67467,     0.67568,     0.67668,     0.67768,     0.67868,     0.67968,     0.68068,     0.68168,     0.68268,     0.68368,     0.68468,     0.68569,     0.68669,     0.68769,     0.68869,     0.68969,     0.69069,     0.69169,     0.69269,     0.69369,     0.69469,      0.6957,\n",
              "            0.6967,      0.6977,      0.6987,      0.6997,      0.7007,      0.7017,      0.7027,      0.7037,      0.7047,     0.70571,     0.70671,     0.70771,     0.70871,     0.70971,     0.71071,     0.71171,     0.71271,     0.71371,     0.71471,     0.71572,     0.71672,     0.71772,     0.71872,     0.71972,\n",
              "           0.72072,     0.72172,     0.72272,     0.72372,     0.72472,     0.72573,     0.72673,     0.72773,     0.72873,     0.72973,     0.73073,     0.73173,     0.73273,     0.73373,     0.73473,     0.73574,     0.73674,     0.73774,     0.73874,     0.73974,     0.74074,     0.74174,     0.74274,     0.74374,\n",
              "           0.74474,     0.74575,     0.74675,     0.74775,     0.74875,     0.74975,     0.75075,     0.75175,     0.75275,     0.75375,     0.75475,     0.75576,     0.75676,     0.75776,     0.75876,     0.75976,     0.76076,     0.76176,     0.76276,     0.76376,     0.76476,     0.76577,     0.76677,     0.76777,\n",
              "           0.76877,     0.76977,     0.77077,     0.77177,     0.77277,     0.77377,     0.77477,     0.77578,     0.77678,     0.77778,     0.77878,     0.77978,     0.78078,     0.78178,     0.78278,     0.78378,     0.78478,     0.78579,     0.78679,     0.78779,     0.78879,     0.78979,     0.79079,     0.79179,\n",
              "           0.79279,     0.79379,     0.79479,      0.7958,      0.7968,      0.7978,      0.7988,      0.7998,      0.8008,      0.8018,      0.8028,      0.8038,      0.8048,     0.80581,     0.80681,     0.80781,     0.80881,     0.80981,     0.81081,     0.81181,     0.81281,     0.81381,     0.81481,     0.81582,\n",
              "           0.81682,     0.81782,     0.81882,     0.81982,     0.82082,     0.82182,     0.82282,     0.82382,     0.82482,     0.82583,     0.82683,     0.82783,     0.82883,     0.82983,     0.83083,     0.83183,     0.83283,     0.83383,     0.83483,     0.83584,     0.83684,     0.83784,     0.83884,     0.83984,\n",
              "           0.84084,     0.84184,     0.84284,     0.84384,     0.84484,     0.84585,     0.84685,     0.84785,     0.84885,     0.84985,     0.85085,     0.85185,     0.85285,     0.85385,     0.85485,     0.85586,     0.85686,     0.85786,     0.85886,     0.85986,     0.86086,     0.86186,     0.86286,     0.86386,\n",
              "           0.86486,     0.86587,     0.86687,     0.86787,     0.86887,     0.86987,     0.87087,     0.87187,     0.87287,     0.87387,     0.87487,     0.87588,     0.87688,     0.87788,     0.87888,     0.87988,     0.88088,     0.88188,     0.88288,     0.88388,     0.88488,     0.88589,     0.88689,     0.88789,\n",
              "           0.88889,     0.88989,     0.89089,     0.89189,     0.89289,     0.89389,     0.89489,      0.8959,      0.8969,      0.8979,      0.8989,      0.8999,      0.9009,      0.9019,      0.9029,      0.9039,      0.9049,     0.90591,     0.90691,     0.90791,     0.90891,     0.90991,     0.91091,     0.91191,\n",
              "           0.91291,     0.91391,     0.91491,     0.91592,     0.91692,     0.91792,     0.91892,     0.91992,     0.92092,     0.92192,     0.92292,     0.92392,     0.92492,     0.92593,     0.92693,     0.92793,     0.92893,     0.92993,     0.93093,     0.93193,     0.93293,     0.93393,     0.93493,     0.93594,\n",
              "           0.93694,     0.93794,     0.93894,     0.93994,     0.94094,     0.94194,     0.94294,     0.94394,     0.94494,     0.94595,     0.94695,     0.94795,     0.94895,     0.94995,     0.95095,     0.95195,     0.95295,     0.95395,     0.95495,     0.95596,     0.95696,     0.95796,     0.95896,     0.95996,\n",
              "           0.96096,     0.96196,     0.96296,     0.96396,     0.96496,     0.96597,     0.96697,     0.96797,     0.96897,     0.96997,     0.97097,     0.97197,     0.97297,     0.97397,     0.97497,     0.97598,     0.97698,     0.97798,     0.97898,     0.97998,     0.98098,     0.98198,     0.98298,     0.98398,\n",
              "           0.98498,     0.98599,     0.98699,     0.98799,     0.98899,     0.98999,     0.99099,     0.99199,     0.99299,     0.99399,     0.99499,       0.996,       0.997,       0.998,       0.999,           1]), array([[          1,           1,           1,           1,           1,           1,           1,           1,           1,           1,           1,           1,           1,           1,           1,           1,           1,           1,           1,           1,           1,           1,           1,\n",
              "                  1,           1,           1,           1,           1,           1,           1,           1,           1,           1,           1,           1,           1,           1,           1,           1,           1,           1,           1,           1,           1,           1,           1,\n",
              "                  1,           1,           1,           1,           1,           1,           1,           1,           1,           1,           1,           1,           1,           1,           1,     0.98649,     0.98649,     0.98649,     0.98649,     0.98649,     0.98649,     0.98649,     0.98649,\n",
              "            0.98649,     0.98649,     0.98649,     0.98649,     0.98649,     0.98649,     0.98649,     0.98649,     0.98649,     0.98649,     0.98649,     0.98649,     0.98649,     0.98649,     0.98039,     0.98039,     0.98039,     0.98039,     0.98039,     0.98039,     0.98039,     0.98039,     0.98039,\n",
              "            0.98039,     0.98039,     0.98039,     0.98039,     0.98039,     0.98039,     0.98039,     0.98039,     0.98039,     0.98039,     0.98039,     0.98039,     0.98039,     0.98039,     0.98039,     0.98039,     0.98039,     0.98039,     0.98039,     0.98039,     0.98039,     0.97248,     0.97248,\n",
              "            0.97248,     0.97248,     0.97248,     0.97248,     0.97248,     0.96491,     0.96491,     0.96491,     0.96491,     0.96371,     0.96371,     0.96371,     0.96371,     0.96371,     0.96371,     0.96371,     0.96371,     0.96371,     0.96371,     0.96371,     0.96371,     0.96371,     0.96371,\n",
              "            0.96371,     0.96371,     0.96371,     0.96371,     0.96371,     0.96371,     0.96371,     0.96371,     0.96371,     0.96371,     0.96371,     0.96371,     0.96371,     0.96371,     0.96371,     0.96371,     0.96371,     0.96371,     0.96371,     0.96371,     0.96371,     0.96371,     0.96371,\n",
              "            0.96371,     0.96371,     0.96371,     0.96371,     0.96371,     0.96371,     0.96371,     0.96371,     0.96371,     0.96371,     0.96371,     0.96371,     0.96371,     0.96371,     0.96371,     0.96371,     0.96371,     0.96371,     0.96371,     0.96371,     0.96371,     0.96371,     0.96371,\n",
              "            0.96371,     0.96371,     0.96371,     0.96371,     0.96371,     0.96371,     0.96371,     0.96371,     0.96371,     0.96371,     0.96371,     0.96371,     0.96371,     0.96371,     0.96371,     0.96371,     0.96371,     0.96371,     0.96371,     0.96371,     0.96371,     0.96371,     0.96371,\n",
              "            0.96371,     0.96371,     0.96371,     0.96371,     0.96371,     0.96371,     0.96371,     0.96371,     0.96371,     0.96371,     0.96371,     0.96371,     0.96371,     0.96371,     0.96371,     0.96371,     0.96371,     0.96371,     0.96371,     0.96371,     0.96371,     0.96371,     0.96371,\n",
              "            0.96371,     0.96371,     0.96371,     0.96371,     0.96371,     0.96371,     0.96371,     0.96371,     0.96371,     0.96371,     0.96371,     0.96371,     0.96371,     0.96371,     0.96371,     0.96371,     0.96371,     0.96371,     0.96371,     0.96371,     0.96371,     0.96371,     0.96371,\n",
              "            0.96371,     0.96371,     0.96371,     0.96371,     0.96371,     0.96371,     0.96371,     0.96371,     0.96371,     0.96371,     0.96371,     0.96371,     0.96371,     0.96371,     0.96371,     0.96371,     0.96348,     0.96348,     0.96348,     0.96348,     0.96348,     0.96348,     0.96348,\n",
              "            0.96348,     0.96348,     0.96348,     0.96348,     0.96348,     0.96348,     0.96348,     0.96348,     0.96348,     0.96348,     0.96348,     0.96348,     0.96348,     0.96348,     0.96348,     0.96348,     0.96348,     0.96348,     0.96348,     0.96348,     0.96348,     0.96348,     0.96348,\n",
              "            0.96348,     0.96348,     0.96348,     0.96348,     0.96348,     0.96348,     0.96348,     0.96348,     0.96348,     0.96348,     0.96348,     0.96348,     0.96348,     0.96348,     0.96348,     0.96348,     0.96348,     0.96348,     0.96348,     0.96348,     0.96348,     0.96348,     0.96348,\n",
              "            0.96348,     0.96348,     0.96348,     0.96348,     0.96348,     0.96348,     0.96348,     0.96348,     0.96348,     0.96348,     0.96348,     0.96348,     0.96348,     0.96348,     0.96348,     0.96348,     0.96348,     0.96348,     0.96348,     0.96348,     0.96348,     0.96348,     0.96348,\n",
              "            0.96348,     0.96348,     0.96348,     0.96348,     0.96348,     0.96348,     0.96348,     0.96348,     0.96348,     0.96348,     0.96348,     0.96348,     0.96348,     0.96348,     0.96348,     0.96348,     0.96348,     0.96348,     0.96348,     0.96348,     0.96348,     0.96348,     0.96348,\n",
              "            0.96348,     0.96348,     0.96348,     0.96348,     0.96348,     0.96348,     0.96348,     0.96348,     0.96348,     0.96348,     0.96348,     0.96348,     0.96348,     0.96348,     0.96348,     0.96348,     0.96348,     0.96348,     0.96185,     0.96185,     0.96185,     0.96185,     0.96185,\n",
              "            0.96185,     0.96185,     0.96185,     0.96185,     0.96185,     0.96185,     0.96154,     0.96154,     0.96154,     0.96154,     0.96154,     0.96154,     0.96154,     0.96154,     0.96154,     0.96154,     0.96154,     0.96154,     0.96154,     0.96154,     0.96154,     0.96154,     0.96154,\n",
              "            0.96154,     0.96154,     0.96154,     0.96154,     0.96154,     0.96154,     0.96154,     0.96154,     0.96154,     0.96154,     0.96154,     0.96154,     0.96154,     0.96154,     0.96154,     0.96154,     0.96154,     0.96154,     0.96154,     0.96154,     0.96154,     0.96154,     0.96154,\n",
              "            0.96154,     0.96154,     0.96154,     0.96154,     0.96154,     0.96154,     0.96154,     0.96154,     0.96154,     0.96154,     0.96154,     0.96154,     0.96154,     0.95972,     0.95972,     0.95972,     0.95972,     0.95972,     0.95972,     0.95652,     0.95652,     0.95652,     0.95652,\n",
              "            0.95652,     0.95652,     0.95652,     0.95652,     0.95652,     0.95652,     0.95652,     0.95652,     0.95652,     0.95652,     0.95506,     0.95506,     0.95506,     0.95506,     0.95506,     0.95506,     0.95506,     0.95506,     0.95312,     0.95312,     0.95186,     0.95186,     0.95186,\n",
              "            0.95186,     0.95186,     0.95186,     0.95186,     0.95186,     0.95186,     0.94989,     0.94681,     0.94681,     0.94681,     0.94681,     0.94681,     0.94681,     0.94681,     0.94681,     0.94681,     0.94681,     0.94681,     0.94492,     0.94375,     0.94375,     0.94375,     0.94375,\n",
              "            0.94375,     0.94375,     0.94375,     0.94375,     0.94203,     0.94203,     0.93827,     0.93496,     0.93496,     0.93496,     0.93496,     0.93307,     0.93307,     0.93307,     0.93307,     0.93307,     0.93307,     0.93307,     0.93307,     0.93307,     0.93307,     0.93307,     0.93307,\n",
              "            0.93307,     0.93307,     0.93307,     0.93307,     0.92969,     0.92969,     0.92551,     0.92551,     0.92551,     0.92551,     0.92551,     0.92551,     0.92551,     0.92551,     0.92551,     0.92551,     0.92551,     0.92551,     0.92551,     0.92551,     0.92551,     0.92551,     0.92551,\n",
              "            0.92551,     0.92551,     0.92551,     0.92551,     0.92551,     0.92551,     0.92551,     0.92421,     0.92421,     0.92421,     0.92322,     0.92322,     0.92322,     0.92322,     0.92322,     0.92322,     0.92168,     0.92072,     0.92072,     0.92072,     0.92072,     0.92072,     0.92072,\n",
              "            0.91979,     0.91979,     0.91979,     0.91979,     0.91979,     0.91887,     0.91887,     0.91887,     0.91887,     0.91887,     0.91887,      0.9174,     0.91594,     0.91493,     0.91493,     0.91493,     0.91493,     0.91493,     0.91267,     0.91267,     0.91267,     0.91267,     0.91267,\n",
              "            0.91267,     0.90986,     0.90986,     0.90986,      0.9097,      0.9097,      0.9097,      0.9097,      0.9097,      0.9097,      0.9097,      0.9097,      0.9097,      0.9097,     0.90849,     0.90849,     0.90717,     0.90717,     0.90717,     0.90717,     0.90717,     0.90717,     0.90717,\n",
              "            0.90717,     0.90717,     0.90717,     0.90717,     0.90717,     0.90453,     0.90453,     0.90453,     0.90323,     0.90224,     0.90224,     0.90224,     0.89857,     0.89857,     0.89857,     0.89857,     0.89857,     0.89731,     0.89606,      0.8949,      0.8949,      0.8949,      0.8949,\n",
              "             0.8949,      0.8949,      0.8949,      0.8949,      0.8949,      0.8949,      0.8949,     0.89385,     0.89385,     0.88991,     0.88991,     0.88889,     0.88889,     0.88771,     0.88589,     0.88589,     0.88589,     0.88589,     0.88589,     0.88589,     0.88358,     0.88358,     0.88244,\n",
              "            0.87906,     0.87906,     0.87906,     0.87848,     0.87848,     0.87848,     0.87848,     0.87848,     0.87755,     0.87755,     0.87393,     0.87393,     0.87393,     0.87393,     0.87393,     0.87393,     0.87393,     0.87393,     0.87393,     0.87304,     0.87304,     0.87006,     0.87006,\n",
              "            0.87006,     0.87006,     0.87006,      0.8692,      0.8692,     0.86769,     0.86769,     0.86769,     0.86769,     0.86769,     0.86769,     0.86612,     0.86612,     0.86612,     0.86612,     0.86612,     0.86612,     0.86612,     0.86612,     0.86612,     0.86612,     0.86612,     0.86612,\n",
              "            0.86395,     0.86198,     0.86198,     0.86071,     0.86071,     0.86071,     0.86071,     0.86071,     0.86071,     0.86071,     0.86071,     0.86071,     0.86071,     0.86071,     0.86071,     0.86071,     0.86071,     0.86071,     0.86071,     0.86071,     0.86071,     0.86071,     0.86071,\n",
              "            0.86071,     0.85976,     0.85882,     0.85677,     0.85473,     0.85382,      0.8529,     0.85199,        0.85,        0.85,      0.8491,     0.84625,     0.84625,     0.84537,     0.84509,     0.84509,     0.84509,     0.84509,     0.84509,     0.84422,     0.83292,      0.8321,     0.83128,\n",
              "            0.82843,     0.82763,     0.82582,     0.82104,     0.82104,     0.82048,     0.82048,     0.81873,     0.81797,     0.81797,     0.81797,     0.81797,     0.81797,     0.81797,     0.81797,     0.81797,     0.81797,     0.81797,     0.81797,     0.81722,     0.81551,     0.81404,     0.81404,\n",
              "            0.81404,      0.8133,     0.81163,      0.8109,     0.80925,      0.8092,      0.8092,      0.8092,      0.8092,      0.8092,     0.80756,     0.80686,     0.80616,     0.80612,     0.80612,     0.80612,     0.80612,      0.8018,      0.8018,     0.80112,     0.79888,     0.79888,     0.79844,\n",
              "            0.79844,     0.79778,     0.79623,     0.78719,     0.78719,     0.78719,     0.78719,     0.78719,     0.78719,     0.78719,     0.78687,     0.78687,     0.78687,     0.78687,     0.78687,     0.78687,     0.78687,     0.78541,     0.78396,     0.78252,     0.78049,     0.78049,     0.78049,\n",
              "             0.7793,      0.7793,     0.77708,      0.7765,     0.77615,     0.77615,     0.77557,       0.775,       0.775,     0.77466,     0.77466,     0.76931,     0.76876,     0.76711,     0.76711,     0.76711,     0.76602,     0.76602,     0.76602,     0.76393,      0.7634,      0.7631,      0.7631,\n",
              "            0.75876,     0.75773,     0.75773,     0.75773,     0.75571,     0.75321,     0.75321,     0.75271,     0.75147,     0.74951,     0.74902,     0.74854,     0.74854,      0.7483,      0.7483,     0.74349,     0.74302,      0.7383,      0.7381,      0.7381,     0.73719,     0.73719,     0.73719,\n",
              "            0.73699,     0.73699,     0.73239,     0.72991,     0.72905,     0.72905,      0.7266,      0.7266,     0.72551,     0.72442,     0.72136,     0.72029,     0.71858,     0.71364,     0.71326,     0.71159,     0.70614,     0.70614,     0.70567,     0.70567,     0.70567,     0.70406,     0.70396,\n",
              "            0.70396,     0.70361,     0.70079,     0.70079,       0.698,     0.69705,     0.69072,     0.68216,     0.68216,     0.68216,     0.68013,     0.67529,     0.67529,     0.67444,     0.66969,     0.66941,     0.65382,     0.65382,     0.65304,      0.6528,     0.65152,     0.65152,      0.6472,\n",
              "             0.6472,      0.6472,     0.64697,     0.64498,     0.64498,     0.64425,     0.64152,     0.64152,     0.64109,     0.64109,     0.63062,     0.62755,     0.62547,     0.61923,     0.61721,     0.61567,     0.61567,     0.61369,     0.61172,     0.61111,     0.59957,     0.59602,     0.59419,\n",
              "            0.59197,     0.59142,     0.59142,     0.58964,     0.58787,     0.58287,     0.56893,     0.56893,     0.56808,     0.55534,     0.55346,     0.55346,     0.54522,     0.54447,     0.54027,     0.53682,     0.53342,     0.53172,      0.5135,     0.49768,     0.49768,     0.49595,     0.49482,\n",
              "            0.47331,     0.44519,     0.44347,     0.44347,     0.42562,     0.40763,     0.40763,     0.39982,     0.38827,     0.32244,     0.31566,     0.31397,     0.26466,     0.21078,     0.20005,     0.20005,     0.13684,    0.098017,     0.07516,    0.070149,    0.065138,    0.060128,    0.055117,\n",
              "           0.050106,    0.045096,    0.040085,    0.035074,    0.030064,    0.025053,    0.020043,    0.015032,    0.010021,   0.0050106,           0]]), 'Recall', 'Precision'], [array([          0,    0.001001,    0.002002,    0.003003,    0.004004,    0.005005,    0.006006,    0.007007,    0.008008,    0.009009,     0.01001,    0.011011,    0.012012,    0.013013,    0.014014,    0.015015,    0.016016,    0.017017,    0.018018,    0.019019,     0.02002,    0.021021,    0.022022,    0.023023,\n",
              "          0.024024,    0.025025,    0.026026,    0.027027,    0.028028,    0.029029,     0.03003,    0.031031,    0.032032,    0.033033,    0.034034,    0.035035,    0.036036,    0.037037,    0.038038,    0.039039,     0.04004,    0.041041,    0.042042,    0.043043,    0.044044,    0.045045,    0.046046,    0.047047,\n",
              "          0.048048,    0.049049,     0.05005,    0.051051,    0.052052,    0.053053,    0.054054,    0.055055,    0.056056,    0.057057,    0.058058,    0.059059,     0.06006,    0.061061,    0.062062,    0.063063,    0.064064,    0.065065,    0.066066,    0.067067,    0.068068,    0.069069,     0.07007,    0.071071,\n",
              "          0.072072,    0.073073,    0.074074,    0.075075,    0.076076,    0.077077,    0.078078,    0.079079,     0.08008,    0.081081,    0.082082,    0.083083,    0.084084,    0.085085,    0.086086,    0.087087,    0.088088,    0.089089,     0.09009,    0.091091,    0.092092,    0.093093,    0.094094,    0.095095,\n",
              "          0.096096,    0.097097,    0.098098,    0.099099,      0.1001,      0.1011,      0.1021,      0.1031,      0.1041,     0.10511,     0.10611,     0.10711,     0.10811,     0.10911,     0.11011,     0.11111,     0.11211,     0.11311,     0.11411,     0.11512,     0.11612,     0.11712,     0.11812,     0.11912,\n",
              "           0.12012,     0.12112,     0.12212,     0.12312,     0.12412,     0.12513,     0.12613,     0.12713,     0.12813,     0.12913,     0.13013,     0.13113,     0.13213,     0.13313,     0.13413,     0.13514,     0.13614,     0.13714,     0.13814,     0.13914,     0.14014,     0.14114,     0.14214,     0.14314,\n",
              "           0.14414,     0.14515,     0.14615,     0.14715,     0.14815,     0.14915,     0.15015,     0.15115,     0.15215,     0.15315,     0.15415,     0.15516,     0.15616,     0.15716,     0.15816,     0.15916,     0.16016,     0.16116,     0.16216,     0.16316,     0.16416,     0.16517,     0.16617,     0.16717,\n",
              "           0.16817,     0.16917,     0.17017,     0.17117,     0.17217,     0.17317,     0.17417,     0.17518,     0.17618,     0.17718,     0.17818,     0.17918,     0.18018,     0.18118,     0.18218,     0.18318,     0.18418,     0.18519,     0.18619,     0.18719,     0.18819,     0.18919,     0.19019,     0.19119,\n",
              "           0.19219,     0.19319,     0.19419,      0.1952,      0.1962,      0.1972,      0.1982,      0.1992,      0.2002,      0.2012,      0.2022,      0.2032,      0.2042,     0.20521,     0.20621,     0.20721,     0.20821,     0.20921,     0.21021,     0.21121,     0.21221,     0.21321,     0.21421,     0.21522,\n",
              "           0.21622,     0.21722,     0.21822,     0.21922,     0.22022,     0.22122,     0.22222,     0.22322,     0.22422,     0.22523,     0.22623,     0.22723,     0.22823,     0.22923,     0.23023,     0.23123,     0.23223,     0.23323,     0.23423,     0.23524,     0.23624,     0.23724,     0.23824,     0.23924,\n",
              "           0.24024,     0.24124,     0.24224,     0.24324,     0.24424,     0.24525,     0.24625,     0.24725,     0.24825,     0.24925,     0.25025,     0.25125,     0.25225,     0.25325,     0.25425,     0.25526,     0.25626,     0.25726,     0.25826,     0.25926,     0.26026,     0.26126,     0.26226,     0.26326,\n",
              "           0.26426,     0.26527,     0.26627,     0.26727,     0.26827,     0.26927,     0.27027,     0.27127,     0.27227,     0.27327,     0.27427,     0.27528,     0.27628,     0.27728,     0.27828,     0.27928,     0.28028,     0.28128,     0.28228,     0.28328,     0.28428,     0.28529,     0.28629,     0.28729,\n",
              "           0.28829,     0.28929,     0.29029,     0.29129,     0.29229,     0.29329,     0.29429,      0.2953,      0.2963,      0.2973,      0.2983,      0.2993,      0.3003,      0.3013,      0.3023,      0.3033,      0.3043,     0.30531,     0.30631,     0.30731,     0.30831,     0.30931,     0.31031,     0.31131,\n",
              "           0.31231,     0.31331,     0.31431,     0.31532,     0.31632,     0.31732,     0.31832,     0.31932,     0.32032,     0.32132,     0.32232,     0.32332,     0.32432,     0.32533,     0.32633,     0.32733,     0.32833,     0.32933,     0.33033,     0.33133,     0.33233,     0.33333,     0.33433,     0.33534,\n",
              "           0.33634,     0.33734,     0.33834,     0.33934,     0.34034,     0.34134,     0.34234,     0.34334,     0.34434,     0.34535,     0.34635,     0.34735,     0.34835,     0.34935,     0.35035,     0.35135,     0.35235,     0.35335,     0.35435,     0.35536,     0.35636,     0.35736,     0.35836,     0.35936,\n",
              "           0.36036,     0.36136,     0.36236,     0.36336,     0.36436,     0.36537,     0.36637,     0.36737,     0.36837,     0.36937,     0.37037,     0.37137,     0.37237,     0.37337,     0.37437,     0.37538,     0.37638,     0.37738,     0.37838,     0.37938,     0.38038,     0.38138,     0.38238,     0.38338,\n",
              "           0.38438,     0.38539,     0.38639,     0.38739,     0.38839,     0.38939,     0.39039,     0.39139,     0.39239,     0.39339,     0.39439,      0.3954,      0.3964,      0.3974,      0.3984,      0.3994,      0.4004,      0.4014,      0.4024,      0.4034,      0.4044,     0.40541,     0.40641,     0.40741,\n",
              "           0.40841,     0.40941,     0.41041,     0.41141,     0.41241,     0.41341,     0.41441,     0.41542,     0.41642,     0.41742,     0.41842,     0.41942,     0.42042,     0.42142,     0.42242,     0.42342,     0.42442,     0.42543,     0.42643,     0.42743,     0.42843,     0.42943,     0.43043,     0.43143,\n",
              "           0.43243,     0.43343,     0.43443,     0.43544,     0.43644,     0.43744,     0.43844,     0.43944,     0.44044,     0.44144,     0.44244,     0.44344,     0.44444,     0.44545,     0.44645,     0.44745,     0.44845,     0.44945,     0.45045,     0.45145,     0.45245,     0.45345,     0.45445,     0.45546,\n",
              "           0.45646,     0.45746,     0.45846,     0.45946,     0.46046,     0.46146,     0.46246,     0.46346,     0.46446,     0.46547,     0.46647,     0.46747,     0.46847,     0.46947,     0.47047,     0.47147,     0.47247,     0.47347,     0.47447,     0.47548,     0.47648,     0.47748,     0.47848,     0.47948,\n",
              "           0.48048,     0.48148,     0.48248,     0.48348,     0.48448,     0.48549,     0.48649,     0.48749,     0.48849,     0.48949,     0.49049,     0.49149,     0.49249,     0.49349,     0.49449,      0.4955,      0.4965,      0.4975,      0.4985,      0.4995,      0.5005,      0.5015,      0.5025,      0.5035,\n",
              "            0.5045,     0.50551,     0.50651,     0.50751,     0.50851,     0.50951,     0.51051,     0.51151,     0.51251,     0.51351,     0.51451,     0.51552,     0.51652,     0.51752,     0.51852,     0.51952,     0.52052,     0.52152,     0.52252,     0.52352,     0.52452,     0.52553,     0.52653,     0.52753,\n",
              "           0.52853,     0.52953,     0.53053,     0.53153,     0.53253,     0.53353,     0.53453,     0.53554,     0.53654,     0.53754,     0.53854,     0.53954,     0.54054,     0.54154,     0.54254,     0.54354,     0.54454,     0.54555,     0.54655,     0.54755,     0.54855,     0.54955,     0.55055,     0.55155,\n",
              "           0.55255,     0.55355,     0.55455,     0.55556,     0.55656,     0.55756,     0.55856,     0.55956,     0.56056,     0.56156,     0.56256,     0.56356,     0.56456,     0.56557,     0.56657,     0.56757,     0.56857,     0.56957,     0.57057,     0.57157,     0.57257,     0.57357,     0.57457,     0.57558,\n",
              "           0.57658,     0.57758,     0.57858,     0.57958,     0.58058,     0.58158,     0.58258,     0.58358,     0.58458,     0.58559,     0.58659,     0.58759,     0.58859,     0.58959,     0.59059,     0.59159,     0.59259,     0.59359,     0.59459,      0.5956,      0.5966,      0.5976,      0.5986,      0.5996,\n",
              "            0.6006,      0.6016,      0.6026,      0.6036,      0.6046,     0.60561,     0.60661,     0.60761,     0.60861,     0.60961,     0.61061,     0.61161,     0.61261,     0.61361,     0.61461,     0.61562,     0.61662,     0.61762,     0.61862,     0.61962,     0.62062,     0.62162,     0.62262,     0.62362,\n",
              "           0.62462,     0.62563,     0.62663,     0.62763,     0.62863,     0.62963,     0.63063,     0.63163,     0.63263,     0.63363,     0.63463,     0.63564,     0.63664,     0.63764,     0.63864,     0.63964,     0.64064,     0.64164,     0.64264,     0.64364,     0.64464,     0.64565,     0.64665,     0.64765,\n",
              "           0.64865,     0.64965,     0.65065,     0.65165,     0.65265,     0.65365,     0.65465,     0.65566,     0.65666,     0.65766,     0.65866,     0.65966,     0.66066,     0.66166,     0.66266,     0.66366,     0.66466,     0.66567,     0.66667,     0.66767,     0.66867,     0.66967,     0.67067,     0.67167,\n",
              "           0.67267,     0.67367,     0.67467,     0.67568,     0.67668,     0.67768,     0.67868,     0.67968,     0.68068,     0.68168,     0.68268,     0.68368,     0.68468,     0.68569,     0.68669,     0.68769,     0.68869,     0.68969,     0.69069,     0.69169,     0.69269,     0.69369,     0.69469,      0.6957,\n",
              "            0.6967,      0.6977,      0.6987,      0.6997,      0.7007,      0.7017,      0.7027,      0.7037,      0.7047,     0.70571,     0.70671,     0.70771,     0.70871,     0.70971,     0.71071,     0.71171,     0.71271,     0.71371,     0.71471,     0.71572,     0.71672,     0.71772,     0.71872,     0.71972,\n",
              "           0.72072,     0.72172,     0.72272,     0.72372,     0.72472,     0.72573,     0.72673,     0.72773,     0.72873,     0.72973,     0.73073,     0.73173,     0.73273,     0.73373,     0.73473,     0.73574,     0.73674,     0.73774,     0.73874,     0.73974,     0.74074,     0.74174,     0.74274,     0.74374,\n",
              "           0.74474,     0.74575,     0.74675,     0.74775,     0.74875,     0.74975,     0.75075,     0.75175,     0.75275,     0.75375,     0.75475,     0.75576,     0.75676,     0.75776,     0.75876,     0.75976,     0.76076,     0.76176,     0.76276,     0.76376,     0.76476,     0.76577,     0.76677,     0.76777,\n",
              "           0.76877,     0.76977,     0.77077,     0.77177,     0.77277,     0.77377,     0.77477,     0.77578,     0.77678,     0.77778,     0.77878,     0.77978,     0.78078,     0.78178,     0.78278,     0.78378,     0.78478,     0.78579,     0.78679,     0.78779,     0.78879,     0.78979,     0.79079,     0.79179,\n",
              "           0.79279,     0.79379,     0.79479,      0.7958,      0.7968,      0.7978,      0.7988,      0.7998,      0.8008,      0.8018,      0.8028,      0.8038,      0.8048,     0.80581,     0.80681,     0.80781,     0.80881,     0.80981,     0.81081,     0.81181,     0.81281,     0.81381,     0.81481,     0.81582,\n",
              "           0.81682,     0.81782,     0.81882,     0.81982,     0.82082,     0.82182,     0.82282,     0.82382,     0.82482,     0.82583,     0.82683,     0.82783,     0.82883,     0.82983,     0.83083,     0.83183,     0.83283,     0.83383,     0.83483,     0.83584,     0.83684,     0.83784,     0.83884,     0.83984,\n",
              "           0.84084,     0.84184,     0.84284,     0.84384,     0.84484,     0.84585,     0.84685,     0.84785,     0.84885,     0.84985,     0.85085,     0.85185,     0.85285,     0.85385,     0.85485,     0.85586,     0.85686,     0.85786,     0.85886,     0.85986,     0.86086,     0.86186,     0.86286,     0.86386,\n",
              "           0.86486,     0.86587,     0.86687,     0.86787,     0.86887,     0.86987,     0.87087,     0.87187,     0.87287,     0.87387,     0.87487,     0.87588,     0.87688,     0.87788,     0.87888,     0.87988,     0.88088,     0.88188,     0.88288,     0.88388,     0.88488,     0.88589,     0.88689,     0.88789,\n",
              "           0.88889,     0.88989,     0.89089,     0.89189,     0.89289,     0.89389,     0.89489,      0.8959,      0.8969,      0.8979,      0.8989,      0.8999,      0.9009,      0.9019,      0.9029,      0.9039,      0.9049,     0.90591,     0.90691,     0.90791,     0.90891,     0.90991,     0.91091,     0.91191,\n",
              "           0.91291,     0.91391,     0.91491,     0.91592,     0.91692,     0.91792,     0.91892,     0.91992,     0.92092,     0.92192,     0.92292,     0.92392,     0.92492,     0.92593,     0.92693,     0.92793,     0.92893,     0.92993,     0.93093,     0.93193,     0.93293,     0.93393,     0.93493,     0.93594,\n",
              "           0.93694,     0.93794,     0.93894,     0.93994,     0.94094,     0.94194,     0.94294,     0.94394,     0.94494,     0.94595,     0.94695,     0.94795,     0.94895,     0.94995,     0.95095,     0.95195,     0.95295,     0.95395,     0.95495,     0.95596,     0.95696,     0.95796,     0.95896,     0.95996,\n",
              "           0.96096,     0.96196,     0.96296,     0.96396,     0.96496,     0.96597,     0.96697,     0.96797,     0.96897,     0.96997,     0.97097,     0.97197,     0.97297,     0.97397,     0.97497,     0.97598,     0.97698,     0.97798,     0.97898,     0.97998,     0.98098,     0.98198,     0.98298,     0.98398,\n",
              "           0.98498,     0.98599,     0.98699,     0.98799,     0.98899,     0.98999,     0.99099,     0.99199,     0.99299,     0.99399,     0.99499,       0.996,       0.997,       0.998,       0.999,           1]), array([[    0.14597,     0.14597,     0.14597,     0.37095,     0.42074,     0.45588,     0.48371,     0.50596,     0.52468,     0.53923,     0.55364,     0.56335,     0.57448,     0.58574,     0.59561,       0.607,     0.61317,     0.61972,     0.62761,     0.63378,     0.64057,     0.64603,     0.65171,\n",
              "            0.65473,     0.65782,      0.6631,     0.66807,     0.67205,     0.67575,     0.68124,     0.68454,     0.68767,     0.69126,     0.69394,     0.69791,     0.70127,     0.70487,     0.70802,     0.71204,     0.71397,       0.717,     0.72086,     0.72414,     0.72557,     0.72757,     0.72899,\n",
              "            0.73021,     0.73157,     0.73223,     0.73479,     0.73738,     0.74009,     0.74103,     0.74217,     0.74473,     0.74583,     0.74813,     0.74953,     0.75012,     0.75176,     0.75356,     0.75384,     0.75522,     0.75701,     0.75807,     0.75878,      0.7601,     0.76025,     0.76056,\n",
              "            0.76057,     0.75977,     0.76086,     0.76128,     0.76211,     0.76276,     0.76188,     0.76314,     0.76415,     0.76569,     0.76684,     0.76767,     0.76972,     0.77196,      0.7722,     0.77317,     0.77438,     0.77496,     0.77478,      0.7763,     0.77715,     0.77744,     0.77773,\n",
              "            0.77894,     0.77853,     0.77767,     0.77822,      0.7795,     0.78004,     0.78099,     0.78285,     0.78319,      0.7843,     0.78569,     0.78635,     0.78708,     0.78793,      0.7895,     0.78838,     0.78827,     0.78907,     0.78789,     0.78792,     0.79046,     0.79102,     0.79166,\n",
              "            0.79123,     0.79273,      0.7941,     0.79368,     0.79468,      0.7943,     0.79456,     0.79495,     0.79607,     0.79606,     0.79658,     0.79629,     0.79771,     0.79733,     0.79731,     0.79823,     0.79801,     0.79902,     0.80013,     0.79953,     0.79925,     0.79924,     0.79819,\n",
              "            0.79928,     0.80055,     0.80188,     0.80183,     0.80134,     0.80138,     0.80105,     0.80147,     0.80191,     0.80196,     0.80192,     0.80229,     0.80203,     0.80177,     0.80267,     0.80227,      0.8022,     0.80242,     0.80363,     0.80448,     0.80475,     0.80411,      0.8038,\n",
              "            0.80373,       0.804,     0.80337,     0.80337,     0.80394,     0.80277,     0.80219,     0.80318,     0.80307,     0.80311,     0.80481,     0.80522,     0.80545,     0.80507,     0.80469,     0.80412,     0.80452,     0.80317,     0.80302,     0.80266,     0.80302,     0.80295,     0.80241,\n",
              "            0.80305,     0.80346,     0.80343,      0.8039,     0.80362,     0.80395,     0.80273,     0.80192,     0.80078,     0.79848,     0.79884,     0.79842,     0.79891,     0.79992,     0.80028,     0.80146,     0.80198,     0.80114,     0.80111,     0.80115,     0.80152,     0.80088,     0.80107,\n",
              "            0.80225,     0.80223,     0.80189,     0.80031,     0.80029,     0.80014,     0.79963,     0.80034,     0.79983,     0.79892,      0.7978,     0.79804,     0.79798,     0.79765,     0.79788,     0.79834,     0.79799,     0.79753,     0.79775,     0.79803,     0.79792,     0.79778,     0.79739,\n",
              "            0.79713,     0.79687,     0.79745,     0.79714,     0.79759,     0.79625,     0.79577,     0.79396,     0.79348,     0.79202,     0.79189,     0.79197,     0.79188,     0.79219,     0.79175,     0.79125,     0.79172,     0.79203,     0.79226,     0.79249,     0.79298,      0.7925,     0.79308,\n",
              "            0.79357,     0.79307,     0.79309,     0.79489,      0.7954,     0.79572,     0.79683,     0.79747,      0.7974,     0.79711,     0.79712,     0.79681,     0.79553,     0.79478,     0.79471,     0.79436,     0.79392,     0.79343,     0.79356,      0.7943,     0.79445,      0.7946,     0.79461,\n",
              "            0.79412,      0.7944,     0.79391,     0.79413,     0.79456,     0.79437,     0.79408,     0.79384,     0.79412,     0.79367,     0.79383,     0.79389,     0.79377,     0.79443,      0.7939,      0.7941,     0.79382,     0.79187,     0.79017,     0.78852,     0.78766,     0.78591,     0.78423,\n",
              "            0.78408,     0.78394,     0.78379,     0.78365,     0.78321,      0.7832,     0.78277,     0.78292,     0.78219,     0.78195,     0.78171,     0.78184,     0.78215,     0.78231,     0.78246,     0.78229,     0.78113,     0.78133,     0.78153,     0.78161,     0.78186,     0.78122,     0.78033,\n",
              "            0.77941,     0.77859,     0.77766,     0.77722,     0.77702,      0.7772,     0.77738,     0.77593,     0.77488,     0.77514,     0.77297,     0.77266,     0.77235,     0.77182,     0.77103,     0.77137,     0.77091,      0.7703,     0.76874,     0.76919,     0.76972,      0.7683,     0.76866,\n",
              "            0.76713,     0.76668,     0.76544,     0.76498,      0.7635,       0.763,     0.76349,       0.764,     0.76304,     0.76229,     0.76161,     0.76115,     0.76054,     0.75994,     0.75912,     0.75893,     0.75906,     0.75919,     0.75942,     0.75912,     0.75937,     0.75814,      0.7588,\n",
              "            0.75728,     0.75646,     0.75537,     0.75554,      0.7557,     0.75546,     0.75501,     0.75418,     0.75407,      0.7536,     0.75404,     0.75454,     0.75422,     0.75392,     0.75362,     0.75363,     0.75117,     0.74942,     0.74848,     0.74764,     0.74627,     0.74585,     0.74595,\n",
              "            0.74591,     0.74634,      0.7456,     0.74602,     0.74571,      0.7454,     0.74422,      0.7438,     0.74298,     0.74323,     0.74292,     0.74261,     0.74193,     0.74218,     0.74181,     0.74111,     0.74019,     0.73942,     0.73899,     0.73845,     0.73758,     0.73672,     0.73598,\n",
              "            0.73548,     0.73221,     0.73272,      0.7323,     0.73153,     0.73105,     0.73065,     0.73041,     0.73018,     0.72904,     0.72816,     0.72728,      0.7264,     0.72465,     0.72405,     0.72424,     0.72346,     0.72302,     0.72362,     0.72338,     0.72315,     0.72291,     0.72177,\n",
              "            0.72147,     0.72117,     0.72077,     0.72032,     0.71912,     0.71882,     0.71852,     0.71868,     0.71894,     0.71941,     0.71864,     0.71742,     0.71712,     0.71595,     0.71557,     0.71582,     0.71521,     0.71376,     0.71267,     0.71176,     0.71134,     0.70864,     0.70732,\n",
              "             0.7055,     0.70458,     0.70354,     0.70323,       0.703,     0.70325,     0.70274,     0.70182,     0.69907,     0.69897,      0.6985,     0.69712,     0.69665,     0.69629,     0.69443,     0.69165,     0.69071,     0.68976,     0.68926,     0.68879,     0.68599,     0.68317,     0.68128,\n",
              "            0.68032,     0.67855,      0.6788,      0.6781,     0.67835,     0.67865,     0.67915,     0.67927,     0.67777,     0.67814,     0.67824,     0.67834,     0.67844,     0.67854,     0.67818,     0.67721,     0.67529,     0.67241,     0.67047,     0.66757,      0.6655,     0.66585,      0.6661,\n",
              "            0.66361,     0.66311,     0.66166,     0.66108,     0.66007,     0.65808,     0.65708,     0.65607,     0.65505,     0.65452,     0.65444,     0.65393,     0.65195,     0.65093,     0.64892,      0.6459,     0.64634,     0.64599,     0.64565,     0.64521,     0.64418,     0.64315,     0.64222,\n",
              "             0.6417,     0.64118,     0.64066,     0.64019,     0.63985,      0.6395,     0.63889,     0.63846,     0.63691,     0.63671,     0.63504,     0.63482,     0.63461,      0.6344,     0.63419,     0.63287,     0.63252,     0.63217,     0.63134,     0.63029,      0.6297,     0.62864,     0.62799,\n",
              "            0.62746,     0.62545,     0.62394,     0.62359,     0.62323,     0.62255,     0.61982,     0.61928,     0.61847,     0.61703,     0.61728,     0.61752,     0.61776,     0.61717,     0.61609,     0.61325,     0.61271,     0.61224,     0.61069,     0.61042,     0.61015,     0.60987,     0.60891,\n",
              "            0.60674,     0.60629,     0.60593,     0.60556,     0.60233,     0.59797,     0.59681,      0.5952,     0.59298,     0.59077,     0.59017,     0.58989,      0.5896,     0.58932,     0.58884,     0.58827,     0.58727,     0.58614,      0.5839,     0.58244,     0.58223,     0.58203,     0.58182,\n",
              "            0.58161,     0.58096,      0.5787,     0.57756,     0.57462,     0.57347,     0.57153,     0.57095,        0.57,       0.566,     0.55969,      0.5591,     0.55856,     0.55816,     0.55777,     0.55712,     0.55478,     0.55061,     0.55074,     0.55087,       0.551,     0.54985,     0.54749,\n",
              "            0.54394,     0.54277,     0.54217,     0.54136,      0.5397,     0.53532,     0.53471,     0.53248,     0.52886,     0.52763,     0.52398,     0.52093,     0.51968,     0.51844,     0.51743,      0.5168,     0.51537,     0.51464,     0.51401,     0.51216,     0.51153,     0.51103,     0.51052,\n",
              "            0.50871,     0.50808,      0.5058,     0.50329,     0.50231,     0.50136,     0.49884,     0.49755,      0.4964,     0.49555,     0.49307,     0.49178,     0.48922,     0.48665,     0.48576,     0.48085,     0.48029,     0.48045,     0.48052,     0.47929,     0.47885,     0.47841,      0.4779,\n",
              "            0.47702,     0.47561,     0.47582,     0.47418,     0.47365,     0.47158,      0.4685,     0.46695,     0.46631,     0.46578,     0.46489,     0.46355,     0.46242,     0.46153,     0.46085,     0.45882,     0.45621,     0.45567,     0.45513,     0.45405,      0.4533,     0.45285,     0.45239,\n",
              "            0.45177,     0.45109,     0.44755,     0.44671,     0.44602,      0.4432,     0.44229,      0.4416,     0.44069,     0.43705,     0.43615,     0.43634,     0.43646,     0.43553,     0.43324,     0.43233,     0.43163,     0.42677,     0.42583,     0.42516,     0.42459,     0.42378,     0.42251,\n",
              "            0.42157,        0.42,     0.41953,     0.41905,     0.41557,     0.41485,     0.41448,     0.41412,     0.41376,     0.41199,     0.41141,     0.41083,      0.4072,     0.40623,     0.40526,     0.40145,     0.40048,     0.39951,     0.39567,     0.39194,     0.39135,     0.39076,     0.38939,\n",
              "            0.38735,     0.38685,     0.38636,     0.38296,     0.38246,     0.38196,     0.38136,     0.38076,     0.37748,     0.37648,     0.37548,       0.373,     0.37199,     0.36654,     0.36105,     0.36002,      0.3575,      0.3567,     0.35636,     0.35602,     0.35567,     0.35533,     0.35283,\n",
              "            0.34725,     0.34315,     0.34211,     0.34149,      0.3412,     0.34091,     0.34063,     0.34034,      0.3352,     0.33327,     0.32697,     0.32278,     0.32171,     0.31785,     0.31656,     0.31591,     0.31526,     0.31264,     0.31027,     0.30986,     0.30945,     0.30904,     0.30668,\n",
              "            0.30559,     0.30449,     0.30146,     0.30051,     0.29996,     0.29941,     0.29717,      0.2965,     0.29445,     0.29464,     0.29009,     0.28619,     0.28577,     0.28535,     0.28493,     0.28386,     0.28248,     0.27777,     0.27662,     0.27355,     0.27242,     0.27209,     0.26984,\n",
              "            0.26694,     0.26206,     0.26163,      0.2612,     0.26077,     0.25999,     0.25503,     0.25386,      0.2488,     0.24237,     0.23924,     0.23572,     0.23476,     0.23485,     0.23495,     0.22617,     0.22496,     0.22342,     0.21918,     0.21927,     0.21921,      0.2183,     0.21568,\n",
              "            0.21516,     0.21464,     0.21412,       0.211,     0.20965,     0.20641,     0.20169,     0.19928,     0.19193,     0.18848,     0.18722,     0.18349,     0.17974,     0.17596,      0.1703,     0.16837,     0.16455,      0.1627,     0.16141,     0.15834,     0.15673,     0.15608,     0.15543,\n",
              "            0.15376,     0.15179,     0.15159,     0.14801,     0.14603,     0.14405,     0.14207,     0.13813,     0.13027,     0.12426,     0.11984,     0.11882,     0.11444,     0.11451,     0.10721,      0.1038,     0.10276,    0.097945,    0.096192,    0.095495,    0.094798,    0.094056,    0.093218,\n",
              "            0.09238,     0.09105,     0.08936,    0.087253,    0.082101,    0.077844,    0.075746,    0.075212,    0.074678,    0.074144,    0.071413,    0.069983,    0.065978,    0.064701,    0.063837,    0.062137,    0.059434,    0.054072,    0.051198,    0.047996,     0.04763,    0.047263,    0.046897,\n",
              "            0.04653,    0.046164,    0.041856,    0.041409,    0.040967,    0.040524,    0.040081,    0.039632,     0.03914,    0.038647,    0.038154,    0.037661,    0.036447,    0.032889,    0.031773,    0.030726,    0.029831,    0.028936,    0.027516,    0.021782,    0.020653,    0.017957,    0.017562,\n",
              "           0.017278,    0.016995,    0.016712,    0.016428,    0.016144,    0.015861,    0.015529,    0.014961,    0.014393,    0.013825,    0.013347,     0.01312,    0.012892,    0.012664,    0.012437,    0.012209,    0.011981,    0.011753,    0.011525,    0.011297,   0.0089061,   0.0065095,   0.0041222,\n",
              "          0.0034659,   0.0028091,           0,           0,           0,           0,           0,           0,           0,           0,           0,           0,           0,           0,           0,           0,           0,           0,           0,           0,           0,           0,           0,\n",
              "                  0,           0,           0,           0,           0,           0,           0,           0,           0,           0,           0,           0,           0,           0,           0,           0,           0,           0,           0,           0,           0,           0,           0,\n",
              "                  0,           0,           0,           0,           0,           0,           0,           0,           0,           0,           0]]), 'Confidence', 'F1'], [array([          0,    0.001001,    0.002002,    0.003003,    0.004004,    0.005005,    0.006006,    0.007007,    0.008008,    0.009009,     0.01001,    0.011011,    0.012012,    0.013013,    0.014014,    0.015015,    0.016016,    0.017017,    0.018018,    0.019019,     0.02002,    0.021021,    0.022022,    0.023023,\n",
              "          0.024024,    0.025025,    0.026026,    0.027027,    0.028028,    0.029029,     0.03003,    0.031031,    0.032032,    0.033033,    0.034034,    0.035035,    0.036036,    0.037037,    0.038038,    0.039039,     0.04004,    0.041041,    0.042042,    0.043043,    0.044044,    0.045045,    0.046046,    0.047047,\n",
              "          0.048048,    0.049049,     0.05005,    0.051051,    0.052052,    0.053053,    0.054054,    0.055055,    0.056056,    0.057057,    0.058058,    0.059059,     0.06006,    0.061061,    0.062062,    0.063063,    0.064064,    0.065065,    0.066066,    0.067067,    0.068068,    0.069069,     0.07007,    0.071071,\n",
              "          0.072072,    0.073073,    0.074074,    0.075075,    0.076076,    0.077077,    0.078078,    0.079079,     0.08008,    0.081081,    0.082082,    0.083083,    0.084084,    0.085085,    0.086086,    0.087087,    0.088088,    0.089089,     0.09009,    0.091091,    0.092092,    0.093093,    0.094094,    0.095095,\n",
              "          0.096096,    0.097097,    0.098098,    0.099099,      0.1001,      0.1011,      0.1021,      0.1031,      0.1041,     0.10511,     0.10611,     0.10711,     0.10811,     0.10911,     0.11011,     0.11111,     0.11211,     0.11311,     0.11411,     0.11512,     0.11612,     0.11712,     0.11812,     0.11912,\n",
              "           0.12012,     0.12112,     0.12212,     0.12312,     0.12412,     0.12513,     0.12613,     0.12713,     0.12813,     0.12913,     0.13013,     0.13113,     0.13213,     0.13313,     0.13413,     0.13514,     0.13614,     0.13714,     0.13814,     0.13914,     0.14014,     0.14114,     0.14214,     0.14314,\n",
              "           0.14414,     0.14515,     0.14615,     0.14715,     0.14815,     0.14915,     0.15015,     0.15115,     0.15215,     0.15315,     0.15415,     0.15516,     0.15616,     0.15716,     0.15816,     0.15916,     0.16016,     0.16116,     0.16216,     0.16316,     0.16416,     0.16517,     0.16617,     0.16717,\n",
              "           0.16817,     0.16917,     0.17017,     0.17117,     0.17217,     0.17317,     0.17417,     0.17518,     0.17618,     0.17718,     0.17818,     0.17918,     0.18018,     0.18118,     0.18218,     0.18318,     0.18418,     0.18519,     0.18619,     0.18719,     0.18819,     0.18919,     0.19019,     0.19119,\n",
              "           0.19219,     0.19319,     0.19419,      0.1952,      0.1962,      0.1972,      0.1982,      0.1992,      0.2002,      0.2012,      0.2022,      0.2032,      0.2042,     0.20521,     0.20621,     0.20721,     0.20821,     0.20921,     0.21021,     0.21121,     0.21221,     0.21321,     0.21421,     0.21522,\n",
              "           0.21622,     0.21722,     0.21822,     0.21922,     0.22022,     0.22122,     0.22222,     0.22322,     0.22422,     0.22523,     0.22623,     0.22723,     0.22823,     0.22923,     0.23023,     0.23123,     0.23223,     0.23323,     0.23423,     0.23524,     0.23624,     0.23724,     0.23824,     0.23924,\n",
              "           0.24024,     0.24124,     0.24224,     0.24324,     0.24424,     0.24525,     0.24625,     0.24725,     0.24825,     0.24925,     0.25025,     0.25125,     0.25225,     0.25325,     0.25425,     0.25526,     0.25626,     0.25726,     0.25826,     0.25926,     0.26026,     0.26126,     0.26226,     0.26326,\n",
              "           0.26426,     0.26527,     0.26627,     0.26727,     0.26827,     0.26927,     0.27027,     0.27127,     0.27227,     0.27327,     0.27427,     0.27528,     0.27628,     0.27728,     0.27828,     0.27928,     0.28028,     0.28128,     0.28228,     0.28328,     0.28428,     0.28529,     0.28629,     0.28729,\n",
              "           0.28829,     0.28929,     0.29029,     0.29129,     0.29229,     0.29329,     0.29429,      0.2953,      0.2963,      0.2973,      0.2983,      0.2993,      0.3003,      0.3013,      0.3023,      0.3033,      0.3043,     0.30531,     0.30631,     0.30731,     0.30831,     0.30931,     0.31031,     0.31131,\n",
              "           0.31231,     0.31331,     0.31431,     0.31532,     0.31632,     0.31732,     0.31832,     0.31932,     0.32032,     0.32132,     0.32232,     0.32332,     0.32432,     0.32533,     0.32633,     0.32733,     0.32833,     0.32933,     0.33033,     0.33133,     0.33233,     0.33333,     0.33433,     0.33534,\n",
              "           0.33634,     0.33734,     0.33834,     0.33934,     0.34034,     0.34134,     0.34234,     0.34334,     0.34434,     0.34535,     0.34635,     0.34735,     0.34835,     0.34935,     0.35035,     0.35135,     0.35235,     0.35335,     0.35435,     0.35536,     0.35636,     0.35736,     0.35836,     0.35936,\n",
              "           0.36036,     0.36136,     0.36236,     0.36336,     0.36436,     0.36537,     0.36637,     0.36737,     0.36837,     0.36937,     0.37037,     0.37137,     0.37237,     0.37337,     0.37437,     0.37538,     0.37638,     0.37738,     0.37838,     0.37938,     0.38038,     0.38138,     0.38238,     0.38338,\n",
              "           0.38438,     0.38539,     0.38639,     0.38739,     0.38839,     0.38939,     0.39039,     0.39139,     0.39239,     0.39339,     0.39439,      0.3954,      0.3964,      0.3974,      0.3984,      0.3994,      0.4004,      0.4014,      0.4024,      0.4034,      0.4044,     0.40541,     0.40641,     0.40741,\n",
              "           0.40841,     0.40941,     0.41041,     0.41141,     0.41241,     0.41341,     0.41441,     0.41542,     0.41642,     0.41742,     0.41842,     0.41942,     0.42042,     0.42142,     0.42242,     0.42342,     0.42442,     0.42543,     0.42643,     0.42743,     0.42843,     0.42943,     0.43043,     0.43143,\n",
              "           0.43243,     0.43343,     0.43443,     0.43544,     0.43644,     0.43744,     0.43844,     0.43944,     0.44044,     0.44144,     0.44244,     0.44344,     0.44444,     0.44545,     0.44645,     0.44745,     0.44845,     0.44945,     0.45045,     0.45145,     0.45245,     0.45345,     0.45445,     0.45546,\n",
              "           0.45646,     0.45746,     0.45846,     0.45946,     0.46046,     0.46146,     0.46246,     0.46346,     0.46446,     0.46547,     0.46647,     0.46747,     0.46847,     0.46947,     0.47047,     0.47147,     0.47247,     0.47347,     0.47447,     0.47548,     0.47648,     0.47748,     0.47848,     0.47948,\n",
              "           0.48048,     0.48148,     0.48248,     0.48348,     0.48448,     0.48549,     0.48649,     0.48749,     0.48849,     0.48949,     0.49049,     0.49149,     0.49249,     0.49349,     0.49449,      0.4955,      0.4965,      0.4975,      0.4985,      0.4995,      0.5005,      0.5015,      0.5025,      0.5035,\n",
              "            0.5045,     0.50551,     0.50651,     0.50751,     0.50851,     0.50951,     0.51051,     0.51151,     0.51251,     0.51351,     0.51451,     0.51552,     0.51652,     0.51752,     0.51852,     0.51952,     0.52052,     0.52152,     0.52252,     0.52352,     0.52452,     0.52553,     0.52653,     0.52753,\n",
              "           0.52853,     0.52953,     0.53053,     0.53153,     0.53253,     0.53353,     0.53453,     0.53554,     0.53654,     0.53754,     0.53854,     0.53954,     0.54054,     0.54154,     0.54254,     0.54354,     0.54454,     0.54555,     0.54655,     0.54755,     0.54855,     0.54955,     0.55055,     0.55155,\n",
              "           0.55255,     0.55355,     0.55455,     0.55556,     0.55656,     0.55756,     0.55856,     0.55956,     0.56056,     0.56156,     0.56256,     0.56356,     0.56456,     0.56557,     0.56657,     0.56757,     0.56857,     0.56957,     0.57057,     0.57157,     0.57257,     0.57357,     0.57457,     0.57558,\n",
              "           0.57658,     0.57758,     0.57858,     0.57958,     0.58058,     0.58158,     0.58258,     0.58358,     0.58458,     0.58559,     0.58659,     0.58759,     0.58859,     0.58959,     0.59059,     0.59159,     0.59259,     0.59359,     0.59459,      0.5956,      0.5966,      0.5976,      0.5986,      0.5996,\n",
              "            0.6006,      0.6016,      0.6026,      0.6036,      0.6046,     0.60561,     0.60661,     0.60761,     0.60861,     0.60961,     0.61061,     0.61161,     0.61261,     0.61361,     0.61461,     0.61562,     0.61662,     0.61762,     0.61862,     0.61962,     0.62062,     0.62162,     0.62262,     0.62362,\n",
              "           0.62462,     0.62563,     0.62663,     0.62763,     0.62863,     0.62963,     0.63063,     0.63163,     0.63263,     0.63363,     0.63463,     0.63564,     0.63664,     0.63764,     0.63864,     0.63964,     0.64064,     0.64164,     0.64264,     0.64364,     0.64464,     0.64565,     0.64665,     0.64765,\n",
              "           0.64865,     0.64965,     0.65065,     0.65165,     0.65265,     0.65365,     0.65465,     0.65566,     0.65666,     0.65766,     0.65866,     0.65966,     0.66066,     0.66166,     0.66266,     0.66366,     0.66466,     0.66567,     0.66667,     0.66767,     0.66867,     0.66967,     0.67067,     0.67167,\n",
              "           0.67267,     0.67367,     0.67467,     0.67568,     0.67668,     0.67768,     0.67868,     0.67968,     0.68068,     0.68168,     0.68268,     0.68368,     0.68468,     0.68569,     0.68669,     0.68769,     0.68869,     0.68969,     0.69069,     0.69169,     0.69269,     0.69369,     0.69469,      0.6957,\n",
              "            0.6967,      0.6977,      0.6987,      0.6997,      0.7007,      0.7017,      0.7027,      0.7037,      0.7047,     0.70571,     0.70671,     0.70771,     0.70871,     0.70971,     0.71071,     0.71171,     0.71271,     0.71371,     0.71471,     0.71572,     0.71672,     0.71772,     0.71872,     0.71972,\n",
              "           0.72072,     0.72172,     0.72272,     0.72372,     0.72472,     0.72573,     0.72673,     0.72773,     0.72873,     0.72973,     0.73073,     0.73173,     0.73273,     0.73373,     0.73473,     0.73574,     0.73674,     0.73774,     0.73874,     0.73974,     0.74074,     0.74174,     0.74274,     0.74374,\n",
              "           0.74474,     0.74575,     0.74675,     0.74775,     0.74875,     0.74975,     0.75075,     0.75175,     0.75275,     0.75375,     0.75475,     0.75576,     0.75676,     0.75776,     0.75876,     0.75976,     0.76076,     0.76176,     0.76276,     0.76376,     0.76476,     0.76577,     0.76677,     0.76777,\n",
              "           0.76877,     0.76977,     0.77077,     0.77177,     0.77277,     0.77377,     0.77477,     0.77578,     0.77678,     0.77778,     0.77878,     0.77978,     0.78078,     0.78178,     0.78278,     0.78378,     0.78478,     0.78579,     0.78679,     0.78779,     0.78879,     0.78979,     0.79079,     0.79179,\n",
              "           0.79279,     0.79379,     0.79479,      0.7958,      0.7968,      0.7978,      0.7988,      0.7998,      0.8008,      0.8018,      0.8028,      0.8038,      0.8048,     0.80581,     0.80681,     0.80781,     0.80881,     0.80981,     0.81081,     0.81181,     0.81281,     0.81381,     0.81481,     0.81582,\n",
              "           0.81682,     0.81782,     0.81882,     0.81982,     0.82082,     0.82182,     0.82282,     0.82382,     0.82482,     0.82583,     0.82683,     0.82783,     0.82883,     0.82983,     0.83083,     0.83183,     0.83283,     0.83383,     0.83483,     0.83584,     0.83684,     0.83784,     0.83884,     0.83984,\n",
              "           0.84084,     0.84184,     0.84284,     0.84384,     0.84484,     0.84585,     0.84685,     0.84785,     0.84885,     0.84985,     0.85085,     0.85185,     0.85285,     0.85385,     0.85485,     0.85586,     0.85686,     0.85786,     0.85886,     0.85986,     0.86086,     0.86186,     0.86286,     0.86386,\n",
              "           0.86486,     0.86587,     0.86687,     0.86787,     0.86887,     0.86987,     0.87087,     0.87187,     0.87287,     0.87387,     0.87487,     0.87588,     0.87688,     0.87788,     0.87888,     0.87988,     0.88088,     0.88188,     0.88288,     0.88388,     0.88488,     0.88589,     0.88689,     0.88789,\n",
              "           0.88889,     0.88989,     0.89089,     0.89189,     0.89289,     0.89389,     0.89489,      0.8959,      0.8969,      0.8979,      0.8989,      0.8999,      0.9009,      0.9019,      0.9029,      0.9039,      0.9049,     0.90591,     0.90691,     0.90791,     0.90891,     0.90991,     0.91091,     0.91191,\n",
              "           0.91291,     0.91391,     0.91491,     0.91592,     0.91692,     0.91792,     0.91892,     0.91992,     0.92092,     0.92192,     0.92292,     0.92392,     0.92492,     0.92593,     0.92693,     0.92793,     0.92893,     0.92993,     0.93093,     0.93193,     0.93293,     0.93393,     0.93493,     0.93594,\n",
              "           0.93694,     0.93794,     0.93894,     0.93994,     0.94094,     0.94194,     0.94294,     0.94394,     0.94494,     0.94595,     0.94695,     0.94795,     0.94895,     0.94995,     0.95095,     0.95195,     0.95295,     0.95395,     0.95495,     0.95596,     0.95696,     0.95796,     0.95896,     0.95996,\n",
              "           0.96096,     0.96196,     0.96296,     0.96396,     0.96496,     0.96597,     0.96697,     0.96797,     0.96897,     0.96997,     0.97097,     0.97197,     0.97297,     0.97397,     0.97497,     0.97598,     0.97698,     0.97798,     0.97898,     0.97998,     0.98098,     0.98198,     0.98298,     0.98398,\n",
              "           0.98498,     0.98599,     0.98699,     0.98799,     0.98899,     0.98999,     0.99099,     0.99199,     0.99299,     0.99399,     0.99499,       0.996,       0.997,       0.998,       0.999,           1]), array([[   0.078829,    0.078829,    0.078829,     0.22878,     0.26797,     0.29715,     0.32149,     0.34159,     0.35888,     0.37263,     0.38654,     0.39626,     0.40775,     0.41919,     0.42959,     0.44155,     0.44883,     0.45588,     0.46448,     0.47127,     0.47909,     0.48522,     0.49166,\n",
              "            0.49568,     0.49956,     0.50566,     0.51148,     0.51648,     0.52086,     0.52741,     0.53172,     0.53586,     0.54094,     0.54497,     0.54988,     0.55443,     0.55934,     0.56332,     0.56889,      0.5721,     0.57601,     0.58101,     0.58571,     0.58802,     0.59109,     0.59384,\n",
              "            0.59598,     0.59819,     0.59953,     0.60297,     0.60646,     0.61013,     0.61238,     0.61442,     0.61891,     0.62093,     0.62412,     0.62658,     0.62792,     0.63021,     0.63327,     0.63367,     0.63562,     0.63815,     0.64073,      0.6423,     0.64418,     0.64494,     0.64649,\n",
              "            0.64705,     0.64756,     0.64915,     0.64975,     0.65134,     0.65249,     0.65349,     0.65533,     0.65683,     0.65912,     0.66082,     0.66205,     0.66511,     0.66846,     0.67002,     0.67149,     0.67332,     0.67481,     0.67517,     0.67747,     0.67876,     0.67921,     0.67965,\n",
              "            0.68215,     0.68197,     0.68209,     0.68295,     0.68491,     0.68576,     0.68723,     0.69011,      0.6913,     0.69303,     0.69521,     0.69691,     0.69873,     0.70008,     0.70324,     0.70353,     0.70404,     0.70532,     0.70506,     0.70628,     0.71039,     0.71151,     0.71304,\n",
              "            0.71302,     0.71624,     0.71847,     0.71853,     0.72017,      0.7201,     0.72146,     0.72211,     0.72431,      0.7253,     0.72631,     0.72641,     0.72897,     0.72888,     0.72985,     0.73217,     0.73259,     0.73429,     0.73617,     0.73655,     0.73697,     0.73785,     0.73767,\n",
              "            0.74037,     0.74291,     0.74649,     0.74787,     0.74881,     0.74939,     0.74927,        0.75,     0.75078,     0.75134,     0.75252,      0.7532,      0.7531,       0.753,     0.75568,     0.75553,      0.7574,     0.75867,     0.76085,     0.76236,     0.76285,     0.76281,      0.7627,\n",
              "            0.76282,      0.7633,     0.76401,     0.76583,     0.76706,     0.76663,     0.76641,     0.76829,     0.76862,     0.77005,     0.77317,     0.77393,      0.7746,     0.77446,     0.77433,     0.77479,     0.77552,     0.77592,     0.77699,     0.77892,      0.7796,      0.7803,      0.7801,\n",
              "            0.78166,     0.78243,     0.78385,     0.78539,     0.78579,     0.78643,     0.78636,     0.78667,     0.78708,     0.78631,     0.78702,     0.78695,     0.78928,     0.79125,     0.79196,     0.79427,     0.79608,     0.79803,     0.79873,     0.80028,     0.80102,     0.80164,     0.80237,\n",
              "            0.80474,     0.80589,     0.80578,      0.8054,     0.80653,     0.80753,     0.80737,     0.80916,     0.80899,      0.8087,     0.80834,     0.80896,     0.80919,     0.80908,     0.80982,     0.81089,     0.81077,     0.81151,     0.81197,     0.81255,     0.81315,     0.81391,     0.81379,\n",
              "            0.81371,     0.81363,     0.81499,     0.81556,     0.81774,     0.81752,     0.81737,     0.81763,     0.81748,     0.81703,     0.81782,     0.81844,     0.81953,     0.82021,     0.82031,       0.821,     0.82309,     0.82377,     0.82427,     0.82475,     0.82582,     0.82568,     0.82737,\n",
              "            0.83126,       0.832,     0.83276,     0.83812,     0.83925,     0.83997,     0.84243,     0.84388,     0.84416,     0.84408,      0.8445,     0.84493,     0.84458,     0.84488,     0.84615,     0.84614,     0.84603,     0.84589,     0.84642,     0.84812,     0.84846,     0.84881,     0.84907,\n",
              "            0.84916,      0.8498,     0.85015,     0.85065,     0.85164,     0.85266,      0.8528,     0.85292,     0.85357,     0.85465,     0.85589,     0.85669,     0.85727,      0.8588,     0.85909,     0.85955,     0.86042,     0.86019,     0.85976,     0.85935,     0.85913,     0.85868,     0.85825,\n",
              "            0.85822,     0.85818,     0.85814,     0.85811,     0.85799,     0.85902,     0.85891,     0.85963,      0.8598,     0.85974,     0.85968,     0.86024,       0.861,     0.86137,     0.86174,     0.86191,     0.86178,     0.86226,     0.86274,     0.86384,     0.86521,     0.86587,     0.86566,\n",
              "            0.86543,     0.86523,       0.865,     0.86489,       0.865,     0.86545,      0.8659,     0.86566,     0.86649,     0.86764,     0.86711,     0.86703,     0.86696,     0.86904,     0.86885,     0.87004,     0.86993,     0.86978,     0.86941,     0.87144,      0.8728,     0.87278,     0.87391,\n",
              "            0.87355,     0.87344,     0.87315,     0.87305,      0.8727,     0.87374,     0.87504,     0.87637,     0.87762,     0.87823,     0.87808,     0.87798,     0.87865,     0.87889,      0.8787,     0.88017,     0.88053,     0.88089,     0.88236,     0.88267,     0.88334,     0.88329,     0.88577,\n",
              "            0.88555,     0.88537,     0.88648,     0.88694,      0.8874,     0.88763,     0.88879,     0.88861,     0.88984,     0.88975,     0.89105,     0.89245,     0.89368,     0.89362,     0.89356,     0.89485,     0.89435,       0.894,     0.89381,     0.89364,     0.89336,     0.89327,     0.89386,\n",
              "            0.89595,      0.8973,     0.89727,     0.89857,     0.89851,     0.89845,     0.89822,     0.89813,     0.89862,     0.90206,       0.902,     0.90194,     0.90238,     0.90312,     0.90436,     0.90439,     0.90699,     0.90685,     0.90677,     0.90667,     0.90651,     0.90636,     0.90622,\n",
              "            0.90613,     0.90553,     0.90797,     0.90838,     0.90926,     0.90959,     0.90952,     0.90948,     0.90943,     0.90923,     0.90907,     0.90892,     0.90876,     0.90845,     0.90864,     0.90983,     0.90969,     0.90961,     0.91266,     0.91262,     0.91258,     0.91254,     0.91234,\n",
              "            0.91229,     0.91223,     0.91216,     0.91209,     0.91188,     0.91183,     0.91177,     0.91245,     0.91325,     0.91479,     0.91479,     0.91459,     0.91454,     0.91435,     0.91582,     0.91664,     0.91739,     0.91856,     0.91838,     0.91824,     0.91972,     0.91929,     0.92065,\n",
              "            0.92036,     0.92021,     0.92094,     0.92159,     0.92205,     0.92291,     0.92312,     0.92298,     0.92255,     0.92416,     0.92409,     0.92388,     0.92381,      0.9254,     0.92511,     0.92469,     0.92454,     0.92439,     0.92432,     0.92424,     0.92381,     0.92337,     0.92307,\n",
              "            0.92292,     0.92273,     0.92365,     0.92442,     0.92534,     0.92645,     0.92831,     0.92965,     0.92994,     0.93135,     0.93173,      0.9321,     0.93248,     0.93286,     0.93301,     0.93288,     0.93261,      0.9322,     0.93193,     0.93151,     0.93228,     0.93364,     0.93462,\n",
              "            0.93461,     0.94142,     0.94319,     0.94366,     0.94354,      0.9433,     0.94318,     0.94306,     0.94293,     0.94481,     0.94676,      0.9467,     0.94647,     0.94635,     0.94612,     0.94986,     0.95186,     0.95182,     0.95179,     0.95174,     0.95163,     0.95152,     0.95142,\n",
              "            0.95137,     0.95131,     0.95126,     0.95121,     0.95117,     0.95113,     0.95107,     0.95188,     0.95385,     0.95501,     0.95484,     0.95482,      0.9548,     0.95478,     0.95476,     0.95463,     0.95459,     0.95456,     0.95447,     0.95437,     0.95645,     0.95635,     0.95628,\n",
              "            0.95623,     0.95603,     0.95589,     0.95585,     0.95582,     0.95575,     0.95548,     0.95543,     0.95535,      0.9558,     0.95695,     0.95812,     0.95928,     0.95965,     0.95956,      0.9593,     0.95925,     0.96147,     0.96133,     0.96131,     0.96129,     0.96126,     0.96118,\n",
              "            0.96099,     0.96095,     0.96091,     0.96088,     0.96059,      0.9602,     0.96009,     0.95994,     0.95974,     0.95953,     0.95948,     0.95945,     0.95942,      0.9594,     0.95935,      0.9593,     0.95921,      0.9591,     0.95889,     0.95875,     0.95873,     0.95871,     0.95869,\n",
              "            0.95867,      0.9586,     0.95839,     0.95827,     0.96047,     0.96036,     0.96018,     0.96013,     0.96004,     0.95966,     0.96163,     0.96158,     0.96153,     0.96149,     0.96146,      0.9614,     0.96118,     0.96109,     0.96188,     0.96267,     0.96346,     0.96338,     0.96317,\n",
              "            0.96285,     0.96275,     0.96269,     0.96262,     0.96247,     0.96206,     0.96201,      0.9618,     0.96145,     0.96134,     0.96099,     0.96069,     0.96057,     0.96044,     0.96034,     0.96028,     0.96014,     0.96006,        0.96,     0.95981,     0.95975,      0.9597,     0.95965,\n",
              "            0.95946,      0.9594,     0.95916,      0.9589,      0.9588,      0.9587,     0.95843,     0.95829,     0.95817,     0.95808,     0.95781,     0.95767,     0.95739,      0.9571,       0.957,     0.95645,     0.95704,     0.95836,     0.95959,     0.95946,     0.95941,     0.95936,     0.95931,\n",
              "            0.95921,     0.96022,      0.9619,     0.96216,     0.96211,      0.9619,     0.96158,     0.96142,     0.96136,      0.9613,     0.96121,     0.96107,     0.96095,     0.96085,     0.96078,     0.96056,     0.96028,     0.96022,     0.96017,     0.96005,     0.95997,     0.95992,     0.95987,\n",
              "             0.9598,     0.95972,     0.95933,     0.95923,     0.95916,     0.95883,     0.95873,     0.95865,     0.95855,     0.95812,     0.95805,     0.95993,     0.96168,     0.96158,     0.96133,     0.96123,     0.96115,     0.96061,      0.9605,     0.96043,     0.96036,     0.96027,     0.96013,\n",
              "            0.96002,     0.96367,     0.96362,     0.96357,     0.96319,     0.96312,     0.96308,     0.96304,       0.963,     0.96281,     0.96274,     0.96268,     0.96228,     0.96217,     0.96206,     0.96162,     0.96151,      0.9614,     0.96095,      0.9605,     0.96043,     0.96036,      0.9602,\n",
              "            0.95995,     0.95988,     0.95982,      0.9594,     0.95934,     0.95927,      0.9592,     0.95912,      0.9587,     0.95857,     0.95844,     0.95811,     0.95798,     0.95725,     0.95648,     0.95634,     0.95598,     0.95587,     0.95582,     0.95577,     0.95572,     0.95567,      0.9553,\n",
              "            0.95447,     0.95384,     0.95368,     0.95358,     0.95354,     0.95349,     0.95345,      0.9534,     0.95258,     0.95227,     0.95122,      0.9505,     0.95031,     0.94963,      0.9494,     0.94928,     0.94916,     0.94868,     0.94824,     0.94817,     0.94809,     0.94801,     0.94756,\n",
              "            0.94735,     0.94714,     0.94655,     0.94636,     0.94625,     0.94614,     0.94569,     0.94555,     0.94616,     0.95013,     0.95006,      0.9493,     0.94922,     0.94913,     0.94905,     0.94884,     0.94856,      0.9476,     0.94736,     0.95301,     0.95279,     0.95656,     0.95879,\n",
              "            0.95829,     0.95743,     0.95736,     0.95728,      0.9572,     0.95706,     0.95614,     0.95592,     0.95494,     0.95364,     0.95298,     0.95222,     0.95337,     0.95652,     0.95966,     0.95798,     0.95773,     0.95742,     0.95852,     0.96196,     0.96489,     0.96473,     0.96427,\n",
              "            0.96417,     0.96408,     0.96399,     0.97227,     0.97208,      0.9716,      0.9744,     0.98012,     0.97929,     0.97888,     0.97873,     0.97826,     0.97777,     0.97726,     0.97645,     0.97616,     0.97557,     0.97528,     0.97507,     0.97456,     0.97428,     0.97417,     0.97405,\n",
              "            0.97375,      0.9734,     0.98447,     0.98614,     0.98594,     0.98573,     0.98552,     0.98508,     0.98413,     0.98332,     0.98268,     0.98252,     0.98724,     0.99656,           1,           1,           1,           1,           1,           1,           1,           1,           1,\n",
              "                  1,           1,           1,           1,           1,           1,           1,           1,           1,           1,           1,           1,           1,           1,           1,           1,           1,           1,           1,           1,           1,           1,           1,\n",
              "                  1,           1,           1,           1,           1,           1,           1,           1,           1,           1,           1,           1,           1,           1,           1,           1,           1,           1,           1,           1,           1,           1,           1,\n",
              "                  1,           1,           1,           1,           1,           1,           1,           1,           1,           1,           1,           1,           1,           1,           1,           1,           1,           1,           1,           1,           1,           1,           1,\n",
              "                  1,           1,           1,           1,           1,           1,           1,           1,           1,           1,           1,           1,           1,           1,           1,           1,           1,           1,           1,           1,           1,           1,           1,\n",
              "                  1,           1,           1,           1,           1,           1,           1,           1,           1,           1,           1,           1,           1,           1,           1,           1,           1,           1,           1,           1,           1,           1,           1,\n",
              "                  1,           1,           1,           1,           1,           1,           1,           1,           1,           1,           1]]), 'Confidence', 'Precision'], [array([          0,    0.001001,    0.002002,    0.003003,    0.004004,    0.005005,    0.006006,    0.007007,    0.008008,    0.009009,     0.01001,    0.011011,    0.012012,    0.013013,    0.014014,    0.015015,    0.016016,    0.017017,    0.018018,    0.019019,     0.02002,    0.021021,    0.022022,    0.023023,\n",
              "          0.024024,    0.025025,    0.026026,    0.027027,    0.028028,    0.029029,     0.03003,    0.031031,    0.032032,    0.033033,    0.034034,    0.035035,    0.036036,    0.037037,    0.038038,    0.039039,     0.04004,    0.041041,    0.042042,    0.043043,    0.044044,    0.045045,    0.046046,    0.047047,\n",
              "          0.048048,    0.049049,     0.05005,    0.051051,    0.052052,    0.053053,    0.054054,    0.055055,    0.056056,    0.057057,    0.058058,    0.059059,     0.06006,    0.061061,    0.062062,    0.063063,    0.064064,    0.065065,    0.066066,    0.067067,    0.068068,    0.069069,     0.07007,    0.071071,\n",
              "          0.072072,    0.073073,    0.074074,    0.075075,    0.076076,    0.077077,    0.078078,    0.079079,     0.08008,    0.081081,    0.082082,    0.083083,    0.084084,    0.085085,    0.086086,    0.087087,    0.088088,    0.089089,     0.09009,    0.091091,    0.092092,    0.093093,    0.094094,    0.095095,\n",
              "          0.096096,    0.097097,    0.098098,    0.099099,      0.1001,      0.1011,      0.1021,      0.1031,      0.1041,     0.10511,     0.10611,     0.10711,     0.10811,     0.10911,     0.11011,     0.11111,     0.11211,     0.11311,     0.11411,     0.11512,     0.11612,     0.11712,     0.11812,     0.11912,\n",
              "           0.12012,     0.12112,     0.12212,     0.12312,     0.12412,     0.12513,     0.12613,     0.12713,     0.12813,     0.12913,     0.13013,     0.13113,     0.13213,     0.13313,     0.13413,     0.13514,     0.13614,     0.13714,     0.13814,     0.13914,     0.14014,     0.14114,     0.14214,     0.14314,\n",
              "           0.14414,     0.14515,     0.14615,     0.14715,     0.14815,     0.14915,     0.15015,     0.15115,     0.15215,     0.15315,     0.15415,     0.15516,     0.15616,     0.15716,     0.15816,     0.15916,     0.16016,     0.16116,     0.16216,     0.16316,     0.16416,     0.16517,     0.16617,     0.16717,\n",
              "           0.16817,     0.16917,     0.17017,     0.17117,     0.17217,     0.17317,     0.17417,     0.17518,     0.17618,     0.17718,     0.17818,     0.17918,     0.18018,     0.18118,     0.18218,     0.18318,     0.18418,     0.18519,     0.18619,     0.18719,     0.18819,     0.18919,     0.19019,     0.19119,\n",
              "           0.19219,     0.19319,     0.19419,      0.1952,      0.1962,      0.1972,      0.1982,      0.1992,      0.2002,      0.2012,      0.2022,      0.2032,      0.2042,     0.20521,     0.20621,     0.20721,     0.20821,     0.20921,     0.21021,     0.21121,     0.21221,     0.21321,     0.21421,     0.21522,\n",
              "           0.21622,     0.21722,     0.21822,     0.21922,     0.22022,     0.22122,     0.22222,     0.22322,     0.22422,     0.22523,     0.22623,     0.22723,     0.22823,     0.22923,     0.23023,     0.23123,     0.23223,     0.23323,     0.23423,     0.23524,     0.23624,     0.23724,     0.23824,     0.23924,\n",
              "           0.24024,     0.24124,     0.24224,     0.24324,     0.24424,     0.24525,     0.24625,     0.24725,     0.24825,     0.24925,     0.25025,     0.25125,     0.25225,     0.25325,     0.25425,     0.25526,     0.25626,     0.25726,     0.25826,     0.25926,     0.26026,     0.26126,     0.26226,     0.26326,\n",
              "           0.26426,     0.26527,     0.26627,     0.26727,     0.26827,     0.26927,     0.27027,     0.27127,     0.27227,     0.27327,     0.27427,     0.27528,     0.27628,     0.27728,     0.27828,     0.27928,     0.28028,     0.28128,     0.28228,     0.28328,     0.28428,     0.28529,     0.28629,     0.28729,\n",
              "           0.28829,     0.28929,     0.29029,     0.29129,     0.29229,     0.29329,     0.29429,      0.2953,      0.2963,      0.2973,      0.2983,      0.2993,      0.3003,      0.3013,      0.3023,      0.3033,      0.3043,     0.30531,     0.30631,     0.30731,     0.30831,     0.30931,     0.31031,     0.31131,\n",
              "           0.31231,     0.31331,     0.31431,     0.31532,     0.31632,     0.31732,     0.31832,     0.31932,     0.32032,     0.32132,     0.32232,     0.32332,     0.32432,     0.32533,     0.32633,     0.32733,     0.32833,     0.32933,     0.33033,     0.33133,     0.33233,     0.33333,     0.33433,     0.33534,\n",
              "           0.33634,     0.33734,     0.33834,     0.33934,     0.34034,     0.34134,     0.34234,     0.34334,     0.34434,     0.34535,     0.34635,     0.34735,     0.34835,     0.34935,     0.35035,     0.35135,     0.35235,     0.35335,     0.35435,     0.35536,     0.35636,     0.35736,     0.35836,     0.35936,\n",
              "           0.36036,     0.36136,     0.36236,     0.36336,     0.36436,     0.36537,     0.36637,     0.36737,     0.36837,     0.36937,     0.37037,     0.37137,     0.37237,     0.37337,     0.37437,     0.37538,     0.37638,     0.37738,     0.37838,     0.37938,     0.38038,     0.38138,     0.38238,     0.38338,\n",
              "           0.38438,     0.38539,     0.38639,     0.38739,     0.38839,     0.38939,     0.39039,     0.39139,     0.39239,     0.39339,     0.39439,      0.3954,      0.3964,      0.3974,      0.3984,      0.3994,      0.4004,      0.4014,      0.4024,      0.4034,      0.4044,     0.40541,     0.40641,     0.40741,\n",
              "           0.40841,     0.40941,     0.41041,     0.41141,     0.41241,     0.41341,     0.41441,     0.41542,     0.41642,     0.41742,     0.41842,     0.41942,     0.42042,     0.42142,     0.42242,     0.42342,     0.42442,     0.42543,     0.42643,     0.42743,     0.42843,     0.42943,     0.43043,     0.43143,\n",
              "           0.43243,     0.43343,     0.43443,     0.43544,     0.43644,     0.43744,     0.43844,     0.43944,     0.44044,     0.44144,     0.44244,     0.44344,     0.44444,     0.44545,     0.44645,     0.44745,     0.44845,     0.44945,     0.45045,     0.45145,     0.45245,     0.45345,     0.45445,     0.45546,\n",
              "           0.45646,     0.45746,     0.45846,     0.45946,     0.46046,     0.46146,     0.46246,     0.46346,     0.46446,     0.46547,     0.46647,     0.46747,     0.46847,     0.46947,     0.47047,     0.47147,     0.47247,     0.47347,     0.47447,     0.47548,     0.47648,     0.47748,     0.47848,     0.47948,\n",
              "           0.48048,     0.48148,     0.48248,     0.48348,     0.48448,     0.48549,     0.48649,     0.48749,     0.48849,     0.48949,     0.49049,     0.49149,     0.49249,     0.49349,     0.49449,      0.4955,      0.4965,      0.4975,      0.4985,      0.4995,      0.5005,      0.5015,      0.5025,      0.5035,\n",
              "            0.5045,     0.50551,     0.50651,     0.50751,     0.50851,     0.50951,     0.51051,     0.51151,     0.51251,     0.51351,     0.51451,     0.51552,     0.51652,     0.51752,     0.51852,     0.51952,     0.52052,     0.52152,     0.52252,     0.52352,     0.52452,     0.52553,     0.52653,     0.52753,\n",
              "           0.52853,     0.52953,     0.53053,     0.53153,     0.53253,     0.53353,     0.53453,     0.53554,     0.53654,     0.53754,     0.53854,     0.53954,     0.54054,     0.54154,     0.54254,     0.54354,     0.54454,     0.54555,     0.54655,     0.54755,     0.54855,     0.54955,     0.55055,     0.55155,\n",
              "           0.55255,     0.55355,     0.55455,     0.55556,     0.55656,     0.55756,     0.55856,     0.55956,     0.56056,     0.56156,     0.56256,     0.56356,     0.56456,     0.56557,     0.56657,     0.56757,     0.56857,     0.56957,     0.57057,     0.57157,     0.57257,     0.57357,     0.57457,     0.57558,\n",
              "           0.57658,     0.57758,     0.57858,     0.57958,     0.58058,     0.58158,     0.58258,     0.58358,     0.58458,     0.58559,     0.58659,     0.58759,     0.58859,     0.58959,     0.59059,     0.59159,     0.59259,     0.59359,     0.59459,      0.5956,      0.5966,      0.5976,      0.5986,      0.5996,\n",
              "            0.6006,      0.6016,      0.6026,      0.6036,      0.6046,     0.60561,     0.60661,     0.60761,     0.60861,     0.60961,     0.61061,     0.61161,     0.61261,     0.61361,     0.61461,     0.61562,     0.61662,     0.61762,     0.61862,     0.61962,     0.62062,     0.62162,     0.62262,     0.62362,\n",
              "           0.62462,     0.62563,     0.62663,     0.62763,     0.62863,     0.62963,     0.63063,     0.63163,     0.63263,     0.63363,     0.63463,     0.63564,     0.63664,     0.63764,     0.63864,     0.63964,     0.64064,     0.64164,     0.64264,     0.64364,     0.64464,     0.64565,     0.64665,     0.64765,\n",
              "           0.64865,     0.64965,     0.65065,     0.65165,     0.65265,     0.65365,     0.65465,     0.65566,     0.65666,     0.65766,     0.65866,     0.65966,     0.66066,     0.66166,     0.66266,     0.66366,     0.66466,     0.66567,     0.66667,     0.66767,     0.66867,     0.66967,     0.67067,     0.67167,\n",
              "           0.67267,     0.67367,     0.67467,     0.67568,     0.67668,     0.67768,     0.67868,     0.67968,     0.68068,     0.68168,     0.68268,     0.68368,     0.68468,     0.68569,     0.68669,     0.68769,     0.68869,     0.68969,     0.69069,     0.69169,     0.69269,     0.69369,     0.69469,      0.6957,\n",
              "            0.6967,      0.6977,      0.6987,      0.6997,      0.7007,      0.7017,      0.7027,      0.7037,      0.7047,     0.70571,     0.70671,     0.70771,     0.70871,     0.70971,     0.71071,     0.71171,     0.71271,     0.71371,     0.71471,     0.71572,     0.71672,     0.71772,     0.71872,     0.71972,\n",
              "           0.72072,     0.72172,     0.72272,     0.72372,     0.72472,     0.72573,     0.72673,     0.72773,     0.72873,     0.72973,     0.73073,     0.73173,     0.73273,     0.73373,     0.73473,     0.73574,     0.73674,     0.73774,     0.73874,     0.73974,     0.74074,     0.74174,     0.74274,     0.74374,\n",
              "           0.74474,     0.74575,     0.74675,     0.74775,     0.74875,     0.74975,     0.75075,     0.75175,     0.75275,     0.75375,     0.75475,     0.75576,     0.75676,     0.75776,     0.75876,     0.75976,     0.76076,     0.76176,     0.76276,     0.76376,     0.76476,     0.76577,     0.76677,     0.76777,\n",
              "           0.76877,     0.76977,     0.77077,     0.77177,     0.77277,     0.77377,     0.77477,     0.77578,     0.77678,     0.77778,     0.77878,     0.77978,     0.78078,     0.78178,     0.78278,     0.78378,     0.78478,     0.78579,     0.78679,     0.78779,     0.78879,     0.78979,     0.79079,     0.79179,\n",
              "           0.79279,     0.79379,     0.79479,      0.7958,      0.7968,      0.7978,      0.7988,      0.7998,      0.8008,      0.8018,      0.8028,      0.8038,      0.8048,     0.80581,     0.80681,     0.80781,     0.80881,     0.80981,     0.81081,     0.81181,     0.81281,     0.81381,     0.81481,     0.81582,\n",
              "           0.81682,     0.81782,     0.81882,     0.81982,     0.82082,     0.82182,     0.82282,     0.82382,     0.82482,     0.82583,     0.82683,     0.82783,     0.82883,     0.82983,     0.83083,     0.83183,     0.83283,     0.83383,     0.83483,     0.83584,     0.83684,     0.83784,     0.83884,     0.83984,\n",
              "           0.84084,     0.84184,     0.84284,     0.84384,     0.84484,     0.84585,     0.84685,     0.84785,     0.84885,     0.84985,     0.85085,     0.85185,     0.85285,     0.85385,     0.85485,     0.85586,     0.85686,     0.85786,     0.85886,     0.85986,     0.86086,     0.86186,     0.86286,     0.86386,\n",
              "           0.86486,     0.86587,     0.86687,     0.86787,     0.86887,     0.86987,     0.87087,     0.87187,     0.87287,     0.87387,     0.87487,     0.87588,     0.87688,     0.87788,     0.87888,     0.87988,     0.88088,     0.88188,     0.88288,     0.88388,     0.88488,     0.88589,     0.88689,     0.88789,\n",
              "           0.88889,     0.88989,     0.89089,     0.89189,     0.89289,     0.89389,     0.89489,      0.8959,      0.8969,      0.8979,      0.8989,      0.8999,      0.9009,      0.9019,      0.9029,      0.9039,      0.9049,     0.90591,     0.90691,     0.90791,     0.90891,     0.90991,     0.91091,     0.91191,\n",
              "           0.91291,     0.91391,     0.91491,     0.91592,     0.91692,     0.91792,     0.91892,     0.91992,     0.92092,     0.92192,     0.92292,     0.92392,     0.92492,     0.92593,     0.92693,     0.92793,     0.92893,     0.92993,     0.93093,     0.93193,     0.93293,     0.93393,     0.93493,     0.93594,\n",
              "           0.93694,     0.93794,     0.93894,     0.93994,     0.94094,     0.94194,     0.94294,     0.94394,     0.94494,     0.94595,     0.94695,     0.94795,     0.94895,     0.94995,     0.95095,     0.95195,     0.95295,     0.95395,     0.95495,     0.95596,     0.95696,     0.95796,     0.95896,     0.95996,\n",
              "           0.96096,     0.96196,     0.96296,     0.96396,     0.96496,     0.96597,     0.96697,     0.96797,     0.96897,     0.96997,     0.97097,     0.97197,     0.97297,     0.97397,     0.97497,     0.97598,     0.97698,     0.97798,     0.97898,     0.97998,     0.98098,     0.98198,     0.98298,     0.98398,\n",
              "           0.98498,     0.98599,     0.98699,     0.98799,     0.98899,     0.98999,     0.99099,     0.99199,     0.99299,     0.99399,     0.99499,       0.996,       0.997,       0.998,       0.999,           1]), array([[    0.98425,     0.98425,     0.98425,     0.97975,     0.97863,     0.97863,     0.97638,     0.97525,     0.97525,     0.97525,     0.97525,     0.97413,     0.97188,     0.97188,     0.97075,     0.97075,     0.96738,     0.96738,     0.96738,     0.96738,     0.96625,     0.96625,     0.96625,\n",
              "            0.96407,     0.96288,     0.96288,     0.96288,     0.96175,     0.96175,     0.96175,     0.96063,     0.95951,     0.95726,     0.95501,     0.95501,     0.95388,     0.95276,     0.95276,     0.95147,     0.94938,     0.94938,     0.94938,     0.94826,     0.94713,     0.94601,     0.94376,\n",
              "            0.94248,     0.94151,     0.94038,     0.94038,     0.94038,     0.94038,     0.93813,     0.93701,     0.93476,     0.93363,     0.93363,     0.93251,     0.93138,     0.93138,     0.93026,     0.93026,     0.93026,     0.93026,     0.92801,     0.92688,     0.92688,     0.92576,     0.92351,\n",
              "            0.92238,     0.91901,     0.91901,     0.91901,     0.91828,     0.91789,     0.91339,     0.91339,     0.91339,     0.91339,     0.91339,     0.91339,     0.91339,     0.91339,     0.91114,     0.91114,     0.91114,     0.91001,     0.90889,     0.90889,     0.90889,     0.90889,     0.90889,\n",
              "            0.90772,     0.90695,     0.90439,     0.90439,     0.90439,     0.90439,     0.90439,     0.90439,     0.90326,     0.90326,     0.90326,     0.90214,     0.90101,     0.90101,     0.89989,     0.89651,     0.89539,     0.89539,     0.89276,     0.89089,     0.89089,     0.89053,     0.88976,\n",
              "            0.88872,     0.88751,     0.88751,     0.88639,     0.88639,     0.88554,     0.88414,     0.88414,     0.88362,     0.88211,     0.88189,     0.88105,     0.88076,     0.87999,     0.87852,     0.87739,     0.87627,     0.87627,     0.87627,     0.87428,     0.87303,     0.87177,     0.86952,\n",
              "            0.86839,     0.86788,     0.86614,     0.86418,      0.8618,     0.86111,     0.86053,     0.86052,     0.86052,     0.85989,     0.85827,     0.85822,     0.85776,      0.8573,     0.85589,     0.85518,     0.85264,     0.85152,     0.85152,     0.85152,     0.85152,     0.85014,      0.8496,\n",
              "            0.84927,     0.84927,     0.84702,     0.84477,     0.84454,     0.84249,     0.84147,     0.84139,     0.84076,     0.83915,     0.83915,     0.83915,     0.83885,     0.83819,     0.83754,     0.83577,     0.83577,      0.8324,     0.83086,      0.8279,      0.8279,     0.82697,     0.82603,\n",
              "            0.82565,     0.82565,     0.82402,      0.8233,     0.82227,     0.82227,     0.81979,     0.81777,     0.81497,     0.81102,     0.81102,     0.81023,     0.80877,     0.80877,     0.80877,     0.80877,     0.80798,     0.80427,      0.8035,     0.80202,     0.80202,     0.80011,     0.79978,\n",
              "            0.79978,     0.79861,     0.79803,     0.79528,     0.79415,     0.79288,     0.79204,     0.79171,     0.79087,     0.78937,     0.78753,      0.7874,     0.78708,     0.78654,     0.78628,     0.78618,      0.7856,     0.78403,     0.78403,     0.78403,     0.78325,     0.78228,     0.78163,\n",
              "            0.78121,     0.78079,     0.78065,     0.77953,      0.7784,     0.77605,     0.77529,     0.77161,     0.77084,     0.76849,     0.76756,     0.76715,     0.76603,     0.76603,     0.76512,     0.76358,     0.76265,     0.76265,     0.76265,     0.76265,     0.76265,     0.76188,     0.76153,\n",
              "            0.75916,     0.75762,     0.75703,     0.75591,     0.75591,     0.75591,     0.75591,     0.75591,     0.75555,     0.75509,     0.75478,     0.75387,     0.75187,     0.75028,     0.74916,     0.74854,     0.74786,     0.74709,     0.74691,     0.74691,     0.74691,     0.74691,     0.74671,\n",
              "            0.74578,     0.74578,     0.74466,     0.74466,     0.74466,     0.74353,     0.74293,     0.74241,     0.74241,     0.74081,     0.74016,     0.73967,     0.73903,     0.73903,     0.73791,     0.73791,     0.73678,      0.7336,       0.731,     0.72848,     0.72717,     0.72451,     0.72195,\n",
              "            0.72173,     0.72152,      0.7213,     0.72108,     0.72041,     0.71968,     0.71902,     0.71879,     0.71742,     0.71707,     0.71671,     0.71654,     0.71654,     0.71654,     0.71654,     0.71613,     0.71429,     0.71429,     0.71429,     0.71367,     0.71316,     0.71165,     0.71031,\n",
              "            0.70895,     0.70772,     0.70634,     0.70568,     0.70529,     0.70529,     0.70529,     0.70306,     0.70079,     0.70047,     0.69727,     0.69681,     0.69635,     0.69417,     0.69302,      0.6928,     0.69214,     0.69124,     0.68897,     0.68841,     0.68841,     0.68616,     0.68604,\n",
              "            0.68383,     0.68317,     0.68139,     0.68073,     0.67859,     0.67717,     0.67717,     0.67717,     0.67492,     0.67339,     0.67242,     0.67176,     0.67042,     0.66935,     0.66818,     0.66704,     0.66704,     0.66704,     0.66654,     0.66592,     0.66592,     0.66405,     0.66367,\n",
              "            0.66146,     0.66031,     0.65804,     0.65804,     0.65804,     0.65754,     0.65623,     0.65508,     0.65424,     0.65359,     0.65354,     0.65354,     0.65241,       0.652,     0.65158,     0.65092,     0.64751,     0.64509,      0.6438,     0.64265,     0.64077,     0.64019,     0.64004,\n",
              "            0.63892,     0.63885,      0.6378,     0.63775,     0.63733,     0.63691,      0.6353,     0.63472,      0.6333,     0.63196,     0.63154,     0.63112,     0.62992,     0.62992,      0.6288,     0.62777,     0.62521,     0.62418,      0.6236,     0.62288,     0.62173,     0.62057,     0.61958,\n",
              "            0.61892,     0.61458,     0.61417,      0.6134,     0.61192,      0.6111,     0.61057,     0.61026,     0.60996,     0.60845,      0.6073,     0.60615,     0.60499,     0.60272,      0.6018,     0.60153,     0.60053,     0.59995,     0.59946,     0.59915,     0.59884,     0.59853,     0.59705,\n",
              "            0.59667,     0.59628,     0.59576,     0.59519,     0.59363,     0.59325,     0.59286,      0.5928,      0.5928,      0.5928,     0.59175,     0.59019,     0.58981,      0.5883,     0.58718,     0.58718,     0.58605,     0.58364,     0.58224,     0.58109,     0.57994,     0.57653,     0.57426,\n",
              "            0.57198,     0.57083,     0.56918,     0.56852,     0.56805,     0.56805,     0.56731,     0.56616,     0.56275,     0.56202,     0.56144,     0.55974,     0.55916,     0.55811,     0.55584,     0.55243,     0.55128,     0.55013,     0.54952,     0.54894,     0.54554,     0.54214,     0.53986,\n",
              "            0.53871,     0.53656,     0.53656,     0.53543,     0.53543,     0.53543,     0.53543,     0.53514,     0.53318,     0.53318,     0.53318,     0.53318,     0.53318,     0.53318,     0.53269,     0.53154,     0.52926,     0.52586,     0.52358,     0.52018,     0.51744,     0.51744,     0.51744,\n",
              "            0.51444,     0.51181,     0.50956,     0.50873,     0.50758,      0.5053,     0.50415,     0.50299,     0.50184,     0.50069,     0.50005,     0.49947,     0.49723,     0.49608,      0.4938,     0.48931,     0.48929,     0.48891,     0.48852,     0.48803,     0.48688,     0.48573,     0.48469,\n",
              "            0.48412,     0.48354,     0.48296,     0.48245,     0.48206,     0.48168,       0.481,     0.48031,     0.47807,     0.47754,     0.47571,     0.47548,     0.47524,     0.47501,     0.47478,     0.47334,     0.47295,     0.47257,     0.47167,     0.47051,     0.46936,     0.46821,      0.4675,\n",
              "            0.46692,     0.46475,     0.46312,     0.46273,     0.46235,     0.46161,     0.45868,     0.45811,     0.45724,     0.45557,     0.45557,     0.45557,     0.45557,     0.45485,      0.4537,     0.45068,      0.4501,     0.44911,     0.44748,     0.44719,      0.4469,     0.44661,      0.4456,\n",
              "            0.44332,     0.44285,     0.44247,     0.44208,     0.43871,     0.43418,     0.43298,     0.43131,     0.42903,     0.42676,     0.42614,     0.42585,     0.42557,     0.42528,     0.42478,      0.4242,     0.42318,     0.42203,     0.41975,     0.41827,     0.41806,     0.41785,     0.41764,\n",
              "            0.41743,     0.41677,     0.41449,     0.41334,     0.40994,     0.40879,     0.40685,     0.40628,     0.40533,     0.40136,      0.3947,     0.39413,      0.3936,     0.39322,     0.39283,     0.39219,     0.38992,     0.38583,     0.38583,     0.38583,     0.38583,     0.38471,     0.38243,\n",
              "            0.37903,     0.37792,     0.37734,     0.37657,     0.37498,     0.37083,     0.37025,     0.36815,     0.36475,     0.36359,     0.36019,     0.35735,      0.3562,     0.35504,     0.35411,     0.35353,     0.35221,     0.35154,     0.35096,     0.34926,     0.34869,     0.34823,     0.34777,\n",
              "            0.34611,     0.34553,     0.34346,     0.34118,      0.3403,     0.33944,     0.33716,     0.33601,     0.33497,      0.3342,     0.33198,     0.33083,     0.32855,     0.32628,     0.32548,     0.32116,     0.32058,     0.32058,     0.32051,     0.31943,     0.31904,     0.31866,     0.31821,\n",
              "            0.31744,     0.31609,     0.31609,     0.31462,     0.31415,     0.31235,     0.30969,     0.30836,     0.30781,     0.30735,     0.30659,     0.30544,     0.30447,      0.3037,     0.30313,     0.30139,     0.29917,     0.29871,     0.29825,     0.29734,      0.2967,     0.29632,     0.29593,\n",
              "            0.29541,     0.29483,     0.29185,     0.29115,     0.29057,     0.28821,     0.28745,     0.28687,     0.28611,      0.2831,     0.28234,     0.28234,     0.28229,     0.28152,     0.27963,     0.27888,     0.27831,     0.27432,     0.27355,     0.27301,     0.27255,     0.27189,     0.27085,\n",
              "            0.27008,     0.26852,     0.26813,     0.26775,     0.26494,     0.26436,     0.26406,     0.26377,     0.26349,     0.26206,      0.2616,     0.26114,     0.25824,     0.25747,      0.2567,     0.25368,     0.25291,     0.25214,     0.24912,      0.2462,     0.24574,     0.24528,     0.24421,\n",
              "            0.24263,     0.24224,     0.24186,     0.23922,     0.23884,     0.23845,     0.23799,     0.23753,     0.23501,     0.23424,     0.23347,     0.23158,     0.23081,     0.22666,     0.22252,     0.22175,     0.21986,     0.21926,     0.21901,     0.21875,     0.21849,     0.21824,     0.21637,\n",
              "            0.21223,     0.20921,     0.20844,     0.20798,     0.20777,     0.20756,     0.20735,     0.20714,     0.20338,     0.20198,     0.19742,      0.1944,     0.19363,     0.19087,     0.18995,     0.18949,     0.18902,     0.18716,     0.18548,     0.18519,      0.1849,     0.18461,     0.18294,\n",
              "            0.18218,     0.18141,     0.17928,     0.17861,     0.17823,     0.17784,     0.17628,     0.17582,     0.17435,     0.17435,     0.17118,     0.16849,      0.1682,     0.16791,     0.16763,      0.1669,     0.16595,     0.16273,     0.16196,      0.1597,     0.15893,     0.15861,     0.15702,\n",
              "            0.15507,     0.15181,     0.15152,     0.15123,     0.15094,     0.15043,     0.14714,     0.14637,     0.14303,     0.13883,     0.13679,     0.13451,     0.13386,     0.13386,     0.13386,     0.12822,     0.12745,     0.12647,     0.12373,     0.12373,     0.12365,     0.12308,     0.12142,\n",
              "            0.12109,     0.12076,     0.12043,     0.11834,     0.11749,     0.11547,     0.11249,     0.11092,     0.10639,     0.10428,     0.10351,     0.10124,    0.098964,    0.096686,    0.093283,     0.09213,    0.089853,    0.088754,    0.087986,    0.086173,    0.085219,    0.084835,     0.08445,\n",
              "           0.083469,    0.082316,    0.082115,     0.08001,    0.078857,    0.077704,    0.076551,    0.074273,    0.069749,    0.066318,     0.06381,    0.063233,    0.060742,    0.060742,     0.05664,     0.05474,    0.054164,    0.051494,    0.050526,    0.050142,    0.049757,    0.049349,    0.048888,\n",
              "           0.048427,    0.047696,    0.046769,    0.045616,    0.042808,    0.040498,    0.039364,    0.039076,    0.038787,    0.038499,    0.037029,     0.03626,    0.034115,    0.033432,    0.032971,    0.032065,    0.030627,    0.027787,    0.026271,    0.024588,    0.024396,    0.024204,    0.024012,\n",
              "           0.023819,    0.023627,    0.021375,    0.021142,    0.020912,    0.020681,     0.02045,    0.020217,    0.019961,    0.019704,    0.019448,    0.019192,    0.018562,    0.016719,    0.016143,    0.015603,    0.015142,     0.01468,     0.01395,    0.011011,    0.010434,   0.0090597,   0.0088585,\n",
              "          0.0087144,   0.0085703,   0.0084262,    0.008282,   0.0081379,   0.0079938,   0.0078253,   0.0075371,   0.0072488,   0.0069606,   0.0067184,   0.0066031,   0.0064878,   0.0063725,   0.0062572,   0.0061419,   0.0060266,   0.0059113,    0.005796,   0.0056807,    0.004473,   0.0032654,   0.0020654,\n",
              "          0.0017359,   0.0014065,           0,           0,           0,           0,           0,           0,           0,           0,           0,           0,           0,           0,           0,           0,           0,           0,           0,           0,           0,           0,           0,\n",
              "                  0,           0,           0,           0,           0,           0,           0,           0,           0,           0,           0,           0,           0,           0,           0,           0,           0,           0,           0,           0,           0,           0,           0,\n",
              "                  0,           0,           0,           0,           0,           0,           0,           0,           0,           0,           0]]), 'Confidence', 'Recall']]\n",
              "fitness: np.float64(1.026726977754047)\n",
              "keys: ['metrics/precision(B)', 'metrics/recall(B)', 'metrics/mAP50(B)', 'metrics/mAP50-95(B)', 'metrics/precision(M)', 'metrics/recall(M)', 'metrics/mAP50(M)', 'metrics/mAP50-95(M)']\n",
              "maps: array([    0.94648])\n",
              "names: {0: 'bubble'}\n",
              "nt_per_class: array([889])\n",
              "nt_per_image: array([36])\n",
              "results_dict: {'metrics/precision(B)': np.float64(0.774966180746225), 'metrics/recall(B)': np.float64(0.8402699662542182), 'metrics/mAP50(B)': np.float64(0.8757720230685142), 'metrics/mAP50-95(B)': np.float64(0.5027382007011829), 'metrics/precision(M)': np.float64(0.7769906033101561), 'metrics/recall(M)': np.float64(0.8308580796769773), 'metrics/mAP50(M)': np.float64(0.8732102332159857), 'metrics/mAP50-95(M)': np.float64(0.44373819054948066), 'fitness': np.float64(1.026726977754047)}\n",
              "save_dir: PosixPath('runs/segment/train')\n",
              "seg: ultralytics.utils.metrics.Metric object\n",
              "speed: {'preprocess': 0.23536781081069472, 'inference': 4.691827216217118, 'loss': 0.0012382432407468662, 'postprocess': 5.984295540539844}\n",
              "stats: {'tp': [], 'conf': [], 'pred_cls': [], 'target_cls': [], 'target_img': [], 'tp_m': []}\n",
              "task: 'segment'"
            ]
          },
          "metadata": {},
          "execution_count": 2
        }
      ]
    },
    {
      "cell_type": "code",
      "source": [
        "from ultralytics import YOLO\n",
        "\n",
        "model = YOLO('runs/segment/train/weights/best.pt')\n",
        "metrics = model.val()\n",
        "\n",
        "print(\"=== Final Model Performance Metrics ===\")\n",
        "print(f\"Box Detection:\")\n",
        "print(f\"  Precision: {metrics.box.p.mean():.3f}\")\n",
        "print(f\"  Recall: {metrics.box.r.mean():.3f}\")\n",
        "print(f\"  mAP50: {metrics.box.map50:.3f}\")\n",
        "print(f\"  mAP50-95: {metrics.box.map:.3f}\")\n",
        "print(f\"Mask Segmentation:\")\n",
        "print(f\"  Precision: {metrics.seg.p.mean():.3f}\")\n",
        "print(f\"  Recall: {metrics.seg.r.mean():.3f}\")\n",
        "print(f\"  mAP50: {metrics.seg.map50:.3f}\")\n",
        "print(f\"  mAP50-95: {metrics.seg.map:.3f}\")\n",
        "\n",
        "print(f\"Classes: {metrics.names}\")"
      ],
      "metadata": {
        "colab": {
          "base_uri": "https://localhost:8080/"
        },
        "id": "GhwujYBKjb4t",
        "outputId": "51466fcb-958e-428c-b4c1-e6cfdfda5595"
      },
      "execution_count": null,
      "outputs": [
        {
          "output_type": "stream",
          "name": "stdout",
          "text": [
            "Ultralytics 8.3.174 🚀 Python-3.11.13 torch-2.6.0+cu124 CUDA:0 (Tesla T4, 15095MiB)\n",
            "YOLOv8n-seg summary (fused): 85 layers, 3,258,259 parameters, 0 gradients, 12.0 GFLOPs\n",
            "\u001b[34m\u001b[1mval: \u001b[0mFast image access ✅ (ping: 0.0±0.0 ms, read: 1204.0±311.5 MB/s, size: 45.8 KB)\n"
          ]
        },
        {
          "output_type": "stream",
          "name": "stderr",
          "text": [
            "\u001b[34m\u001b[1mval: \u001b[0mScanning /content/BubbleSegmentation-v1-1/valid/labels.cache... 37 images, 1 backgrounds, 0 corrupt: 100%|██████████| 37/37 [00:00<?, ?it/s]\n",
            "                 Class     Images  Instances      Box(P          R      mAP50  mAP50-95)     Mask(P          R      mAP50  mAP50-95):   0%|          | 0/3 [00:00<?, ?it/s]"
          ]
        },
        {
          "output_type": "stream",
          "name": "stdout",
          "text": [
            "WARNING ⚠️ Limiting validation plots to first 50 items per image for speed...\n",
            "WARNING ⚠️ Limiting validation plots to first 50 items per image for speed...\n",
            "WARNING ⚠️ Limiting validation plots to first 50 items per image for speed...\n",
            "WARNING ⚠️ Limiting validation plots to first 50 items per image for speed...\n",
            "WARNING ⚠️ Limiting validation plots to first 50 items per image for speed...\n",
            "WARNING ⚠️ Limiting validation plots to first 50 items per image for speed...\n",
            "WARNING ⚠️ Limiting validation plots to first 50 items per image for speed...\n",
            "WARNING ⚠️ Limiting validation plots to first 50 items per image for speed...\n",
            "WARNING ⚠️ Limiting validation plots to first 50 items per image for speed...\n",
            "WARNING ⚠️ Limiting validation plots to first 50 items per image for speed...\n",
            "WARNING ⚠️ Limiting validation plots to first 50 items per image for speed...\n",
            "WARNING ⚠️ Limiting validation plots to first 50 items per image for speed...\n",
            "WARNING ⚠️ Limiting validation plots to first 50 items per image for speed...\n",
            "WARNING ⚠️ Limiting validation plots to first 50 items per image for speed...\n",
            "WARNING ⚠️ Limiting validation plots to first 50 items per image for speed...\n",
            "WARNING ⚠️ Limiting validation plots to first 50 items per image for speed...\n"
          ]
        },
        {
          "output_type": "stream",
          "name": "stderr",
          "text": [
            "\r                 Class     Images  Instances      Box(P          R      mAP50  mAP50-95)     Mask(P          R      mAP50  mAP50-95):  33%|███▎      | 1/3 [00:00<00:01,  1.06it/s]"
          ]
        },
        {
          "output_type": "stream",
          "name": "stdout",
          "text": [
            "WARNING ⚠️ Limiting validation plots to first 50 items per image for speed...\n",
            "WARNING ⚠️ Limiting validation plots to first 50 items per image for speed...\n",
            "WARNING ⚠️ Limiting validation plots to first 50 items per image for speed...\n",
            "WARNING ⚠️ Limiting validation plots to first 50 items per image for speed...\n",
            "WARNING ⚠️ Limiting validation plots to first 50 items per image for speed...\n",
            "WARNING ⚠️ Limiting validation plots to first 50 items per image for speed...\n",
            "WARNING ⚠️ Limiting validation plots to first 50 items per image for speed...\n",
            "WARNING ⚠️ Limiting validation plots to first 50 items per image for speed...\n",
            "WARNING ⚠️ Limiting validation plots to first 50 items per image for speed...\n",
            "WARNING ⚠️ Limiting validation plots to first 50 items per image for speed...\n",
            "WARNING ⚠️ Limiting validation plots to first 50 items per image for speed...\n",
            "WARNING ⚠️ Limiting validation plots to first 50 items per image for speed...\n",
            "WARNING ⚠️ Limiting validation plots to first 50 items per image for speed...\n",
            "WARNING ⚠️ Limiting validation plots to first 50 items per image for speed...\n",
            "WARNING ⚠️ Limiting validation plots to first 50 items per image for speed...\n",
            "WARNING ⚠️ Limiting validation plots to first 50 items per image for speed...\n"
          ]
        },
        {
          "output_type": "stream",
          "name": "stderr",
          "text": [
            "\r                 Class     Images  Instances      Box(P          R      mAP50  mAP50-95)     Mask(P          R      mAP50  mAP50-95):  67%|██████▋   | 2/3 [00:01<00:00,  1.12it/s]"
          ]
        },
        {
          "output_type": "stream",
          "name": "stdout",
          "text": [
            "WARNING ⚠️ Limiting validation plots to first 50 items per image for speed...\n",
            "WARNING ⚠️ Limiting validation plots to first 50 items per image for speed...\n",
            "WARNING ⚠️ Limiting validation plots to first 50 items per image for speed...\n",
            "WARNING ⚠️ Limiting validation plots to first 50 items per image for speed...\n",
            "WARNING ⚠️ Limiting validation plots to first 50 items per image for speed...\n"
          ]
        },
        {
          "output_type": "stream",
          "name": "stderr",
          "text": [
            "                 Class     Images  Instances      Box(P          R      mAP50  mAP50-95)     Mask(P          R      mAP50  mAP50-95): 100%|██████████| 3/3 [00:02<00:00,  1.16it/s]\n"
          ]
        },
        {
          "output_type": "stream",
          "name": "stdout",
          "text": [
            "                   all         37        889      0.771       0.84      0.876      0.502      0.779      0.826      0.872      0.434\n",
            "Speed: 5.1ms preprocess, 8.1ms inference, 0.1ms loss, 11.7ms postprocess per image\n",
            "Results saved to \u001b[1mruns/segment/val2\u001b[0m\n",
            "=== Final Model Performance Metrics ===\n",
            "Box Detection:\n",
            "  Precision: 0.771\n",
            "  Recall: 0.840\n",
            "  mAP50: 0.876\n",
            "  mAP50-95: 0.502\n",
            "Mask Segmentation:\n",
            "  Precision: 0.779\n",
            "  Recall: 0.826\n",
            "  mAP50: 0.872\n",
            "  mAP50-95: 0.434\n",
            "Classes: {0: 'bubble'}\n"
          ]
        }
      ]
    },
    {
      "cell_type": "code",
      "source": [
        "from ultralytics import YOLO\n",
        "\n",
        "model = YOLO('runs/segment/train/weights/best.pt')\n",
        "metrics = model.val()\n",
        "\n",
        "print(\"Final Results:\")\n",
        "print(f\"Box - Precision: {metrics.box.p.mean():.3f}, Recall: {metrics.box.r.mean():.3f}, mAP50: {metrics.box.map50:.3f}\")\n",
        "print(f\"Mask - Precision: {metrics.seg.p.mean():.3f}, Recall: {metrics.seg.r.mean():.3f}, mAP50: {metrics.seg.map50:.3f}\")"
      ],
      "metadata": {
        "colab": {
          "base_uri": "https://localhost:8080/"
        },
        "id": "aLhLjVGvnmll",
        "outputId": "45e51ddb-54b9-49a2-ca0a-70ed7fbe9877"
      },
      "execution_count": null,
      "outputs": [
        {
          "output_type": "stream",
          "name": "stdout",
          "text": [
            "Ultralytics 8.3.174 🚀 Python-3.11.13 torch-2.6.0+cu124 CUDA:0 (Tesla T4, 15095MiB)\n",
            "YOLOv8n-seg summary (fused): 85 layers, 3,258,259 parameters, 0 gradients, 12.0 GFLOPs\n",
            "\u001b[34m\u001b[1mval: \u001b[0mFast image access ✅ (ping: 0.0±0.0 ms, read: 1557.1±423.7 MB/s, size: 42.1 KB)\n"
          ]
        },
        {
          "output_type": "stream",
          "name": "stderr",
          "text": [
            "\u001b[34m\u001b[1mval: \u001b[0mScanning /content/BubbleSegmentation-v1-1/valid/labels.cache... 37 images, 1 backgrounds, 0 corrupt: 100%|██████████| 37/37 [00:00<?, ?it/s]\n",
            "                 Class     Images  Instances      Box(P          R      mAP50  mAP50-95)     Mask(P          R      mAP50  mAP50-95):   0%|          | 0/3 [00:00<?, ?it/s]"
          ]
        },
        {
          "output_type": "stream",
          "name": "stdout",
          "text": [
            "WARNING ⚠️ Limiting validation plots to first 50 items per image for speed...\n",
            "WARNING ⚠️ Limiting validation plots to first 50 items per image for speed...\n",
            "WARNING ⚠️ Limiting validation plots to first 50 items per image for speed...\n",
            "WARNING ⚠️ Limiting validation plots to first 50 items per image for speed...\n",
            "WARNING ⚠️ Limiting validation plots to first 50 items per image for speed...\n",
            "WARNING ⚠️ Limiting validation plots to first 50 items per image for speed...\n",
            "WARNING ⚠️ Limiting validation plots to first 50 items per image for speed...\n",
            "WARNING ⚠️ Limiting validation plots to first 50 items per image for speed...\n",
            "WARNING ⚠️ Limiting validation plots to first 50 items per image for speed...\n",
            "WARNING ⚠️ Limiting validation plots to first 50 items per image for speed...\n",
            "WARNING ⚠️ Limiting validation plots to first 50 items per image for speed...\n",
            "WARNING ⚠️ Limiting validation plots to first 50 items per image for speed...\n",
            "WARNING ⚠️ Limiting validation plots to first 50 items per image for speed...\n",
            "WARNING ⚠️ Limiting validation plots to first 50 items per image for speed...\n",
            "WARNING ⚠️ Limiting validation plots to first 50 items per image for speed...\n",
            "WARNING ⚠️ Limiting validation plots to first 50 items per image for speed...\n"
          ]
        },
        {
          "output_type": "stream",
          "name": "stderr",
          "text": [
            "\r                 Class     Images  Instances      Box(P          R      mAP50  mAP50-95)     Mask(P          R      mAP50  mAP50-95):  33%|███▎      | 1/3 [00:00<00:01,  1.08it/s]"
          ]
        },
        {
          "output_type": "stream",
          "name": "stdout",
          "text": [
            "WARNING ⚠️ Limiting validation plots to first 50 items per image for speed...\n",
            "WARNING ⚠️ Limiting validation plots to first 50 items per image for speed...\n",
            "WARNING ⚠️ Limiting validation plots to first 50 items per image for speed...\n",
            "WARNING ⚠️ Limiting validation plots to first 50 items per image for speed...\n",
            "WARNING ⚠️ Limiting validation plots to first 50 items per image for speed...\n",
            "WARNING ⚠️ Limiting validation plots to first 50 items per image for speed...\n",
            "WARNING ⚠️ Limiting validation plots to first 50 items per image for speed...\n",
            "WARNING ⚠️ Limiting validation plots to first 50 items per image for speed...\n",
            "WARNING ⚠️ Limiting validation plots to first 50 items per image for speed...\n",
            "WARNING ⚠️ Limiting validation plots to first 50 items per image for speed...\n",
            "WARNING ⚠️ Limiting validation plots to first 50 items per image for speed...\n",
            "WARNING ⚠️ Limiting validation plots to first 50 items per image for speed...\n",
            "WARNING ⚠️ Limiting validation plots to first 50 items per image for speed...\n",
            "WARNING ⚠️ Limiting validation plots to first 50 items per image for speed...\n",
            "WARNING ⚠️ Limiting validation plots to first 50 items per image for speed...\n",
            "WARNING ⚠️ Limiting validation plots to first 50 items per image for speed...\n"
          ]
        },
        {
          "output_type": "stream",
          "name": "stderr",
          "text": [
            "\r                 Class     Images  Instances      Box(P          R      mAP50  mAP50-95)     Mask(P          R      mAP50  mAP50-95):  67%|██████▋   | 2/3 [00:01<00:00,  1.10it/s]"
          ]
        },
        {
          "output_type": "stream",
          "name": "stdout",
          "text": [
            "WARNING ⚠️ Limiting validation plots to first 50 items per image for speed...\n",
            "WARNING ⚠️ Limiting validation plots to first 50 items per image for speed...\n",
            "WARNING ⚠️ Limiting validation plots to first 50 items per image for speed...\n",
            "WARNING ⚠️ Limiting validation plots to first 50 items per image for speed...\n",
            "WARNING ⚠️ Limiting validation plots to first 50 items per image for speed...\n"
          ]
        },
        {
          "output_type": "stream",
          "name": "stderr",
          "text": [
            "                 Class     Images  Instances      Box(P          R      mAP50  mAP50-95)     Mask(P          R      mAP50  mAP50-95): 100%|██████████| 3/3 [00:02<00:00,  1.16it/s]\n"
          ]
        },
        {
          "output_type": "stream",
          "name": "stdout",
          "text": [
            "                   all         37        889      0.771       0.84      0.876      0.502      0.779      0.826      0.872      0.434\n",
            "Speed: 0.4ms preprocess, 12.4ms inference, 0.0ms loss, 12.6ms postprocess per image\n",
            "Results saved to \u001b[1mruns/segment/val3\u001b[0m\n",
            "Final Results:\n",
            "Box - Precision: 0.771, Recall: 0.840, mAP50: 0.876\n",
            "Mask - Precision: 0.779, Recall: 0.826, mAP50: 0.872\n"
          ]
        }
      ]
    },
    {
      "cell_type": "code",
      "source": [
        "model = YOLO('yolov8s-seg.pt')\n",
        "model.train(\n",
        "    data='/content/BubbleSegmentation-v1-1/data.yaml',\n",
        "    epochs=100,\n",
        "    imgsz=640,\n",
        "    batch=4,\n",
        "    lr0=0.001,\n",
        ")"
      ],
      "metadata": {
        "colab": {
          "base_uri": "https://localhost:8080/"
        },
        "id": "D-J5SqMBrT6d",
        "outputId": "0af1e8e4-6a27-4215-cb53-429fda9305f2"
      },
      "execution_count": null,
      "outputs": [
        {
          "output_type": "stream",
          "name": "stdout",
          "text": [
            "Ultralytics 8.3.174 🚀 Python-3.11.13 torch-2.6.0+cu124 CUDA:0 (Tesla T4, 15095MiB)\n",
            "\u001b[34m\u001b[1mengine/trainer: \u001b[0magnostic_nms=False, amp=True, augment=False, auto_augment=randaugment, batch=4, bgr=0.0, box=7.5, cache=False, cfg=None, classes=None, close_mosaic=10, cls=0.5, conf=None, copy_paste=0.0, copy_paste_mode=flip, cos_lr=False, cutmix=0.0, data=/content/BubbleSegmentation-v1-1/data.yaml, degrees=0.0, deterministic=True, device=None, dfl=1.5, dnn=False, dropout=0.0, dynamic=False, embed=None, epochs=100, erasing=0.4, exist_ok=False, fliplr=0.5, flipud=0.0, format=torchscript, fraction=1.0, freeze=None, half=False, hsv_h=0.015, hsv_s=0.7, hsv_v=0.4, imgsz=640, int8=False, iou=0.7, keras=False, kobj=1.0, line_width=None, lr0=0.001, lrf=0.01, mask_ratio=4, max_det=300, mixup=0.0, mode=train, model=yolov8s-seg.pt, momentum=0.937, mosaic=1.0, multi_scale=False, name=train3, nbs=64, nms=False, opset=None, optimize=False, optimizer=auto, overlap_mask=True, patience=100, perspective=0.0, plots=True, pose=12.0, pretrained=True, profile=False, project=None, rect=False, resume=False, retina_masks=False, save=True, save_conf=False, save_crop=False, save_dir=runs/segment/train3, save_frames=False, save_json=False, save_period=-1, save_txt=False, scale=0.5, seed=0, shear=0.0, show=False, show_boxes=True, show_conf=True, show_labels=True, simplify=True, single_cls=False, source=None, split=val, stream_buffer=False, task=segment, time=None, tracker=botsort.yaml, translate=0.1, val=True, verbose=True, vid_stride=1, visualize=False, warmup_bias_lr=0.1, warmup_epochs=3.0, warmup_momentum=0.8, weight_decay=0.0005, workers=8, workspace=None\n",
            "Overriding model.yaml nc=80 with nc=1\n",
            "\n",
            "                   from  n    params  module                                       arguments                     \n",
            "  0                  -1  1       928  ultralytics.nn.modules.conv.Conv             [3, 32, 3, 2]                 \n",
            "  1                  -1  1     18560  ultralytics.nn.modules.conv.Conv             [32, 64, 3, 2]                \n",
            "  2                  -1  1     29056  ultralytics.nn.modules.block.C2f             [64, 64, 1, True]             \n",
            "  3                  -1  1     73984  ultralytics.nn.modules.conv.Conv             [64, 128, 3, 2]               \n",
            "  4                  -1  2    197632  ultralytics.nn.modules.block.C2f             [128, 128, 2, True]           \n",
            "  5                  -1  1    295424  ultralytics.nn.modules.conv.Conv             [128, 256, 3, 2]              \n",
            "  6                  -1  2    788480  ultralytics.nn.modules.block.C2f             [256, 256, 2, True]           \n",
            "  7                  -1  1   1180672  ultralytics.nn.modules.conv.Conv             [256, 512, 3, 2]              \n",
            "  8                  -1  1   1838080  ultralytics.nn.modules.block.C2f             [512, 512, 1, True]           \n",
            "  9                  -1  1    656896  ultralytics.nn.modules.block.SPPF            [512, 512, 5]                 \n",
            " 10                  -1  1         0  torch.nn.modules.upsampling.Upsample         [None, 2, 'nearest']          \n",
            " 11             [-1, 6]  1         0  ultralytics.nn.modules.conv.Concat           [1]                           \n",
            " 12                  -1  1    591360  ultralytics.nn.modules.block.C2f             [768, 256, 1]                 \n",
            " 13                  -1  1         0  torch.nn.modules.upsampling.Upsample         [None, 2, 'nearest']          \n",
            " 14             [-1, 4]  1         0  ultralytics.nn.modules.conv.Concat           [1]                           \n",
            " 15                  -1  1    148224  ultralytics.nn.modules.block.C2f             [384, 128, 1]                 \n",
            " 16                  -1  1    147712  ultralytics.nn.modules.conv.Conv             [128, 128, 3, 2]              \n",
            " 17            [-1, 12]  1         0  ultralytics.nn.modules.conv.Concat           [1]                           \n",
            " 18                  -1  1    493056  ultralytics.nn.modules.block.C2f             [384, 256, 1]                 \n",
            " 19                  -1  1    590336  ultralytics.nn.modules.conv.Conv             [256, 256, 3, 2]              \n",
            " 20             [-1, 9]  1         0  ultralytics.nn.modules.conv.Concat           [1]                           \n",
            " 21                  -1  1   1969152  ultralytics.nn.modules.block.C2f             [768, 512, 1]                 \n",
            " 22        [15, 18, 21]  1   2770931  ultralytics.nn.modules.head.Segment          [1, 32, 128, [128, 256, 512]] \n",
            "YOLOv8s-seg summary: 151 layers, 11,790,483 parameters, 11,790,467 gradients, 42.7 GFLOPs\n",
            "\n",
            "Transferred 411/417 items from pretrained weights\n",
            "Freezing layer 'model.22.dfl.conv.weight'\n",
            "\u001b[34m\u001b[1mAMP: \u001b[0mrunning Automatic Mixed Precision (AMP) checks...\n",
            "\u001b[34m\u001b[1mAMP: \u001b[0mchecks passed ✅\n",
            "\u001b[34m\u001b[1mtrain: \u001b[0mFast image access ✅ (ping: 0.0±0.0 ms, read: 1134.0±359.2 MB/s, size: 40.3 KB)\n"
          ]
        },
        {
          "output_type": "stream",
          "name": "stderr",
          "text": [
            "\u001b[34m\u001b[1mtrain: \u001b[0mScanning /content/BubbleSegmentation-v1-1/train/labels.cache... 131 images, 0 backgrounds, 0 corrupt: 100%|██████████| 131/131 [00:00<?, ?it/s]"
          ]
        },
        {
          "output_type": "stream",
          "name": "stdout",
          "text": [
            "\u001b[34m\u001b[1malbumentations: \u001b[0mBlur(p=0.01, blur_limit=(3, 7)), MedianBlur(p=0.01, blur_limit=(3, 7)), ToGray(p=0.01, method='weighted_average', num_output_channels=3), CLAHE(p=0.01, clip_limit=(1.0, 4.0), tile_grid_size=(8, 8))\n"
          ]
        },
        {
          "output_type": "stream",
          "name": "stderr",
          "text": [
            "\n"
          ]
        },
        {
          "output_type": "stream",
          "name": "stdout",
          "text": [
            "\u001b[34m\u001b[1mval: \u001b[0mFast image access ✅ (ping: 0.0±0.0 ms, read: 495.9±273.5 MB/s, size: 43.5 KB)\n"
          ]
        },
        {
          "output_type": "stream",
          "name": "stderr",
          "text": [
            "\u001b[34m\u001b[1mval: \u001b[0mScanning /content/BubbleSegmentation-v1-1/valid/labels.cache... 37 images, 1 backgrounds, 0 corrupt: 100%|██████████| 37/37 [00:00<?, ?it/s]\n"
          ]
        },
        {
          "output_type": "stream",
          "name": "stdout",
          "text": [
            "Plotting labels to runs/segment/train3/labels.jpg... \n",
            "\u001b[34m\u001b[1moptimizer:\u001b[0m 'optimizer=auto' found, ignoring 'lr0=0.001' and 'momentum=0.937' and determining best 'optimizer', 'lr0' and 'momentum' automatically... \n",
            "\u001b[34m\u001b[1moptimizer:\u001b[0m AdamW(lr=0.002, momentum=0.9) with parameter groups 66 weight(decay=0.0), 77 weight(decay=0.0005), 76 bias(decay=0.0)\n",
            "Image sizes 640 train, 640 val\n",
            "Using 2 dataloader workers\n",
            "Logging results to \u001b[1mruns/segment/train3\u001b[0m\n",
            "Starting training for 100 epochs...\n",
            "\n",
            "      Epoch    GPU_mem   box_loss   seg_loss   cls_loss   dfl_loss  Instances       Size\n"
          ]
        },
        {
          "output_type": "stream",
          "name": "stderr",
          "text": [
            "      1/100      14.5G      2.314      3.508      3.876      1.275        140        640: 100%|██████████| 33/33 [00:11<00:00,  2.87it/s]\n",
            "                 Class     Images  Instances      Box(P          R      mAP50  mAP50-95)     Mask(P          R      mAP50  mAP50-95): 100%|██████████| 5/5 [00:00<00:00,  5.16it/s]\n"
          ]
        },
        {
          "output_type": "stream",
          "name": "stdout",
          "text": [
            "                   all         37        889     0.0842      0.222     0.0727       0.03     0.0862      0.228     0.0758     0.0308\n",
            "\n",
            "      Epoch    GPU_mem   box_loss   seg_loss   cls_loss   dfl_loss  Instances       Size\n"
          ]
        },
        {
          "output_type": "stream",
          "name": "stderr",
          "text": [
            "      2/100       3.9G      1.722      2.536      1.729      1.142         64        640: 100%|██████████| 33/33 [00:09<00:00,  3.61it/s]\n",
            "                 Class     Images  Instances      Box(P          R      mAP50  mAP50-95)     Mask(P          R      mAP50  mAP50-95): 100%|██████████| 5/5 [00:00<00:00,  6.15it/s]"
          ]
        },
        {
          "output_type": "stream",
          "name": "stdout",
          "text": [
            "                   all         37        889      0.276      0.408      0.217     0.0834      0.242      0.453      0.204     0.0662\n"
          ]
        },
        {
          "output_type": "stream",
          "name": "stderr",
          "text": [
            "\n"
          ]
        },
        {
          "output_type": "stream",
          "name": "stdout",
          "text": [
            "\n",
            "      Epoch    GPU_mem   box_loss   seg_loss   cls_loss   dfl_loss  Instances       Size\n"
          ]
        },
        {
          "output_type": "stream",
          "name": "stderr",
          "text": [
            "      3/100      3.95G      1.705      2.415      1.335      1.107         78        640: 100%|██████████| 33/33 [00:09<00:00,  3.43it/s]\n",
            "                 Class     Images  Instances      Box(P          R      mAP50  mAP50-95)     Mask(P          R      mAP50  mAP50-95): 100%|██████████| 5/5 [00:00<00:00,  6.10it/s]"
          ]
        },
        {
          "output_type": "stream",
          "name": "stdout",
          "text": [
            "                   all         37        889      0.373      0.804      0.368      0.179      0.374      0.807      0.369      0.154\n"
          ]
        },
        {
          "output_type": "stream",
          "name": "stderr",
          "text": [
            "\n"
          ]
        },
        {
          "output_type": "stream",
          "name": "stdout",
          "text": [
            "\n",
            "      Epoch    GPU_mem   box_loss   seg_loss   cls_loss   dfl_loss  Instances       Size\n"
          ]
        },
        {
          "output_type": "stream",
          "name": "stderr",
          "text": [
            "      4/100      3.95G      1.838      2.604      1.192       1.15         90        640: 100%|██████████| 33/33 [00:09<00:00,  3.47it/s]\n",
            "                 Class     Images  Instances      Box(P          R      mAP50  mAP50-95)     Mask(P          R      mAP50  mAP50-95): 100%|██████████| 5/5 [00:00<00:00,  6.48it/s]"
          ]
        },
        {
          "output_type": "stream",
          "name": "stdout",
          "text": [
            "                   all         37        889      0.505       0.76       0.54       0.26      0.501      0.753      0.531      0.218\n"
          ]
        },
        {
          "output_type": "stream",
          "name": "stderr",
          "text": [
            "\n"
          ]
        },
        {
          "output_type": "stream",
          "name": "stdout",
          "text": [
            "\n",
            "      Epoch    GPU_mem   box_loss   seg_loss   cls_loss   dfl_loss  Instances       Size\n"
          ]
        },
        {
          "output_type": "stream",
          "name": "stderr",
          "text": [
            "      5/100      3.98G      1.838      2.534       1.37      1.146         76        640: 100%|██████████| 33/33 [00:09<00:00,  3.55it/s]\n",
            "                 Class     Images  Instances      Box(P          R      mAP50  mAP50-95)     Mask(P          R      mAP50  mAP50-95): 100%|██████████| 5/5 [00:00<00:00,  6.52it/s]"
          ]
        },
        {
          "output_type": "stream",
          "name": "stdout",
          "text": [
            "                   all         37        889      0.372       0.63      0.378      0.189      0.374      0.631      0.381      0.176\n"
          ]
        },
        {
          "output_type": "stream",
          "name": "stderr",
          "text": [
            "\n"
          ]
        },
        {
          "output_type": "stream",
          "name": "stdout",
          "text": [
            "\n",
            "      Epoch    GPU_mem   box_loss   seg_loss   cls_loss   dfl_loss  Instances       Size\n"
          ]
        },
        {
          "output_type": "stream",
          "name": "stderr",
          "text": [
            "      6/100      4.02G      1.678      2.368      1.288      1.126        125        640: 100%|██████████| 33/33 [00:08<00:00,  3.77it/s]\n",
            "                 Class     Images  Instances      Box(P          R      mAP50  mAP50-95)     Mask(P          R      mAP50  mAP50-95): 100%|██████████| 5/5 [00:01<00:00,  4.56it/s]\n"
          ]
        },
        {
          "output_type": "stream",
          "name": "stdout",
          "text": [
            "                   all         37        889      0.728      0.721      0.786      0.394      0.721      0.714      0.774      0.319\n",
            "\n",
            "      Epoch    GPU_mem   box_loss   seg_loss   cls_loss   dfl_loss  Instances       Size\n"
          ]
        },
        {
          "output_type": "stream",
          "name": "stderr",
          "text": [
            "      7/100      4.02G      1.612      2.368      1.079      1.094         93        640: 100%|██████████| 33/33 [00:08<00:00,  3.78it/s]\n",
            "                 Class     Images  Instances      Box(P          R      mAP50  mAP50-95)     Mask(P          R      mAP50  mAP50-95): 100%|██████████| 5/5 [00:00<00:00,  5.93it/s]"
          ]
        },
        {
          "output_type": "stream",
          "name": "stdout",
          "text": [
            "                   all         37        889      0.443      0.639      0.454      0.249       0.45      0.648      0.458      0.219\n"
          ]
        },
        {
          "output_type": "stream",
          "name": "stderr",
          "text": [
            "\n"
          ]
        },
        {
          "output_type": "stream",
          "name": "stdout",
          "text": [
            "\n",
            "      Epoch    GPU_mem   box_loss   seg_loss   cls_loss   dfl_loss  Instances       Size\n"
          ]
        },
        {
          "output_type": "stream",
          "name": "stderr",
          "text": [
            "      8/100      4.02G        1.6      2.257      1.037      1.106         50        640: 100%|██████████| 33/33 [00:09<00:00,  3.47it/s]\n",
            "                 Class     Images  Instances      Box(P          R      mAP50  mAP50-95)     Mask(P          R      mAP50  mAP50-95): 100%|██████████| 5/5 [00:00<00:00,  6.27it/s]"
          ]
        },
        {
          "output_type": "stream",
          "name": "stdout",
          "text": [
            "                   all         37        889      0.232      0.493      0.201      0.101      0.233      0.497      0.203     0.0939\n"
          ]
        },
        {
          "output_type": "stream",
          "name": "stderr",
          "text": [
            "\n"
          ]
        },
        {
          "output_type": "stream",
          "name": "stdout",
          "text": [
            "\n",
            "      Epoch    GPU_mem   box_loss   seg_loss   cls_loss   dfl_loss  Instances       Size\n"
          ]
        },
        {
          "output_type": "stream",
          "name": "stderr",
          "text": [
            "      9/100      4.02G      1.586      2.221      1.013      1.074        112        640: 100%|██████████| 33/33 [00:09<00:00,  3.41it/s]\n",
            "                 Class     Images  Instances      Box(P          R      mAP50  mAP50-95)     Mask(P          R      mAP50  mAP50-95): 100%|██████████| 5/5 [00:00<00:00,  5.99it/s]"
          ]
        },
        {
          "output_type": "stream",
          "name": "stdout",
          "text": [
            "                   all         37        889      0.677      0.758      0.757      0.364      0.672      0.733      0.729      0.272\n"
          ]
        },
        {
          "output_type": "stream",
          "name": "stderr",
          "text": [
            "\n"
          ]
        },
        {
          "output_type": "stream",
          "name": "stdout",
          "text": [
            "\n",
            "      Epoch    GPU_mem   box_loss   seg_loss   cls_loss   dfl_loss  Instances       Size\n"
          ]
        },
        {
          "output_type": "stream",
          "name": "stderr",
          "text": [
            "     10/100      4.02G      1.615      2.198      1.057      1.087         62        640: 100%|██████████| 33/33 [00:09<00:00,  3.47it/s]\n",
            "                 Class     Images  Instances      Box(P          R      mAP50  mAP50-95)     Mask(P          R      mAP50  mAP50-95): 100%|██████████| 5/5 [00:00<00:00,  6.32it/s]"
          ]
        },
        {
          "output_type": "stream",
          "name": "stdout",
          "text": [
            "                   all         37        889       0.67      0.738      0.747      0.401      0.672       0.72      0.735      0.328\n"
          ]
        },
        {
          "output_type": "stream",
          "name": "stderr",
          "text": [
            "\n"
          ]
        },
        {
          "output_type": "stream",
          "name": "stdout",
          "text": [
            "\n",
            "      Epoch    GPU_mem   box_loss   seg_loss   cls_loss   dfl_loss  Instances       Size\n"
          ]
        },
        {
          "output_type": "stream",
          "name": "stderr",
          "text": [
            "     11/100      4.06G      1.583      2.244      1.019      1.085        181        640: 100%|██████████| 33/33 [00:09<00:00,  3.47it/s]\n",
            "                 Class     Images  Instances      Box(P          R      mAP50  mAP50-95)     Mask(P          R      mAP50  mAP50-95): 100%|██████████| 5/5 [00:00<00:00,  6.11it/s]"
          ]
        },
        {
          "output_type": "stream",
          "name": "stdout",
          "text": [
            "                   all         37        889      0.742      0.788      0.825      0.393      0.753      0.767      0.822       0.37\n"
          ]
        },
        {
          "output_type": "stream",
          "name": "stderr",
          "text": [
            "\n"
          ]
        },
        {
          "output_type": "stream",
          "name": "stdout",
          "text": [
            "\n",
            "      Epoch    GPU_mem   box_loss   seg_loss   cls_loss   dfl_loss  Instances       Size\n"
          ]
        },
        {
          "output_type": "stream",
          "name": "stderr",
          "text": [
            "     12/100       4.1G      1.579      2.195     0.9642      1.073         96        640: 100%|██████████| 33/33 [00:08<00:00,  4.04it/s]\n",
            "                 Class     Images  Instances      Box(P          R      mAP50  mAP50-95)     Mask(P          R      mAP50  mAP50-95): 100%|██████████| 5/5 [00:01<00:00,  4.30it/s]"
          ]
        },
        {
          "output_type": "stream",
          "name": "stdout",
          "text": [
            "                   all         37        889      0.717      0.773      0.804      0.461      0.718      0.774      0.806      0.422\n"
          ]
        },
        {
          "output_type": "stream",
          "name": "stderr",
          "text": [
            "\n"
          ]
        },
        {
          "output_type": "stream",
          "name": "stdout",
          "text": [
            "\n",
            "      Epoch    GPU_mem   box_loss   seg_loss   cls_loss   dfl_loss  Instances       Size\n"
          ]
        },
        {
          "output_type": "stream",
          "name": "stderr",
          "text": [
            "     13/100       4.1G       1.61      2.178     0.9506      1.064         88        640: 100%|██████████| 33/33 [00:08<00:00,  3.72it/s]\n",
            "                 Class     Images  Instances      Box(P          R      mAP50  mAP50-95)     Mask(P          R      mAP50  mAP50-95): 100%|██████████| 5/5 [00:00<00:00,  6.18it/s]"
          ]
        },
        {
          "output_type": "stream",
          "name": "stdout",
          "text": [
            "                   all         37        889      0.737      0.811      0.828      0.436      0.739      0.808      0.826      0.368\n"
          ]
        },
        {
          "output_type": "stream",
          "name": "stderr",
          "text": [
            "\n"
          ]
        },
        {
          "output_type": "stream",
          "name": "stdout",
          "text": [
            "\n",
            "      Epoch    GPU_mem   box_loss   seg_loss   cls_loss   dfl_loss  Instances       Size\n"
          ]
        },
        {
          "output_type": "stream",
          "name": "stderr",
          "text": [
            "     14/100       4.1G       1.55      2.194     0.9126      1.067         91        640: 100%|██████████| 33/33 [00:09<00:00,  3.46it/s]\n",
            "                 Class     Images  Instances      Box(P          R      mAP50  mAP50-95)     Mask(P          R      mAP50  mAP50-95): 100%|██████████| 5/5 [00:00<00:00,  6.26it/s]"
          ]
        },
        {
          "output_type": "stream",
          "name": "stdout",
          "text": [
            "                   all         37        889      0.751      0.777      0.829      0.473      0.745      0.771      0.822      0.421\n"
          ]
        },
        {
          "output_type": "stream",
          "name": "stderr",
          "text": [
            "\n"
          ]
        },
        {
          "output_type": "stream",
          "name": "stdout",
          "text": [
            "\n",
            "      Epoch    GPU_mem   box_loss   seg_loss   cls_loss   dfl_loss  Instances       Size\n"
          ]
        },
        {
          "output_type": "stream",
          "name": "stderr",
          "text": [
            "     15/100      4.11G      1.513       2.13      0.931       1.05        111        640: 100%|██████████| 33/33 [00:09<00:00,  3.51it/s]\n",
            "                 Class     Images  Instances      Box(P          R      mAP50  mAP50-95)     Mask(P          R      mAP50  mAP50-95): 100%|██████████| 5/5 [00:00<00:00,  5.81it/s]"
          ]
        },
        {
          "output_type": "stream",
          "name": "stdout",
          "text": [
            "                   all         37        889      0.777      0.785      0.839      0.457      0.774      0.776      0.829      0.408\n"
          ]
        },
        {
          "output_type": "stream",
          "name": "stderr",
          "text": [
            "\n"
          ]
        },
        {
          "output_type": "stream",
          "name": "stdout",
          "text": [
            "\n",
            "      Epoch    GPU_mem   box_loss   seg_loss   cls_loss   dfl_loss  Instances       Size\n"
          ]
        },
        {
          "output_type": "stream",
          "name": "stderr",
          "text": [
            "     16/100      4.11G      1.546      2.126     0.9464      1.059         75        640: 100%|██████████| 33/33 [00:09<00:00,  3.56it/s]\n",
            "                 Class     Images  Instances      Box(P          R      mAP50  mAP50-95)     Mask(P          R      mAP50  mAP50-95): 100%|██████████| 5/5 [00:00<00:00,  5.88it/s]"
          ]
        },
        {
          "output_type": "stream",
          "name": "stdout",
          "text": [
            "                   all         37        889      0.778      0.785      0.837      0.476      0.785      0.777      0.842      0.439\n"
          ]
        },
        {
          "output_type": "stream",
          "name": "stderr",
          "text": [
            "\n"
          ]
        },
        {
          "output_type": "stream",
          "name": "stdout",
          "text": [
            "\n",
            "      Epoch    GPU_mem   box_loss   seg_loss   cls_loss   dfl_loss  Instances       Size\n"
          ]
        },
        {
          "output_type": "stream",
          "name": "stderr",
          "text": [
            "     17/100      4.11G      1.563       2.22     0.9357      1.071        120        640: 100%|██████████| 33/33 [00:09<00:00,  3.47it/s]\n",
            "                 Class     Images  Instances      Box(P          R      mAP50  mAP50-95)     Mask(P          R      mAP50  mAP50-95): 100%|██████████| 5/5 [00:00<00:00,  6.33it/s]"
          ]
        },
        {
          "output_type": "stream",
          "name": "stdout",
          "text": [
            "                   all         37        889       0.78      0.785      0.846      0.433      0.773      0.768      0.821      0.349\n"
          ]
        },
        {
          "output_type": "stream",
          "name": "stderr",
          "text": [
            "\n"
          ]
        },
        {
          "output_type": "stream",
          "name": "stdout",
          "text": [
            "\n",
            "      Epoch    GPU_mem   box_loss   seg_loss   cls_loss   dfl_loss  Instances       Size\n"
          ]
        },
        {
          "output_type": "stream",
          "name": "stderr",
          "text": [
            "     18/100      4.11G      1.535      2.157     0.9258      1.063         62        640: 100%|██████████| 33/33 [00:08<00:00,  3.94it/s]\n",
            "                 Class     Images  Instances      Box(P          R      mAP50  mAP50-95)     Mask(P          R      mAP50  mAP50-95): 100%|██████████| 5/5 [00:01<00:00,  4.48it/s]"
          ]
        },
        {
          "output_type": "stream",
          "name": "stdout",
          "text": [
            "                   all         37        889      0.752      0.813       0.85      0.489       0.75      0.811      0.848      0.441\n"
          ]
        },
        {
          "output_type": "stream",
          "name": "stderr",
          "text": [
            "\n"
          ]
        },
        {
          "output_type": "stream",
          "name": "stdout",
          "text": [
            "\n",
            "      Epoch    GPU_mem   box_loss   seg_loss   cls_loss   dfl_loss  Instances       Size\n"
          ]
        },
        {
          "output_type": "stream",
          "name": "stderr",
          "text": [
            "     19/100      4.11G      1.553      2.133     0.9163      1.066        117        640: 100%|██████████| 33/33 [00:08<00:00,  3.80it/s]\n",
            "                 Class     Images  Instances      Box(P          R      mAP50  mAP50-95)     Mask(P          R      mAP50  mAP50-95): 100%|██████████| 5/5 [00:00<00:00,  5.75it/s]"
          ]
        },
        {
          "output_type": "stream",
          "name": "stdout",
          "text": [
            "                   all         37        889      0.762      0.798      0.836      0.446      0.758      0.792       0.83      0.387\n"
          ]
        },
        {
          "output_type": "stream",
          "name": "stderr",
          "text": [
            "\n"
          ]
        },
        {
          "output_type": "stream",
          "name": "stdout",
          "text": [
            "\n",
            "      Epoch    GPU_mem   box_loss   seg_loss   cls_loss   dfl_loss  Instances       Size\n"
          ]
        },
        {
          "output_type": "stream",
          "name": "stderr",
          "text": [
            "     20/100      4.11G      1.544      2.077      0.907      1.048         63        640: 100%|██████████| 33/33 [00:09<00:00,  3.53it/s]\n",
            "                 Class     Images  Instances      Box(P          R      mAP50  mAP50-95)     Mask(P          R      mAP50  mAP50-95): 100%|██████████| 5/5 [00:00<00:00,  6.03it/s]"
          ]
        },
        {
          "output_type": "stream",
          "name": "stdout",
          "text": [
            "                   all         37        889      0.755      0.827       0.84      0.456      0.752      0.822      0.837       0.39\n"
          ]
        },
        {
          "output_type": "stream",
          "name": "stderr",
          "text": [
            "\n"
          ]
        },
        {
          "output_type": "stream",
          "name": "stdout",
          "text": [
            "\n",
            "      Epoch    GPU_mem   box_loss   seg_loss   cls_loss   dfl_loss  Instances       Size\n"
          ]
        },
        {
          "output_type": "stream",
          "name": "stderr",
          "text": [
            "     21/100      4.11G      1.561      2.105     0.9068      1.077         66        640: 100%|██████████| 33/33 [00:09<00:00,  3.50it/s]\n",
            "                 Class     Images  Instances      Box(P          R      mAP50  mAP50-95)     Mask(P          R      mAP50  mAP50-95): 100%|██████████| 5/5 [00:00<00:00,  5.74it/s]"
          ]
        },
        {
          "output_type": "stream",
          "name": "stdout",
          "text": [
            "                   all         37        889      0.777      0.782      0.846      0.482      0.785      0.769      0.843      0.442\n"
          ]
        },
        {
          "output_type": "stream",
          "name": "stderr",
          "text": [
            "\n"
          ]
        },
        {
          "output_type": "stream",
          "name": "stdout",
          "text": [
            "\n",
            "      Epoch    GPU_mem   box_loss   seg_loss   cls_loss   dfl_loss  Instances       Size\n"
          ]
        },
        {
          "output_type": "stream",
          "name": "stderr",
          "text": [
            "     22/100      4.11G       1.53      2.117     0.8907      1.041         82        640: 100%|██████████| 33/33 [00:09<00:00,  3.40it/s]\n",
            "                 Class     Images  Instances      Box(P          R      mAP50  mAP50-95)     Mask(P          R      mAP50  mAP50-95): 100%|██████████| 5/5 [00:00<00:00,  6.83it/s]"
          ]
        },
        {
          "output_type": "stream",
          "name": "stdout",
          "text": [
            "                   all         37        889      0.763      0.815      0.862      0.479      0.756      0.807      0.845      0.395\n"
          ]
        },
        {
          "output_type": "stream",
          "name": "stderr",
          "text": [
            "\n"
          ]
        },
        {
          "output_type": "stream",
          "name": "stdout",
          "text": [
            "\n",
            "      Epoch    GPU_mem   box_loss   seg_loss   cls_loss   dfl_loss  Instances       Size\n"
          ]
        },
        {
          "output_type": "stream",
          "name": "stderr",
          "text": [
            "     23/100      4.11G      1.489      2.097     0.9001      1.041        111        640: 100%|██████████| 33/33 [00:08<00:00,  3.77it/s]\n",
            "                 Class     Images  Instances      Box(P          R      mAP50  mAP50-95)     Mask(P          R      mAP50  mAP50-95): 100%|██████████| 5/5 [00:01<00:00,  4.28it/s]"
          ]
        },
        {
          "output_type": "stream",
          "name": "stdout",
          "text": [
            "                   all         37        889      0.778      0.802       0.85      0.464      0.783      0.798      0.851      0.429\n"
          ]
        },
        {
          "output_type": "stream",
          "name": "stderr",
          "text": [
            "\n"
          ]
        },
        {
          "output_type": "stream",
          "name": "stdout",
          "text": [
            "\n",
            "      Epoch    GPU_mem   box_loss   seg_loss   cls_loss   dfl_loss  Instances       Size\n"
          ]
        },
        {
          "output_type": "stream",
          "name": "stderr",
          "text": [
            "     24/100      4.14G      1.521       2.12     0.9044      1.055         74        640: 100%|██████████| 33/33 [00:08<00:00,  3.88it/s]\n",
            "                 Class     Images  Instances      Box(P          R      mAP50  mAP50-95)     Mask(P          R      mAP50  mAP50-95): 100%|██████████| 5/5 [00:00<00:00,  6.15it/s]"
          ]
        },
        {
          "output_type": "stream",
          "name": "stdout",
          "text": [
            "                   all         37        889      0.766      0.801       0.85      0.476      0.764      0.799      0.844       0.42\n"
          ]
        },
        {
          "output_type": "stream",
          "name": "stderr",
          "text": [
            "\n"
          ]
        },
        {
          "output_type": "stream",
          "name": "stdout",
          "text": [
            "\n",
            "      Epoch    GPU_mem   box_loss   seg_loss   cls_loss   dfl_loss  Instances       Size\n"
          ]
        },
        {
          "output_type": "stream",
          "name": "stderr",
          "text": [
            "     25/100      4.18G       1.49      2.087      0.895      1.032         52        640: 100%|██████████| 33/33 [00:09<00:00,  3.63it/s]\n",
            "                 Class     Images  Instances      Box(P          R      mAP50  mAP50-95)     Mask(P          R      mAP50  mAP50-95): 100%|██████████| 5/5 [00:00<00:00,  6.29it/s]"
          ]
        },
        {
          "output_type": "stream",
          "name": "stdout",
          "text": [
            "                   all         37        889      0.753      0.808      0.852      0.473      0.743      0.798      0.839      0.401\n"
          ]
        },
        {
          "output_type": "stream",
          "name": "stderr",
          "text": [
            "\n"
          ]
        },
        {
          "output_type": "stream",
          "name": "stdout",
          "text": [
            "\n",
            "      Epoch    GPU_mem   box_loss   seg_loss   cls_loss   dfl_loss  Instances       Size\n"
          ]
        },
        {
          "output_type": "stream",
          "name": "stderr",
          "text": [
            "     26/100      4.19G      1.525      2.103     0.9217      1.042        106        640: 100%|██████████| 33/33 [00:09<00:00,  3.42it/s]\n",
            "                 Class     Images  Instances      Box(P          R      mAP50  mAP50-95)     Mask(P          R      mAP50  mAP50-95): 100%|██████████| 5/5 [00:00<00:00,  6.29it/s]"
          ]
        },
        {
          "output_type": "stream",
          "name": "stdout",
          "text": [
            "                   all         37        889      0.758      0.803      0.843      0.465      0.764      0.785      0.836       0.41\n"
          ]
        },
        {
          "output_type": "stream",
          "name": "stderr",
          "text": [
            "\n"
          ]
        },
        {
          "output_type": "stream",
          "name": "stdout",
          "text": [
            "\n",
            "      Epoch    GPU_mem   box_loss   seg_loss   cls_loss   dfl_loss  Instances       Size\n"
          ]
        },
        {
          "output_type": "stream",
          "name": "stderr",
          "text": [
            "     27/100      4.19G      1.519       2.11     0.9058      1.062         42        640: 100%|██████████| 33/33 [00:09<00:00,  3.54it/s]\n",
            "                 Class     Images  Instances      Box(P          R      mAP50  mAP50-95)     Mask(P          R      mAP50  mAP50-95): 100%|██████████| 5/5 [00:00<00:00,  6.49it/s]"
          ]
        },
        {
          "output_type": "stream",
          "name": "stdout",
          "text": [
            "                   all         37        889      0.791      0.775      0.847      0.478      0.791      0.775      0.847      0.425\n"
          ]
        },
        {
          "output_type": "stream",
          "name": "stderr",
          "text": [
            "\n"
          ]
        },
        {
          "output_type": "stream",
          "name": "stdout",
          "text": [
            "\n",
            "      Epoch    GPU_mem   box_loss   seg_loss   cls_loss   dfl_loss  Instances       Size\n"
          ]
        },
        {
          "output_type": "stream",
          "name": "stderr",
          "text": [
            "     28/100      4.22G      1.527      2.122     0.8866      1.057        106        640: 100%|██████████| 33/33 [00:09<00:00,  3.49it/s]\n",
            "                 Class     Images  Instances      Box(P          R      mAP50  mAP50-95)     Mask(P          R      mAP50  mAP50-95): 100%|██████████| 5/5 [00:00<00:00,  5.84it/s]"
          ]
        },
        {
          "output_type": "stream",
          "name": "stdout",
          "text": [
            "                   all         37        889      0.765      0.811       0.85      0.433      0.758        0.8      0.841       0.39\n"
          ]
        },
        {
          "output_type": "stream",
          "name": "stderr",
          "text": [
            "\n"
          ]
        },
        {
          "output_type": "stream",
          "name": "stdout",
          "text": [
            "\n",
            "      Epoch    GPU_mem   box_loss   seg_loss   cls_loss   dfl_loss  Instances       Size\n"
          ]
        },
        {
          "output_type": "stream",
          "name": "stderr",
          "text": [
            "     29/100      4.22G      1.482      2.025     0.8658       1.04        118        640: 100%|██████████| 33/33 [00:09<00:00,  3.63it/s]\n",
            "                 Class     Images  Instances      Box(P          R      mAP50  mAP50-95)     Mask(P          R      mAP50  mAP50-95): 100%|██████████| 5/5 [00:01<00:00,  4.37it/s]"
          ]
        },
        {
          "output_type": "stream",
          "name": "stdout",
          "text": [
            "                   all         37        889      0.771      0.804      0.851      0.484      0.771        0.8      0.847      0.438\n"
          ]
        },
        {
          "output_type": "stream",
          "name": "stderr",
          "text": [
            "\n"
          ]
        },
        {
          "output_type": "stream",
          "name": "stdout",
          "text": [
            "\n",
            "      Epoch    GPU_mem   box_loss   seg_loss   cls_loss   dfl_loss  Instances       Size\n"
          ]
        },
        {
          "output_type": "stream",
          "name": "stderr",
          "text": [
            "     30/100      4.22G      1.498       2.08     0.8673      1.055         67        640: 100%|██████████| 33/33 [00:08<00:00,  3.98it/s]\n",
            "                 Class     Images  Instances      Box(P          R      mAP50  mAP50-95)     Mask(P          R      mAP50  mAP50-95): 100%|██████████| 5/5 [00:00<00:00,  5.88it/s]"
          ]
        },
        {
          "output_type": "stream",
          "name": "stdout",
          "text": [
            "                   all         37        889       0.75      0.843      0.856       0.49      0.745      0.837      0.852      0.435\n"
          ]
        },
        {
          "output_type": "stream",
          "name": "stderr",
          "text": [
            "\n"
          ]
        },
        {
          "output_type": "stream",
          "name": "stdout",
          "text": [
            "\n",
            "      Epoch    GPU_mem   box_loss   seg_loss   cls_loss   dfl_loss  Instances       Size\n"
          ]
        },
        {
          "output_type": "stream",
          "name": "stderr",
          "text": [
            "     31/100      4.22G      1.486       2.07     0.8921      1.029        108        640: 100%|██████████| 33/33 [00:09<00:00,  3.59it/s]\n",
            "                 Class     Images  Instances      Box(P          R      mAP50  mAP50-95)     Mask(P          R      mAP50  mAP50-95): 100%|██████████| 5/5 [00:00<00:00,  6.18it/s]"
          ]
        },
        {
          "output_type": "stream",
          "name": "stdout",
          "text": [
            "                   all         37        889      0.777      0.806      0.859      0.473      0.774      0.794      0.846      0.395\n"
          ]
        },
        {
          "output_type": "stream",
          "name": "stderr",
          "text": [
            "\n"
          ]
        },
        {
          "output_type": "stream",
          "name": "stdout",
          "text": [
            "\n",
            "      Epoch    GPU_mem   box_loss   seg_loss   cls_loss   dfl_loss  Instances       Size\n"
          ]
        },
        {
          "output_type": "stream",
          "name": "stderr",
          "text": [
            "     32/100      4.22G      1.494      2.064     0.9149      1.059         93        640: 100%|██████████| 33/33 [00:09<00:00,  3.54it/s]\n",
            "                 Class     Images  Instances      Box(P          R      mAP50  mAP50-95)     Mask(P          R      mAP50  mAP50-95): 100%|██████████| 5/5 [00:00<00:00,  6.93it/s]"
          ]
        },
        {
          "output_type": "stream",
          "name": "stdout",
          "text": [
            "                   all         37        889      0.768       0.79      0.848      0.472      0.765      0.786       0.84      0.423\n"
          ]
        },
        {
          "output_type": "stream",
          "name": "stderr",
          "text": [
            "\n"
          ]
        },
        {
          "output_type": "stream",
          "name": "stdout",
          "text": [
            "\n",
            "      Epoch    GPU_mem   box_loss   seg_loss   cls_loss   dfl_loss  Instances       Size\n"
          ]
        },
        {
          "output_type": "stream",
          "name": "stderr",
          "text": [
            "     33/100      4.22G      1.512      2.081     0.9162      1.039        100        640: 100%|██████████| 33/33 [00:09<00:00,  3.40it/s]\n",
            "                 Class     Images  Instances      Box(P          R      mAP50  mAP50-95)     Mask(P          R      mAP50  mAP50-95): 100%|██████████| 5/5 [00:00<00:00,  7.03it/s]"
          ]
        },
        {
          "output_type": "stream",
          "name": "stdout",
          "text": [
            "                   all         37        889      0.779      0.832      0.863      0.499      0.773      0.826      0.854      0.449\n"
          ]
        },
        {
          "output_type": "stream",
          "name": "stderr",
          "text": [
            "\n"
          ]
        },
        {
          "output_type": "stream",
          "name": "stdout",
          "text": [
            "\n",
            "      Epoch    GPU_mem   box_loss   seg_loss   cls_loss   dfl_loss  Instances       Size\n"
          ]
        },
        {
          "output_type": "stream",
          "name": "stderr",
          "text": [
            "     34/100      4.22G      1.533      2.094     0.8833      1.058         59        640: 100%|██████████| 33/33 [00:09<00:00,  3.45it/s]\n",
            "                 Class     Images  Instances      Box(P          R      mAP50  mAP50-95)     Mask(P          R      mAP50  mAP50-95): 100%|██████████| 5/5 [00:00<00:00,  5.99it/s]"
          ]
        },
        {
          "output_type": "stream",
          "name": "stdout",
          "text": [
            "                   all         37        889      0.757      0.844      0.854      0.469      0.751       0.84      0.849      0.403\n"
          ]
        },
        {
          "output_type": "stream",
          "name": "stderr",
          "text": [
            "\n"
          ]
        },
        {
          "output_type": "stream",
          "name": "stdout",
          "text": [
            "\n",
            "      Epoch    GPU_mem   box_loss   seg_loss   cls_loss   dfl_loss  Instances       Size\n"
          ]
        },
        {
          "output_type": "stream",
          "name": "stderr",
          "text": [
            "     35/100      4.22G      1.475      2.036     0.8582      1.039        136        640: 100%|██████████| 33/33 [00:08<00:00,  3.83it/s]\n",
            "                 Class     Images  Instances      Box(P          R      mAP50  mAP50-95)     Mask(P          R      mAP50  mAP50-95): 100%|██████████| 5/5 [00:01<00:00,  3.64it/s]"
          ]
        },
        {
          "output_type": "stream",
          "name": "stdout",
          "text": [
            "                   all         37        889      0.772      0.835      0.856       0.48      0.764      0.834       0.85      0.415\n"
          ]
        },
        {
          "output_type": "stream",
          "name": "stderr",
          "text": [
            "\n"
          ]
        },
        {
          "output_type": "stream",
          "name": "stdout",
          "text": [
            "\n",
            "      Epoch    GPU_mem   box_loss   seg_loss   cls_loss   dfl_loss  Instances       Size\n"
          ]
        },
        {
          "output_type": "stream",
          "name": "stderr",
          "text": [
            "     36/100      4.22G      1.518      2.081     0.8668      1.039        106        640: 100%|██████████| 33/33 [00:08<00:00,  3.86it/s]\n",
            "                 Class     Images  Instances      Box(P          R      mAP50  mAP50-95)     Mask(P          R      mAP50  mAP50-95): 100%|██████████| 5/5 [00:00<00:00,  6.76it/s]"
          ]
        },
        {
          "output_type": "stream",
          "name": "stdout",
          "text": [
            "                   all         37        889      0.771       0.83       0.86      0.494      0.771      0.818      0.851      0.429\n"
          ]
        },
        {
          "output_type": "stream",
          "name": "stderr",
          "text": [
            "\n"
          ]
        },
        {
          "output_type": "stream",
          "name": "stdout",
          "text": [
            "\n",
            "      Epoch    GPU_mem   box_loss   seg_loss   cls_loss   dfl_loss  Instances       Size\n"
          ]
        },
        {
          "output_type": "stream",
          "name": "stderr",
          "text": [
            "     37/100      4.22G      1.501      2.081     0.8504      1.048         83        640: 100%|██████████| 33/33 [00:09<00:00,  3.54it/s]\n",
            "                 Class     Images  Instances      Box(P          R      mAP50  mAP50-95)     Mask(P          R      mAP50  mAP50-95): 100%|██████████| 5/5 [00:00<00:00,  5.52it/s]"
          ]
        },
        {
          "output_type": "stream",
          "name": "stdout",
          "text": [
            "                   all         37        889      0.771      0.813      0.853      0.453      0.769      0.811      0.851        0.4\n"
          ]
        },
        {
          "output_type": "stream",
          "name": "stderr",
          "text": [
            "\n"
          ]
        },
        {
          "output_type": "stream",
          "name": "stdout",
          "text": [
            "\n",
            "      Epoch    GPU_mem   box_loss   seg_loss   cls_loss   dfl_loss  Instances       Size\n"
          ]
        },
        {
          "output_type": "stream",
          "name": "stderr",
          "text": [
            "     38/100      4.22G      1.477      2.046     0.8525      1.035        107        640: 100%|██████████| 33/33 [00:09<00:00,  3.51it/s]\n",
            "                 Class     Images  Instances      Box(P          R      mAP50  mAP50-95)     Mask(P          R      mAP50  mAP50-95): 100%|██████████| 5/5 [00:00<00:00,  6.83it/s]"
          ]
        },
        {
          "output_type": "stream",
          "name": "stdout",
          "text": [
            "                   all         37        889      0.766      0.826      0.859      0.497      0.769       0.81       0.85      0.421\n"
          ]
        },
        {
          "output_type": "stream",
          "name": "stderr",
          "text": [
            "\n"
          ]
        },
        {
          "output_type": "stream",
          "name": "stdout",
          "text": [
            "\n",
            "      Epoch    GPU_mem   box_loss   seg_loss   cls_loss   dfl_loss  Instances       Size\n"
          ]
        },
        {
          "output_type": "stream",
          "name": "stderr",
          "text": [
            "     39/100      4.22G      1.461      2.051     0.8594      1.045         53        640: 100%|██████████| 33/33 [00:09<00:00,  3.47it/s]\n",
            "                 Class     Images  Instances      Box(P          R      mAP50  mAP50-95)     Mask(P          R      mAP50  mAP50-95): 100%|██████████| 5/5 [00:00<00:00,  6.33it/s]"
          ]
        },
        {
          "output_type": "stream",
          "name": "stdout",
          "text": [
            "                   all         37        889      0.778      0.818      0.861      0.497      0.769      0.815      0.855      0.434\n"
          ]
        },
        {
          "output_type": "stream",
          "name": "stderr",
          "text": [
            "\n"
          ]
        },
        {
          "output_type": "stream",
          "name": "stdout",
          "text": [
            "\n",
            "      Epoch    GPU_mem   box_loss   seg_loss   cls_loss   dfl_loss  Instances       Size\n"
          ]
        },
        {
          "output_type": "stream",
          "name": "stderr",
          "text": [
            "     40/100      4.22G      1.471      2.056     0.8666      1.036         51        640: 100%|██████████| 33/33 [00:09<00:00,  3.50it/s]\n",
            "                 Class     Images  Instances      Box(P          R      mAP50  mAP50-95)     Mask(P          R      mAP50  mAP50-95): 100%|██████████| 5/5 [00:00<00:00,  6.16it/s]"
          ]
        },
        {
          "output_type": "stream",
          "name": "stdout",
          "text": [
            "                   all         37        889      0.774      0.829       0.86      0.492      0.773      0.828      0.861      0.446\n"
          ]
        },
        {
          "output_type": "stream",
          "name": "stderr",
          "text": [
            "\n"
          ]
        },
        {
          "output_type": "stream",
          "name": "stdout",
          "text": [
            "\n",
            "      Epoch    GPU_mem   box_loss   seg_loss   cls_loss   dfl_loss  Instances       Size\n"
          ]
        },
        {
          "output_type": "stream",
          "name": "stderr",
          "text": [
            "     41/100      4.22G      1.483      2.053     0.8785      1.027         69        640: 100%|██████████| 33/33 [00:08<00:00,  3.85it/s]\n",
            "                 Class     Images  Instances      Box(P          R      mAP50  mAP50-95)     Mask(P          R      mAP50  mAP50-95): 100%|██████████| 5/5 [00:01<00:00,  4.15it/s]"
          ]
        },
        {
          "output_type": "stream",
          "name": "stdout",
          "text": [
            "                   all         37        889       0.78      0.828      0.864      0.502      0.773      0.819      0.855      0.449\n"
          ]
        },
        {
          "output_type": "stream",
          "name": "stderr",
          "text": [
            "\n"
          ]
        },
        {
          "output_type": "stream",
          "name": "stdout",
          "text": [
            "\n",
            "      Epoch    GPU_mem   box_loss   seg_loss   cls_loss   dfl_loss  Instances       Size\n"
          ]
        },
        {
          "output_type": "stream",
          "name": "stderr",
          "text": [
            "     42/100      4.22G      1.471      2.061      0.863      1.029         95        640: 100%|██████████| 33/33 [00:08<00:00,  3.75it/s]\n",
            "                 Class     Images  Instances      Box(P          R      mAP50  mAP50-95)     Mask(P          R      mAP50  mAP50-95): 100%|██████████| 5/5 [00:00<00:00,  6.42it/s]"
          ]
        },
        {
          "output_type": "stream",
          "name": "stdout",
          "text": [
            "                   all         37        889       0.77      0.816      0.853      0.475      0.762      0.807      0.845      0.404\n"
          ]
        },
        {
          "output_type": "stream",
          "name": "stderr",
          "text": [
            "\n"
          ]
        },
        {
          "output_type": "stream",
          "name": "stdout",
          "text": [
            "\n",
            "      Epoch    GPU_mem   box_loss   seg_loss   cls_loss   dfl_loss  Instances       Size\n"
          ]
        },
        {
          "output_type": "stream",
          "name": "stderr",
          "text": [
            "     43/100      4.22G      1.459      2.047     0.8446      1.033        101        640: 100%|██████████| 33/33 [00:09<00:00,  3.51it/s]\n",
            "                 Class     Images  Instances      Box(P          R      mAP50  mAP50-95)     Mask(P          R      mAP50  mAP50-95): 100%|██████████| 5/5 [00:00<00:00,  6.47it/s]"
          ]
        },
        {
          "output_type": "stream",
          "name": "stdout",
          "text": [
            "                   all         37        889       0.77      0.819      0.861      0.499      0.768      0.816      0.856      0.451\n"
          ]
        },
        {
          "output_type": "stream",
          "name": "stderr",
          "text": [
            "\n"
          ]
        },
        {
          "output_type": "stream",
          "name": "stdout",
          "text": [
            "\n",
            "      Epoch    GPU_mem   box_loss   seg_loss   cls_loss   dfl_loss  Instances       Size\n"
          ]
        },
        {
          "output_type": "stream",
          "name": "stderr",
          "text": [
            "     44/100      4.22G      1.483      2.044     0.8561       1.03         39        640: 100%|██████████| 33/33 [00:09<00:00,  3.48it/s]\n",
            "                 Class     Images  Instances      Box(P          R      mAP50  mAP50-95)     Mask(P          R      mAP50  mAP50-95): 100%|██████████| 5/5 [00:00<00:00,  6.15it/s]"
          ]
        },
        {
          "output_type": "stream",
          "name": "stdout",
          "text": [
            "                   all         37        889      0.776      0.808      0.854      0.476       0.77      0.803      0.845      0.417\n"
          ]
        },
        {
          "output_type": "stream",
          "name": "stderr",
          "text": [
            "\n"
          ]
        },
        {
          "output_type": "stream",
          "name": "stdout",
          "text": [
            "\n",
            "      Epoch    GPU_mem   box_loss   seg_loss   cls_loss   dfl_loss  Instances       Size\n"
          ]
        },
        {
          "output_type": "stream",
          "name": "stderr",
          "text": [
            "     45/100      4.22G      1.481      2.035     0.8439      1.036         70        640: 100%|██████████| 33/33 [00:09<00:00,  3.47it/s]\n",
            "                 Class     Images  Instances      Box(P          R      mAP50  mAP50-95)     Mask(P          R      mAP50  mAP50-95): 100%|██████████| 5/5 [00:00<00:00,  7.06it/s]"
          ]
        },
        {
          "output_type": "stream",
          "name": "stdout",
          "text": [
            "                   all         37        889      0.777       0.82      0.859      0.478      0.773      0.801      0.847      0.416\n"
          ]
        },
        {
          "output_type": "stream",
          "name": "stderr",
          "text": [
            "\n"
          ]
        },
        {
          "output_type": "stream",
          "name": "stdout",
          "text": [
            "\n",
            "      Epoch    GPU_mem   box_loss   seg_loss   cls_loss   dfl_loss  Instances       Size\n"
          ]
        },
        {
          "output_type": "stream",
          "name": "stderr",
          "text": [
            "     46/100      4.22G      1.454       2.02     0.8604      1.043         87        640: 100%|██████████| 33/33 [00:09<00:00,  3.57it/s]\n",
            "                 Class     Images  Instances      Box(P          R      mAP50  mAP50-95)     Mask(P          R      mAP50  mAP50-95): 100%|██████████| 5/5 [00:00<00:00,  5.32it/s]"
          ]
        },
        {
          "output_type": "stream",
          "name": "stdout",
          "text": [
            "                   all         37        889      0.776      0.812      0.861      0.493       0.77      0.807      0.853       0.44\n"
          ]
        },
        {
          "output_type": "stream",
          "name": "stderr",
          "text": [
            "\n"
          ]
        },
        {
          "output_type": "stream",
          "name": "stdout",
          "text": [
            "\n",
            "      Epoch    GPU_mem   box_loss   seg_loss   cls_loss   dfl_loss  Instances       Size\n"
          ]
        },
        {
          "output_type": "stream",
          "name": "stderr",
          "text": [
            "     47/100      4.22G      1.473      2.078     0.8738      1.021        104        640: 100%|██████████| 33/33 [00:08<00:00,  3.83it/s]\n",
            "                 Class     Images  Instances      Box(P          R      mAP50  mAP50-95)     Mask(P          R      mAP50  mAP50-95): 100%|██████████| 5/5 [00:00<00:00,  5.31it/s]"
          ]
        },
        {
          "output_type": "stream",
          "name": "stdout",
          "text": [
            "                   all         37        889      0.763      0.816      0.849      0.468      0.763      0.812      0.838      0.401\n"
          ]
        },
        {
          "output_type": "stream",
          "name": "stderr",
          "text": [
            "\n"
          ]
        },
        {
          "output_type": "stream",
          "name": "stdout",
          "text": [
            "\n",
            "      Epoch    GPU_mem   box_loss   seg_loss   cls_loss   dfl_loss  Instances       Size\n"
          ]
        },
        {
          "output_type": "stream",
          "name": "stderr",
          "text": [
            "     48/100      4.22G      1.446      1.988     0.8509      1.038         61        640: 100%|██████████| 33/33 [00:08<00:00,  3.72it/s]\n",
            "                 Class     Images  Instances      Box(P          R      mAP50  mAP50-95)     Mask(P          R      mAP50  mAP50-95): 100%|██████████| 5/5 [00:00<00:00,  6.22it/s]"
          ]
        },
        {
          "output_type": "stream",
          "name": "stdout",
          "text": [
            "                   all         37        889      0.773      0.795      0.844       0.47      0.773       0.79      0.833      0.414\n"
          ]
        },
        {
          "output_type": "stream",
          "name": "stderr",
          "text": [
            "\n"
          ]
        },
        {
          "output_type": "stream",
          "name": "stdout",
          "text": [
            "\n",
            "      Epoch    GPU_mem   box_loss   seg_loss   cls_loss   dfl_loss  Instances       Size\n"
          ]
        },
        {
          "output_type": "stream",
          "name": "stderr",
          "text": [
            "     49/100      4.22G      1.434      2.029     0.8467      1.028         68        640: 100%|██████████| 33/33 [00:09<00:00,  3.56it/s]\n",
            "                 Class     Images  Instances      Box(P          R      mAP50  mAP50-95)     Mask(P          R      mAP50  mAP50-95): 100%|██████████| 5/5 [00:00<00:00,  5.88it/s]"
          ]
        },
        {
          "output_type": "stream",
          "name": "stdout",
          "text": [
            "                   all         37        889      0.769      0.826      0.859      0.487      0.769       0.82      0.848      0.413\n"
          ]
        },
        {
          "output_type": "stream",
          "name": "stderr",
          "text": [
            "\n"
          ]
        },
        {
          "output_type": "stream",
          "name": "stdout",
          "text": [
            "\n",
            "      Epoch    GPU_mem   box_loss   seg_loss   cls_loss   dfl_loss  Instances       Size\n"
          ]
        },
        {
          "output_type": "stream",
          "name": "stderr",
          "text": [
            "     50/100      4.22G      1.443      1.969     0.8356      1.003        134        640: 100%|██████████| 33/33 [00:09<00:00,  3.46it/s]\n",
            "                 Class     Images  Instances      Box(P          R      mAP50  mAP50-95)     Mask(P          R      mAP50  mAP50-95): 100%|██████████| 5/5 [00:00<00:00,  6.58it/s]"
          ]
        },
        {
          "output_type": "stream",
          "name": "stdout",
          "text": [
            "                   all         37        889      0.769      0.831      0.852      0.489      0.777      0.819      0.845      0.426\n"
          ]
        },
        {
          "output_type": "stream",
          "name": "stderr",
          "text": [
            "\n"
          ]
        },
        {
          "output_type": "stream",
          "name": "stdout",
          "text": [
            "\n",
            "      Epoch    GPU_mem   box_loss   seg_loss   cls_loss   dfl_loss  Instances       Size\n"
          ]
        },
        {
          "output_type": "stream",
          "name": "stderr",
          "text": [
            "     51/100      4.22G      1.452      2.018     0.8401      1.035         98        640: 100%|██████████| 33/33 [00:09<00:00,  3.50it/s]\n",
            "                 Class     Images  Instances      Box(P          R      mAP50  mAP50-95)     Mask(P          R      mAP50  mAP50-95): 100%|██████████| 5/5 [00:00<00:00,  6.20it/s]"
          ]
        },
        {
          "output_type": "stream",
          "name": "stdout",
          "text": [
            "                   all         37        889      0.777      0.829      0.865       0.48      0.782       0.81      0.854      0.418\n"
          ]
        },
        {
          "output_type": "stream",
          "name": "stderr",
          "text": [
            "\n"
          ]
        },
        {
          "output_type": "stream",
          "name": "stdout",
          "text": [
            "\n",
            "      Epoch    GPU_mem   box_loss   seg_loss   cls_loss   dfl_loss  Instances       Size\n"
          ]
        },
        {
          "output_type": "stream",
          "name": "stderr",
          "text": [
            "     52/100      4.22G      1.444      1.981     0.8383      1.014         26        640: 100%|██████████| 33/33 [00:08<00:00,  3.89it/s]\n",
            "                 Class     Images  Instances      Box(P          R      mAP50  mAP50-95)     Mask(P          R      mAP50  mAP50-95): 100%|██████████| 5/5 [00:01<00:00,  3.91it/s]"
          ]
        },
        {
          "output_type": "stream",
          "name": "stdout",
          "text": [
            "                   all         37        889      0.782      0.817      0.863      0.493      0.781      0.809      0.853      0.422\n"
          ]
        },
        {
          "output_type": "stream",
          "name": "stderr",
          "text": [
            "\n"
          ]
        },
        {
          "output_type": "stream",
          "name": "stdout",
          "text": [
            "\n",
            "      Epoch    GPU_mem   box_loss   seg_loss   cls_loss   dfl_loss  Instances       Size\n"
          ]
        },
        {
          "output_type": "stream",
          "name": "stderr",
          "text": [
            "     53/100      4.22G      1.421      1.973     0.8085      1.005        127        640: 100%|██████████| 33/33 [00:08<00:00,  3.84it/s]\n",
            "                 Class     Images  Instances      Box(P          R      mAP50  mAP50-95)     Mask(P          R      mAP50  mAP50-95): 100%|██████████| 5/5 [00:00<00:00,  6.30it/s]"
          ]
        },
        {
          "output_type": "stream",
          "name": "stdout",
          "text": [
            "                   all         37        889      0.774      0.831      0.862      0.502      0.773      0.829      0.861      0.439\n"
          ]
        },
        {
          "output_type": "stream",
          "name": "stderr",
          "text": [
            "\n"
          ]
        },
        {
          "output_type": "stream",
          "name": "stdout",
          "text": [
            "\n",
            "      Epoch    GPU_mem   box_loss   seg_loss   cls_loss   dfl_loss  Instances       Size\n"
          ]
        },
        {
          "output_type": "stream",
          "name": "stderr",
          "text": [
            "     54/100      4.22G      1.447      1.983     0.8099      1.018        103        640: 100%|██████████| 33/33 [00:09<00:00,  3.46it/s]\n",
            "                 Class     Images  Instances      Box(P          R      mAP50  mAP50-95)     Mask(P          R      mAP50  mAP50-95): 100%|██████████| 5/5 [00:00<00:00,  6.20it/s]"
          ]
        },
        {
          "output_type": "stream",
          "name": "stdout",
          "text": [
            "                   all         37        889      0.772      0.834      0.865      0.494      0.769       0.83      0.857      0.427\n"
          ]
        },
        {
          "output_type": "stream",
          "name": "stderr",
          "text": [
            "\n"
          ]
        },
        {
          "output_type": "stream",
          "name": "stdout",
          "text": [
            "\n",
            "      Epoch    GPU_mem   box_loss   seg_loss   cls_loss   dfl_loss  Instances       Size\n"
          ]
        },
        {
          "output_type": "stream",
          "name": "stderr",
          "text": [
            "     55/100      4.22G      1.429      1.986     0.8467      1.031         67        640: 100%|██████████| 33/33 [00:09<00:00,  3.58it/s]\n",
            "                 Class     Images  Instances      Box(P          R      mAP50  mAP50-95)     Mask(P          R      mAP50  mAP50-95): 100%|██████████| 5/5 [00:00<00:00,  6.66it/s]"
          ]
        },
        {
          "output_type": "stream",
          "name": "stdout",
          "text": [
            "                   all         37        889      0.783      0.796      0.852      0.483       0.78      0.794      0.846      0.432\n"
          ]
        },
        {
          "output_type": "stream",
          "name": "stderr",
          "text": [
            "\n"
          ]
        },
        {
          "output_type": "stream",
          "name": "stdout",
          "text": [
            "\n",
            "      Epoch    GPU_mem   box_loss   seg_loss   cls_loss   dfl_loss  Instances       Size\n"
          ]
        },
        {
          "output_type": "stream",
          "name": "stderr",
          "text": [
            "     56/100      4.22G      1.448      2.005     0.8302      1.032         38        640: 100%|██████████| 33/33 [00:09<00:00,  3.59it/s]\n",
            "                 Class     Images  Instances      Box(P          R      mAP50  mAP50-95)     Mask(P          R      mAP50  mAP50-95): 100%|██████████| 5/5 [00:00<00:00,  6.02it/s]"
          ]
        },
        {
          "output_type": "stream",
          "name": "stdout",
          "text": [
            "                   all         37        889      0.772       0.83      0.863      0.502      0.772      0.818      0.856      0.445\n"
          ]
        },
        {
          "output_type": "stream",
          "name": "stderr",
          "text": [
            "\n"
          ]
        },
        {
          "output_type": "stream",
          "name": "stdout",
          "text": [
            "\n",
            "      Epoch    GPU_mem   box_loss   seg_loss   cls_loss   dfl_loss  Instances       Size\n"
          ]
        },
        {
          "output_type": "stream",
          "name": "stderr",
          "text": [
            "     57/100      4.22G      1.433      1.981     0.8076      1.004         52        640: 100%|██████████| 33/33 [00:09<00:00,  3.57it/s]\n",
            "                 Class     Images  Instances      Box(P          R      mAP50  mAP50-95)     Mask(P          R      mAP50  mAP50-95): 100%|██████████| 5/5 [00:00<00:00,  6.32it/s]"
          ]
        },
        {
          "output_type": "stream",
          "name": "stdout",
          "text": [
            "                   all         37        889       0.78      0.831      0.869      0.497      0.778      0.828      0.858       0.43\n"
          ]
        },
        {
          "output_type": "stream",
          "name": "stderr",
          "text": [
            "\n"
          ]
        },
        {
          "output_type": "stream",
          "name": "stdout",
          "text": [
            "\n",
            "      Epoch    GPU_mem   box_loss   seg_loss   cls_loss   dfl_loss  Instances       Size\n"
          ]
        },
        {
          "output_type": "stream",
          "name": "stderr",
          "text": [
            "     58/100      4.22G       1.43      1.983     0.8152      1.035         94        640: 100%|██████████| 33/33 [00:08<00:00,  3.86it/s]\n",
            "                 Class     Images  Instances      Box(P          R      mAP50  mAP50-95)     Mask(P          R      mAP50  mAP50-95): 100%|██████████| 5/5 [00:01<00:00,  4.78it/s]"
          ]
        },
        {
          "output_type": "stream",
          "name": "stdout",
          "text": [
            "                   all         37        889      0.788      0.818      0.861      0.493      0.788      0.818      0.859      0.442\n"
          ]
        },
        {
          "output_type": "stream",
          "name": "stderr",
          "text": [
            "\n"
          ]
        },
        {
          "output_type": "stream",
          "name": "stdout",
          "text": [
            "\n",
            "      Epoch    GPU_mem   box_loss   seg_loss   cls_loss   dfl_loss  Instances       Size\n"
          ]
        },
        {
          "output_type": "stream",
          "name": "stderr",
          "text": [
            "     59/100      4.22G      1.459      2.012     0.8397      1.046         60        640: 100%|██████████| 33/33 [00:08<00:00,  3.74it/s]\n",
            "                 Class     Images  Instances      Box(P          R      mAP50  mAP50-95)     Mask(P          R      mAP50  mAP50-95): 100%|██████████| 5/5 [00:00<00:00,  6.93it/s]"
          ]
        },
        {
          "output_type": "stream",
          "name": "stdout",
          "text": [
            "                   all         37        889      0.771      0.826      0.865      0.491      0.763      0.816      0.853      0.418\n"
          ]
        },
        {
          "output_type": "stream",
          "name": "stderr",
          "text": [
            "\n"
          ]
        },
        {
          "output_type": "stream",
          "name": "stdout",
          "text": [
            "\n",
            "      Epoch    GPU_mem   box_loss   seg_loss   cls_loss   dfl_loss  Instances       Size\n"
          ]
        },
        {
          "output_type": "stream",
          "name": "stderr",
          "text": [
            "     60/100      4.22G      1.425       2.01     0.8247      1.009        114        640: 100%|██████████| 33/33 [00:09<00:00,  3.51it/s]\n",
            "                 Class     Images  Instances      Box(P          R      mAP50  mAP50-95)     Mask(P          R      mAP50  mAP50-95): 100%|██████████| 5/5 [00:00<00:00,  6.18it/s]"
          ]
        },
        {
          "output_type": "stream",
          "name": "stdout",
          "text": [
            "                   all         37        889      0.764       0.84      0.864      0.495       0.76      0.835      0.855      0.429\n"
          ]
        },
        {
          "output_type": "stream",
          "name": "stderr",
          "text": [
            "\n"
          ]
        },
        {
          "output_type": "stream",
          "name": "stdout",
          "text": [
            "\n",
            "      Epoch    GPU_mem   box_loss   seg_loss   cls_loss   dfl_loss  Instances       Size\n"
          ]
        },
        {
          "output_type": "stream",
          "name": "stderr",
          "text": [
            "     61/100      4.22G      1.446      2.022     0.8234      1.041         52        640: 100%|██████████| 33/33 [00:09<00:00,  3.51it/s]\n",
            "                 Class     Images  Instances      Box(P          R      mAP50  mAP50-95)     Mask(P          R      mAP50  mAP50-95): 100%|██████████| 5/5 [00:00<00:00,  6.96it/s]"
          ]
        },
        {
          "output_type": "stream",
          "name": "stdout",
          "text": [
            "                   all         37        889      0.772      0.829      0.865      0.493      0.769      0.824      0.859      0.427\n"
          ]
        },
        {
          "output_type": "stream",
          "name": "stderr",
          "text": [
            "\n"
          ]
        },
        {
          "output_type": "stream",
          "name": "stdout",
          "text": [
            "\n",
            "      Epoch    GPU_mem   box_loss   seg_loss   cls_loss   dfl_loss  Instances       Size\n"
          ]
        },
        {
          "output_type": "stream",
          "name": "stderr",
          "text": [
            "     62/100      4.22G      1.441      2.001     0.8183      1.028        108        640: 100%|██████████| 33/33 [00:09<00:00,  3.62it/s]\n",
            "                 Class     Images  Instances      Box(P          R      mAP50  mAP50-95)     Mask(P          R      mAP50  mAP50-95): 100%|██████████| 5/5 [00:00<00:00,  6.31it/s]"
          ]
        },
        {
          "output_type": "stream",
          "name": "stdout",
          "text": [
            "                   all         37        889      0.781       0.82      0.866      0.483      0.777      0.804      0.852        0.4\n"
          ]
        },
        {
          "output_type": "stream",
          "name": "stderr",
          "text": [
            "\n"
          ]
        },
        {
          "output_type": "stream",
          "name": "stdout",
          "text": [
            "\n",
            "      Epoch    GPU_mem   box_loss   seg_loss   cls_loss   dfl_loss  Instances       Size\n"
          ]
        },
        {
          "output_type": "stream",
          "name": "stderr",
          "text": [
            "     63/100      4.22G      1.416      1.987     0.8169      1.005         56        640: 100%|██████████| 33/33 [00:08<00:00,  3.97it/s]\n",
            "                 Class     Images  Instances      Box(P          R      mAP50  mAP50-95)     Mask(P          R      mAP50  mAP50-95): 100%|██████████| 5/5 [00:01<00:00,  4.09it/s]\n"
          ]
        },
        {
          "output_type": "stream",
          "name": "stdout",
          "text": [
            "                   all         37        889      0.772      0.829      0.865      0.506      0.792      0.795      0.853      0.437\n",
            "\n",
            "      Epoch    GPU_mem   box_loss   seg_loss   cls_loss   dfl_loss  Instances       Size\n"
          ]
        },
        {
          "output_type": "stream",
          "name": "stderr",
          "text": [
            "     64/100      4.22G      1.397      1.951     0.8018      1.033         29        640: 100%|██████████| 33/33 [00:08<00:00,  3.95it/s]\n",
            "                 Class     Images  Instances      Box(P          R      mAP50  mAP50-95)     Mask(P          R      mAP50  mAP50-95): 100%|██████████| 5/5 [00:00<00:00,  5.58it/s]"
          ]
        },
        {
          "output_type": "stream",
          "name": "stdout",
          "text": [
            "                   all         37        889      0.785      0.813       0.86      0.491      0.783      0.811      0.855      0.429\n"
          ]
        },
        {
          "output_type": "stream",
          "name": "stderr",
          "text": [
            "\n"
          ]
        },
        {
          "output_type": "stream",
          "name": "stdout",
          "text": [
            "\n",
            "      Epoch    GPU_mem   box_loss   seg_loss   cls_loss   dfl_loss  Instances       Size\n"
          ]
        },
        {
          "output_type": "stream",
          "name": "stderr",
          "text": [
            "     65/100      4.22G      1.428      1.954      0.818      1.008         91        640: 100%|██████████| 33/33 [00:09<00:00,  3.56it/s]\n",
            "                 Class     Images  Instances      Box(P          R      mAP50  mAP50-95)     Mask(P          R      mAP50  mAP50-95): 100%|██████████| 5/5 [00:00<00:00,  6.18it/s]"
          ]
        },
        {
          "output_type": "stream",
          "name": "stdout",
          "text": [
            "                   all         37        889      0.774      0.821      0.857      0.491       0.78      0.821       0.86      0.435\n"
          ]
        },
        {
          "output_type": "stream",
          "name": "stderr",
          "text": [
            "\n"
          ]
        },
        {
          "output_type": "stream",
          "name": "stdout",
          "text": [
            "\n",
            "      Epoch    GPU_mem   box_loss   seg_loss   cls_loss   dfl_loss  Instances       Size\n"
          ]
        },
        {
          "output_type": "stream",
          "name": "stderr",
          "text": [
            "     66/100      4.22G      1.405      1.971     0.8194      1.014         73        640: 100%|██████████| 33/33 [00:09<00:00,  3.47it/s]\n",
            "                 Class     Images  Instances      Box(P          R      mAP50  mAP50-95)     Mask(P          R      mAP50  mAP50-95): 100%|██████████| 5/5 [00:00<00:00,  6.08it/s]"
          ]
        },
        {
          "output_type": "stream",
          "name": "stdout",
          "text": [
            "                   all         37        889      0.782      0.819      0.865      0.501      0.783      0.816      0.859      0.437\n"
          ]
        },
        {
          "output_type": "stream",
          "name": "stderr",
          "text": [
            "\n"
          ]
        },
        {
          "output_type": "stream",
          "name": "stdout",
          "text": [
            "\n",
            "      Epoch    GPU_mem   box_loss   seg_loss   cls_loss   dfl_loss  Instances       Size\n"
          ]
        },
        {
          "output_type": "stream",
          "name": "stderr",
          "text": [
            "     67/100      4.22G      1.414      1.978     0.8338      1.023        178        640: 100%|██████████| 33/33 [00:09<00:00,  3.54it/s]\n",
            "                 Class     Images  Instances      Box(P          R      mAP50  mAP50-95)     Mask(P          R      mAP50  mAP50-95): 100%|██████████| 5/5 [00:00<00:00,  6.64it/s]"
          ]
        },
        {
          "output_type": "stream",
          "name": "stdout",
          "text": [
            "                   all         37        889      0.774      0.825      0.862      0.491      0.769      0.825      0.858      0.433\n"
          ]
        },
        {
          "output_type": "stream",
          "name": "stderr",
          "text": [
            "\n"
          ]
        },
        {
          "output_type": "stream",
          "name": "stdout",
          "text": [
            "\n",
            "      Epoch    GPU_mem   box_loss   seg_loss   cls_loss   dfl_loss  Instances       Size\n"
          ]
        },
        {
          "output_type": "stream",
          "name": "stderr",
          "text": [
            "     68/100      4.22G      1.417      1.973     0.8157      1.015        148        640: 100%|██████████| 33/33 [00:09<00:00,  3.54it/s]\n",
            "                 Class     Images  Instances      Box(P          R      mAP50  mAP50-95)     Mask(P          R      mAP50  mAP50-95): 100%|██████████| 5/5 [00:00<00:00,  6.21it/s]"
          ]
        },
        {
          "output_type": "stream",
          "name": "stdout",
          "text": [
            "                   all         37        889       0.77      0.818      0.857      0.495      0.772      0.818      0.859      0.443\n"
          ]
        },
        {
          "output_type": "stream",
          "name": "stderr",
          "text": [
            "\n"
          ]
        },
        {
          "output_type": "stream",
          "name": "stdout",
          "text": [
            "\n",
            "      Epoch    GPU_mem   box_loss   seg_loss   cls_loss   dfl_loss  Instances       Size\n"
          ]
        },
        {
          "output_type": "stream",
          "name": "stderr",
          "text": [
            "     69/100      4.22G      1.411      1.977     0.7868      1.004         94        640: 100%|██████████| 33/33 [00:08<00:00,  3.84it/s]\n",
            "                 Class     Images  Instances      Box(P          R      mAP50  mAP50-95)     Mask(P          R      mAP50  mAP50-95): 100%|██████████| 5/5 [00:00<00:00,  5.27it/s]"
          ]
        },
        {
          "output_type": "stream",
          "name": "stdout",
          "text": [
            "                   all         37        889      0.769      0.827      0.862      0.493      0.768       0.82      0.856      0.423\n"
          ]
        },
        {
          "output_type": "stream",
          "name": "stderr",
          "text": [
            "\n"
          ]
        },
        {
          "output_type": "stream",
          "name": "stdout",
          "text": [
            "\n",
            "      Epoch    GPU_mem   box_loss   seg_loss   cls_loss   dfl_loss  Instances       Size\n"
          ]
        },
        {
          "output_type": "stream",
          "name": "stderr",
          "text": [
            "     70/100      4.22G      1.405      1.975     0.8018      1.014         72        640: 100%|██████████| 33/33 [00:08<00:00,  3.74it/s]\n",
            "                 Class     Images  Instances      Box(P          R      mAP50  mAP50-95)     Mask(P          R      mAP50  mAP50-95): 100%|██████████| 5/5 [00:00<00:00,  5.94it/s]"
          ]
        },
        {
          "output_type": "stream",
          "name": "stdout",
          "text": [
            "                   all         37        889      0.754      0.831      0.862      0.502      0.759      0.818      0.857      0.448\n"
          ]
        },
        {
          "output_type": "stream",
          "name": "stderr",
          "text": [
            "\n"
          ]
        },
        {
          "output_type": "stream",
          "name": "stdout",
          "text": [
            "\n",
            "      Epoch    GPU_mem   box_loss   seg_loss   cls_loss   dfl_loss  Instances       Size\n"
          ]
        },
        {
          "output_type": "stream",
          "name": "stderr",
          "text": [
            "     71/100      4.22G      1.429      1.952     0.8009      1.021         54        640: 100%|██████████| 33/33 [00:09<00:00,  3.62it/s]\n",
            "                 Class     Images  Instances      Box(P          R      mAP50  mAP50-95)     Mask(P          R      mAP50  mAP50-95): 100%|██████████| 5/5 [00:00<00:00,  5.98it/s]"
          ]
        },
        {
          "output_type": "stream",
          "name": "stdout",
          "text": [
            "                   all         37        889      0.774      0.821      0.862       0.49      0.769      0.808      0.847      0.421\n"
          ]
        },
        {
          "output_type": "stream",
          "name": "stderr",
          "text": [
            "\n"
          ]
        },
        {
          "output_type": "stream",
          "name": "stdout",
          "text": [
            "\n",
            "      Epoch    GPU_mem   box_loss   seg_loss   cls_loss   dfl_loss  Instances       Size\n"
          ]
        },
        {
          "output_type": "stream",
          "name": "stderr",
          "text": [
            "     72/100      4.22G      1.381      1.961     0.8009      1.007        129        640: 100%|██████████| 33/33 [00:09<00:00,  3.55it/s]\n",
            "                 Class     Images  Instances      Box(P          R      mAP50  mAP50-95)     Mask(P          R      mAP50  mAP50-95): 100%|██████████| 5/5 [00:00<00:00,  6.08it/s]"
          ]
        },
        {
          "output_type": "stream",
          "name": "stdout",
          "text": [
            "                   all         37        889      0.783       0.81      0.858      0.487      0.778      0.804      0.847      0.423\n"
          ]
        },
        {
          "output_type": "stream",
          "name": "stderr",
          "text": [
            "\n"
          ]
        },
        {
          "output_type": "stream",
          "name": "stdout",
          "text": [
            "\n",
            "      Epoch    GPU_mem   box_loss   seg_loss   cls_loss   dfl_loss  Instances       Size\n"
          ]
        },
        {
          "output_type": "stream",
          "name": "stderr",
          "text": [
            "     73/100      4.22G      1.418      1.983     0.8065      1.007        101        640: 100%|██████████| 33/33 [00:09<00:00,  3.50it/s]\n",
            "                 Class     Images  Instances      Box(P          R      mAP50  mAP50-95)     Mask(P          R      mAP50  mAP50-95): 100%|██████████| 5/5 [00:00<00:00,  6.20it/s]"
          ]
        },
        {
          "output_type": "stream",
          "name": "stdout",
          "text": [
            "                   all         37        889      0.774      0.822      0.857      0.499      0.773      0.821      0.854      0.434\n"
          ]
        },
        {
          "output_type": "stream",
          "name": "stderr",
          "text": [
            "\n"
          ]
        },
        {
          "output_type": "stream",
          "name": "stdout",
          "text": [
            "\n",
            "      Epoch    GPU_mem   box_loss   seg_loss   cls_loss   dfl_loss  Instances       Size\n"
          ]
        },
        {
          "output_type": "stream",
          "name": "stderr",
          "text": [
            "     74/100      4.22G        1.4      1.967     0.7928      1.016         80        640: 100%|██████████| 33/33 [00:08<00:00,  3.78it/s]\n",
            "                 Class     Images  Instances      Box(P          R      mAP50  mAP50-95)     Mask(P          R      mAP50  mAP50-95): 100%|██████████| 5/5 [00:01<00:00,  4.09it/s]\n"
          ]
        },
        {
          "output_type": "stream",
          "name": "stdout",
          "text": [
            "                   all         37        889      0.781      0.812      0.864      0.494      0.781      0.807      0.856      0.413\n",
            "\n",
            "      Epoch    GPU_mem   box_loss   seg_loss   cls_loss   dfl_loss  Instances       Size\n"
          ]
        },
        {
          "output_type": "stream",
          "name": "stderr",
          "text": [
            "     75/100      4.22G      1.415      1.992     0.7938      1.015        125        640: 100%|██████████| 33/33 [00:08<00:00,  3.82it/s]\n",
            "                 Class     Images  Instances      Box(P          R      mAP50  mAP50-95)     Mask(P          R      mAP50  mAP50-95): 100%|██████████| 5/5 [00:00<00:00,  6.98it/s]"
          ]
        },
        {
          "output_type": "stream",
          "name": "stdout",
          "text": [
            "                   all         37        889      0.793      0.812       0.86      0.503      0.795      0.809      0.858      0.428\n"
          ]
        },
        {
          "output_type": "stream",
          "name": "stderr",
          "text": [
            "\n"
          ]
        },
        {
          "output_type": "stream",
          "name": "stdout",
          "text": [
            "\n",
            "      Epoch    GPU_mem   box_loss   seg_loss   cls_loss   dfl_loss  Instances       Size\n"
          ]
        },
        {
          "output_type": "stream",
          "name": "stderr",
          "text": [
            "     76/100      4.22G      1.413      1.953     0.7912      1.015         49        640: 100%|██████████| 33/33 [00:09<00:00,  3.55it/s]\n",
            "                 Class     Images  Instances      Box(P          R      mAP50  mAP50-95)     Mask(P          R      mAP50  mAP50-95): 100%|██████████| 5/5 [00:01<00:00,  4.35it/s]"
          ]
        },
        {
          "output_type": "stream",
          "name": "stdout",
          "text": [
            "                   all         37        889      0.776      0.834      0.864      0.502      0.781      0.823      0.858      0.433\n"
          ]
        },
        {
          "output_type": "stream",
          "name": "stderr",
          "text": [
            "\n"
          ]
        },
        {
          "output_type": "stream",
          "name": "stdout",
          "text": [
            "\n",
            "      Epoch    GPU_mem   box_loss   seg_loss   cls_loss   dfl_loss  Instances       Size\n"
          ]
        },
        {
          "output_type": "stream",
          "name": "stderr",
          "text": [
            "     77/100      4.22G       1.37      1.928     0.7776      1.023        108        640: 100%|██████████| 33/33 [00:09<00:00,  3.49it/s]\n",
            "                 Class     Images  Instances      Box(P          R      mAP50  mAP50-95)     Mask(P          R      mAP50  mAP50-95): 100%|██████████| 5/5 [00:00<00:00,  6.02it/s]"
          ]
        },
        {
          "output_type": "stream",
          "name": "stdout",
          "text": [
            "                   all         37        889      0.777       0.82       0.86      0.485      0.776      0.817      0.858      0.423\n"
          ]
        },
        {
          "output_type": "stream",
          "name": "stderr",
          "text": [
            "\n"
          ]
        },
        {
          "output_type": "stream",
          "name": "stdout",
          "text": [
            "\n",
            "      Epoch    GPU_mem   box_loss   seg_loss   cls_loss   dfl_loss  Instances       Size\n"
          ]
        },
        {
          "output_type": "stream",
          "name": "stderr",
          "text": [
            "     78/100      4.22G      1.385      1.935     0.7666       1.01         67        640: 100%|██████████| 33/33 [00:09<00:00,  3.49it/s]\n",
            "                 Class     Images  Instances      Box(P          R      mAP50  mAP50-95)     Mask(P          R      mAP50  mAP50-95): 100%|██████████| 5/5 [00:00<00:00,  6.60it/s]"
          ]
        },
        {
          "output_type": "stream",
          "name": "stdout",
          "text": [
            "                   all         37        889      0.781      0.832      0.866      0.493      0.778      0.826      0.859      0.423\n"
          ]
        },
        {
          "output_type": "stream",
          "name": "stderr",
          "text": [
            "\n"
          ]
        },
        {
          "output_type": "stream",
          "name": "stdout",
          "text": [
            "\n",
            "      Epoch    GPU_mem   box_loss   seg_loss   cls_loss   dfl_loss  Instances       Size\n"
          ]
        },
        {
          "output_type": "stream",
          "name": "stderr",
          "text": [
            "     79/100      4.22G      1.401      1.953     0.7938      1.012         38        640: 100%|██████████| 33/33 [00:09<00:00,  3.55it/s]\n",
            "                 Class     Images  Instances      Box(P          R      mAP50  mAP50-95)     Mask(P          R      mAP50  mAP50-95): 100%|██████████| 5/5 [00:00<00:00,  6.54it/s]"
          ]
        },
        {
          "output_type": "stream",
          "name": "stdout",
          "text": [
            "                   all         37        889      0.798      0.811      0.869      0.509      0.794      0.808      0.862      0.443\n"
          ]
        },
        {
          "output_type": "stream",
          "name": "stderr",
          "text": [
            "\n"
          ]
        },
        {
          "output_type": "stream",
          "name": "stdout",
          "text": [
            "\n",
            "      Epoch    GPU_mem   box_loss   seg_loss   cls_loss   dfl_loss  Instances       Size\n"
          ]
        },
        {
          "output_type": "stream",
          "name": "stderr",
          "text": [
            "     80/100      4.22G      1.389      1.942     0.7749      1.023        115        640: 100%|██████████| 33/33 [00:08<00:00,  3.98it/s]\n",
            "                 Class     Images  Instances      Box(P          R      mAP50  mAP50-95)     Mask(P          R      mAP50  mAP50-95): 100%|██████████| 5/5 [00:01<00:00,  4.58it/s]"
          ]
        },
        {
          "output_type": "stream",
          "name": "stdout",
          "text": [
            "                   all         37        889      0.792      0.814      0.866      0.491      0.787      0.812       0.86      0.425\n"
          ]
        },
        {
          "output_type": "stream",
          "name": "stderr",
          "text": [
            "\n"
          ]
        },
        {
          "output_type": "stream",
          "name": "stdout",
          "text": [
            "\n",
            "      Epoch    GPU_mem   box_loss   seg_loss   cls_loss   dfl_loss  Instances       Size\n"
          ]
        },
        {
          "output_type": "stream",
          "name": "stderr",
          "text": [
            "     81/100      4.22G      1.405      1.948     0.7808      1.031        114        640: 100%|██████████| 33/33 [00:08<00:00,  3.75it/s]\n",
            "                 Class     Images  Instances      Box(P          R      mAP50  mAP50-95)     Mask(P          R      mAP50  mAP50-95): 100%|██████████| 5/5 [00:00<00:00,  6.57it/s]"
          ]
        },
        {
          "output_type": "stream",
          "name": "stdout",
          "text": [
            "                   all         37        889      0.778      0.829      0.863      0.491      0.774      0.827       0.86      0.424\n"
          ]
        },
        {
          "output_type": "stream",
          "name": "stderr",
          "text": [
            "\n"
          ]
        },
        {
          "output_type": "stream",
          "name": "stdout",
          "text": [
            "\n",
            "      Epoch    GPU_mem   box_loss   seg_loss   cls_loss   dfl_loss  Instances       Size\n"
          ]
        },
        {
          "output_type": "stream",
          "name": "stderr",
          "text": [
            "     82/100      4.22G      1.389      1.912     0.7904      1.001        146        640: 100%|██████████| 33/33 [00:09<00:00,  3.66it/s]\n",
            "                 Class     Images  Instances      Box(P          R      mAP50  mAP50-95)     Mask(P          R      mAP50  mAP50-95): 100%|██████████| 5/5 [00:00<00:00,  6.17it/s]"
          ]
        },
        {
          "output_type": "stream",
          "name": "stdout",
          "text": [
            "                   all         37        889      0.769      0.839      0.865      0.508      0.764      0.839      0.857      0.432\n"
          ]
        },
        {
          "output_type": "stream",
          "name": "stderr",
          "text": [
            "\n"
          ]
        },
        {
          "output_type": "stream",
          "name": "stdout",
          "text": [
            "\n",
            "      Epoch    GPU_mem   box_loss   seg_loss   cls_loss   dfl_loss  Instances       Size\n"
          ]
        },
        {
          "output_type": "stream",
          "name": "stderr",
          "text": [
            "     83/100      4.22G      1.377      1.925     0.7507      1.009        134        640: 100%|██████████| 33/33 [00:09<00:00,  3.56it/s]\n",
            "                 Class     Images  Instances      Box(P          R      mAP50  mAP50-95)     Mask(P          R      mAP50  mAP50-95): 100%|██████████| 5/5 [00:00<00:00,  6.39it/s]"
          ]
        },
        {
          "output_type": "stream",
          "name": "stdout",
          "text": [
            "                   all         37        889      0.786       0.83      0.867      0.498      0.776      0.828      0.854      0.423\n"
          ]
        },
        {
          "output_type": "stream",
          "name": "stderr",
          "text": [
            "\n"
          ]
        },
        {
          "output_type": "stream",
          "name": "stdout",
          "text": [
            "\n",
            "      Epoch    GPU_mem   box_loss   seg_loss   cls_loss   dfl_loss  Instances       Size\n"
          ]
        },
        {
          "output_type": "stream",
          "name": "stderr",
          "text": [
            "     84/100      4.22G      1.375      1.939     0.7653     0.9913         77        640: 100%|██████████| 33/33 [00:09<00:00,  3.51it/s]\n",
            "                 Class     Images  Instances      Box(P          R      mAP50  mAP50-95)     Mask(P          R      mAP50  mAP50-95): 100%|██████████| 5/5 [00:00<00:00,  6.74it/s]"
          ]
        },
        {
          "output_type": "stream",
          "name": "stdout",
          "text": [
            "                   all         37        889      0.783      0.819       0.86      0.491      0.782       0.82      0.855      0.423\n"
          ]
        },
        {
          "output_type": "stream",
          "name": "stderr",
          "text": [
            "\n"
          ]
        },
        {
          "output_type": "stream",
          "name": "stdout",
          "text": [
            "\n",
            "      Epoch    GPU_mem   box_loss   seg_loss   cls_loss   dfl_loss  Instances       Size\n"
          ]
        },
        {
          "output_type": "stream",
          "name": "stderr",
          "text": [
            "     85/100      4.22G      1.394      1.924     0.7804      1.003        102        640: 100%|██████████| 33/33 [00:08<00:00,  4.09it/s]\n",
            "                 Class     Images  Instances      Box(P          R      mAP50  mAP50-95)     Mask(P          R      mAP50  mAP50-95): 100%|██████████| 5/5 [00:01<00:00,  4.22it/s]\n"
          ]
        },
        {
          "output_type": "stream",
          "name": "stdout",
          "text": [
            "                   all         37        889      0.774      0.823       0.86      0.489      0.772      0.821      0.857      0.416\n",
            "\n",
            "      Epoch    GPU_mem   box_loss   seg_loss   cls_loss   dfl_loss  Instances       Size\n"
          ]
        },
        {
          "output_type": "stream",
          "name": "stderr",
          "text": [
            "     86/100      4.22G      1.388      1.952     0.7697      1.018         68        640: 100%|██████████| 33/33 [00:08<00:00,  3.76it/s]\n",
            "                 Class     Images  Instances      Box(P          R      mAP50  mAP50-95)     Mask(P          R      mAP50  mAP50-95): 100%|██████████| 5/5 [00:00<00:00,  6.92it/s]"
          ]
        },
        {
          "output_type": "stream",
          "name": "stdout",
          "text": [
            "                   all         37        889      0.778      0.814       0.86      0.492      0.784      0.793       0.85      0.419\n"
          ]
        },
        {
          "output_type": "stream",
          "name": "stderr",
          "text": [
            "\n"
          ]
        },
        {
          "output_type": "stream",
          "name": "stdout",
          "text": [
            "\n",
            "      Epoch    GPU_mem   box_loss   seg_loss   cls_loss   dfl_loss  Instances       Size\n"
          ]
        },
        {
          "output_type": "stream",
          "name": "stderr",
          "text": [
            "     87/100      4.22G      1.377      1.904     0.7572      0.979         90        640: 100%|██████████| 33/33 [00:09<00:00,  3.48it/s]\n",
            "                 Class     Images  Instances      Box(P          R      mAP50  mAP50-95)     Mask(P          R      mAP50  mAP50-95): 100%|██████████| 5/5 [00:00<00:00,  6.00it/s]"
          ]
        },
        {
          "output_type": "stream",
          "name": "stdout",
          "text": [
            "                   all         37        889       0.77      0.814      0.862      0.492      0.766      0.802      0.852      0.419\n"
          ]
        },
        {
          "output_type": "stream",
          "name": "stderr",
          "text": [
            "\n"
          ]
        },
        {
          "output_type": "stream",
          "name": "stdout",
          "text": [
            "\n",
            "      Epoch    GPU_mem   box_loss   seg_loss   cls_loss   dfl_loss  Instances       Size\n"
          ]
        },
        {
          "output_type": "stream",
          "name": "stderr",
          "text": [
            "     88/100      4.22G      1.371      1.911      0.751     0.9956         55        640: 100%|██████████| 33/33 [00:09<00:00,  3.59it/s]\n",
            "                 Class     Images  Instances      Box(P          R      mAP50  mAP50-95)     Mask(P          R      mAP50  mAP50-95): 100%|██████████| 5/5 [00:00<00:00,  6.89it/s]"
          ]
        },
        {
          "output_type": "stream",
          "name": "stdout",
          "text": [
            "                   all         37        889      0.778      0.824      0.863      0.502      0.776      0.821      0.859      0.439\n"
          ]
        },
        {
          "output_type": "stream",
          "name": "stderr",
          "text": [
            "\n"
          ]
        },
        {
          "output_type": "stream",
          "name": "stdout",
          "text": [
            "\n",
            "      Epoch    GPU_mem   box_loss   seg_loss   cls_loss   dfl_loss  Instances       Size\n"
          ]
        },
        {
          "output_type": "stream",
          "name": "stderr",
          "text": [
            "     89/100      4.22G      1.378      1.904     0.7537      1.003        147        640: 100%|██████████| 33/33 [00:09<00:00,  3.49it/s]\n",
            "                 Class     Images  Instances      Box(P          R      mAP50  mAP50-95)     Mask(P          R      mAP50  mAP50-95): 100%|██████████| 5/5 [00:00<00:00,  6.01it/s]"
          ]
        },
        {
          "output_type": "stream",
          "name": "stdout",
          "text": [
            "                   all         37        889      0.771       0.82      0.866      0.496      0.768      0.816      0.856      0.427\n"
          ]
        },
        {
          "output_type": "stream",
          "name": "stderr",
          "text": [
            "\n"
          ]
        },
        {
          "output_type": "stream",
          "name": "stdout",
          "text": [
            "\n",
            "      Epoch    GPU_mem   box_loss   seg_loss   cls_loss   dfl_loss  Instances       Size\n"
          ]
        },
        {
          "output_type": "stream",
          "name": "stderr",
          "text": [
            "     90/100      4.22G      1.396      1.905     0.7792      1.006         31        640: 100%|██████████| 33/33 [00:09<00:00,  3.61it/s]\n",
            "                 Class     Images  Instances      Box(P          R      mAP50  mAP50-95)     Mask(P          R      mAP50  mAP50-95): 100%|██████████| 5/5 [00:01<00:00,  4.57it/s]"
          ]
        },
        {
          "output_type": "stream",
          "name": "stdout",
          "text": [
            "                   all         37        889      0.773      0.825      0.863      0.485      0.771      0.821      0.855      0.409\n"
          ]
        },
        {
          "output_type": "stream",
          "name": "stderr",
          "text": [
            "\n"
          ]
        },
        {
          "output_type": "stream",
          "name": "stdout",
          "text": [
            "Closing dataloader mosaic\n",
            "\u001b[34m\u001b[1malbumentations: \u001b[0mBlur(p=0.01, blur_limit=(3, 7)), MedianBlur(p=0.01, blur_limit=(3, 7)), ToGray(p=0.01, method='weighted_average', num_output_channels=3), CLAHE(p=0.01, clip_limit=(1.0, 4.0), tile_grid_size=(8, 8))\n",
            "\n",
            "      Epoch    GPU_mem   box_loss   seg_loss   cls_loss   dfl_loss  Instances       Size\n"
          ]
        },
        {
          "output_type": "stream",
          "name": "stderr",
          "text": [
            "     91/100      4.22G      1.369      1.949      0.784      1.039         59        640: 100%|██████████| 33/33 [00:05<00:00,  5.70it/s]\n",
            "                 Class     Images  Instances      Box(P          R      mAP50  mAP50-95)     Mask(P          R      mAP50  mAP50-95): 100%|██████████| 5/5 [00:00<00:00,  6.86it/s]"
          ]
        },
        {
          "output_type": "stream",
          "name": "stdout",
          "text": [
            "                   all         37        889      0.768      0.827      0.862      0.482      0.767      0.822      0.853      0.417\n"
          ]
        },
        {
          "output_type": "stream",
          "name": "stderr",
          "text": [
            "\n"
          ]
        },
        {
          "output_type": "stream",
          "name": "stdout",
          "text": [
            "\n",
            "      Epoch    GPU_mem   box_loss   seg_loss   cls_loss   dfl_loss  Instances       Size\n"
          ]
        },
        {
          "output_type": "stream",
          "name": "stderr",
          "text": [
            "     92/100      4.22G       1.37      1.963     0.7653       1.03         66        640: 100%|██████████| 33/33 [00:05<00:00,  5.76it/s]\n",
            "                 Class     Images  Instances      Box(P          R      mAP50  mAP50-95)     Mask(P          R      mAP50  mAP50-95): 100%|██████████| 5/5 [00:00<00:00,  6.47it/s]"
          ]
        },
        {
          "output_type": "stream",
          "name": "stdout",
          "text": [
            "                   all         37        889      0.778      0.827      0.859      0.492      0.776      0.823      0.853      0.433\n"
          ]
        },
        {
          "output_type": "stream",
          "name": "stderr",
          "text": [
            "\n"
          ]
        },
        {
          "output_type": "stream",
          "name": "stdout",
          "text": [
            "\n",
            "      Epoch    GPU_mem   box_loss   seg_loss   cls_loss   dfl_loss  Instances       Size\n"
          ]
        },
        {
          "output_type": "stream",
          "name": "stderr",
          "text": [
            "     93/100      4.22G      1.374       1.96     0.7714      1.044         49        640: 100%|██████████| 33/33 [00:04<00:00,  6.90it/s]\n",
            "                 Class     Images  Instances      Box(P          R      mAP50  mAP50-95)     Mask(P          R      mAP50  mAP50-95): 100%|██████████| 5/5 [00:00<00:00,  7.04it/s]"
          ]
        },
        {
          "output_type": "stream",
          "name": "stdout",
          "text": [
            "                   all         37        889      0.777      0.833      0.862      0.494      0.774       0.83      0.857      0.432\n"
          ]
        },
        {
          "output_type": "stream",
          "name": "stderr",
          "text": [
            "\n"
          ]
        },
        {
          "output_type": "stream",
          "name": "stdout",
          "text": [
            "\n",
            "      Epoch    GPU_mem   box_loss   seg_loss   cls_loss   dfl_loss  Instances       Size\n"
          ]
        },
        {
          "output_type": "stream",
          "name": "stderr",
          "text": [
            "     94/100      4.22G      1.366       1.93     0.7559      1.026         48        640: 100%|██████████| 33/33 [00:05<00:00,  5.67it/s]\n",
            "                 Class     Images  Instances      Box(P          R      mAP50  mAP50-95)     Mask(P          R      mAP50  mAP50-95): 100%|██████████| 5/5 [00:00<00:00,  6.98it/s]"
          ]
        },
        {
          "output_type": "stream",
          "name": "stdout",
          "text": [
            "                   all         37        889      0.768       0.84      0.862      0.495      0.771      0.834      0.854      0.424\n"
          ]
        },
        {
          "output_type": "stream",
          "name": "stderr",
          "text": [
            "\n"
          ]
        },
        {
          "output_type": "stream",
          "name": "stdout",
          "text": [
            "\n",
            "      Epoch    GPU_mem   box_loss   seg_loss   cls_loss   dfl_loss  Instances       Size\n"
          ]
        },
        {
          "output_type": "stream",
          "name": "stderr",
          "text": [
            "     95/100      4.22G      1.359      1.949      0.749      1.028         43        640: 100%|██████████| 33/33 [00:04<00:00,  7.07it/s]\n",
            "                 Class     Images  Instances      Box(P          R      mAP50  mAP50-95)     Mask(P          R      mAP50  mAP50-95): 100%|██████████| 5/5 [00:00<00:00,  7.06it/s]"
          ]
        },
        {
          "output_type": "stream",
          "name": "stdout",
          "text": [
            "                   all         37        889      0.771      0.841      0.868      0.497      0.764      0.827      0.855      0.424\n"
          ]
        },
        {
          "output_type": "stream",
          "name": "stderr",
          "text": [
            "\n"
          ]
        },
        {
          "output_type": "stream",
          "name": "stdout",
          "text": [
            "\n",
            "      Epoch    GPU_mem   box_loss   seg_loss   cls_loss   dfl_loss  Instances       Size\n"
          ]
        },
        {
          "output_type": "stream",
          "name": "stderr",
          "text": [
            "     96/100      4.22G      1.371      1.929     0.7524      1.039         60        640: 100%|██████████| 33/33 [00:05<00:00,  5.77it/s]\n",
            "                 Class     Images  Instances      Box(P          R      mAP50  mAP50-95)     Mask(P          R      mAP50  mAP50-95): 100%|██████████| 5/5 [00:00<00:00,  7.05it/s]"
          ]
        },
        {
          "output_type": "stream",
          "name": "stdout",
          "text": [
            "                   all         37        889      0.769      0.839      0.865      0.498      0.763      0.834      0.858      0.432\n"
          ]
        },
        {
          "output_type": "stream",
          "name": "stderr",
          "text": [
            "\n"
          ]
        },
        {
          "output_type": "stream",
          "name": "stdout",
          "text": [
            "\n",
            "      Epoch    GPU_mem   box_loss   seg_loss   cls_loss   dfl_loss  Instances       Size\n"
          ]
        },
        {
          "output_type": "stream",
          "name": "stderr",
          "text": [
            "     97/100      4.22G      1.353      1.927     0.7405      1.019         49        640: 100%|██████████| 33/33 [00:04<00:00,  7.03it/s]\n",
            "                 Class     Images  Instances      Box(P          R      mAP50  mAP50-95)     Mask(P          R      mAP50  mAP50-95): 100%|██████████| 5/5 [00:00<00:00,  6.77it/s]"
          ]
        },
        {
          "output_type": "stream",
          "name": "stdout",
          "text": [
            "                   all         37        889      0.775      0.834      0.863      0.497      0.771      0.829      0.856      0.431\n"
          ]
        },
        {
          "output_type": "stream",
          "name": "stderr",
          "text": [
            "\n"
          ]
        },
        {
          "output_type": "stream",
          "name": "stdout",
          "text": [
            "\n",
            "      Epoch    GPU_mem   box_loss   seg_loss   cls_loss   dfl_loss  Instances       Size\n"
          ]
        },
        {
          "output_type": "stream",
          "name": "stderr",
          "text": [
            "     98/100      4.22G      1.368      1.956     0.7439      1.011         57        640: 100%|██████████| 33/33 [00:05<00:00,  5.70it/s]\n",
            "                 Class     Images  Instances      Box(P          R      mAP50  mAP50-95)     Mask(P          R      mAP50  mAP50-95): 100%|██████████| 5/5 [00:00<00:00,  7.11it/s]"
          ]
        },
        {
          "output_type": "stream",
          "name": "stdout",
          "text": [
            "                   all         37        889      0.779       0.83      0.863      0.499      0.772      0.834      0.857      0.434\n"
          ]
        },
        {
          "output_type": "stream",
          "name": "stderr",
          "text": [
            "\n"
          ]
        },
        {
          "output_type": "stream",
          "name": "stdout",
          "text": [
            "\n",
            "      Epoch    GPU_mem   box_loss   seg_loss   cls_loss   dfl_loss  Instances       Size\n"
          ]
        },
        {
          "output_type": "stream",
          "name": "stderr",
          "text": [
            "     99/100      4.22G       1.37       1.96     0.7502      1.038         52        640: 100%|██████████| 33/33 [00:04<00:00,  6.92it/s]\n",
            "                 Class     Images  Instances      Box(P          R      mAP50  mAP50-95)     Mask(P          R      mAP50  mAP50-95): 100%|██████████| 5/5 [00:00<00:00,  7.04it/s]"
          ]
        },
        {
          "output_type": "stream",
          "name": "stdout",
          "text": [
            "                   all         37        889      0.779      0.826      0.863      0.501      0.771      0.828      0.857      0.436\n"
          ]
        },
        {
          "output_type": "stream",
          "name": "stderr",
          "text": [
            "\n"
          ]
        },
        {
          "output_type": "stream",
          "name": "stdout",
          "text": [
            "\n",
            "      Epoch    GPU_mem   box_loss   seg_loss   cls_loss   dfl_loss  Instances       Size\n"
          ]
        },
        {
          "output_type": "stream",
          "name": "stderr",
          "text": [
            "    100/100      4.22G      1.369       1.92     0.7358      1.024         56        640: 100%|██████████| 33/33 [00:05<00:00,  5.78it/s]\n",
            "                 Class     Images  Instances      Box(P          R      mAP50  mAP50-95)     Mask(P          R      mAP50  mAP50-95): 100%|██████████| 5/5 [00:00<00:00,  7.02it/s]"
          ]
        },
        {
          "output_type": "stream",
          "name": "stdout",
          "text": [
            "                   all         37        889      0.772      0.834      0.863      0.501      0.767       0.83      0.856      0.434\n"
          ]
        },
        {
          "output_type": "stream",
          "name": "stderr",
          "text": [
            "\n"
          ]
        },
        {
          "output_type": "stream",
          "name": "stdout",
          "text": [
            "\n",
            "100 epochs completed in 0.284 hours.\n",
            "Optimizer stripped from runs/segment/train3/weights/last.pt, 23.9MB\n",
            "Optimizer stripped from runs/segment/train3/weights/best.pt, 23.9MB\n",
            "\n",
            "Validating runs/segment/train3/weights/best.pt...\n",
            "Ultralytics 8.3.174 🚀 Python-3.11.13 torch-2.6.0+cu124 CUDA:0 (Tesla T4, 15095MiB)\n",
            "YOLOv8s-seg summary (fused): 85 layers, 11,779,987 parameters, 0 gradients, 42.4 GFLOPs\n"
          ]
        },
        {
          "output_type": "stream",
          "name": "stderr",
          "text": [
            "\r                 Class     Images  Instances      Box(P          R      mAP50  mAP50-95)     Mask(P          R      mAP50  mAP50-95):   0%|          | 0/5 [00:00<?, ?it/s]"
          ]
        },
        {
          "output_type": "stream",
          "name": "stdout",
          "text": [
            "WARNING ⚠️ Limiting validation plots to first 50 items per image for speed...\n",
            "WARNING ⚠️ Limiting validation plots to first 50 items per image for speed...\n",
            "WARNING ⚠️ Limiting validation plots to first 50 items per image for speed...\n",
            "WARNING ⚠️ Limiting validation plots to first 50 items per image for speed...\n",
            "WARNING ⚠️ Limiting validation plots to first 50 items per image for speed...\n",
            "WARNING ⚠️ Limiting validation plots to first 50 items per image for speed...\n",
            "WARNING ⚠️ Limiting validation plots to first 50 items per image for speed...\n",
            "WARNING ⚠️ Limiting validation plots to first 50 items per image for speed...\n"
          ]
        },
        {
          "output_type": "stream",
          "name": "stderr",
          "text": [
            "\r                 Class     Images  Instances      Box(P          R      mAP50  mAP50-95)     Mask(P          R      mAP50  mAP50-95):  20%|██        | 1/5 [00:00<00:00,  6.46it/s]"
          ]
        },
        {
          "output_type": "stream",
          "name": "stdout",
          "text": [
            "WARNING ⚠️ Limiting validation plots to first 50 items per image for speed...\n",
            "WARNING ⚠️ Limiting validation plots to first 50 items per image for speed...\n",
            "WARNING ⚠️ Limiting validation plots to first 50 items per image for speed...\n",
            "WARNING ⚠️ Limiting validation plots to first 50 items per image for speed...\n",
            "WARNING ⚠️ Limiting validation plots to first 50 items per image for speed...\n",
            "WARNING ⚠️ Limiting validation plots to first 50 items per image for speed...\n",
            "WARNING ⚠️ Limiting validation plots to first 50 items per image for speed...\n",
            "WARNING ⚠️ Limiting validation plots to first 50 items per image for speed...\n"
          ]
        },
        {
          "output_type": "stream",
          "name": "stderr",
          "text": [
            "\r                 Class     Images  Instances      Box(P          R      mAP50  mAP50-95)     Mask(P          R      mAP50  mAP50-95):  40%|████      | 2/5 [00:00<00:00,  4.17it/s]"
          ]
        },
        {
          "output_type": "stream",
          "name": "stdout",
          "text": [
            "WARNING ⚠️ Limiting validation plots to first 50 items per image for speed...\n",
            "WARNING ⚠️ Limiting validation plots to first 50 items per image for speed...\n",
            "WARNING ⚠️ Limiting validation plots to first 50 items per image for speed...\n",
            "WARNING ⚠️ Limiting validation plots to first 50 items per image for speed...\n",
            "WARNING ⚠️ Limiting validation plots to first 50 items per image for speed...\n",
            "WARNING ⚠️ Limiting validation plots to first 50 items per image for speed...\n",
            "WARNING ⚠️ Limiting validation plots to first 50 items per image for speed...\n",
            "WARNING ⚠️ Limiting validation plots to first 50 items per image for speed...\n"
          ]
        },
        {
          "output_type": "stream",
          "name": "stderr",
          "text": [
            "                 Class     Images  Instances      Box(P          R      mAP50  mAP50-95)     Mask(P          R      mAP50  mAP50-95): 100%|██████████| 5/5 [00:02<00:00,  2.41it/s]\n"
          ]
        },
        {
          "output_type": "stream",
          "name": "stdout",
          "text": [
            "                   all         37        889      0.797      0.811      0.869      0.508      0.793      0.808      0.862      0.443\n",
            "Speed: 0.7ms preprocess, 10.0ms inference, 0.0ms loss, 12.7ms postprocess per image\n",
            "Results saved to \u001b[1mruns/segment/train3\u001b[0m\n"
          ]
        },
        {
          "output_type": "execute_result",
          "data": {
            "text/plain": [
              "ultralytics.utils.metrics.SegmentMetrics object with attributes:\n",
              "\n",
              "ap_class_index: array([0])\n",
              "box: ultralytics.utils.metrics.Metric object\n",
              "confusion_matrix: <ultralytics.utils.metrics.ConfusionMatrix object at 0x7aabcc1f0350>\n",
              "curves: ['Precision-Recall(B)', 'F1-Confidence(B)', 'Precision-Confidence(B)', 'Recall-Confidence(B)', 'Precision-Recall(M)', 'F1-Confidence(M)', 'Precision-Confidence(M)', 'Recall-Confidence(M)']\n",
              "curves_results: [[array([          0,    0.001001,    0.002002,    0.003003,    0.004004,    0.005005,    0.006006,    0.007007,    0.008008,    0.009009,     0.01001,    0.011011,    0.012012,    0.013013,    0.014014,    0.015015,    0.016016,    0.017017,    0.018018,    0.019019,     0.02002,    0.021021,    0.022022,    0.023023,\n",
              "          0.024024,    0.025025,    0.026026,    0.027027,    0.028028,    0.029029,     0.03003,    0.031031,    0.032032,    0.033033,    0.034034,    0.035035,    0.036036,    0.037037,    0.038038,    0.039039,     0.04004,    0.041041,    0.042042,    0.043043,    0.044044,    0.045045,    0.046046,    0.047047,\n",
              "          0.048048,    0.049049,     0.05005,    0.051051,    0.052052,    0.053053,    0.054054,    0.055055,    0.056056,    0.057057,    0.058058,    0.059059,     0.06006,    0.061061,    0.062062,    0.063063,    0.064064,    0.065065,    0.066066,    0.067067,    0.068068,    0.069069,     0.07007,    0.071071,\n",
              "          0.072072,    0.073073,    0.074074,    0.075075,    0.076076,    0.077077,    0.078078,    0.079079,     0.08008,    0.081081,    0.082082,    0.083083,    0.084084,    0.085085,    0.086086,    0.087087,    0.088088,    0.089089,     0.09009,    0.091091,    0.092092,    0.093093,    0.094094,    0.095095,\n",
              "          0.096096,    0.097097,    0.098098,    0.099099,      0.1001,      0.1011,      0.1021,      0.1031,      0.1041,     0.10511,     0.10611,     0.10711,     0.10811,     0.10911,     0.11011,     0.11111,     0.11211,     0.11311,     0.11411,     0.11512,     0.11612,     0.11712,     0.11812,     0.11912,\n",
              "           0.12012,     0.12112,     0.12212,     0.12312,     0.12412,     0.12513,     0.12613,     0.12713,     0.12813,     0.12913,     0.13013,     0.13113,     0.13213,     0.13313,     0.13413,     0.13514,     0.13614,     0.13714,     0.13814,     0.13914,     0.14014,     0.14114,     0.14214,     0.14314,\n",
              "           0.14414,     0.14515,     0.14615,     0.14715,     0.14815,     0.14915,     0.15015,     0.15115,     0.15215,     0.15315,     0.15415,     0.15516,     0.15616,     0.15716,     0.15816,     0.15916,     0.16016,     0.16116,     0.16216,     0.16316,     0.16416,     0.16517,     0.16617,     0.16717,\n",
              "           0.16817,     0.16917,     0.17017,     0.17117,     0.17217,     0.17317,     0.17417,     0.17518,     0.17618,     0.17718,     0.17818,     0.17918,     0.18018,     0.18118,     0.18218,     0.18318,     0.18418,     0.18519,     0.18619,     0.18719,     0.18819,     0.18919,     0.19019,     0.19119,\n",
              "           0.19219,     0.19319,     0.19419,      0.1952,      0.1962,      0.1972,      0.1982,      0.1992,      0.2002,      0.2012,      0.2022,      0.2032,      0.2042,     0.20521,     0.20621,     0.20721,     0.20821,     0.20921,     0.21021,     0.21121,     0.21221,     0.21321,     0.21421,     0.21522,\n",
              "           0.21622,     0.21722,     0.21822,     0.21922,     0.22022,     0.22122,     0.22222,     0.22322,     0.22422,     0.22523,     0.22623,     0.22723,     0.22823,     0.22923,     0.23023,     0.23123,     0.23223,     0.23323,     0.23423,     0.23524,     0.23624,     0.23724,     0.23824,     0.23924,\n",
              "           0.24024,     0.24124,     0.24224,     0.24324,     0.24424,     0.24525,     0.24625,     0.24725,     0.24825,     0.24925,     0.25025,     0.25125,     0.25225,     0.25325,     0.25425,     0.25526,     0.25626,     0.25726,     0.25826,     0.25926,     0.26026,     0.26126,     0.26226,     0.26326,\n",
              "           0.26426,     0.26527,     0.26627,     0.26727,     0.26827,     0.26927,     0.27027,     0.27127,     0.27227,     0.27327,     0.27427,     0.27528,     0.27628,     0.27728,     0.27828,     0.27928,     0.28028,     0.28128,     0.28228,     0.28328,     0.28428,     0.28529,     0.28629,     0.28729,\n",
              "           0.28829,     0.28929,     0.29029,     0.29129,     0.29229,     0.29329,     0.29429,      0.2953,      0.2963,      0.2973,      0.2983,      0.2993,      0.3003,      0.3013,      0.3023,      0.3033,      0.3043,     0.30531,     0.30631,     0.30731,     0.30831,     0.30931,     0.31031,     0.31131,\n",
              "           0.31231,     0.31331,     0.31431,     0.31532,     0.31632,     0.31732,     0.31832,     0.31932,     0.32032,     0.32132,     0.32232,     0.32332,     0.32432,     0.32533,     0.32633,     0.32733,     0.32833,     0.32933,     0.33033,     0.33133,     0.33233,     0.33333,     0.33433,     0.33534,\n",
              "           0.33634,     0.33734,     0.33834,     0.33934,     0.34034,     0.34134,     0.34234,     0.34334,     0.34434,     0.34535,     0.34635,     0.34735,     0.34835,     0.34935,     0.35035,     0.35135,     0.35235,     0.35335,     0.35435,     0.35536,     0.35636,     0.35736,     0.35836,     0.35936,\n",
              "           0.36036,     0.36136,     0.36236,     0.36336,     0.36436,     0.36537,     0.36637,     0.36737,     0.36837,     0.36937,     0.37037,     0.37137,     0.37237,     0.37337,     0.37437,     0.37538,     0.37638,     0.37738,     0.37838,     0.37938,     0.38038,     0.38138,     0.38238,     0.38338,\n",
              "           0.38438,     0.38539,     0.38639,     0.38739,     0.38839,     0.38939,     0.39039,     0.39139,     0.39239,     0.39339,     0.39439,      0.3954,      0.3964,      0.3974,      0.3984,      0.3994,      0.4004,      0.4014,      0.4024,      0.4034,      0.4044,     0.40541,     0.40641,     0.40741,\n",
              "           0.40841,     0.40941,     0.41041,     0.41141,     0.41241,     0.41341,     0.41441,     0.41542,     0.41642,     0.41742,     0.41842,     0.41942,     0.42042,     0.42142,     0.42242,     0.42342,     0.42442,     0.42543,     0.42643,     0.42743,     0.42843,     0.42943,     0.43043,     0.43143,\n",
              "           0.43243,     0.43343,     0.43443,     0.43544,     0.43644,     0.43744,     0.43844,     0.43944,     0.44044,     0.44144,     0.44244,     0.44344,     0.44444,     0.44545,     0.44645,     0.44745,     0.44845,     0.44945,     0.45045,     0.45145,     0.45245,     0.45345,     0.45445,     0.45546,\n",
              "           0.45646,     0.45746,     0.45846,     0.45946,     0.46046,     0.46146,     0.46246,     0.46346,     0.46446,     0.46547,     0.46647,     0.46747,     0.46847,     0.46947,     0.47047,     0.47147,     0.47247,     0.47347,     0.47447,     0.47548,     0.47648,     0.47748,     0.47848,     0.47948,\n",
              "           0.48048,     0.48148,     0.48248,     0.48348,     0.48448,     0.48549,     0.48649,     0.48749,     0.48849,     0.48949,     0.49049,     0.49149,     0.49249,     0.49349,     0.49449,      0.4955,      0.4965,      0.4975,      0.4985,      0.4995,      0.5005,      0.5015,      0.5025,      0.5035,\n",
              "            0.5045,     0.50551,     0.50651,     0.50751,     0.50851,     0.50951,     0.51051,     0.51151,     0.51251,     0.51351,     0.51451,     0.51552,     0.51652,     0.51752,     0.51852,     0.51952,     0.52052,     0.52152,     0.52252,     0.52352,     0.52452,     0.52553,     0.52653,     0.52753,\n",
              "           0.52853,     0.52953,     0.53053,     0.53153,     0.53253,     0.53353,     0.53453,     0.53554,     0.53654,     0.53754,     0.53854,     0.53954,     0.54054,     0.54154,     0.54254,     0.54354,     0.54454,     0.54555,     0.54655,     0.54755,     0.54855,     0.54955,     0.55055,     0.55155,\n",
              "           0.55255,     0.55355,     0.55455,     0.55556,     0.55656,     0.55756,     0.55856,     0.55956,     0.56056,     0.56156,     0.56256,     0.56356,     0.56456,     0.56557,     0.56657,     0.56757,     0.56857,     0.56957,     0.57057,     0.57157,     0.57257,     0.57357,     0.57457,     0.57558,\n",
              "           0.57658,     0.57758,     0.57858,     0.57958,     0.58058,     0.58158,     0.58258,     0.58358,     0.58458,     0.58559,     0.58659,     0.58759,     0.58859,     0.58959,     0.59059,     0.59159,     0.59259,     0.59359,     0.59459,      0.5956,      0.5966,      0.5976,      0.5986,      0.5996,\n",
              "            0.6006,      0.6016,      0.6026,      0.6036,      0.6046,     0.60561,     0.60661,     0.60761,     0.60861,     0.60961,     0.61061,     0.61161,     0.61261,     0.61361,     0.61461,     0.61562,     0.61662,     0.61762,     0.61862,     0.61962,     0.62062,     0.62162,     0.62262,     0.62362,\n",
              "           0.62462,     0.62563,     0.62663,     0.62763,     0.62863,     0.62963,     0.63063,     0.63163,     0.63263,     0.63363,     0.63463,     0.63564,     0.63664,     0.63764,     0.63864,     0.63964,     0.64064,     0.64164,     0.64264,     0.64364,     0.64464,     0.64565,     0.64665,     0.64765,\n",
              "           0.64865,     0.64965,     0.65065,     0.65165,     0.65265,     0.65365,     0.65465,     0.65566,     0.65666,     0.65766,     0.65866,     0.65966,     0.66066,     0.66166,     0.66266,     0.66366,     0.66466,     0.66567,     0.66667,     0.66767,     0.66867,     0.66967,     0.67067,     0.67167,\n",
              "           0.67267,     0.67367,     0.67467,     0.67568,     0.67668,     0.67768,     0.67868,     0.67968,     0.68068,     0.68168,     0.68268,     0.68368,     0.68468,     0.68569,     0.68669,     0.68769,     0.68869,     0.68969,     0.69069,     0.69169,     0.69269,     0.69369,     0.69469,      0.6957,\n",
              "            0.6967,      0.6977,      0.6987,      0.6997,      0.7007,      0.7017,      0.7027,      0.7037,      0.7047,     0.70571,     0.70671,     0.70771,     0.70871,     0.70971,     0.71071,     0.71171,     0.71271,     0.71371,     0.71471,     0.71572,     0.71672,     0.71772,     0.71872,     0.71972,\n",
              "           0.72072,     0.72172,     0.72272,     0.72372,     0.72472,     0.72573,     0.72673,     0.72773,     0.72873,     0.72973,     0.73073,     0.73173,     0.73273,     0.73373,     0.73473,     0.73574,     0.73674,     0.73774,     0.73874,     0.73974,     0.74074,     0.74174,     0.74274,     0.74374,\n",
              "           0.74474,     0.74575,     0.74675,     0.74775,     0.74875,     0.74975,     0.75075,     0.75175,     0.75275,     0.75375,     0.75475,     0.75576,     0.75676,     0.75776,     0.75876,     0.75976,     0.76076,     0.76176,     0.76276,     0.76376,     0.76476,     0.76577,     0.76677,     0.76777,\n",
              "           0.76877,     0.76977,     0.77077,     0.77177,     0.77277,     0.77377,     0.77477,     0.77578,     0.77678,     0.77778,     0.77878,     0.77978,     0.78078,     0.78178,     0.78278,     0.78378,     0.78478,     0.78579,     0.78679,     0.78779,     0.78879,     0.78979,     0.79079,     0.79179,\n",
              "           0.79279,     0.79379,     0.79479,      0.7958,      0.7968,      0.7978,      0.7988,      0.7998,      0.8008,      0.8018,      0.8028,      0.8038,      0.8048,     0.80581,     0.80681,     0.80781,     0.80881,     0.80981,     0.81081,     0.81181,     0.81281,     0.81381,     0.81481,     0.81582,\n",
              "           0.81682,     0.81782,     0.81882,     0.81982,     0.82082,     0.82182,     0.82282,     0.82382,     0.82482,     0.82583,     0.82683,     0.82783,     0.82883,     0.82983,     0.83083,     0.83183,     0.83283,     0.83383,     0.83483,     0.83584,     0.83684,     0.83784,     0.83884,     0.83984,\n",
              "           0.84084,     0.84184,     0.84284,     0.84384,     0.84484,     0.84585,     0.84685,     0.84785,     0.84885,     0.84985,     0.85085,     0.85185,     0.85285,     0.85385,     0.85485,     0.85586,     0.85686,     0.85786,     0.85886,     0.85986,     0.86086,     0.86186,     0.86286,     0.86386,\n",
              "           0.86486,     0.86587,     0.86687,     0.86787,     0.86887,     0.86987,     0.87087,     0.87187,     0.87287,     0.87387,     0.87487,     0.87588,     0.87688,     0.87788,     0.87888,     0.87988,     0.88088,     0.88188,     0.88288,     0.88388,     0.88488,     0.88589,     0.88689,     0.88789,\n",
              "           0.88889,     0.88989,     0.89089,     0.89189,     0.89289,     0.89389,     0.89489,      0.8959,      0.8969,      0.8979,      0.8989,      0.8999,      0.9009,      0.9019,      0.9029,      0.9039,      0.9049,     0.90591,     0.90691,     0.90791,     0.90891,     0.90991,     0.91091,     0.91191,\n",
              "           0.91291,     0.91391,     0.91491,     0.91592,     0.91692,     0.91792,     0.91892,     0.91992,     0.92092,     0.92192,     0.92292,     0.92392,     0.92492,     0.92593,     0.92693,     0.92793,     0.92893,     0.92993,     0.93093,     0.93193,     0.93293,     0.93393,     0.93493,     0.93594,\n",
              "           0.93694,     0.93794,     0.93894,     0.93994,     0.94094,     0.94194,     0.94294,     0.94394,     0.94494,     0.94595,     0.94695,     0.94795,     0.94895,     0.94995,     0.95095,     0.95195,     0.95295,     0.95395,     0.95495,     0.95596,     0.95696,     0.95796,     0.95896,     0.95996,\n",
              "           0.96096,     0.96196,     0.96296,     0.96396,     0.96496,     0.96597,     0.96697,     0.96797,     0.96897,     0.96997,     0.97097,     0.97197,     0.97297,     0.97397,     0.97497,     0.97598,     0.97698,     0.97798,     0.97898,     0.97998,     0.98098,     0.98198,     0.98298,     0.98398,\n",
              "           0.98498,     0.98599,     0.98699,     0.98799,     0.98899,     0.98999,     0.99099,     0.99199,     0.99299,     0.99399,     0.99499,       0.996,       0.997,       0.998,       0.999,           1]), array([[          1,           1,           1,           1,           1,           1,           1,           1,           1,           1,           1,           1,           1,           1,           1,           1,           1,           1,           1,           1,           1,           1,           1,\n",
              "                  1,           1,           1,           1,           1,           1,           1,           1,           1,           1,           1,           1,           1,           1,           1,           1,           1,           1,           1,           1,           1,           1,           1,\n",
              "                  1,           1,           1,           1,           1,           1,           1,     0.98462,     0.98462,     0.98462,     0.98462,     0.98462,     0.98462,     0.98462,     0.98462,     0.98462,     0.98462,     0.98462,     0.98462,     0.98462,     0.98462,     0.98462,     0.98462,\n",
              "            0.98462,     0.98462,     0.98462,     0.97333,     0.97333,     0.97333,     0.97333,     0.97333,     0.97333,     0.97333,     0.97333,     0.97333,     0.97333,     0.97333,     0.96907,     0.96907,     0.96907,     0.96907,     0.96907,     0.96907,     0.96907,     0.96907,     0.96907,\n",
              "            0.96907,     0.96907,     0.96907,     0.96907,     0.96907,     0.96907,     0.96907,     0.96907,     0.96907,     0.96907,     0.96907,     0.96907,     0.96907,     0.96907,     0.96774,     0.96774,     0.96774,     0.96774,     0.96774,     0.96774,     0.96774,     0.96774,     0.96774,\n",
              "            0.96774,     0.96774,     0.96774,     0.96774,     0.96774,     0.96774,     0.96774,     0.96774,     0.96774,     0.96774,     0.96774,     0.96774,     0.96774,     0.96774,     0.96774,     0.96774,     0.96774,     0.96774,     0.96774,     0.96774,     0.96774,     0.96774,     0.96774,\n",
              "            0.96774,     0.96774,     0.96774,     0.96774,     0.96774,     0.96774,     0.96774,     0.96774,     0.96774,     0.96774,     0.96774,     0.96774,     0.96774,     0.96774,     0.96774,     0.96774,     0.96774,     0.96774,     0.96774,     0.96774,     0.96774,     0.96774,     0.96774,\n",
              "            0.96774,     0.96774,     0.96774,     0.96774,     0.96774,     0.96774,     0.96774,     0.96774,     0.96774,     0.96774,     0.96774,     0.96774,     0.96774,     0.96774,     0.96774,     0.96774,     0.96774,     0.96774,     0.96774,     0.96774,     0.96774,     0.96774,     0.96774,\n",
              "            0.96774,     0.96774,     0.96774,     0.96774,     0.96774,     0.96774,     0.96774,     0.96774,     0.96774,     0.96774,     0.96774,     0.96774,     0.96774,     0.96774,     0.96774,     0.96774,     0.96774,     0.96774,     0.96774,     0.96429,     0.96429,     0.96429,     0.96429,\n",
              "            0.96429,     0.96429,     0.96429,     0.96429,     0.96429,     0.96429,     0.96429,     0.96429,     0.96429,     0.96429,     0.96429,     0.96429,     0.96429,     0.96429,     0.96429,     0.96429,     0.96429,     0.96429,     0.96429,     0.96429,     0.96429,     0.96429,     0.96429,\n",
              "            0.96429,     0.96429,     0.96429,     0.96429,     0.96429,     0.96429,     0.96429,     0.96429,     0.96429,     0.96429,     0.96429,     0.96429,     0.96429,     0.96429,     0.96429,     0.96429,     0.96429,     0.96429,     0.96429,     0.96429,     0.96429,     0.96429,     0.96429,\n",
              "            0.96429,     0.96429,     0.96429,     0.96429,     0.96429,     0.96429,     0.96429,     0.96429,     0.96429,     0.96429,     0.96429,     0.96429,     0.96429,     0.96429,     0.96429,     0.96429,     0.96429,     0.96429,     0.96429,     0.96429,     0.96429,     0.96429,     0.96429,\n",
              "            0.96429,     0.96429,     0.96429,     0.96429,     0.96429,     0.96429,     0.96429,     0.96429,     0.96429,     0.96429,     0.96429,     0.96429,     0.96429,     0.96429,     0.96429,     0.96429,     0.96429,     0.96429,     0.96429,     0.96429,     0.96429,     0.96429,     0.96429,\n",
              "            0.96429,     0.96429,     0.96429,     0.96429,     0.96429,     0.96246,     0.96246,     0.96246,     0.96246,     0.96246,     0.96246,     0.96246,     0.96246,     0.96246,     0.96246,     0.96246,     0.96246,     0.96246,     0.96141,     0.96141,     0.96141,     0.96141,     0.96141,\n",
              "            0.96141,     0.96141,     0.96141,     0.96141,     0.96141,     0.96141,     0.96141,     0.96141,     0.96141,     0.96141,     0.96141,     0.96141,     0.96141,     0.96141,     0.96024,     0.96024,     0.96024,     0.96024,     0.96024,     0.96024,     0.96024,     0.96024,     0.96024,\n",
              "            0.96024,     0.96024,     0.96024,     0.96024,     0.96024,     0.96024,     0.96024,     0.96024,     0.95821,     0.95821,     0.95821,     0.95821,     0.95821,     0.95821,     0.95821,     0.95821,     0.95787,     0.95787,     0.95787,     0.95787,     0.95787,     0.95787,     0.95787,\n",
              "            0.95787,     0.95787,     0.95787,     0.95787,     0.95787,     0.95787,     0.95787,     0.95787,     0.95787,     0.95787,     0.95787,     0.95787,     0.95787,     0.95787,     0.95787,     0.95787,     0.95652,     0.95652,     0.95652,     0.95652,     0.95652,     0.95652,     0.95652,\n",
              "            0.95652,     0.95652,     0.95652,     0.95652,     0.95652,     0.95538,     0.95538,     0.95538,     0.95538,     0.95538,     0.95538,     0.95538,     0.95538,     0.95538,     0.95538,     0.95538,     0.95538,     0.95538,     0.95538,     0.95373,     0.95373,     0.95373,     0.95373,\n",
              "            0.95373,     0.95373,     0.95373,     0.95153,     0.95153,     0.95153,     0.94763,     0.94763,     0.94763,     0.94763,     0.94763,     0.94763,     0.94763,     0.94763,     0.94595,     0.94595,     0.94595,     0.94595,     0.94595,     0.94471,     0.94471,     0.94471,     0.94471,\n",
              "            0.94471,     0.94471,     0.94471,     0.94471,     0.94471,     0.94432,     0.94432,     0.94432,     0.94432,     0.94432,     0.94432,     0.94432,     0.94432,     0.94432,     0.94432,     0.94432,     0.94432,     0.94432,     0.94432,     0.94432,     0.94432,     0.94432,     0.94432,\n",
              "            0.94432,     0.94432,     0.94432,     0.94432,     0.94432,     0.94432,     0.94432,     0.94432,     0.94432,     0.94432,     0.94432,     0.94432,     0.94432,     0.94432,     0.94432,     0.94432,     0.94432,     0.94298,     0.94298,     0.94298,     0.94298,     0.94298,     0.94298,\n",
              "            0.94298,      0.9413,      0.9413,      0.9413,      0.9359,      0.9359,      0.9359,      0.9359,      0.9359,      0.9359,     0.93474,     0.93474,     0.93474,     0.93474,     0.93474,     0.93474,     0.93361,     0.93361,     0.93361,     0.93361,     0.93361,     0.93361,     0.93361,\n",
              "            0.93004,     0.93004,     0.92828,     0.92828,     0.92698,     0.92698,     0.92698,     0.92698,     0.92339,       0.922,       0.922,       0.922,       0.922,     0.92032,     0.91945,     0.91945,     0.91945,     0.91945,     0.91945,     0.91945,      0.9186,      0.9186,      0.9186,\n",
              "             0.9186,      0.9186,      0.9186,      0.9186,     0.91571,     0.91571,     0.91571,     0.91571,     0.91571,     0.91525,     0.91525,     0.91525,     0.91525,     0.91525,     0.91525,     0.91525,     0.91525,     0.91525,     0.91402,     0.91402,     0.91402,     0.91111,     0.91111,\n",
              "            0.91111,     0.90809,     0.90809,     0.90809,     0.89837,     0.89785,     0.89785,     0.89785,     0.89785,     0.89785,     0.89785,     0.89753,     0.89753,     0.89753,     0.89753,     0.89753,     0.89753,     0.89753,     0.89753,     0.89619,     0.89619,     0.89619,     0.89619,\n",
              "            0.89619,     0.89619,     0.89619,     0.89619,     0.89619,     0.89619,     0.89619,     0.89619,     0.89483,     0.89456,     0.89456,     0.89456,     0.89456,     0.89456,     0.89456,     0.89456,     0.89456,     0.89376,     0.89376,     0.89376,     0.89376,     0.89244,     0.89112,\n",
              "            0.88978,     0.88978,     0.88978,     0.88978,     0.88978,     0.88978,     0.88978,     0.88978,     0.88978,     0.88978,     0.88978,     0.88978,     0.88978,     0.88978,     0.88978,     0.88978,     0.88978,     0.88978,     0.88978,     0.88978,     0.88978,     0.88978,     0.88978,\n",
              "            0.88978,     0.88978,     0.88978,     0.88978,     0.88978,     0.88571,     0.88571,     0.88226,     0.88226,     0.88226,     0.88226,      0.8808,      0.8808,      0.8808,      0.8808,      0.8808,      0.8808,      0.8808,      0.8808,     0.87963,     0.87883,     0.87883,     0.87883,\n",
              "            0.87768,     0.87768,     0.87727,     0.87727,     0.87727,     0.87727,     0.87727,     0.87651,     0.87651,     0.87651,     0.87651,     0.87463,     0.87463,     0.87463,     0.87463,      0.8724,      0.8724,     0.87149,     0.87149,     0.87149,      0.8704,     0.86804,     0.86715,\n",
              "            0.86715,     0.86628,     0.86628,     0.86522,     0.86416,     0.86409,     0.86409,     0.86409,     0.86409,     0.86409,     0.86409,     0.86409,     0.86396,     0.86396,     0.86396,     0.86396,     0.86396,     0.86396,     0.86396,     0.86396,     0.86396,     0.86396,     0.86396,\n",
              "            0.86396,     0.86396,     0.86396,     0.86111,     0.86111,     0.86111,     0.86111,     0.85948,     0.85948,     0.85948,     0.85948,     0.85948,     0.85948,     0.85948,     0.85948,     0.85948,     0.85948,     0.85948,     0.85734,     0.85734,     0.85637,     0.85541,     0.85235,\n",
              "            0.85235,      0.8516,      0.8516,     0.85067,     0.84973,     0.84973,     0.84921,     0.84921,     0.84921,     0.84555,     0.84555,     0.84555,     0.84555,     0.84485,     0.84485,     0.84485,     0.84395,     0.84197,     0.84109,     0.84021,     0.83965,     0.83965,     0.83965,\n",
              "            0.83965,     0.83965,     0.83965,     0.83965,     0.83965,     0.83965,     0.83965,     0.83965,     0.83965,     0.83965,     0.83965,     0.83965,     0.83879,     0.83375,     0.83375,     0.83375,     0.83375,     0.83375,     0.83375,     0.83375,     0.83333,     0.83333,     0.83333,\n",
              "            0.83251,     0.83088,     0.83088,     0.83028,     0.83028,     0.83028,     0.82948,     0.82788,     0.82788,      0.8263,      0.8263,     0.82551,     0.82542,     0.82542,     0.82542,     0.82542,     0.82542,     0.82542,     0.82542,     0.82542,     0.82542,     0.82542,     0.82388,\n",
              "            0.82388,     0.82388,     0.82118,     0.81871,     0.81871,     0.81818,     0.81818,     0.81744,     0.81503,     0.81503,     0.81503,      0.8143,     0.81401,     0.81401,     0.81401,      0.8105,     0.80726,     0.80726,     0.80726,     0.80587,     0.80587,     0.80518,     0.80359,\n",
              "            0.80291,     0.80045,         0.8,         0.8,         0.8,     0.79845,     0.79603,     0.79496,     0.79496,     0.79496,     0.79431,     0.79303,     0.79303,     0.79303,     0.79239,     0.78749,     0.78694,     0.78694,     0.78694,     0.78694,     0.78694,     0.78678,     0.78678,\n",
              "            0.78678,     0.78678,     0.78533,     0.78141,     0.78082,     0.78023,     0.77883,     0.77743,     0.77743,     0.77362,     0.76931,     0.76931,     0.76327,     0.76195,     0.76012,     0.76012,     0.75907,     0.75907,     0.75907,     0.75855,     0.75727,     0.75449,     0.75398,\n",
              "            0.74975,     0.74291,     0.74291,     0.74291,     0.74172,     0.73909,     0.73791,      0.7377,      0.7377,     0.73654,     0.73327,     0.73282,     0.73282,     0.73194,     0.73194,     0.73081,     0.71974,     0.71974,     0.71933,     0.71878,     0.71878,     0.71878,     0.71878,\n",
              "            0.71573,     0.71442,     0.71442,     0.71442,     0.71442,     0.71442,     0.71403,     0.71403,      0.7126,      0.7126,     0.70546,     0.70546,     0.70473,     0.70473,     0.70426,     0.70426,     0.70426,     0.70426,      0.7023,      0.7023,     0.70194,     0.70158,     0.69755,\n",
              "            0.69539,     0.69505,     0.69317,     0.69317,     0.69317,     0.69251,     0.69251,     0.69125,     0.69125,     0.68968,     0.68968,     0.68968,     0.68968,     0.68412,     0.67415,      0.6733,      0.6719,     0.66941,     0.66913,     0.66885,     0.66585,     0.66585,     0.66074,\n",
              "             0.6459,     0.64314,     0.64091,     0.63919,      0.6321,     0.62997,     0.61751,     0.61751,     0.61185,     0.60675,     0.60438,     0.60116,     0.60058,     0.60043,     0.59899,     0.59842,     0.59842,     0.59052,     0.59052,     0.58298,     0.58125,      0.5724,     0.57231,\n",
              "             0.5668,     0.56443,     0.56443,     0.56208,     0.56013,     0.55931,     0.55665,     0.55621,     0.55468,      0.5471,     0.54458,     0.54458,     0.54452,     0.53187,      0.5269,     0.52396,     0.51477,     0.51167,     0.50741,     0.50234,     0.50234,     0.49682,     0.49255,\n",
              "            0.48505,     0.47913,     0.47572,     0.47444,     0.47368,     0.47139,     0.47139,     0.46559,     0.46538,     0.45517,     0.43342,     0.39872,     0.39058,     0.29945,     0.28936,     0.28936,     0.27338,     0.23914,     0.20518,      0.1915,     0.17782,     0.16415,     0.15047,\n",
              "            0.13679,     0.12311,     0.10943,    0.095752,    0.082073,    0.068394,    0.054715,    0.041036,    0.027358,    0.013679,           0]]), 'Recall', 'Precision'], [array([          0,    0.001001,    0.002002,    0.003003,    0.004004,    0.005005,    0.006006,    0.007007,    0.008008,    0.009009,     0.01001,    0.011011,    0.012012,    0.013013,    0.014014,    0.015015,    0.016016,    0.017017,    0.018018,    0.019019,     0.02002,    0.021021,    0.022022,    0.023023,\n",
              "          0.024024,    0.025025,    0.026026,    0.027027,    0.028028,    0.029029,     0.03003,    0.031031,    0.032032,    0.033033,    0.034034,    0.035035,    0.036036,    0.037037,    0.038038,    0.039039,     0.04004,    0.041041,    0.042042,    0.043043,    0.044044,    0.045045,    0.046046,    0.047047,\n",
              "          0.048048,    0.049049,     0.05005,    0.051051,    0.052052,    0.053053,    0.054054,    0.055055,    0.056056,    0.057057,    0.058058,    0.059059,     0.06006,    0.061061,    0.062062,    0.063063,    0.064064,    0.065065,    0.066066,    0.067067,    0.068068,    0.069069,     0.07007,    0.071071,\n",
              "          0.072072,    0.073073,    0.074074,    0.075075,    0.076076,    0.077077,    0.078078,    0.079079,     0.08008,    0.081081,    0.082082,    0.083083,    0.084084,    0.085085,    0.086086,    0.087087,    0.088088,    0.089089,     0.09009,    0.091091,    0.092092,    0.093093,    0.094094,    0.095095,\n",
              "          0.096096,    0.097097,    0.098098,    0.099099,      0.1001,      0.1011,      0.1021,      0.1031,      0.1041,     0.10511,     0.10611,     0.10711,     0.10811,     0.10911,     0.11011,     0.11111,     0.11211,     0.11311,     0.11411,     0.11512,     0.11612,     0.11712,     0.11812,     0.11912,\n",
              "           0.12012,     0.12112,     0.12212,     0.12312,     0.12412,     0.12513,     0.12613,     0.12713,     0.12813,     0.12913,     0.13013,     0.13113,     0.13213,     0.13313,     0.13413,     0.13514,     0.13614,     0.13714,     0.13814,     0.13914,     0.14014,     0.14114,     0.14214,     0.14314,\n",
              "           0.14414,     0.14515,     0.14615,     0.14715,     0.14815,     0.14915,     0.15015,     0.15115,     0.15215,     0.15315,     0.15415,     0.15516,     0.15616,     0.15716,     0.15816,     0.15916,     0.16016,     0.16116,     0.16216,     0.16316,     0.16416,     0.16517,     0.16617,     0.16717,\n",
              "           0.16817,     0.16917,     0.17017,     0.17117,     0.17217,     0.17317,     0.17417,     0.17518,     0.17618,     0.17718,     0.17818,     0.17918,     0.18018,     0.18118,     0.18218,     0.18318,     0.18418,     0.18519,     0.18619,     0.18719,     0.18819,     0.18919,     0.19019,     0.19119,\n",
              "           0.19219,     0.19319,     0.19419,      0.1952,      0.1962,      0.1972,      0.1982,      0.1992,      0.2002,      0.2012,      0.2022,      0.2032,      0.2042,     0.20521,     0.20621,     0.20721,     0.20821,     0.20921,     0.21021,     0.21121,     0.21221,     0.21321,     0.21421,     0.21522,\n",
              "           0.21622,     0.21722,     0.21822,     0.21922,     0.22022,     0.22122,     0.22222,     0.22322,     0.22422,     0.22523,     0.22623,     0.22723,     0.22823,     0.22923,     0.23023,     0.23123,     0.23223,     0.23323,     0.23423,     0.23524,     0.23624,     0.23724,     0.23824,     0.23924,\n",
              "           0.24024,     0.24124,     0.24224,     0.24324,     0.24424,     0.24525,     0.24625,     0.24725,     0.24825,     0.24925,     0.25025,     0.25125,     0.25225,     0.25325,     0.25425,     0.25526,     0.25626,     0.25726,     0.25826,     0.25926,     0.26026,     0.26126,     0.26226,     0.26326,\n",
              "           0.26426,     0.26527,     0.26627,     0.26727,     0.26827,     0.26927,     0.27027,     0.27127,     0.27227,     0.27327,     0.27427,     0.27528,     0.27628,     0.27728,     0.27828,     0.27928,     0.28028,     0.28128,     0.28228,     0.28328,     0.28428,     0.28529,     0.28629,     0.28729,\n",
              "           0.28829,     0.28929,     0.29029,     0.29129,     0.29229,     0.29329,     0.29429,      0.2953,      0.2963,      0.2973,      0.2983,      0.2993,      0.3003,      0.3013,      0.3023,      0.3033,      0.3043,     0.30531,     0.30631,     0.30731,     0.30831,     0.30931,     0.31031,     0.31131,\n",
              "           0.31231,     0.31331,     0.31431,     0.31532,     0.31632,     0.31732,     0.31832,     0.31932,     0.32032,     0.32132,     0.32232,     0.32332,     0.32432,     0.32533,     0.32633,     0.32733,     0.32833,     0.32933,     0.33033,     0.33133,     0.33233,     0.33333,     0.33433,     0.33534,\n",
              "           0.33634,     0.33734,     0.33834,     0.33934,     0.34034,     0.34134,     0.34234,     0.34334,     0.34434,     0.34535,     0.34635,     0.34735,     0.34835,     0.34935,     0.35035,     0.35135,     0.35235,     0.35335,     0.35435,     0.35536,     0.35636,     0.35736,     0.35836,     0.35936,\n",
              "           0.36036,     0.36136,     0.36236,     0.36336,     0.36436,     0.36537,     0.36637,     0.36737,     0.36837,     0.36937,     0.37037,     0.37137,     0.37237,     0.37337,     0.37437,     0.37538,     0.37638,     0.37738,     0.37838,     0.37938,     0.38038,     0.38138,     0.38238,     0.38338,\n",
              "           0.38438,     0.38539,     0.38639,     0.38739,     0.38839,     0.38939,     0.39039,     0.39139,     0.39239,     0.39339,     0.39439,      0.3954,      0.3964,      0.3974,      0.3984,      0.3994,      0.4004,      0.4014,      0.4024,      0.4034,      0.4044,     0.40541,     0.40641,     0.40741,\n",
              "           0.40841,     0.40941,     0.41041,     0.41141,     0.41241,     0.41341,     0.41441,     0.41542,     0.41642,     0.41742,     0.41842,     0.41942,     0.42042,     0.42142,     0.42242,     0.42342,     0.42442,     0.42543,     0.42643,     0.42743,     0.42843,     0.42943,     0.43043,     0.43143,\n",
              "           0.43243,     0.43343,     0.43443,     0.43544,     0.43644,     0.43744,     0.43844,     0.43944,     0.44044,     0.44144,     0.44244,     0.44344,     0.44444,     0.44545,     0.44645,     0.44745,     0.44845,     0.44945,     0.45045,     0.45145,     0.45245,     0.45345,     0.45445,     0.45546,\n",
              "           0.45646,     0.45746,     0.45846,     0.45946,     0.46046,     0.46146,     0.46246,     0.46346,     0.46446,     0.46547,     0.46647,     0.46747,     0.46847,     0.46947,     0.47047,     0.47147,     0.47247,     0.47347,     0.47447,     0.47548,     0.47648,     0.47748,     0.47848,     0.47948,\n",
              "           0.48048,     0.48148,     0.48248,     0.48348,     0.48448,     0.48549,     0.48649,     0.48749,     0.48849,     0.48949,     0.49049,     0.49149,     0.49249,     0.49349,     0.49449,      0.4955,      0.4965,      0.4975,      0.4985,      0.4995,      0.5005,      0.5015,      0.5025,      0.5035,\n",
              "            0.5045,     0.50551,     0.50651,     0.50751,     0.50851,     0.50951,     0.51051,     0.51151,     0.51251,     0.51351,     0.51451,     0.51552,     0.51652,     0.51752,     0.51852,     0.51952,     0.52052,     0.52152,     0.52252,     0.52352,     0.52452,     0.52553,     0.52653,     0.52753,\n",
              "           0.52853,     0.52953,     0.53053,     0.53153,     0.53253,     0.53353,     0.53453,     0.53554,     0.53654,     0.53754,     0.53854,     0.53954,     0.54054,     0.54154,     0.54254,     0.54354,     0.54454,     0.54555,     0.54655,     0.54755,     0.54855,     0.54955,     0.55055,     0.55155,\n",
              "           0.55255,     0.55355,     0.55455,     0.55556,     0.55656,     0.55756,     0.55856,     0.55956,     0.56056,     0.56156,     0.56256,     0.56356,     0.56456,     0.56557,     0.56657,     0.56757,     0.56857,     0.56957,     0.57057,     0.57157,     0.57257,     0.57357,     0.57457,     0.57558,\n",
              "           0.57658,     0.57758,     0.57858,     0.57958,     0.58058,     0.58158,     0.58258,     0.58358,     0.58458,     0.58559,     0.58659,     0.58759,     0.58859,     0.58959,     0.59059,     0.59159,     0.59259,     0.59359,     0.59459,      0.5956,      0.5966,      0.5976,      0.5986,      0.5996,\n",
              "            0.6006,      0.6016,      0.6026,      0.6036,      0.6046,     0.60561,     0.60661,     0.60761,     0.60861,     0.60961,     0.61061,     0.61161,     0.61261,     0.61361,     0.61461,     0.61562,     0.61662,     0.61762,     0.61862,     0.61962,     0.62062,     0.62162,     0.62262,     0.62362,\n",
              "           0.62462,     0.62563,     0.62663,     0.62763,     0.62863,     0.62963,     0.63063,     0.63163,     0.63263,     0.63363,     0.63463,     0.63564,     0.63664,     0.63764,     0.63864,     0.63964,     0.64064,     0.64164,     0.64264,     0.64364,     0.64464,     0.64565,     0.64665,     0.64765,\n",
              "           0.64865,     0.64965,     0.65065,     0.65165,     0.65265,     0.65365,     0.65465,     0.65566,     0.65666,     0.65766,     0.65866,     0.65966,     0.66066,     0.66166,     0.66266,     0.66366,     0.66466,     0.66567,     0.66667,     0.66767,     0.66867,     0.66967,     0.67067,     0.67167,\n",
              "           0.67267,     0.67367,     0.67467,     0.67568,     0.67668,     0.67768,     0.67868,     0.67968,     0.68068,     0.68168,     0.68268,     0.68368,     0.68468,     0.68569,     0.68669,     0.68769,     0.68869,     0.68969,     0.69069,     0.69169,     0.69269,     0.69369,     0.69469,      0.6957,\n",
              "            0.6967,      0.6977,      0.6987,      0.6997,      0.7007,      0.7017,      0.7027,      0.7037,      0.7047,     0.70571,     0.70671,     0.70771,     0.70871,     0.70971,     0.71071,     0.71171,     0.71271,     0.71371,     0.71471,     0.71572,     0.71672,     0.71772,     0.71872,     0.71972,\n",
              "           0.72072,     0.72172,     0.72272,     0.72372,     0.72472,     0.72573,     0.72673,     0.72773,     0.72873,     0.72973,     0.73073,     0.73173,     0.73273,     0.73373,     0.73473,     0.73574,     0.73674,     0.73774,     0.73874,     0.73974,     0.74074,     0.74174,     0.74274,     0.74374,\n",
              "           0.74474,     0.74575,     0.74675,     0.74775,     0.74875,     0.74975,     0.75075,     0.75175,     0.75275,     0.75375,     0.75475,     0.75576,     0.75676,     0.75776,     0.75876,     0.75976,     0.76076,     0.76176,     0.76276,     0.76376,     0.76476,     0.76577,     0.76677,     0.76777,\n",
              "           0.76877,     0.76977,     0.77077,     0.77177,     0.77277,     0.77377,     0.77477,     0.77578,     0.77678,     0.77778,     0.77878,     0.77978,     0.78078,     0.78178,     0.78278,     0.78378,     0.78478,     0.78579,     0.78679,     0.78779,     0.78879,     0.78979,     0.79079,     0.79179,\n",
              "           0.79279,     0.79379,     0.79479,      0.7958,      0.7968,      0.7978,      0.7988,      0.7998,      0.8008,      0.8018,      0.8028,      0.8038,      0.8048,     0.80581,     0.80681,     0.80781,     0.80881,     0.80981,     0.81081,     0.81181,     0.81281,     0.81381,     0.81481,     0.81582,\n",
              "           0.81682,     0.81782,     0.81882,     0.81982,     0.82082,     0.82182,     0.82282,     0.82382,     0.82482,     0.82583,     0.82683,     0.82783,     0.82883,     0.82983,     0.83083,     0.83183,     0.83283,     0.83383,     0.83483,     0.83584,     0.83684,     0.83784,     0.83884,     0.83984,\n",
              "           0.84084,     0.84184,     0.84284,     0.84384,     0.84484,     0.84585,     0.84685,     0.84785,     0.84885,     0.84985,     0.85085,     0.85185,     0.85285,     0.85385,     0.85485,     0.85586,     0.85686,     0.85786,     0.85886,     0.85986,     0.86086,     0.86186,     0.86286,     0.86386,\n",
              "           0.86486,     0.86587,     0.86687,     0.86787,     0.86887,     0.86987,     0.87087,     0.87187,     0.87287,     0.87387,     0.87487,     0.87588,     0.87688,     0.87788,     0.87888,     0.87988,     0.88088,     0.88188,     0.88288,     0.88388,     0.88488,     0.88589,     0.88689,     0.88789,\n",
              "           0.88889,     0.88989,     0.89089,     0.89189,     0.89289,     0.89389,     0.89489,      0.8959,      0.8969,      0.8979,      0.8989,      0.8999,      0.9009,      0.9019,      0.9029,      0.9039,      0.9049,     0.90591,     0.90691,     0.90791,     0.90891,     0.90991,     0.91091,     0.91191,\n",
              "           0.91291,     0.91391,     0.91491,     0.91592,     0.91692,     0.91792,     0.91892,     0.91992,     0.92092,     0.92192,     0.92292,     0.92392,     0.92492,     0.92593,     0.92693,     0.92793,     0.92893,     0.92993,     0.93093,     0.93193,     0.93293,     0.93393,     0.93493,     0.93594,\n",
              "           0.93694,     0.93794,     0.93894,     0.93994,     0.94094,     0.94194,     0.94294,     0.94394,     0.94494,     0.94595,     0.94695,     0.94795,     0.94895,     0.94995,     0.95095,     0.95195,     0.95295,     0.95395,     0.95495,     0.95596,     0.95696,     0.95796,     0.95896,     0.95996,\n",
              "           0.96096,     0.96196,     0.96296,     0.96396,     0.96496,     0.96597,     0.96697,     0.96797,     0.96897,     0.96997,     0.97097,     0.97197,     0.97297,     0.97397,     0.97497,     0.97598,     0.97698,     0.97798,     0.97898,     0.97998,     0.98098,     0.98198,     0.98298,     0.98398,\n",
              "           0.98498,     0.98599,     0.98699,     0.98799,     0.98899,     0.98999,     0.99099,     0.99199,     0.99299,     0.99399,     0.99499,       0.996,       0.997,       0.998,       0.999,           1]), array([[    0.35318,     0.35318,     0.42696,     0.46859,     0.50042,     0.52887,     0.54954,     0.56621,     0.58032,     0.59535,     0.60912,     0.62078,     0.62961,     0.63685,     0.64373,     0.64867,     0.65547,     0.66319,     0.66749,     0.67353,     0.67754,     0.68236,     0.68464,\n",
              "             0.6888,     0.69362,     0.69531,     0.69983,     0.70195,     0.70481,     0.70756,     0.70803,     0.71046,     0.71198,     0.71382,      0.7157,     0.71876,      0.7205,     0.72336,     0.72534,      0.7281,     0.73019,     0.73061,     0.73155,     0.73442,     0.73479,     0.73804,\n",
              "            0.73993,     0.74126,     0.74354,     0.74537,     0.74858,     0.75105,     0.75174,     0.75421,     0.75536,     0.75616,     0.75767,     0.75856,     0.75945,     0.76114,     0.76248,     0.76313,     0.76445,       0.766,     0.76813,     0.76911,     0.76892,      0.7711,     0.77275,\n",
              "             0.7733,     0.77318,     0.77439,     0.77462,     0.77486,      0.7764,     0.77785,     0.78029,     0.78144,     0.78221,      0.7826,     0.78436,      0.7838,     0.78404,     0.78369,     0.78348,     0.78278,     0.78303,     0.78411,     0.78375,     0.78427,     0.78561,     0.78704,\n",
              "            0.78646,     0.78602,     0.78573,     0.78529,     0.78492,     0.78546,     0.78759,     0.78835,     0.78865,     0.78836,     0.78902,      0.7886,     0.78802,     0.78656,     0.78662,     0.78736,     0.78758,     0.78788,     0.78818,     0.78853,     0.78845,     0.78728,     0.78747,\n",
              "            0.78725,      0.7869,     0.78933,     0.78977,     0.79001,     0.79012,     0.79022,     0.79033,     0.79102,     0.79221,     0.79278,     0.79296,      0.7924,     0.79235,     0.79305,     0.79389,       0.794,      0.7937,     0.79422,      0.7935,     0.79325,     0.79352,     0.79371,\n",
              "            0.79329,     0.79449,     0.79436,     0.79415,     0.79395,     0.79576,     0.79607,     0.79664,     0.79788,     0.79938,     0.79959,     0.79966,     0.79898,     0.79927,     0.79991,     0.80007,     0.80072,     0.79987,     0.79896,     0.79982,     0.79963,     0.80013,     0.79982,\n",
              "            0.80045,     0.80076,     0.80125,     0.80295,     0.80245,     0.80413,     0.80454,     0.80508,     0.80553,     0.80563,     0.80575,     0.80647,     0.80619,     0.80576,     0.80607,     0.80702,     0.80783,     0.80753,     0.80644,     0.80557,     0.80384,     0.80378,     0.80372,\n",
              "            0.80396,     0.80473,     0.80499,     0.80554,     0.80578,     0.80547,     0.80475,     0.80388,     0.80333,     0.80385,     0.80458,     0.80376,     0.80368,     0.80367,     0.80432,     0.80446,     0.80423,     0.80384,     0.80437,     0.80355,     0.80321,     0.80348,     0.80401,\n",
              "            0.80351,      0.8039,     0.80444,     0.80527,     0.80561,      0.8046,     0.80383,     0.80399,     0.80348,     0.80302,     0.80338,     0.80327,     0.80362,     0.80245,     0.80249,     0.80187,     0.80173,     0.80212,     0.80261,     0.80309,     0.80298,     0.80213,      0.8028,\n",
              "            0.80161,     0.80078,     0.80027,     0.79992,     0.79958,     0.79683,     0.79746,     0.79739,     0.79643,     0.79606,     0.79572,     0.79589,     0.79644,     0.79594,     0.79526,     0.79492,     0.79493,     0.79396,     0.79422,      0.7945,      0.7942,     0.79303,     0.79254,\n",
              "            0.79271,     0.79258,     0.79119,     0.79063,     0.78993,      0.7896,     0.78949,     0.78933,     0.79052,     0.79098,     0.79114,      0.7913,     0.79081,     0.79028,     0.78979,     0.78889,     0.78824,     0.78791,     0.78757,     0.78708,     0.78619,     0.78559,     0.78503,\n",
              "            0.78323,     0.78316,     0.78273,       0.783,     0.78282,     0.78263,     0.78249,      0.7826,     0.78221,     0.78225,     0.78242,     0.78155,     0.78142,      0.7813,     0.78087,     0.78064,      0.7804,     0.78017,     0.77916,     0.77943,     0.77965,     0.77977,     0.77989,\n",
              "            0.78001,     0.78021,     0.78049,     0.77872,     0.77849,     0.77805,     0.77787,     0.77701,     0.77655,     0.77583,     0.77627,     0.77655,     0.77675,     0.77636,     0.77587,     0.77601,     0.77615,     0.77629,     0.77678,     0.77534,     0.77434,     0.77412,      0.7739,\n",
              "            0.77323,      0.7724,     0.77126,     0.77094,     0.77058,     0.77013,     0.76969,     0.76924,     0.77022,     0.76978,     0.76933,     0.76869,     0.76799,     0.76898,     0.76834,     0.76786,     0.76729,     0.76636,     0.76556,     0.76308,     0.76169,     0.76064,     0.75833,\n",
              "            0.75804,     0.75774,     0.75712,     0.75659,      0.7563,     0.75601,      0.7557,     0.75583,     0.75596,     0.75609,     0.75606,     0.75577,     0.75548,     0.75584,     0.75509,     0.75462,     0.75442,     0.75388,     0.75359,     0.75329,     0.75348,     0.75314,      0.7533,\n",
              "            0.75358,     0.75382,     0.75372,     0.75361,      0.7535,     0.75339,     0.75328,     0.75318,     0.75307,     0.75279,     0.75195,     0.75161,     0.75114,     0.75094,     0.75152,     0.75087,     0.75057,     0.75027,      0.7499,     0.74948,     0.74879,     0.74876,     0.74904,\n",
              "            0.74928,     0.74869,     0.74827,     0.74779,     0.74728,     0.74725,     0.74642,     0.74559,     0.74394,     0.74377,     0.74329,     0.74301,     0.74136,      0.7413,     0.73982,     0.73898,       0.738,     0.73758,     0.73706,     0.73573,      0.7355,     0.73398,     0.73367,\n",
              "            0.73336,     0.73355,     0.73453,     0.73468,     0.73517,     0.73511,     0.73482,     0.73454,     0.73325,     0.73273,     0.72855,     0.72812,     0.72677,     0.72514,      0.7247,     0.72417,     0.72159,     0.72072,     0.71984,     0.71896,     0.71846,     0.71864,     0.71882,\n",
              "            0.71904,     0.71929,     0.71904,      0.7186,     0.71696,     0.71522,     0.71529,     0.71498,     0.71522,     0.71272,     0.71248,      0.7123,     0.71212,     0.71194,     0.71178,     0.71194,     0.71211,     0.71213,     0.70946,     0.70902,     0.70769,     0.70724,     0.70624,\n",
              "            0.70649,     0.70637,     0.70592,     0.70392,     0.70301,     0.70032,     0.69941,      0.6976,     0.69766,     0.69673,     0.69615,     0.69569,     0.69486,     0.69394,     0.69211,     0.69167,     0.69024,     0.68978,     0.68797,     0.68703,     0.68755,     0.68852,     0.68941,\n",
              "            0.68767,     0.68817,     0.68847,     0.68753,     0.68667,      0.6862,     0.68595,     0.68644,     0.68653,     0.68466,     0.68419,     0.68324,     0.68247,       0.682,     0.68162,     0.68138,     0.68114,      0.6809,     0.67936,     0.67875,     0.67843,     0.67811,     0.67739,\n",
              "            0.67737,     0.67689,     0.67499,     0.67402,     0.67462,     0.67399,     0.67207,     0.67015,     0.66919,     0.66935,     0.66951,     0.66863,      0.6667,     0.66572,     0.66427,     0.66423,     0.66276,     0.66129,     0.66091,     0.66115,      0.6612,     0.66021,     0.65834,\n",
              "            0.65785,     0.65754,     0.65778,      0.6578,      0.6573,     0.65567,     0.65616,     0.65605,     0.65438,     0.65413,     0.65388,     0.65363,     0.65199,     0.65126,     0.65075,      0.6507,     0.65094,      0.6507,     0.65019,     0.64635,     0.64582,     0.64548,     0.64514,\n",
              "            0.64273,      0.6417,     0.64142,     0.64169,     0.64194,     0.64032,     0.63947,      0.6379,     0.63686,      0.6348,     0.63358,     0.63011,     0.62905,     0.62697,     0.62522,     0.62469,     0.62416,     0.62363,      0.6227,      0.6206,     0.61849,     0.61637,     0.61319,\n",
              "            0.61258,      0.6115,     0.60936,     0.60827,     0.60771,     0.60717,     0.60685,     0.60654,     0.60623,     0.60439,     0.60257,     0.60202,     0.60216,     0.60153,     0.59936,      0.5988,     0.59844,     0.59807,      0.5977,     0.59733,     0.59696,     0.59431,     0.59388,\n",
              "            0.59363,     0.59252,      0.5914,     0.59029,     0.58895,      0.5885,     0.58738,     0.58668,     0.58623,     0.58575,     0.58519,     0.58449,     0.58202,     0.58204,     0.58028,      0.5791,     0.57685,      0.5757,     0.57409,     0.57296,     0.57268,     0.57239,     0.57209,\n",
              "            0.56867,     0.56751,     0.56635,     0.56506,     0.56231,     0.55991,     0.55967,     0.55908,     0.55734,     0.55675,     0.55571,     0.55137,     0.55064,     0.55005,     0.54923,     0.54753,     0.54745,     0.54665,     0.54312,     0.54192,     0.53835,     0.53595,     0.53225,\n",
              "            0.52971,      0.5291,     0.52809,     0.52566,     0.52442,     0.51938,     0.51813,     0.51689,     0.51606,     0.51138,     0.51088,     0.51038,     0.50919,     0.50793,     0.50481,     0.50229,     0.50134,      0.5007,     0.49994,     0.49905,     0.49797,     0.49816,     0.49666,\n",
              "            0.49118,     0.49033,     0.48969,      0.4856,     0.48517,     0.48473,     0.48229,     0.48024,      0.4798,     0.47936,     0.47687,     0.47621,     0.47523,     0.47196,     0.47063,     0.46539,     0.46161,     0.46112,     0.45845,     0.45606,     0.45507,     0.45238,     0.44978,\n",
              "            0.44887,     0.44679,      0.4461,     0.44283,     0.44144,     0.43953,     0.43527,     0.43465,     0.43409,     0.43313,     0.42968,     0.42898,     0.42551,     0.42456,     0.42362,     0.41715,     0.41644,     0.41017,     0.40969,      0.4092,     0.40725,     0.40653,      0.4029,\n",
              "            0.40193,     0.39953,     0.39713,     0.39615,     0.39253,     0.39179,     0.38938,     0.38694,      0.3816,      0.3806,     0.37975,       0.379,     0.37516,     0.37436,     0.37459,     0.37248,     0.37012,     0.36961,      0.3691,     0.36547,     0.36445,     0.36365,     0.36289,\n",
              "            0.36189,     0.35937,     0.35835,     0.34674,     0.34596,     0.34544,     0.34492,     0.34441,     0.34062,     0.33957,     0.33264,     0.32846,      0.3274,     0.31847,     0.31739,      0.3163,     0.31363,     0.30936,     0.30827,     0.30557,     0.29803,     0.29692,     0.29419,\n",
              "            0.29145,     0.28706,     0.28594,     0.27324,      0.2687,     0.26537,     0.26422,     0.26307,     0.25684,     0.25568,     0.25281,     0.24994,     0.24877,     0.24588,     0.24451,     0.24122,     0.24004,     0.23365,     0.23071,     0.22951,     0.22245,     0.21947,     0.21492,\n",
              "            0.20833,     0.20711,     0.20009,     0.19585,      0.1905,     0.19063,     0.18197,     0.17354,      0.1729,     0.17226,     0.16495,     0.16165,     0.15846,     0.15716,     0.15145,     0.15024,      0.1467,     0.14311,     0.13984,     0.13404,     0.13413,     0.12908,      0.1255,\n",
              "            0.12208,     0.11826,     0.11744,     0.11663,     0.11541,     0.11387,     0.11201,     0.11064,     0.10669,     0.10117,    0.097994,     0.09695,    0.091667,    0.090266,    0.081994,    0.073644,    0.072217,    0.069148,    0.068534,    0.067919,    0.067085,    0.062821,    0.056664,\n",
              "           0.055793,    0.054921,    0.054236,    0.053612,    0.052988,    0.047557,    0.045756,    0.044654,    0.040942,    0.037313,    0.036819,    0.036325,    0.035831,    0.035326,    0.034584,    0.033841,    0.030744,    0.026546,    0.025904,    0.025262,    0.024619,    0.024035,    0.023472,\n",
              "           0.022909,    0.022345,    0.020383,    0.017611,    0.017344,    0.017077,    0.016811,    0.016544,    0.016277,     0.01601,    0.015743,    0.014992,    0.013855,    0.012948,    0.012189,    0.011429,   0.0096346,   0.0086009,   0.0080927,   0.0075843,   0.0070756,   0.0065826,   0.0061243,\n",
              "          0.0056659,   0.0052072,   0.0047482,   0.0042891,   0.0038298,   0.0033702,   0.0029105,   0.0024505,           0,           0,           0,           0,           0,           0,           0,           0,           0,           0,           0,           0,           0,           0,           0,\n",
              "                  0,           0,           0,           0,           0,           0,           0,           0,           0,           0,           0,           0,           0,           0,           0,           0,           0,           0,           0,           0,           0,           0,           0,\n",
              "                  0,           0,           0,           0,           0,           0,           0,           0,           0,           0,           0,           0,           0,           0,           0,           0,           0,           0,           0,           0,           0,           0,           0,\n",
              "                  0,           0,           0,           0,           0,           0,           0,           0,           0,           0,           0,           0,           0,           0,           0,           0,           0,           0,           0,           0,           0,           0,           0,\n",
              "                  0,           0,           0,           0,           0,           0,           0,           0,           0,           0,           0,           0,           0,           0,           0,           0,           0,           0,           0,           0,           0,           0,           0,\n",
              "                  0,           0,           0,           0,           0,           0,           0,           0,           0,           0,           0]]), 'Confidence', 'F1'], [array([          0,    0.001001,    0.002002,    0.003003,    0.004004,    0.005005,    0.006006,    0.007007,    0.008008,    0.009009,     0.01001,    0.011011,    0.012012,    0.013013,    0.014014,    0.015015,    0.016016,    0.017017,    0.018018,    0.019019,     0.02002,    0.021021,    0.022022,    0.023023,\n",
              "          0.024024,    0.025025,    0.026026,    0.027027,    0.028028,    0.029029,     0.03003,    0.031031,    0.032032,    0.033033,    0.034034,    0.035035,    0.036036,    0.037037,    0.038038,    0.039039,     0.04004,    0.041041,    0.042042,    0.043043,    0.044044,    0.045045,    0.046046,    0.047047,\n",
              "          0.048048,    0.049049,     0.05005,    0.051051,    0.052052,    0.053053,    0.054054,    0.055055,    0.056056,    0.057057,    0.058058,    0.059059,     0.06006,    0.061061,    0.062062,    0.063063,    0.064064,    0.065065,    0.066066,    0.067067,    0.068068,    0.069069,     0.07007,    0.071071,\n",
              "          0.072072,    0.073073,    0.074074,    0.075075,    0.076076,    0.077077,    0.078078,    0.079079,     0.08008,    0.081081,    0.082082,    0.083083,    0.084084,    0.085085,    0.086086,    0.087087,    0.088088,    0.089089,     0.09009,    0.091091,    0.092092,    0.093093,    0.094094,    0.095095,\n",
              "          0.096096,    0.097097,    0.098098,    0.099099,      0.1001,      0.1011,      0.1021,      0.1031,      0.1041,     0.10511,     0.10611,     0.10711,     0.10811,     0.10911,     0.11011,     0.11111,     0.11211,     0.11311,     0.11411,     0.11512,     0.11612,     0.11712,     0.11812,     0.11912,\n",
              "           0.12012,     0.12112,     0.12212,     0.12312,     0.12412,     0.12513,     0.12613,     0.12713,     0.12813,     0.12913,     0.13013,     0.13113,     0.13213,     0.13313,     0.13413,     0.13514,     0.13614,     0.13714,     0.13814,     0.13914,     0.14014,     0.14114,     0.14214,     0.14314,\n",
              "           0.14414,     0.14515,     0.14615,     0.14715,     0.14815,     0.14915,     0.15015,     0.15115,     0.15215,     0.15315,     0.15415,     0.15516,     0.15616,     0.15716,     0.15816,     0.15916,     0.16016,     0.16116,     0.16216,     0.16316,     0.16416,     0.16517,     0.16617,     0.16717,\n",
              "           0.16817,     0.16917,     0.17017,     0.17117,     0.17217,     0.17317,     0.17417,     0.17518,     0.17618,     0.17718,     0.17818,     0.17918,     0.18018,     0.18118,     0.18218,     0.18318,     0.18418,     0.18519,     0.18619,     0.18719,     0.18819,     0.18919,     0.19019,     0.19119,\n",
              "           0.19219,     0.19319,     0.19419,      0.1952,      0.1962,      0.1972,      0.1982,      0.1992,      0.2002,      0.2012,      0.2022,      0.2032,      0.2042,     0.20521,     0.20621,     0.20721,     0.20821,     0.20921,     0.21021,     0.21121,     0.21221,     0.21321,     0.21421,     0.21522,\n",
              "           0.21622,     0.21722,     0.21822,     0.21922,     0.22022,     0.22122,     0.22222,     0.22322,     0.22422,     0.22523,     0.22623,     0.22723,     0.22823,     0.22923,     0.23023,     0.23123,     0.23223,     0.23323,     0.23423,     0.23524,     0.23624,     0.23724,     0.23824,     0.23924,\n",
              "           0.24024,     0.24124,     0.24224,     0.24324,     0.24424,     0.24525,     0.24625,     0.24725,     0.24825,     0.24925,     0.25025,     0.25125,     0.25225,     0.25325,     0.25425,     0.25526,     0.25626,     0.25726,     0.25826,     0.25926,     0.26026,     0.26126,     0.26226,     0.26326,\n",
              "           0.26426,     0.26527,     0.26627,     0.26727,     0.26827,     0.26927,     0.27027,     0.27127,     0.27227,     0.27327,     0.27427,     0.27528,     0.27628,     0.27728,     0.27828,     0.27928,     0.28028,     0.28128,     0.28228,     0.28328,     0.28428,     0.28529,     0.28629,     0.28729,\n",
              "           0.28829,     0.28929,     0.29029,     0.29129,     0.29229,     0.29329,     0.29429,      0.2953,      0.2963,      0.2973,      0.2983,      0.2993,      0.3003,      0.3013,      0.3023,      0.3033,      0.3043,     0.30531,     0.30631,     0.30731,     0.30831,     0.30931,     0.31031,     0.31131,\n",
              "           0.31231,     0.31331,     0.31431,     0.31532,     0.31632,     0.31732,     0.31832,     0.31932,     0.32032,     0.32132,     0.32232,     0.32332,     0.32432,     0.32533,     0.32633,     0.32733,     0.32833,     0.32933,     0.33033,     0.33133,     0.33233,     0.33333,     0.33433,     0.33534,\n",
              "           0.33634,     0.33734,     0.33834,     0.33934,     0.34034,     0.34134,     0.34234,     0.34334,     0.34434,     0.34535,     0.34635,     0.34735,     0.34835,     0.34935,     0.35035,     0.35135,     0.35235,     0.35335,     0.35435,     0.35536,     0.35636,     0.35736,     0.35836,     0.35936,\n",
              "           0.36036,     0.36136,     0.36236,     0.36336,     0.36436,     0.36537,     0.36637,     0.36737,     0.36837,     0.36937,     0.37037,     0.37137,     0.37237,     0.37337,     0.37437,     0.37538,     0.37638,     0.37738,     0.37838,     0.37938,     0.38038,     0.38138,     0.38238,     0.38338,\n",
              "           0.38438,     0.38539,     0.38639,     0.38739,     0.38839,     0.38939,     0.39039,     0.39139,     0.39239,     0.39339,     0.39439,      0.3954,      0.3964,      0.3974,      0.3984,      0.3994,      0.4004,      0.4014,      0.4024,      0.4034,      0.4044,     0.40541,     0.40641,     0.40741,\n",
              "           0.40841,     0.40941,     0.41041,     0.41141,     0.41241,     0.41341,     0.41441,     0.41542,     0.41642,     0.41742,     0.41842,     0.41942,     0.42042,     0.42142,     0.42242,     0.42342,     0.42442,     0.42543,     0.42643,     0.42743,     0.42843,     0.42943,     0.43043,     0.43143,\n",
              "           0.43243,     0.43343,     0.43443,     0.43544,     0.43644,     0.43744,     0.43844,     0.43944,     0.44044,     0.44144,     0.44244,     0.44344,     0.44444,     0.44545,     0.44645,     0.44745,     0.44845,     0.44945,     0.45045,     0.45145,     0.45245,     0.45345,     0.45445,     0.45546,\n",
              "           0.45646,     0.45746,     0.45846,     0.45946,     0.46046,     0.46146,     0.46246,     0.46346,     0.46446,     0.46547,     0.46647,     0.46747,     0.46847,     0.46947,     0.47047,     0.47147,     0.47247,     0.47347,     0.47447,     0.47548,     0.47648,     0.47748,     0.47848,     0.47948,\n",
              "           0.48048,     0.48148,     0.48248,     0.48348,     0.48448,     0.48549,     0.48649,     0.48749,     0.48849,     0.48949,     0.49049,     0.49149,     0.49249,     0.49349,     0.49449,      0.4955,      0.4965,      0.4975,      0.4985,      0.4995,      0.5005,      0.5015,      0.5025,      0.5035,\n",
              "            0.5045,     0.50551,     0.50651,     0.50751,     0.50851,     0.50951,     0.51051,     0.51151,     0.51251,     0.51351,     0.51451,     0.51552,     0.51652,     0.51752,     0.51852,     0.51952,     0.52052,     0.52152,     0.52252,     0.52352,     0.52452,     0.52553,     0.52653,     0.52753,\n",
              "           0.52853,     0.52953,     0.53053,     0.53153,     0.53253,     0.53353,     0.53453,     0.53554,     0.53654,     0.53754,     0.53854,     0.53954,     0.54054,     0.54154,     0.54254,     0.54354,     0.54454,     0.54555,     0.54655,     0.54755,     0.54855,     0.54955,     0.55055,     0.55155,\n",
              "           0.55255,     0.55355,     0.55455,     0.55556,     0.55656,     0.55756,     0.55856,     0.55956,     0.56056,     0.56156,     0.56256,     0.56356,     0.56456,     0.56557,     0.56657,     0.56757,     0.56857,     0.56957,     0.57057,     0.57157,     0.57257,     0.57357,     0.57457,     0.57558,\n",
              "           0.57658,     0.57758,     0.57858,     0.57958,     0.58058,     0.58158,     0.58258,     0.58358,     0.58458,     0.58559,     0.58659,     0.58759,     0.58859,     0.58959,     0.59059,     0.59159,     0.59259,     0.59359,     0.59459,      0.5956,      0.5966,      0.5976,      0.5986,      0.5996,\n",
              "            0.6006,      0.6016,      0.6026,      0.6036,      0.6046,     0.60561,     0.60661,     0.60761,     0.60861,     0.60961,     0.61061,     0.61161,     0.61261,     0.61361,     0.61461,     0.61562,     0.61662,     0.61762,     0.61862,     0.61962,     0.62062,     0.62162,     0.62262,     0.62362,\n",
              "           0.62462,     0.62563,     0.62663,     0.62763,     0.62863,     0.62963,     0.63063,     0.63163,     0.63263,     0.63363,     0.63463,     0.63564,     0.63664,     0.63764,     0.63864,     0.63964,     0.64064,     0.64164,     0.64264,     0.64364,     0.64464,     0.64565,     0.64665,     0.64765,\n",
              "           0.64865,     0.64965,     0.65065,     0.65165,     0.65265,     0.65365,     0.65465,     0.65566,     0.65666,     0.65766,     0.65866,     0.65966,     0.66066,     0.66166,     0.66266,     0.66366,     0.66466,     0.66567,     0.66667,     0.66767,     0.66867,     0.66967,     0.67067,     0.67167,\n",
              "           0.67267,     0.67367,     0.67467,     0.67568,     0.67668,     0.67768,     0.67868,     0.67968,     0.68068,     0.68168,     0.68268,     0.68368,     0.68468,     0.68569,     0.68669,     0.68769,     0.68869,     0.68969,     0.69069,     0.69169,     0.69269,     0.69369,     0.69469,      0.6957,\n",
              "            0.6967,      0.6977,      0.6987,      0.6997,      0.7007,      0.7017,      0.7027,      0.7037,      0.7047,     0.70571,     0.70671,     0.70771,     0.70871,     0.70971,     0.71071,     0.71171,     0.71271,     0.71371,     0.71471,     0.71572,     0.71672,     0.71772,     0.71872,     0.71972,\n",
              "           0.72072,     0.72172,     0.72272,     0.72372,     0.72472,     0.72573,     0.72673,     0.72773,     0.72873,     0.72973,     0.73073,     0.73173,     0.73273,     0.73373,     0.73473,     0.73574,     0.73674,     0.73774,     0.73874,     0.73974,     0.74074,     0.74174,     0.74274,     0.74374,\n",
              "           0.74474,     0.74575,     0.74675,     0.74775,     0.74875,     0.74975,     0.75075,     0.75175,     0.75275,     0.75375,     0.75475,     0.75576,     0.75676,     0.75776,     0.75876,     0.75976,     0.76076,     0.76176,     0.76276,     0.76376,     0.76476,     0.76577,     0.76677,     0.76777,\n",
              "           0.76877,     0.76977,     0.77077,     0.77177,     0.77277,     0.77377,     0.77477,     0.77578,     0.77678,     0.77778,     0.77878,     0.77978,     0.78078,     0.78178,     0.78278,     0.78378,     0.78478,     0.78579,     0.78679,     0.78779,     0.78879,     0.78979,     0.79079,     0.79179,\n",
              "           0.79279,     0.79379,     0.79479,      0.7958,      0.7968,      0.7978,      0.7988,      0.7998,      0.8008,      0.8018,      0.8028,      0.8038,      0.8048,     0.80581,     0.80681,     0.80781,     0.80881,     0.80981,     0.81081,     0.81181,     0.81281,     0.81381,     0.81481,     0.81582,\n",
              "           0.81682,     0.81782,     0.81882,     0.81982,     0.82082,     0.82182,     0.82282,     0.82382,     0.82482,     0.82583,     0.82683,     0.82783,     0.82883,     0.82983,     0.83083,     0.83183,     0.83283,     0.83383,     0.83483,     0.83584,     0.83684,     0.83784,     0.83884,     0.83984,\n",
              "           0.84084,     0.84184,     0.84284,     0.84384,     0.84484,     0.84585,     0.84685,     0.84785,     0.84885,     0.84985,     0.85085,     0.85185,     0.85285,     0.85385,     0.85485,     0.85586,     0.85686,     0.85786,     0.85886,     0.85986,     0.86086,     0.86186,     0.86286,     0.86386,\n",
              "           0.86486,     0.86587,     0.86687,     0.86787,     0.86887,     0.86987,     0.87087,     0.87187,     0.87287,     0.87387,     0.87487,     0.87588,     0.87688,     0.87788,     0.87888,     0.87988,     0.88088,     0.88188,     0.88288,     0.88388,     0.88488,     0.88589,     0.88689,     0.88789,\n",
              "           0.88889,     0.88989,     0.89089,     0.89189,     0.89289,     0.89389,     0.89489,      0.8959,      0.8969,      0.8979,      0.8989,      0.8999,      0.9009,      0.9019,      0.9029,      0.9039,      0.9049,     0.90591,     0.90691,     0.90791,     0.90891,     0.90991,     0.91091,     0.91191,\n",
              "           0.91291,     0.91391,     0.91491,     0.91592,     0.91692,     0.91792,     0.91892,     0.91992,     0.92092,     0.92192,     0.92292,     0.92392,     0.92492,     0.92593,     0.92693,     0.92793,     0.92893,     0.92993,     0.93093,     0.93193,     0.93293,     0.93393,     0.93493,     0.93594,\n",
              "           0.93694,     0.93794,     0.93894,     0.93994,     0.94094,     0.94194,     0.94294,     0.94394,     0.94494,     0.94595,     0.94695,     0.94795,     0.94895,     0.94995,     0.95095,     0.95195,     0.95295,     0.95395,     0.95495,     0.95596,     0.95696,     0.95796,     0.95896,     0.95996,\n",
              "           0.96096,     0.96196,     0.96296,     0.96396,     0.96496,     0.96597,     0.96697,     0.96797,     0.96897,     0.96997,     0.97097,     0.97197,     0.97297,     0.97397,     0.97497,     0.97598,     0.97698,     0.97798,     0.97898,     0.97998,     0.98098,     0.98198,     0.98298,     0.98398,\n",
              "           0.98498,     0.98599,     0.98699,     0.98799,     0.98899,     0.98999,     0.99099,     0.99199,     0.99299,     0.99399,     0.99499,       0.996,       0.997,       0.998,       0.999,           1]), array([[     0.2152,      0.2152,     0.27269,     0.30793,     0.33602,     0.36219,     0.38186,     0.39834,     0.41265,     0.42802,     0.44263,     0.45506,     0.46511,     0.47386,     0.48235,     0.48821,     0.49654,     0.50578,      0.5114,     0.51888,     0.52399,     0.53013,     0.53323,\n",
              "             0.5383,     0.54438,      0.5474,     0.55302,     0.55656,     0.56122,     0.56552,     0.56652,     0.56964,     0.57243,     0.57481,     0.57726,     0.58167,     0.58439,     0.58817,     0.59168,     0.59536,     0.59832,      0.6004,     0.60232,     0.60673,     0.60769,     0.61263,\n",
              "            0.61524,     0.61759,     0.62075,     0.62331,     0.62781,     0.63182,     0.63331,     0.63683,     0.63848,      0.6407,     0.64342,      0.6447,     0.64655,     0.64899,     0.65094,     0.65189,     0.65383,     0.65609,     0.65922,     0.66068,     0.66098,      0.6642,     0.66724,\n",
              "            0.66867,     0.66969,     0.67151,     0.67304,     0.67393,     0.67638,     0.67859,     0.68231,      0.6847,     0.68589,     0.68648,      0.6892,     0.68929,     0.69065,     0.69092,     0.69241,     0.69264,     0.69304,     0.69473,     0.69551,     0.69632,     0.69913,     0.70139,\n",
              "            0.70185,     0.70255,     0.70366,     0.70489,     0.70572,      0.7066,     0.71005,     0.71129,     0.71238,     0.71276,     0.71385,      0.7139,     0.71403,     0.71352,     0.71392,     0.71569,      0.7167,     0.71719,      0.7177,     0.71827,     0.71862,     0.71812,      0.7188,\n",
              "            0.71911,     0.72016,     0.72425,     0.72499,      0.7254,     0.72557,     0.72575,     0.72592,      0.7271,     0.72911,     0.73168,     0.73282,     0.73259,     0.73338,     0.73458,     0.73601,     0.73646,     0.73634,     0.73764,     0.73734,     0.73739,      0.7379,     0.73907,\n",
              "            0.73913,      0.7416,     0.74183,     0.74258,     0.74283,     0.74599,     0.74654,     0.74754,     0.74975,     0.75325,     0.75364,     0.75393,     0.75431,     0.75483,     0.75597,     0.75715,      0.7585,     0.75951,     0.75968,     0.76125,     0.76173,     0.76315,     0.76304,\n",
              "            0.76424,      0.7648,     0.76569,     0.76881,     0.76902,     0.77287,     0.77459,     0.77559,     0.77642,     0.77727,      0.7788,     0.78021,      0.7806,     0.78129,     0.78235,     0.78516,     0.78669,     0.78666,     0.78628,     0.78666,     0.78606,     0.78673,     0.78701,\n",
              "            0.78748,        0.79,      0.7905,     0.79156,     0.79203,     0.79248,     0.79427,     0.79454,     0.79471,      0.7968,     0.79824,     0.79992,     0.80033,     0.80084,     0.80213,     0.80283,     0.80306,     0.80341,     0.80559,     0.80556,     0.80545,     0.80607,     0.80714,\n",
              "            0.80842,     0.81038,     0.81148,     0.81316,     0.81386,     0.81367,     0.81342,     0.81427,     0.81411,     0.81476,     0.81639,     0.81737,     0.81808,     0.81808,     0.81863,     0.81844,     0.81903,     0.81985,     0.82086,     0.82311,     0.82373,     0.82356,     0.82499,\n",
              "              0.825,     0.82475,     0.82459,     0.82449,     0.82439,      0.8237,     0.82506,     0.82628,     0.82599,     0.82761,     0.82751,     0.82817,     0.82946,     0.83019,     0.82999,     0.83004,     0.83077,     0.83049,     0.83118,     0.83314,     0.83322,     0.83288,     0.83274,\n",
              "            0.83329,     0.83365,     0.83325,     0.83308,     0.83288,     0.83278,     0.83303,     0.83361,     0.83672,     0.83776,     0.83812,     0.83848,     0.83877,     0.83939,     0.83925,     0.83899,     0.83881,     0.83872,     0.83862,     0.83848,     0.83917,       0.839,     0.83884,\n",
              "            0.83884,     0.83925,     0.83913,     0.84016,      0.8401,     0.84005,     0.84008,     0.84099,     0.84243,     0.84378,     0.84442,     0.84456,     0.84512,     0.84547,     0.84535,     0.84528,     0.84522,     0.84515,     0.84592,     0.84657,     0.84708,     0.84737,     0.84765,\n",
              "            0.84794,     0.84841,     0.84907,     0.84871,     0.85066,     0.85054,      0.8515,     0.85127,     0.85217,     0.85219,     0.85325,     0.85393,     0.85603,     0.85671,     0.85717,     0.85751,     0.85785,      0.8582,     0.85938,     0.85911,     0.85885,     0.85879,     0.85874,\n",
              "            0.85857,     0.85835,     0.85806,     0.85798,     0.85789,     0.85777,     0.85766,     0.85754,       0.861,     0.86089,     0.86077,     0.86061,     0.86131,     0.86381,     0.86378,     0.86366,     0.86352,     0.86329,     0.86309,     0.86247,     0.86301,     0.86408,      0.8635,\n",
              "            0.86342,     0.86335,      0.8632,     0.86306,     0.86299,     0.86293,     0.86398,     0.86432,     0.86466,       0.865,     0.86519,     0.86512,     0.86504,     0.86621,     0.86609,     0.86597,     0.86625,     0.86694,     0.86686,     0.86679,     0.86757,     0.86791,     0.86901,\n",
              "            0.86973,     0.87039,     0.87037,     0.87035,     0.87032,     0.87029,     0.87027,     0.87024,     0.87022,     0.87132,     0.87112,     0.87222,      0.8721,     0.87239,     0.87457,     0.87442,     0.87435,     0.87428,     0.87419,     0.87409,     0.87393,     0.87443,     0.87519,\n",
              "            0.87587,     0.87631,     0.87622,     0.87611,     0.87646,      0.8772,     0.87701,     0.87681,     0.87643,     0.87762,     0.87751,     0.87868,     0.87831,     0.88061,     0.88046,     0.88027,     0.88004,     0.87995,     0.87983,     0.87986,     0.88202,     0.88168,     0.88161,\n",
              "            0.88154,      0.8824,     0.88524,     0.88791,     0.88937,     0.88973,     0.88967,     0.88961,     0.88934,     0.88923,     0.88834,     0.88825,     0.88796,     0.88761,     0.88751,      0.8874,     0.88684,     0.88665,     0.88646,     0.88626,     0.88633,     0.88688,     0.88742,\n",
              "            0.88811,     0.88886,     0.88901,     0.88891,     0.88856,     0.88818,     0.89097,      0.8929,     0.89367,     0.89324,     0.89319,     0.89315,     0.89311,     0.89307,     0.89306,     0.89358,      0.8941,     0.89453,     0.89398,     0.89389,     0.89361,     0.89352,     0.89366,\n",
              "            0.89445,     0.89478,     0.89469,     0.89573,     0.89554,     0.89499,      0.8948,     0.89442,     0.89549,     0.89721,     0.89709,       0.897,     0.89683,     0.89664,     0.89627,     0.89769,      0.8974,      0.8973,     0.89693,     0.89674,     0.90148,     0.90482,     0.90808,\n",
              "             0.9079,     0.90962,     0.91109,     0.91092,     0.91077,     0.91068,     0.91102,     0.91276,     0.91397,     0.91365,     0.91411,     0.91504,      0.9149,     0.91482,     0.91476,     0.91471,     0.91467,     0.91463,     0.91436,     0.91426,      0.9142,     0.91414,     0.91402,\n",
              "            0.91512,      0.9156,     0.91527,      0.9151,     0.91818,     0.91848,     0.91816,     0.91783,     0.91817,     0.91878,      0.9194,      0.9193,     0.91898,     0.91881,     0.91857,     0.92031,     0.92183,     0.92337,     0.92521,     0.92617,     0.92695,      0.9268,     0.92651,\n",
              "            0.92644,     0.92663,      0.9276,     0.92826,     0.92818,     0.93045,     0.93243,     0.93355,     0.93332,     0.93328,     0.93325,     0.93321,     0.93298,     0.93287,      0.9328,     0.93338,     0.93438,     0.93469,     0.93462,     0.93408,     0.93401,     0.93396,     0.93391,\n",
              "            0.93551,     0.93537,     0.93899,     0.94017,     0.94122,      0.9411,     0.94099,      0.9428,     0.94267,     0.94241,     0.94341,     0.94387,     0.94374,     0.94348,     0.94327,      0.9432,     0.94314,     0.94307,     0.94295,     0.94269,     0.94242,     0.94215,     0.94174,\n",
              "            0.94381,     0.94367,      0.9434,     0.94327,      0.9432,     0.94313,     0.94309,     0.94305,     0.94301,     0.94277,     0.94254,     0.94247,     0.94401,     0.94462,     0.94434,     0.94428,     0.94423,     0.94418,     0.94414,     0.94409,     0.94404,     0.94371,     0.94465,\n",
              "            0.94588,     0.94575,     0.94561,     0.94547,     0.94661,     0.94755,     0.94742,     0.94733,     0.94728,     0.94722,     0.94716,     0.94707,     0.94975,     0.95149,     0.95205,     0.95357,     0.95332,      0.9532,     0.95302,     0.95535,     0.95532,     0.95529,     0.95526,\n",
              "             0.9549,     0.95478,     0.95466,     0.95452,     0.95422,     0.95566,     0.95648,     0.95642,     0.95624,     0.95618,     0.95607,     0.95561,     0.95553,     0.95547,     0.95538,      0.9563,     0.95783,     0.95775,     0.95739,     0.95726,     0.95689,     0.95664,     0.95624,\n",
              "            0.95597,     0.95591,      0.9558,     0.95553,     0.95539,     0.95767,     0.95754,     0.95741,     0.96021,     0.95974,     0.95968,     0.95963,     0.95951,     0.95938,     0.95906,      0.9588,      0.9587,     0.95863,     0.95855,     0.95845,     0.95869,      0.9614,     0.96125,\n",
              "             0.9607,     0.96061,     0.96054,     0.96012,     0.96008,     0.96003,     0.95977,     0.95956,     0.95951,     0.95946,     0.96243,     0.96236,     0.96227,     0.96194,      0.9618,     0.96126,     0.96149,     0.96421,     0.96395,     0.96371,     0.96361,     0.96334,     0.96308,\n",
              "            0.96298,     0.96277,      0.9627,     0.96236,     0.96221,     0.96201,     0.96155,     0.96148,     0.96142,     0.96132,     0.96094,     0.96086,     0.96047,     0.96036,     0.96025,      0.9595,     0.95942,     0.95867,     0.95861,     0.95855,     0.95831,     0.95822,     0.95777,\n",
              "            0.95765,     0.95734,     0.95703,     0.95691,     0.95643,     0.95633,     0.95601,     0.95568,     0.95495,     0.95481,     0.95469,     0.95458,     0.95404,     0.95441,     0.95743,     0.95805,     0.95773,     0.95766,     0.95759,      0.9571,     0.95696,     0.95685,     0.95674,\n",
              "             0.9566,     0.95625,      0.9561,     0.95439,     0.95427,     0.95419,     0.95412,     0.95889,     0.96334,      0.9632,     0.96749,     0.96701,     0.96688,     0.96581,     0.96568,     0.96554,     0.96521,     0.96466,     0.96452,     0.96416,     0.96313,     0.96297,     0.96258,\n",
              "            0.96219,     0.96154,     0.96137,     0.95935,     0.95859,     0.95802,     0.95782,     0.95761,     0.95648,     0.95626,     0.95572,     0.95516,     0.95493,     0.95436,     0.95408,      0.9534,     0.95315,     0.95176,      0.9511,     0.95083,     0.94915,     0.94842,     0.95561,\n",
              "            0.95411,     0.95382,      0.9521,     0.95503,      0.9603,     0.96706,     0.96749,     0.96581,     0.96568,     0.96554,     0.96393,     0.96316,     0.96238,     0.96206,     0.96057,     0.97311,     0.97242,      0.9717,     0.97101,     0.97014,     0.98034,     0.98397,     0.98349,\n",
              "            0.98301,     0.98243,     0.98231,     0.98218,     0.98198,     0.98173,     0.98141,     0.98117,     0.98045,     0.97935,           1,           1,           1,           1,           1,           1,           1,           1,           1,           1,           1,           1,           1,\n",
              "                  1,           1,           1,           1,           1,           1,           1,           1,           1,           1,           1,           1,           1,           1,           1,           1,           1,           1,           1,           1,           1,           1,           1,\n",
              "                  1,           1,           1,           1,           1,           1,           1,           1,           1,           1,           1,           1,           1,           1,           1,           1,           1,           1,           1,           1,           1,           1,           1,\n",
              "                  1,           1,           1,           1,           1,           1,           1,           1,           1,           1,           1,           1,           1,           1,           1,           1,           1,           1,           1,           1,           1,           1,           1,\n",
              "                  1,           1,           1,           1,           1,           1,           1,           1,           1,           1,           1,           1,           1,           1,           1,           1,           1,           1,           1,           1,           1,           1,           1,\n",
              "                  1,           1,           1,           1,           1,           1,           1,           1,           1,           1,           1,           1,           1,           1,           1,           1,           1,           1,           1,           1,           1,           1,           1,\n",
              "                  1,           1,           1,           1,           1,           1,           1,           1,           1,           1,           1,           1,           1,           1,           1,           1,           1,           1,           1,           1,           1,           1,           1,\n",
              "                  1,           1,           1,           1,           1,           1,           1,           1,           1,           1,           1,           1,           1,           1,           1,           1,           1,           1,           1,           1,           1,           1,           1,\n",
              "                  1,           1,           1,           1,           1,           1,           1,           1,           1,           1,           1]]), 'Confidence', 'Precision'], [array([          0,    0.001001,    0.002002,    0.003003,    0.004004,    0.005005,    0.006006,    0.007007,    0.008008,    0.009009,     0.01001,    0.011011,    0.012012,    0.013013,    0.014014,    0.015015,    0.016016,    0.017017,    0.018018,    0.019019,     0.02002,    0.021021,    0.022022,    0.023023,\n",
              "          0.024024,    0.025025,    0.026026,    0.027027,    0.028028,    0.029029,     0.03003,    0.031031,    0.032032,    0.033033,    0.034034,    0.035035,    0.036036,    0.037037,    0.038038,    0.039039,     0.04004,    0.041041,    0.042042,    0.043043,    0.044044,    0.045045,    0.046046,    0.047047,\n",
              "          0.048048,    0.049049,     0.05005,    0.051051,    0.052052,    0.053053,    0.054054,    0.055055,    0.056056,    0.057057,    0.058058,    0.059059,     0.06006,    0.061061,    0.062062,    0.063063,    0.064064,    0.065065,    0.066066,    0.067067,    0.068068,    0.069069,     0.07007,    0.071071,\n",
              "          0.072072,    0.073073,    0.074074,    0.075075,    0.076076,    0.077077,    0.078078,    0.079079,     0.08008,    0.081081,    0.082082,    0.083083,    0.084084,    0.085085,    0.086086,    0.087087,    0.088088,    0.089089,     0.09009,    0.091091,    0.092092,    0.093093,    0.094094,    0.095095,\n",
              "          0.096096,    0.097097,    0.098098,    0.099099,      0.1001,      0.1011,      0.1021,      0.1031,      0.1041,     0.10511,     0.10611,     0.10711,     0.10811,     0.10911,     0.11011,     0.11111,     0.11211,     0.11311,     0.11411,     0.11512,     0.11612,     0.11712,     0.11812,     0.11912,\n",
              "           0.12012,     0.12112,     0.12212,     0.12312,     0.12412,     0.12513,     0.12613,     0.12713,     0.12813,     0.12913,     0.13013,     0.13113,     0.13213,     0.13313,     0.13413,     0.13514,     0.13614,     0.13714,     0.13814,     0.13914,     0.14014,     0.14114,     0.14214,     0.14314,\n",
              "           0.14414,     0.14515,     0.14615,     0.14715,     0.14815,     0.14915,     0.15015,     0.15115,     0.15215,     0.15315,     0.15415,     0.15516,     0.15616,     0.15716,     0.15816,     0.15916,     0.16016,     0.16116,     0.16216,     0.16316,     0.16416,     0.16517,     0.16617,     0.16717,\n",
              "           0.16817,     0.16917,     0.17017,     0.17117,     0.17217,     0.17317,     0.17417,     0.17518,     0.17618,     0.17718,     0.17818,     0.17918,     0.18018,     0.18118,     0.18218,     0.18318,     0.18418,     0.18519,     0.18619,     0.18719,     0.18819,     0.18919,     0.19019,     0.19119,\n",
              "           0.19219,     0.19319,     0.19419,      0.1952,      0.1962,      0.1972,      0.1982,      0.1992,      0.2002,      0.2012,      0.2022,      0.2032,      0.2042,     0.20521,     0.20621,     0.20721,     0.20821,     0.20921,     0.21021,     0.21121,     0.21221,     0.21321,     0.21421,     0.21522,\n",
              "           0.21622,     0.21722,     0.21822,     0.21922,     0.22022,     0.22122,     0.22222,     0.22322,     0.22422,     0.22523,     0.22623,     0.22723,     0.22823,     0.22923,     0.23023,     0.23123,     0.23223,     0.23323,     0.23423,     0.23524,     0.23624,     0.23724,     0.23824,     0.23924,\n",
              "           0.24024,     0.24124,     0.24224,     0.24324,     0.24424,     0.24525,     0.24625,     0.24725,     0.24825,     0.24925,     0.25025,     0.25125,     0.25225,     0.25325,     0.25425,     0.25526,     0.25626,     0.25726,     0.25826,     0.25926,     0.26026,     0.26126,     0.26226,     0.26326,\n",
              "           0.26426,     0.26527,     0.26627,     0.26727,     0.26827,     0.26927,     0.27027,     0.27127,     0.27227,     0.27327,     0.27427,     0.27528,     0.27628,     0.27728,     0.27828,     0.27928,     0.28028,     0.28128,     0.28228,     0.28328,     0.28428,     0.28529,     0.28629,     0.28729,\n",
              "           0.28829,     0.28929,     0.29029,     0.29129,     0.29229,     0.29329,     0.29429,      0.2953,      0.2963,      0.2973,      0.2983,      0.2993,      0.3003,      0.3013,      0.3023,      0.3033,      0.3043,     0.30531,     0.30631,     0.30731,     0.30831,     0.30931,     0.31031,     0.31131,\n",
              "           0.31231,     0.31331,     0.31431,     0.31532,     0.31632,     0.31732,     0.31832,     0.31932,     0.32032,     0.32132,     0.32232,     0.32332,     0.32432,     0.32533,     0.32633,     0.32733,     0.32833,     0.32933,     0.33033,     0.33133,     0.33233,     0.33333,     0.33433,     0.33534,\n",
              "           0.33634,     0.33734,     0.33834,     0.33934,     0.34034,     0.34134,     0.34234,     0.34334,     0.34434,     0.34535,     0.34635,     0.34735,     0.34835,     0.34935,     0.35035,     0.35135,     0.35235,     0.35335,     0.35435,     0.35536,     0.35636,     0.35736,     0.35836,     0.35936,\n",
              "           0.36036,     0.36136,     0.36236,     0.36336,     0.36436,     0.36537,     0.36637,     0.36737,     0.36837,     0.36937,     0.37037,     0.37137,     0.37237,     0.37337,     0.37437,     0.37538,     0.37638,     0.37738,     0.37838,     0.37938,     0.38038,     0.38138,     0.38238,     0.38338,\n",
              "           0.38438,     0.38539,     0.38639,     0.38739,     0.38839,     0.38939,     0.39039,     0.39139,     0.39239,     0.39339,     0.39439,      0.3954,      0.3964,      0.3974,      0.3984,      0.3994,      0.4004,      0.4014,      0.4024,      0.4034,      0.4044,     0.40541,     0.40641,     0.40741,\n",
              "           0.40841,     0.40941,     0.41041,     0.41141,     0.41241,     0.41341,     0.41441,     0.41542,     0.41642,     0.41742,     0.41842,     0.41942,     0.42042,     0.42142,     0.42242,     0.42342,     0.42442,     0.42543,     0.42643,     0.42743,     0.42843,     0.42943,     0.43043,     0.43143,\n",
              "           0.43243,     0.43343,     0.43443,     0.43544,     0.43644,     0.43744,     0.43844,     0.43944,     0.44044,     0.44144,     0.44244,     0.44344,     0.44444,     0.44545,     0.44645,     0.44745,     0.44845,     0.44945,     0.45045,     0.45145,     0.45245,     0.45345,     0.45445,     0.45546,\n",
              "           0.45646,     0.45746,     0.45846,     0.45946,     0.46046,     0.46146,     0.46246,     0.46346,     0.46446,     0.46547,     0.46647,     0.46747,     0.46847,     0.46947,     0.47047,     0.47147,     0.47247,     0.47347,     0.47447,     0.47548,     0.47648,     0.47748,     0.47848,     0.47948,\n",
              "           0.48048,     0.48148,     0.48248,     0.48348,     0.48448,     0.48549,     0.48649,     0.48749,     0.48849,     0.48949,     0.49049,     0.49149,     0.49249,     0.49349,     0.49449,      0.4955,      0.4965,      0.4975,      0.4985,      0.4995,      0.5005,      0.5015,      0.5025,      0.5035,\n",
              "            0.5045,     0.50551,     0.50651,     0.50751,     0.50851,     0.50951,     0.51051,     0.51151,     0.51251,     0.51351,     0.51451,     0.51552,     0.51652,     0.51752,     0.51852,     0.51952,     0.52052,     0.52152,     0.52252,     0.52352,     0.52452,     0.52553,     0.52653,     0.52753,\n",
              "           0.52853,     0.52953,     0.53053,     0.53153,     0.53253,     0.53353,     0.53453,     0.53554,     0.53654,     0.53754,     0.53854,     0.53954,     0.54054,     0.54154,     0.54254,     0.54354,     0.54454,     0.54555,     0.54655,     0.54755,     0.54855,     0.54955,     0.55055,     0.55155,\n",
              "           0.55255,     0.55355,     0.55455,     0.55556,     0.55656,     0.55756,     0.55856,     0.55956,     0.56056,     0.56156,     0.56256,     0.56356,     0.56456,     0.56557,     0.56657,     0.56757,     0.56857,     0.56957,     0.57057,     0.57157,     0.57257,     0.57357,     0.57457,     0.57558,\n",
              "           0.57658,     0.57758,     0.57858,     0.57958,     0.58058,     0.58158,     0.58258,     0.58358,     0.58458,     0.58559,     0.58659,     0.58759,     0.58859,     0.58959,     0.59059,     0.59159,     0.59259,     0.59359,     0.59459,      0.5956,      0.5966,      0.5976,      0.5986,      0.5996,\n",
              "            0.6006,      0.6016,      0.6026,      0.6036,      0.6046,     0.60561,     0.60661,     0.60761,     0.60861,     0.60961,     0.61061,     0.61161,     0.61261,     0.61361,     0.61461,     0.61562,     0.61662,     0.61762,     0.61862,     0.61962,     0.62062,     0.62162,     0.62262,     0.62362,\n",
              "           0.62462,     0.62563,     0.62663,     0.62763,     0.62863,     0.62963,     0.63063,     0.63163,     0.63263,     0.63363,     0.63463,     0.63564,     0.63664,     0.63764,     0.63864,     0.63964,     0.64064,     0.64164,     0.64264,     0.64364,     0.64464,     0.64565,     0.64665,     0.64765,\n",
              "           0.64865,     0.64965,     0.65065,     0.65165,     0.65265,     0.65365,     0.65465,     0.65566,     0.65666,     0.65766,     0.65866,     0.65966,     0.66066,     0.66166,     0.66266,     0.66366,     0.66466,     0.66567,     0.66667,     0.66767,     0.66867,     0.66967,     0.67067,     0.67167,\n",
              "           0.67267,     0.67367,     0.67467,     0.67568,     0.67668,     0.67768,     0.67868,     0.67968,     0.68068,     0.68168,     0.68268,     0.68368,     0.68468,     0.68569,     0.68669,     0.68769,     0.68869,     0.68969,     0.69069,     0.69169,     0.69269,     0.69369,     0.69469,      0.6957,\n",
              "            0.6967,      0.6977,      0.6987,      0.6997,      0.7007,      0.7017,      0.7027,      0.7037,      0.7047,     0.70571,     0.70671,     0.70771,     0.70871,     0.70971,     0.71071,     0.71171,     0.71271,     0.71371,     0.71471,     0.71572,     0.71672,     0.71772,     0.71872,     0.71972,\n",
              "           0.72072,     0.72172,     0.72272,     0.72372,     0.72472,     0.72573,     0.72673,     0.72773,     0.72873,     0.72973,     0.73073,     0.73173,     0.73273,     0.73373,     0.73473,     0.73574,     0.73674,     0.73774,     0.73874,     0.73974,     0.74074,     0.74174,     0.74274,     0.74374,\n",
              "           0.74474,     0.74575,     0.74675,     0.74775,     0.74875,     0.74975,     0.75075,     0.75175,     0.75275,     0.75375,     0.75475,     0.75576,     0.75676,     0.75776,     0.75876,     0.75976,     0.76076,     0.76176,     0.76276,     0.76376,     0.76476,     0.76577,     0.76677,     0.76777,\n",
              "           0.76877,     0.76977,     0.77077,     0.77177,     0.77277,     0.77377,     0.77477,     0.77578,     0.77678,     0.77778,     0.77878,     0.77978,     0.78078,     0.78178,     0.78278,     0.78378,     0.78478,     0.78579,     0.78679,     0.78779,     0.78879,     0.78979,     0.79079,     0.79179,\n",
              "           0.79279,     0.79379,     0.79479,      0.7958,      0.7968,      0.7978,      0.7988,      0.7998,      0.8008,      0.8018,      0.8028,      0.8038,      0.8048,     0.80581,     0.80681,     0.80781,     0.80881,     0.80981,     0.81081,     0.81181,     0.81281,     0.81381,     0.81481,     0.81582,\n",
              "           0.81682,     0.81782,     0.81882,     0.81982,     0.82082,     0.82182,     0.82282,     0.82382,     0.82482,     0.82583,     0.82683,     0.82783,     0.82883,     0.82983,     0.83083,     0.83183,     0.83283,     0.83383,     0.83483,     0.83584,     0.83684,     0.83784,     0.83884,     0.83984,\n",
              "           0.84084,     0.84184,     0.84284,     0.84384,     0.84484,     0.84585,     0.84685,     0.84785,     0.84885,     0.84985,     0.85085,     0.85185,     0.85285,     0.85385,     0.85485,     0.85586,     0.85686,     0.85786,     0.85886,     0.85986,     0.86086,     0.86186,     0.86286,     0.86386,\n",
              "           0.86486,     0.86587,     0.86687,     0.86787,     0.86887,     0.86987,     0.87087,     0.87187,     0.87287,     0.87387,     0.87487,     0.87588,     0.87688,     0.87788,     0.87888,     0.87988,     0.88088,     0.88188,     0.88288,     0.88388,     0.88488,     0.88589,     0.88689,     0.88789,\n",
              "           0.88889,     0.88989,     0.89089,     0.89189,     0.89289,     0.89389,     0.89489,      0.8959,      0.8969,      0.8979,      0.8989,      0.8999,      0.9009,      0.9019,      0.9029,      0.9039,      0.9049,     0.90591,     0.90691,     0.90791,     0.90891,     0.90991,     0.91091,     0.91191,\n",
              "           0.91291,     0.91391,     0.91491,     0.91592,     0.91692,     0.91792,     0.91892,     0.91992,     0.92092,     0.92192,     0.92292,     0.92392,     0.92492,     0.92593,     0.92693,     0.92793,     0.92893,     0.92993,     0.93093,     0.93193,     0.93293,     0.93393,     0.93493,     0.93594,\n",
              "           0.93694,     0.93794,     0.93894,     0.93994,     0.94094,     0.94194,     0.94294,     0.94394,     0.94494,     0.94595,     0.94695,     0.94795,     0.94895,     0.94995,     0.95095,     0.95195,     0.95295,     0.95395,     0.95495,     0.95596,     0.95696,     0.95796,     0.95896,     0.95996,\n",
              "           0.96096,     0.96196,     0.96296,     0.96396,     0.96496,     0.96597,     0.96697,     0.96797,     0.96897,     0.96997,     0.97097,     0.97197,     0.97297,     0.97397,     0.97497,     0.97598,     0.97698,     0.97798,     0.97898,     0.97998,     0.98098,     0.98198,     0.98298,     0.98398,\n",
              "           0.98498,     0.98599,     0.98699,     0.98799,     0.98899,     0.98999,     0.99099,     0.99199,     0.99299,     0.99399,     0.99499,       0.996,       0.997,       0.998,       0.999,           1]), array([[    0.98425,     0.98425,     0.98313,     0.97975,     0.97975,     0.97975,     0.97975,     0.97863,      0.9775,      0.9775,     0.97638,     0.97638,     0.97413,     0.97075,     0.96738,     0.96625,     0.96406,     0.96288,     0.96073,     0.95951,     0.95838,     0.95726,     0.95613,\n",
              "            0.95613,     0.95559,     0.95276,     0.95276,     0.95016,     0.94713,     0.94488,     0.94378,     0.94376,     0.94151,     0.94151,     0.94151,     0.94038,     0.93926,     0.93926,     0.93701,     0.93701,     0.93662,     0.93295,     0.93138,     0.93018,     0.92913,     0.92801,\n",
              "            0.92801,     0.92688,     0.92688,     0.92688,     0.92688,     0.92576,     0.92463,     0.92463,     0.92463,     0.92238,     0.92126,     0.92126,     0.92013,     0.92013,     0.92013,     0.92013,     0.92013,     0.92013,     0.92013,     0.92013,     0.91901,     0.91901,     0.91789,\n",
              "            0.91676,     0.91451,     0.91451,     0.91231,     0.91136,     0.91114,     0.91114,     0.91114,     0.91001,     0.91001,     0.91001,     0.91001,     0.90834,     0.90664,     0.90523,     0.90214,     0.89989,     0.89989,     0.89989,     0.89764,     0.89764,     0.89651,     0.89651,\n",
              "            0.89426,     0.89201,     0.88946,     0.88639,     0.88414,     0.88414,     0.88414,     0.88414,     0.88319,     0.88189,     0.88189,     0.88076,     0.87911,     0.87627,     0.87581,     0.87498,     0.87402,     0.87402,     0.87402,     0.87402,     0.87332,     0.87117,     0.87064,\n",
              "            0.86967,     0.86727,     0.86727,     0.86727,     0.86727,     0.86727,     0.86727,     0.86727,     0.86727,     0.86727,     0.86501,     0.86386,     0.86284,     0.86164,     0.86164,     0.86164,      0.8613,     0.86075,     0.86021,     0.85891,     0.85827,      0.8582,     0.85707,\n",
              "            0.85602,      0.8555,     0.85489,     0.85341,     0.85264,     0.85264,     0.85264,     0.85264,     0.85261,     0.85152,     0.85152,     0.85129,     0.84927,     0.84927,     0.84927,     0.84814,     0.84791,     0.84477,     0.84252,     0.84252,      0.8415,     0.84088,     0.84033,\n",
              "            0.84027,     0.84027,     0.84027,     0.84027,     0.83891,     0.83802,      0.8369,      0.8369,      0.8369,     0.83614,     0.83465,     0.83455,     0.83352,      0.8318,     0.83127,     0.83015,     0.83015,     0.82953,     0.82767,     0.82541,     0.82244,     0.82159,     0.82115,\n",
              "            0.82115,     0.82002,     0.82002,     0.82002,     0.82002,      0.8189,     0.81552,     0.81344,     0.81215,     0.81102,     0.81102,     0.80765,     0.80706,     0.80652,     0.80652,     0.80609,      0.8054,     0.80427,     0.80315,     0.80156,     0.80098,      0.8009,      0.8009,\n",
              "            0.79865,     0.79753,     0.79753,     0.79753,     0.79753,     0.79574,     0.79446,     0.79396,     0.79312,     0.79162,     0.79078,     0.78965,     0.78965,      0.7874,     0.78697,     0.78595,     0.78515,     0.78515,     0.78515,     0.78403,     0.78325,     0.78178,     0.78178,\n",
              "            0.77952,     0.77817,     0.77733,     0.77677,     0.77623,     0.77165,     0.77165,     0.77044,     0.76891,     0.76683,     0.76629,     0.76603,     0.76595,     0.76441,     0.76333,     0.76265,     0.76205,     0.76051,      0.7604,     0.75928,     0.75867,     0.75682,     0.75605,\n",
              "            0.75591,     0.75537,     0.75318,      0.7523,     0.75119,     0.75068,     0.75028,     0.74952,     0.74916,     0.74916,     0.74916,     0.74916,     0.74803,      0.7466,     0.74583,     0.74442,     0.74342,      0.7429,     0.74238,     0.74161,      0.7395,     0.73858,     0.73771,\n",
              "            0.73453,     0.73409,     0.73344,     0.73313,     0.73284,     0.73256,     0.73228,     0.73179,     0.73003,     0.72909,     0.72891,      0.7273,     0.72666,     0.72619,     0.72553,     0.72518,     0.72482,     0.72447,     0.72216,     0.72216,     0.72216,     0.72216,     0.72216,\n",
              "            0.72216,     0.72216,     0.72216,     0.71939,     0.71761,     0.71695,     0.71596,     0.71467,     0.71326,     0.71204,     0.71204,     0.71204,     0.71091,     0.70979,     0.70866,     0.70866,     0.70866,     0.70866,     0.70866,     0.70646,     0.70497,     0.70464,     0.70431,\n",
              "            0.70332,      0.7021,      0.7004,     0.69994,      0.6994,     0.69874,     0.69808,     0.69742,     0.69676,     0.69611,     0.69545,     0.69451,     0.69291,     0.69291,     0.69189,     0.69119,     0.69035,     0.68899,     0.68784,     0.68424,     0.68166,     0.67932,       0.676,\n",
              "            0.67558,     0.67516,     0.67427,      0.6735,     0.67308,     0.67267,     0.67154,     0.67154,     0.67154,     0.67154,     0.67138,     0.67096,     0.67055,     0.67042,     0.66931,     0.66864,     0.66817,     0.66692,      0.6665,     0.66608,     0.66592,     0.66518,     0.66479,\n",
              "            0.66479,     0.66479,     0.66464,     0.66449,     0.66433,     0.66418,     0.66403,     0.66387,     0.66372,     0.66264,     0.66146,     0.66031,     0.65964,     0.65917,     0.65882,     0.65791,     0.65749,     0.65707,     0.65655,     0.65597,     0.65499,     0.65467,     0.65467,\n",
              "            0.65467,     0.65351,     0.65293,     0.65225,     0.65129,     0.65083,     0.64968,     0.64853,     0.64625,     0.64534,     0.64468,     0.64363,     0.64136,     0.64004,     0.63792,     0.63677,     0.63544,     0.63486,     0.63416,     0.63217,     0.63073,     0.62867,     0.62825,\n",
              "            0.62783,     0.62767,     0.62767,     0.62655,     0.62655,     0.62627,     0.62589,      0.6255,     0.62378,     0.62308,     0.61749,     0.61691,     0.61512,     0.61294,     0.61237,     0.61166,     0.60826,      0.6071,     0.60595,      0.6048,     0.60405,     0.60405,     0.60405,\n",
              "            0.60405,     0.60405,     0.60364,     0.60306,     0.60092,     0.59864,     0.59748,     0.59618,     0.59618,      0.5929,     0.59259,     0.59236,     0.59213,      0.5919,     0.59168,     0.59168,     0.59168,     0.59151,     0.58808,     0.58751,     0.58581,     0.58523,      0.5838,\n",
              "             0.5838,      0.5835,     0.58292,     0.57977,     0.57861,     0.57521,     0.57406,     0.57178,     0.57143,     0.56947,     0.56875,     0.56817,     0.56714,     0.56599,     0.56371,     0.56256,     0.56079,     0.56022,     0.55797,     0.55682,     0.55568,     0.55568,     0.55561,\n",
              "            0.55343,     0.55343,     0.55328,     0.55212,     0.55108,      0.5505,     0.55006,     0.55006,     0.54973,     0.54746,     0.54668,     0.54515,     0.54421,     0.54364,     0.54318,      0.5429,     0.54261,     0.54232,     0.54045,     0.53972,     0.53934,     0.53895,     0.53809,\n",
              "            0.53768,     0.53691,     0.53463,     0.53348,     0.53318,      0.5323,     0.53002,     0.52774,     0.52643,     0.52643,     0.52643,     0.52538,      0.5231,     0.52195,     0.52024,     0.51964,     0.51736,     0.51509,     0.51406,     0.51406,     0.51388,     0.51272,     0.51057,\n",
              "            0.50999,     0.50956,     0.50956,     0.50939,     0.50881,     0.50619,     0.50619,     0.50572,     0.50381,     0.50353,     0.50324,     0.50295,     0.50108,     0.50025,     0.49967,     0.49944,     0.49944,     0.49906,     0.49849,     0.49414,     0.49354,     0.49315,     0.49277,\n",
              "            0.48952,     0.48837,     0.48706,     0.48706,     0.48706,     0.48524,     0.48429,     0.48201,     0.48086,     0.47858,     0.47694,      0.4729,     0.47175,     0.46947,     0.46757,     0.46699,     0.46641,     0.46584,     0.46483,     0.46255,     0.46028,       0.458,      0.4546,\n",
              "            0.45344,     0.45229,     0.45001,     0.44886,     0.44826,     0.44769,     0.44736,     0.44703,      0.4467,     0.44475,     0.44283,     0.44226,     0.44207,     0.44127,     0.43899,     0.43841,     0.43802,     0.43764,     0.43726,     0.43687,     0.43649,     0.43373,     0.43307,\n",
              "            0.43255,     0.43139,     0.43024,     0.42909,     0.42745,     0.42678,     0.42563,     0.42491,     0.42445,     0.42397,     0.42339,     0.42268,     0.41957,     0.41925,     0.41732,     0.41582,     0.41354,     0.41238,     0.41076,     0.40918,      0.4089,     0.40861,     0.40831,\n",
              "             0.4049,     0.40375,      0.4026,     0.40131,      0.3986,     0.39595,     0.39556,     0.39499,     0.39328,     0.39271,     0.39169,     0.38746,     0.38676,     0.38618,     0.38539,     0.38358,     0.38325,     0.38248,     0.37909,     0.37793,     0.37453,     0.37225,     0.36875,\n",
              "            0.36636,     0.36578,     0.36483,     0.36255,      0.3614,     0.35631,     0.35516,       0.354,     0.35285,     0.34855,     0.34809,     0.34763,     0.34655,      0.3454,     0.34256,     0.34028,     0.33942,     0.33884,     0.33816,     0.33735,     0.33633,     0.33617,     0.33483,\n",
              "            0.32993,     0.32918,      0.3286,     0.32498,      0.3246,     0.32422,     0.32207,     0.32026,     0.31988,     0.31949,     0.31696,     0.31639,     0.31553,     0.31269,     0.31154,     0.30701,     0.30371,     0.30302,     0.30074,     0.29871,     0.29787,     0.29559,     0.29341,\n",
              "            0.29264,     0.29089,     0.29032,     0.28758,     0.28643,     0.28483,     0.28131,     0.28079,     0.28033,     0.27954,     0.27671,     0.27613,     0.27329,     0.27252,     0.27175,     0.26651,     0.26593,      0.2609,     0.26051,     0.26013,     0.25857,     0.25799,      0.2551,\n",
              "            0.25434,     0.25244,     0.25055,     0.24978,     0.24694,     0.24636,     0.24447,     0.24258,     0.23844,     0.23767,     0.23701,     0.23644,     0.23349,     0.23285,     0.23285,     0.23118,     0.22938,       0.229,     0.22861,     0.22586,     0.22509,     0.22448,     0.22391,\n",
              "            0.22316,     0.22126,      0.2205,     0.21185,     0.21128,     0.21089,     0.21051,      0.2099,     0.20689,     0.20612,     0.20085,     0.19783,     0.19706,     0.19067,      0.1899,     0.18913,     0.18724,     0.18422,     0.18345,     0.18156,     0.17629,     0.17552,     0.17363,\n",
              "            0.17173,     0.16871,     0.16795,      0.1593,     0.15625,     0.15402,     0.15325,     0.15248,     0.14834,     0.14757,     0.14567,     0.14378,     0.14301,     0.14112,     0.14022,     0.13808,     0.13731,     0.13317,     0.13128,     0.13051,     0.12599,     0.12409,     0.12108,\n",
              "            0.11693,     0.11616,     0.11179,     0.10911,     0.10574,     0.10574,     0.10043,    0.095334,    0.094949,    0.094565,    0.090191,     0.08823,    0.086337,    0.085568,    0.082205,    0.081406,    0.079336,    0.077244,    0.075343,    0.071991,    0.071991,    0.069072,    0.067027,\n",
              "           0.065079,    0.062916,    0.062454,    0.061993,    0.061308,    0.060438,    0.059396,    0.058627,    0.056417,    0.053341,    0.051521,    0.050945,    0.048035,    0.047266,     0.04275,     0.03823,    0.037461,    0.035812,    0.035483,    0.035153,    0.034707,    0.032429,    0.029158,\n",
              "           0.028697,    0.028236,    0.027874,    0.027544,    0.027215,    0.024358,    0.023413,    0.022837,    0.020899,    0.019011,    0.018755,    0.018499,    0.018242,     0.01798,    0.017596,    0.017212,    0.015612,    0.013451,    0.013122,    0.012792,    0.012463,    0.012164,    0.011875,\n",
              "           0.011587,    0.011299,    0.010297,   0.0088836,   0.0087479,   0.0086123,   0.0084766,    0.008341,   0.0082053,   0.0080697,    0.007934,   0.0075525,    0.006976,   0.0065161,   0.0061317,   0.0057474,   0.0048406,    0.004319,   0.0040628,   0.0038066,   0.0035504,   0.0033022,   0.0030716,\n",
              "           0.002841,   0.0026104,   0.0023798,   0.0021492,   0.0019186,    0.001688,   0.0014574,   0.0012268,           0,           0,           0,           0,           0,           0,           0,           0,           0,           0,           0,           0,           0,           0,           0,\n",
              "                  0,           0,           0,           0,           0,           0,           0,           0,           0,           0,           0,           0,           0,           0,           0,           0,           0,           0,           0,           0,           0,           0,           0,\n",
              "                  0,           0,           0,           0,           0,           0,           0,           0,           0,           0,           0,           0,           0,           0,           0,           0,           0,           0,           0,           0,           0,           0,           0,\n",
              "                  0,           0,           0,           0,           0,           0,           0,           0,           0,           0,           0,           0,           0,           0,           0,           0,           0,           0,           0,           0,           0,           0,           0,\n",
              "                  0,           0,           0,           0,           0,           0,           0,           0,           0,           0,           0,           0,           0,           0,           0,           0,           0,           0,           0,           0,           0,           0,           0,\n",
              "                  0,           0,           0,           0,           0,           0,           0,           0,           0,           0,           0]]), 'Confidence', 'Recall'], [array([          0,    0.001001,    0.002002,    0.003003,    0.004004,    0.005005,    0.006006,    0.007007,    0.008008,    0.009009,     0.01001,    0.011011,    0.012012,    0.013013,    0.014014,    0.015015,    0.016016,    0.017017,    0.018018,    0.019019,     0.02002,    0.021021,    0.022022,    0.023023,\n",
              "          0.024024,    0.025025,    0.026026,    0.027027,    0.028028,    0.029029,     0.03003,    0.031031,    0.032032,    0.033033,    0.034034,    0.035035,    0.036036,    0.037037,    0.038038,    0.039039,     0.04004,    0.041041,    0.042042,    0.043043,    0.044044,    0.045045,    0.046046,    0.047047,\n",
              "          0.048048,    0.049049,     0.05005,    0.051051,    0.052052,    0.053053,    0.054054,    0.055055,    0.056056,    0.057057,    0.058058,    0.059059,     0.06006,    0.061061,    0.062062,    0.063063,    0.064064,    0.065065,    0.066066,    0.067067,    0.068068,    0.069069,     0.07007,    0.071071,\n",
              "          0.072072,    0.073073,    0.074074,    0.075075,    0.076076,    0.077077,    0.078078,    0.079079,     0.08008,    0.081081,    0.082082,    0.083083,    0.084084,    0.085085,    0.086086,    0.087087,    0.088088,    0.089089,     0.09009,    0.091091,    0.092092,    0.093093,    0.094094,    0.095095,\n",
              "          0.096096,    0.097097,    0.098098,    0.099099,      0.1001,      0.1011,      0.1021,      0.1031,      0.1041,     0.10511,     0.10611,     0.10711,     0.10811,     0.10911,     0.11011,     0.11111,     0.11211,     0.11311,     0.11411,     0.11512,     0.11612,     0.11712,     0.11812,     0.11912,\n",
              "           0.12012,     0.12112,     0.12212,     0.12312,     0.12412,     0.12513,     0.12613,     0.12713,     0.12813,     0.12913,     0.13013,     0.13113,     0.13213,     0.13313,     0.13413,     0.13514,     0.13614,     0.13714,     0.13814,     0.13914,     0.14014,     0.14114,     0.14214,     0.14314,\n",
              "           0.14414,     0.14515,     0.14615,     0.14715,     0.14815,     0.14915,     0.15015,     0.15115,     0.15215,     0.15315,     0.15415,     0.15516,     0.15616,     0.15716,     0.15816,     0.15916,     0.16016,     0.16116,     0.16216,     0.16316,     0.16416,     0.16517,     0.16617,     0.16717,\n",
              "           0.16817,     0.16917,     0.17017,     0.17117,     0.17217,     0.17317,     0.17417,     0.17518,     0.17618,     0.17718,     0.17818,     0.17918,     0.18018,     0.18118,     0.18218,     0.18318,     0.18418,     0.18519,     0.18619,     0.18719,     0.18819,     0.18919,     0.19019,     0.19119,\n",
              "           0.19219,     0.19319,     0.19419,      0.1952,      0.1962,      0.1972,      0.1982,      0.1992,      0.2002,      0.2012,      0.2022,      0.2032,      0.2042,     0.20521,     0.20621,     0.20721,     0.20821,     0.20921,     0.21021,     0.21121,     0.21221,     0.21321,     0.21421,     0.21522,\n",
              "           0.21622,     0.21722,     0.21822,     0.21922,     0.22022,     0.22122,     0.22222,     0.22322,     0.22422,     0.22523,     0.22623,     0.22723,     0.22823,     0.22923,     0.23023,     0.23123,     0.23223,     0.23323,     0.23423,     0.23524,     0.23624,     0.23724,     0.23824,     0.23924,\n",
              "           0.24024,     0.24124,     0.24224,     0.24324,     0.24424,     0.24525,     0.24625,     0.24725,     0.24825,     0.24925,     0.25025,     0.25125,     0.25225,     0.25325,     0.25425,     0.25526,     0.25626,     0.25726,     0.25826,     0.25926,     0.26026,     0.26126,     0.26226,     0.26326,\n",
              "           0.26426,     0.26527,     0.26627,     0.26727,     0.26827,     0.26927,     0.27027,     0.27127,     0.27227,     0.27327,     0.27427,     0.27528,     0.27628,     0.27728,     0.27828,     0.27928,     0.28028,     0.28128,     0.28228,     0.28328,     0.28428,     0.28529,     0.28629,     0.28729,\n",
              "           0.28829,     0.28929,     0.29029,     0.29129,     0.29229,     0.29329,     0.29429,      0.2953,      0.2963,      0.2973,      0.2983,      0.2993,      0.3003,      0.3013,      0.3023,      0.3033,      0.3043,     0.30531,     0.30631,     0.30731,     0.30831,     0.30931,     0.31031,     0.31131,\n",
              "           0.31231,     0.31331,     0.31431,     0.31532,     0.31632,     0.31732,     0.31832,     0.31932,     0.32032,     0.32132,     0.32232,     0.32332,     0.32432,     0.32533,     0.32633,     0.32733,     0.32833,     0.32933,     0.33033,     0.33133,     0.33233,     0.33333,     0.33433,     0.33534,\n",
              "           0.33634,     0.33734,     0.33834,     0.33934,     0.34034,     0.34134,     0.34234,     0.34334,     0.34434,     0.34535,     0.34635,     0.34735,     0.34835,     0.34935,     0.35035,     0.35135,     0.35235,     0.35335,     0.35435,     0.35536,     0.35636,     0.35736,     0.35836,     0.35936,\n",
              "           0.36036,     0.36136,     0.36236,     0.36336,     0.36436,     0.36537,     0.36637,     0.36737,     0.36837,     0.36937,     0.37037,     0.37137,     0.37237,     0.37337,     0.37437,     0.37538,     0.37638,     0.37738,     0.37838,     0.37938,     0.38038,     0.38138,     0.38238,     0.38338,\n",
              "           0.38438,     0.38539,     0.38639,     0.38739,     0.38839,     0.38939,     0.39039,     0.39139,     0.39239,     0.39339,     0.39439,      0.3954,      0.3964,      0.3974,      0.3984,      0.3994,      0.4004,      0.4014,      0.4024,      0.4034,      0.4044,     0.40541,     0.40641,     0.40741,\n",
              "           0.40841,     0.40941,     0.41041,     0.41141,     0.41241,     0.41341,     0.41441,     0.41542,     0.41642,     0.41742,     0.41842,     0.41942,     0.42042,     0.42142,     0.42242,     0.42342,     0.42442,     0.42543,     0.42643,     0.42743,     0.42843,     0.42943,     0.43043,     0.43143,\n",
              "           0.43243,     0.43343,     0.43443,     0.43544,     0.43644,     0.43744,     0.43844,     0.43944,     0.44044,     0.44144,     0.44244,     0.44344,     0.44444,     0.44545,     0.44645,     0.44745,     0.44845,     0.44945,     0.45045,     0.45145,     0.45245,     0.45345,     0.45445,     0.45546,\n",
              "           0.45646,     0.45746,     0.45846,     0.45946,     0.46046,     0.46146,     0.46246,     0.46346,     0.46446,     0.46547,     0.46647,     0.46747,     0.46847,     0.46947,     0.47047,     0.47147,     0.47247,     0.47347,     0.47447,     0.47548,     0.47648,     0.47748,     0.47848,     0.47948,\n",
              "           0.48048,     0.48148,     0.48248,     0.48348,     0.48448,     0.48549,     0.48649,     0.48749,     0.48849,     0.48949,     0.49049,     0.49149,     0.49249,     0.49349,     0.49449,      0.4955,      0.4965,      0.4975,      0.4985,      0.4995,      0.5005,      0.5015,      0.5025,      0.5035,\n",
              "            0.5045,     0.50551,     0.50651,     0.50751,     0.50851,     0.50951,     0.51051,     0.51151,     0.51251,     0.51351,     0.51451,     0.51552,     0.51652,     0.51752,     0.51852,     0.51952,     0.52052,     0.52152,     0.52252,     0.52352,     0.52452,     0.52553,     0.52653,     0.52753,\n",
              "           0.52853,     0.52953,     0.53053,     0.53153,     0.53253,     0.53353,     0.53453,     0.53554,     0.53654,     0.53754,     0.53854,     0.53954,     0.54054,     0.54154,     0.54254,     0.54354,     0.54454,     0.54555,     0.54655,     0.54755,     0.54855,     0.54955,     0.55055,     0.55155,\n",
              "           0.55255,     0.55355,     0.55455,     0.55556,     0.55656,     0.55756,     0.55856,     0.55956,     0.56056,     0.56156,     0.56256,     0.56356,     0.56456,     0.56557,     0.56657,     0.56757,     0.56857,     0.56957,     0.57057,     0.57157,     0.57257,     0.57357,     0.57457,     0.57558,\n",
              "           0.57658,     0.57758,     0.57858,     0.57958,     0.58058,     0.58158,     0.58258,     0.58358,     0.58458,     0.58559,     0.58659,     0.58759,     0.58859,     0.58959,     0.59059,     0.59159,     0.59259,     0.59359,     0.59459,      0.5956,      0.5966,      0.5976,      0.5986,      0.5996,\n",
              "            0.6006,      0.6016,      0.6026,      0.6036,      0.6046,     0.60561,     0.60661,     0.60761,     0.60861,     0.60961,     0.61061,     0.61161,     0.61261,     0.61361,     0.61461,     0.61562,     0.61662,     0.61762,     0.61862,     0.61962,     0.62062,     0.62162,     0.62262,     0.62362,\n",
              "           0.62462,     0.62563,     0.62663,     0.62763,     0.62863,     0.62963,     0.63063,     0.63163,     0.63263,     0.63363,     0.63463,     0.63564,     0.63664,     0.63764,     0.63864,     0.63964,     0.64064,     0.64164,     0.64264,     0.64364,     0.64464,     0.64565,     0.64665,     0.64765,\n",
              "           0.64865,     0.64965,     0.65065,     0.65165,     0.65265,     0.65365,     0.65465,     0.65566,     0.65666,     0.65766,     0.65866,     0.65966,     0.66066,     0.66166,     0.66266,     0.66366,     0.66466,     0.66567,     0.66667,     0.66767,     0.66867,     0.66967,     0.67067,     0.67167,\n",
              "           0.67267,     0.67367,     0.67467,     0.67568,     0.67668,     0.67768,     0.67868,     0.67968,     0.68068,     0.68168,     0.68268,     0.68368,     0.68468,     0.68569,     0.68669,     0.68769,     0.68869,     0.68969,     0.69069,     0.69169,     0.69269,     0.69369,     0.69469,      0.6957,\n",
              "            0.6967,      0.6977,      0.6987,      0.6997,      0.7007,      0.7017,      0.7027,      0.7037,      0.7047,     0.70571,     0.70671,     0.70771,     0.70871,     0.70971,     0.71071,     0.71171,     0.71271,     0.71371,     0.71471,     0.71572,     0.71672,     0.71772,     0.71872,     0.71972,\n",
              "           0.72072,     0.72172,     0.72272,     0.72372,     0.72472,     0.72573,     0.72673,     0.72773,     0.72873,     0.72973,     0.73073,     0.73173,     0.73273,     0.73373,     0.73473,     0.73574,     0.73674,     0.73774,     0.73874,     0.73974,     0.74074,     0.74174,     0.74274,     0.74374,\n",
              "           0.74474,     0.74575,     0.74675,     0.74775,     0.74875,     0.74975,     0.75075,     0.75175,     0.75275,     0.75375,     0.75475,     0.75576,     0.75676,     0.75776,     0.75876,     0.75976,     0.76076,     0.76176,     0.76276,     0.76376,     0.76476,     0.76577,     0.76677,     0.76777,\n",
              "           0.76877,     0.76977,     0.77077,     0.77177,     0.77277,     0.77377,     0.77477,     0.77578,     0.77678,     0.77778,     0.77878,     0.77978,     0.78078,     0.78178,     0.78278,     0.78378,     0.78478,     0.78579,     0.78679,     0.78779,     0.78879,     0.78979,     0.79079,     0.79179,\n",
              "           0.79279,     0.79379,     0.79479,      0.7958,      0.7968,      0.7978,      0.7988,      0.7998,      0.8008,      0.8018,      0.8028,      0.8038,      0.8048,     0.80581,     0.80681,     0.80781,     0.80881,     0.80981,     0.81081,     0.81181,     0.81281,     0.81381,     0.81481,     0.81582,\n",
              "           0.81682,     0.81782,     0.81882,     0.81982,     0.82082,     0.82182,     0.82282,     0.82382,     0.82482,     0.82583,     0.82683,     0.82783,     0.82883,     0.82983,     0.83083,     0.83183,     0.83283,     0.83383,     0.83483,     0.83584,     0.83684,     0.83784,     0.83884,     0.83984,\n",
              "           0.84084,     0.84184,     0.84284,     0.84384,     0.84484,     0.84585,     0.84685,     0.84785,     0.84885,     0.84985,     0.85085,     0.85185,     0.85285,     0.85385,     0.85485,     0.85586,     0.85686,     0.85786,     0.85886,     0.85986,     0.86086,     0.86186,     0.86286,     0.86386,\n",
              "           0.86486,     0.86587,     0.86687,     0.86787,     0.86887,     0.86987,     0.87087,     0.87187,     0.87287,     0.87387,     0.87487,     0.87588,     0.87688,     0.87788,     0.87888,     0.87988,     0.88088,     0.88188,     0.88288,     0.88388,     0.88488,     0.88589,     0.88689,     0.88789,\n",
              "           0.88889,     0.88989,     0.89089,     0.89189,     0.89289,     0.89389,     0.89489,      0.8959,      0.8969,      0.8979,      0.8989,      0.8999,      0.9009,      0.9019,      0.9029,      0.9039,      0.9049,     0.90591,     0.90691,     0.90791,     0.90891,     0.90991,     0.91091,     0.91191,\n",
              "           0.91291,     0.91391,     0.91491,     0.91592,     0.91692,     0.91792,     0.91892,     0.91992,     0.92092,     0.92192,     0.92292,     0.92392,     0.92492,     0.92593,     0.92693,     0.92793,     0.92893,     0.92993,     0.93093,     0.93193,     0.93293,     0.93393,     0.93493,     0.93594,\n",
              "           0.93694,     0.93794,     0.93894,     0.93994,     0.94094,     0.94194,     0.94294,     0.94394,     0.94494,     0.94595,     0.94695,     0.94795,     0.94895,     0.94995,     0.95095,     0.95195,     0.95295,     0.95395,     0.95495,     0.95596,     0.95696,     0.95796,     0.95896,     0.95996,\n",
              "           0.96096,     0.96196,     0.96296,     0.96396,     0.96496,     0.96597,     0.96697,     0.96797,     0.96897,     0.96997,     0.97097,     0.97197,     0.97297,     0.97397,     0.97497,     0.97598,     0.97698,     0.97798,     0.97898,     0.97998,     0.98098,     0.98198,     0.98298,     0.98398,\n",
              "           0.98498,     0.98599,     0.98699,     0.98799,     0.98899,     0.98999,     0.99099,     0.99199,     0.99299,     0.99399,     0.99499,       0.996,       0.997,       0.998,       0.999,           1]), array([[          1,           1,           1,           1,           1,           1,           1,           1,           1,           1,           1,           1,           1,           1,           1,           1,           1,           1,           1,           1,           1,           1,           1,\n",
              "                  1,           1,           1,           1,           1,           1,           1,           1,           1,           1,           1,           1,           1,           1,           1,           1,           1,           1,           1,           1,           1,           1,           1,\n",
              "                  1,           1,           1,           1,           1,           1,           1,     0.98462,     0.98462,     0.98462,     0.98462,     0.98462,     0.98462,     0.98462,     0.98462,     0.98462,     0.98462,     0.98462,     0.98462,     0.98462,     0.98462,     0.98462,     0.98462,\n",
              "            0.98462,     0.98462,     0.98462,     0.97333,     0.97333,     0.97333,     0.97333,     0.97333,     0.97333,     0.97333,     0.97333,     0.97333,     0.97333,     0.97333,     0.96907,     0.96907,     0.96907,     0.96907,     0.96907,     0.96907,     0.96907,     0.96907,     0.96907,\n",
              "            0.96907,     0.96907,     0.96907,     0.96907,     0.96907,     0.96907,     0.96907,     0.96907,     0.96907,     0.96907,     0.96907,     0.96907,     0.96907,     0.96907,     0.96429,     0.96429,     0.96429,     0.96429,     0.96429,     0.96429,     0.96429,     0.96429,     0.96429,\n",
              "            0.96429,     0.96429,     0.96429,     0.96429,     0.96429,     0.96429,     0.96429,     0.96429,     0.96429,     0.96429,     0.96429,     0.96429,     0.96429,     0.96429,     0.96429,     0.96429,     0.96429,     0.96429,     0.96429,     0.96429,     0.96429,     0.96429,     0.96429,\n",
              "            0.96429,     0.96429,     0.96429,     0.96429,     0.96429,     0.96429,     0.96429,     0.96429,     0.96429,     0.96429,     0.96429,     0.96429,     0.96429,     0.96429,     0.96429,     0.96429,     0.96429,     0.96429,     0.96429,     0.96429,     0.96429,     0.96429,     0.96429,\n",
              "            0.96429,     0.96429,     0.96429,     0.96429,     0.96429,     0.96429,     0.96429,     0.96429,     0.96429,     0.96429,     0.96429,     0.96429,     0.96429,     0.96429,     0.96429,     0.96429,     0.96429,     0.96429,     0.96429,     0.96429,     0.96429,     0.96429,     0.96429,\n",
              "            0.96429,     0.96429,     0.96429,     0.96429,     0.96429,     0.96429,     0.96429,     0.96429,     0.96429,     0.96429,     0.96429,     0.96429,     0.96429,     0.96429,     0.96429,     0.96429,     0.96429,     0.96429,     0.96429,     0.96429,     0.96429,     0.96429,     0.96429,\n",
              "            0.96429,     0.96429,     0.96429,     0.96429,     0.96429,     0.96429,     0.96429,     0.96429,     0.96429,     0.96429,     0.96429,     0.96429,     0.96429,     0.96429,     0.96429,     0.96429,     0.96429,     0.96429,     0.96429,     0.96429,     0.96429,     0.96429,     0.96429,\n",
              "            0.96429,     0.96429,     0.96429,     0.96429,     0.96429,     0.96429,     0.96429,     0.96429,     0.96429,     0.96429,     0.96429,     0.96429,     0.96429,     0.96429,     0.96429,     0.96429,     0.96429,     0.96429,     0.96429,     0.96429,     0.96429,     0.96429,     0.96429,\n",
              "            0.96429,     0.96429,     0.96429,     0.96429,     0.96429,     0.96429,     0.96429,     0.96429,     0.96429,     0.96429,     0.96429,     0.96429,     0.96429,     0.96429,     0.96429,     0.96429,     0.96429,     0.96429,     0.96429,     0.96429,     0.96429,     0.96429,     0.96429,\n",
              "            0.96429,     0.96429,     0.96429,     0.96429,     0.96429,     0.96429,     0.96429,     0.96429,     0.96429,     0.96429,     0.96429,     0.96429,     0.96429,     0.96429,     0.96429,     0.96429,     0.96429,     0.96429,     0.96429,     0.96429,     0.96429,     0.96429,     0.96429,\n",
              "            0.96429,     0.96429,     0.96429,     0.96429,     0.96429,     0.96246,     0.96246,     0.96246,     0.96246,     0.96246,     0.96246,     0.96246,     0.96246,     0.96246,     0.96246,     0.96246,     0.96246,     0.96246,     0.96141,     0.96141,     0.96141,     0.96141,     0.96141,\n",
              "            0.96141,     0.96141,     0.96141,     0.96141,     0.96141,     0.96141,     0.96141,     0.96141,     0.96141,     0.96141,     0.96141,     0.96141,     0.96141,     0.96141,     0.96024,     0.96024,     0.96024,     0.96024,     0.96024,     0.96024,     0.96024,     0.96024,     0.96024,\n",
              "            0.96024,     0.96024,     0.96024,     0.96024,     0.96024,     0.96024,     0.96024,     0.96024,     0.95821,     0.95821,     0.95821,     0.95821,     0.95821,     0.95821,     0.95821,     0.95821,     0.95787,     0.95787,     0.95787,     0.95787,     0.95787,     0.95787,     0.95787,\n",
              "            0.95787,     0.95787,     0.95787,     0.95787,     0.95787,     0.95787,     0.95787,     0.95787,     0.95787,     0.95787,     0.95787,     0.95787,     0.95787,     0.95787,     0.95787,     0.95787,     0.95652,     0.95652,     0.95652,     0.95652,     0.95652,     0.95652,     0.95652,\n",
              "            0.95652,     0.95652,     0.95652,     0.95652,     0.95652,     0.95538,     0.95538,     0.95538,     0.95538,     0.95538,     0.95538,     0.95538,     0.95538,     0.95538,     0.95538,     0.95538,     0.95538,     0.95538,     0.95538,     0.95373,     0.95373,     0.95373,     0.95373,\n",
              "            0.95373,     0.95373,     0.95373,     0.95153,     0.95153,     0.95153,     0.94763,     0.94763,     0.94763,     0.94763,     0.94763,     0.94763,     0.94763,     0.94763,     0.94595,     0.94595,     0.94595,     0.94595,     0.94595,     0.94471,     0.94471,     0.94471,     0.94471,\n",
              "            0.94471,     0.94471,     0.94471,     0.94471,     0.94471,     0.94432,     0.94432,     0.94432,     0.94432,     0.94432,     0.94432,     0.94432,     0.94432,     0.94432,     0.94432,     0.94432,     0.94432,     0.94432,     0.94432,     0.94432,     0.94432,     0.94432,     0.94432,\n",
              "            0.94432,     0.94432,     0.94432,     0.94432,     0.94432,     0.94432,     0.94432,     0.94432,     0.94432,     0.94432,     0.94432,     0.94432,     0.94432,     0.94432,     0.94432,     0.94432,     0.94432,     0.94298,     0.94298,     0.94298,     0.94298,     0.94298,     0.94298,\n",
              "            0.94298,      0.9413,      0.9413,      0.9413,      0.9359,      0.9359,      0.9359,      0.9359,      0.9359,      0.9359,     0.93474,     0.93474,     0.93474,     0.93474,     0.93474,     0.93474,     0.93361,     0.93361,     0.93361,     0.93361,     0.93361,     0.93361,     0.93361,\n",
              "            0.93004,     0.93004,     0.92828,     0.92828,     0.92698,     0.92698,     0.92698,     0.92698,     0.92339,       0.922,       0.922,       0.922,       0.922,     0.92032,     0.91945,     0.91945,     0.91945,     0.91945,     0.91945,     0.91945,      0.9186,      0.9186,      0.9186,\n",
              "             0.9186,      0.9186,      0.9186,      0.9186,     0.91571,     0.91571,     0.91571,     0.91571,     0.91571,     0.91525,     0.91525,     0.91525,     0.91525,     0.91525,     0.91525,     0.91525,     0.91525,     0.91525,     0.91402,     0.91402,     0.91402,     0.91111,     0.91111,\n",
              "            0.91111,     0.90809,     0.90809,     0.90809,     0.89837,     0.89693,     0.89606,     0.89606,     0.89606,     0.89606,     0.89576,     0.89576,     0.89576,     0.89576,     0.89576,     0.89576,     0.89576,     0.89576,     0.89446,     0.89446,     0.89446,     0.89446,     0.89446,\n",
              "            0.89446,     0.89446,     0.89446,     0.89446,     0.89446,     0.89446,      0.8931,      0.8931,     0.89286,     0.89286,     0.89286,     0.89286,     0.89286,     0.89286,     0.89286,     0.89207,     0.89207,     0.89207,     0.89207,     0.89207,     0.89076,     0.88945,     0.88818,\n",
              "            0.88818,     0.88818,     0.88818,     0.88818,     0.88818,     0.88818,     0.88818,     0.88818,     0.88818,     0.88818,     0.88818,     0.88818,     0.88818,     0.88818,     0.88818,     0.88818,     0.88818,     0.88818,     0.88818,     0.88818,     0.88818,     0.88818,     0.88818,\n",
              "            0.88818,     0.88818,     0.88818,     0.88818,     0.88413,     0.88069,     0.88069,     0.88069,     0.88069,     0.88069,     0.87926,     0.87926,     0.87926,     0.87926,     0.87926,     0.87926,     0.87926,     0.87926,     0.87809,      0.8773,      0.8773,      0.8773,     0.87615,\n",
              "            0.87576,     0.87576,     0.87576,     0.87576,     0.87576,     0.87576,       0.875,       0.875,       0.875,     0.87313,     0.87313,     0.87313,     0.87313,     0.87313,     0.87092,     0.87092,     0.87001,     0.87001,     0.86892,     0.86892,     0.86657,     0.86569,     0.86569,\n",
              "            0.86483,     0.86483,     0.86377,     0.86272,     0.86266,     0.86266,     0.86266,     0.86266,     0.86266,     0.86266,     0.86266,     0.86255,     0.86255,     0.86255,     0.86255,     0.86255,     0.86255,     0.86255,     0.86255,     0.86255,     0.86255,     0.86255,     0.86255,\n",
              "            0.86255,     0.86255,     0.85972,     0.85972,     0.85972,     0.85972,     0.85812,     0.85812,     0.85812,     0.85812,     0.85812,     0.85812,     0.85812,     0.85812,     0.85812,     0.85812,     0.85812,     0.85598,     0.85501,     0.85501,     0.85405,     0.85101,     0.85101,\n",
              "            0.85027,     0.85027,     0.84933,      0.8484,     0.84788,     0.84788,     0.84788,     0.84788,     0.84424,     0.84424,     0.84424,     0.84424,     0.84355,     0.84355,     0.84355,     0.84265,     0.84067,     0.83979,     0.83892,     0.83838,     0.83838,     0.83838,     0.83838,\n",
              "            0.83838,     0.83838,     0.83838,     0.83838,     0.83838,     0.83838,     0.83838,     0.83838,     0.83838,     0.83838,     0.83838,     0.83125,     0.83042,     0.83002,     0.83002,     0.83002,     0.82963,     0.82963,     0.82963,     0.82963,     0.82882,     0.82721,     0.82721,\n",
              "            0.82662,     0.82662,     0.82582,     0.82424,     0.82424,     0.82424,     0.82268,     0.82268,      0.8219,     0.82185,     0.82185,     0.82185,     0.82185,     0.82185,     0.82185,     0.82185,     0.82185,     0.82185,     0.82185,     0.82033,     0.82033,     0.81765,      0.8152,\n",
              "             0.8152,      0.8152,     0.81469,     0.81469,     0.81395,     0.81156,     0.81156,     0.81084,     0.81056,     0.81056,     0.81056,     0.81056,     0.80708,     0.80385,     0.80385,     0.80248,     0.80248,      0.8018,      0.8018,     0.80022,     0.79955,      0.7971,     0.79667,\n",
              "            0.79667,     0.79513,     0.79272,     0.79167,     0.79167,     0.79167,     0.79167,     0.79103,     0.78976,     0.78976,     0.78913,     0.78425,     0.78373,     0.78373,     0.78373,     0.78373,     0.78373,     0.78373,     0.78358,     0.78358,     0.78358,     0.78215,     0.78215,\n",
              "            0.77825,     0.77766,     0.77708,     0.77568,     0.77429,     0.77051,     0.76622,     0.76622,     0.76622,      0.7602,     0.75992,     0.75992,      0.7581,      0.7581,     0.75706,     0.75706,     0.75654,     0.75654,      0.7515,       0.751,     0.74679,     0.73998,     0.73998,\n",
              "            0.73879,     0.73618,     0.73501,     0.73501,     0.73481,     0.73481,     0.73365,      0.7304,     0.72996,     0.72909,     0.72909,     0.71601,     0.71601,     0.71601,     0.71561,     0.71508,     0.71508,     0.71508,     0.71205,      0.7105,      0.7105,      0.7105,      0.7105,\n",
              "             0.7105,     0.70947,     0.70807,     0.70807,     0.70098,     0.70098,     0.70027,     0.70027,     0.70027,     0.69982,     0.69982,     0.69982,     0.69788,     0.69788,     0.69753,     0.69718,     0.69318,     0.69318,     0.69104,      0.6907,     0.68885,     0.68885,      0.6882,\n",
              "             0.6882,     0.68696,     0.68696,     0.68696,     0.68542,     0.68542,     0.68542,      0.6799,     0.66999,     0.66915,     0.66777,      0.6653,      0.6653,     0.66502,     0.66475,     0.66178,      0.6567,     0.64196,     0.63922,       0.637,      0.6353,      0.6353,     0.62826,\n",
              "            0.61302,     0.60741,     0.60235,         0.6,     0.59681,     0.59624,      0.5961,      0.5961,     0.59467,     0.59411,     0.58628,     0.58628,      0.5788,     0.57708,     0.56831,     0.56821,     0.56821,     0.56275,      0.5604,     0.55808,     0.55615,     0.55533,      0.5527,\n",
              "            0.55227,     0.55075,     0.55075,     0.54323,     0.52687,     0.52195,     0.51904,     0.50995,     0.50688,     0.50267,     0.49766,     0.49766,     0.49218,     0.48796,     0.48054,     0.47468,     0.46949,     0.46875,     0.46649,     0.46075,     0.46075,     0.46055,     0.45045,\n",
              "            0.42893,      0.3861,     0.38294,     0.36139,     0.35122,     0.29705,     0.29705,     0.28704,     0.23695,       0.207,     0.19838,     0.18975,     0.18113,      0.1725,     0.16388,     0.15525,     0.14663,       0.138,     0.12938,     0.12075,     0.11213,      0.1035,    0.094876,\n",
              "           0.086251,    0.077626,    0.069001,    0.060376,    0.051751,    0.043126,      0.0345,    0.025875,     0.01725,   0.0086251,           0]]), 'Recall', 'Precision'], [array([          0,    0.001001,    0.002002,    0.003003,    0.004004,    0.005005,    0.006006,    0.007007,    0.008008,    0.009009,     0.01001,    0.011011,    0.012012,    0.013013,    0.014014,    0.015015,    0.016016,    0.017017,    0.018018,    0.019019,     0.02002,    0.021021,    0.022022,    0.023023,\n",
              "          0.024024,    0.025025,    0.026026,    0.027027,    0.028028,    0.029029,     0.03003,    0.031031,    0.032032,    0.033033,    0.034034,    0.035035,    0.036036,    0.037037,    0.038038,    0.039039,     0.04004,    0.041041,    0.042042,    0.043043,    0.044044,    0.045045,    0.046046,    0.047047,\n",
              "          0.048048,    0.049049,     0.05005,    0.051051,    0.052052,    0.053053,    0.054054,    0.055055,    0.056056,    0.057057,    0.058058,    0.059059,     0.06006,    0.061061,    0.062062,    0.063063,    0.064064,    0.065065,    0.066066,    0.067067,    0.068068,    0.069069,     0.07007,    0.071071,\n",
              "          0.072072,    0.073073,    0.074074,    0.075075,    0.076076,    0.077077,    0.078078,    0.079079,     0.08008,    0.081081,    0.082082,    0.083083,    0.084084,    0.085085,    0.086086,    0.087087,    0.088088,    0.089089,     0.09009,    0.091091,    0.092092,    0.093093,    0.094094,    0.095095,\n",
              "          0.096096,    0.097097,    0.098098,    0.099099,      0.1001,      0.1011,      0.1021,      0.1031,      0.1041,     0.10511,     0.10611,     0.10711,     0.10811,     0.10911,     0.11011,     0.11111,     0.11211,     0.11311,     0.11411,     0.11512,     0.11612,     0.11712,     0.11812,     0.11912,\n",
              "           0.12012,     0.12112,     0.12212,     0.12312,     0.12412,     0.12513,     0.12613,     0.12713,     0.12813,     0.12913,     0.13013,     0.13113,     0.13213,     0.13313,     0.13413,     0.13514,     0.13614,     0.13714,     0.13814,     0.13914,     0.14014,     0.14114,     0.14214,     0.14314,\n",
              "           0.14414,     0.14515,     0.14615,     0.14715,     0.14815,     0.14915,     0.15015,     0.15115,     0.15215,     0.15315,     0.15415,     0.15516,     0.15616,     0.15716,     0.15816,     0.15916,     0.16016,     0.16116,     0.16216,     0.16316,     0.16416,     0.16517,     0.16617,     0.16717,\n",
              "           0.16817,     0.16917,     0.17017,     0.17117,     0.17217,     0.17317,     0.17417,     0.17518,     0.17618,     0.17718,     0.17818,     0.17918,     0.18018,     0.18118,     0.18218,     0.18318,     0.18418,     0.18519,     0.18619,     0.18719,     0.18819,     0.18919,     0.19019,     0.19119,\n",
              "           0.19219,     0.19319,     0.19419,      0.1952,      0.1962,      0.1972,      0.1982,      0.1992,      0.2002,      0.2012,      0.2022,      0.2032,      0.2042,     0.20521,     0.20621,     0.20721,     0.20821,     0.20921,     0.21021,     0.21121,     0.21221,     0.21321,     0.21421,     0.21522,\n",
              "           0.21622,     0.21722,     0.21822,     0.21922,     0.22022,     0.22122,     0.22222,     0.22322,     0.22422,     0.22523,     0.22623,     0.22723,     0.22823,     0.22923,     0.23023,     0.23123,     0.23223,     0.23323,     0.23423,     0.23524,     0.23624,     0.23724,     0.23824,     0.23924,\n",
              "           0.24024,     0.24124,     0.24224,     0.24324,     0.24424,     0.24525,     0.24625,     0.24725,     0.24825,     0.24925,     0.25025,     0.25125,     0.25225,     0.25325,     0.25425,     0.25526,     0.25626,     0.25726,     0.25826,     0.25926,     0.26026,     0.26126,     0.26226,     0.26326,\n",
              "           0.26426,     0.26527,     0.26627,     0.26727,     0.26827,     0.26927,     0.27027,     0.27127,     0.27227,     0.27327,     0.27427,     0.27528,     0.27628,     0.27728,     0.27828,     0.27928,     0.28028,     0.28128,     0.28228,     0.28328,     0.28428,     0.28529,     0.28629,     0.28729,\n",
              "           0.28829,     0.28929,     0.29029,     0.29129,     0.29229,     0.29329,     0.29429,      0.2953,      0.2963,      0.2973,      0.2983,      0.2993,      0.3003,      0.3013,      0.3023,      0.3033,      0.3043,     0.30531,     0.30631,     0.30731,     0.30831,     0.30931,     0.31031,     0.31131,\n",
              "           0.31231,     0.31331,     0.31431,     0.31532,     0.31632,     0.31732,     0.31832,     0.31932,     0.32032,     0.32132,     0.32232,     0.32332,     0.32432,     0.32533,     0.32633,     0.32733,     0.32833,     0.32933,     0.33033,     0.33133,     0.33233,     0.33333,     0.33433,     0.33534,\n",
              "           0.33634,     0.33734,     0.33834,     0.33934,     0.34034,     0.34134,     0.34234,     0.34334,     0.34434,     0.34535,     0.34635,     0.34735,     0.34835,     0.34935,     0.35035,     0.35135,     0.35235,     0.35335,     0.35435,     0.35536,     0.35636,     0.35736,     0.35836,     0.35936,\n",
              "           0.36036,     0.36136,     0.36236,     0.36336,     0.36436,     0.36537,     0.36637,     0.36737,     0.36837,     0.36937,     0.37037,     0.37137,     0.37237,     0.37337,     0.37437,     0.37538,     0.37638,     0.37738,     0.37838,     0.37938,     0.38038,     0.38138,     0.38238,     0.38338,\n",
              "           0.38438,     0.38539,     0.38639,     0.38739,     0.38839,     0.38939,     0.39039,     0.39139,     0.39239,     0.39339,     0.39439,      0.3954,      0.3964,      0.3974,      0.3984,      0.3994,      0.4004,      0.4014,      0.4024,      0.4034,      0.4044,     0.40541,     0.40641,     0.40741,\n",
              "           0.40841,     0.40941,     0.41041,     0.41141,     0.41241,     0.41341,     0.41441,     0.41542,     0.41642,     0.41742,     0.41842,     0.41942,     0.42042,     0.42142,     0.42242,     0.42342,     0.42442,     0.42543,     0.42643,     0.42743,     0.42843,     0.42943,     0.43043,     0.43143,\n",
              "           0.43243,     0.43343,     0.43443,     0.43544,     0.43644,     0.43744,     0.43844,     0.43944,     0.44044,     0.44144,     0.44244,     0.44344,     0.44444,     0.44545,     0.44645,     0.44745,     0.44845,     0.44945,     0.45045,     0.45145,     0.45245,     0.45345,     0.45445,     0.45546,\n",
              "           0.45646,     0.45746,     0.45846,     0.45946,     0.46046,     0.46146,     0.46246,     0.46346,     0.46446,     0.46547,     0.46647,     0.46747,     0.46847,     0.46947,     0.47047,     0.47147,     0.47247,     0.47347,     0.47447,     0.47548,     0.47648,     0.47748,     0.47848,     0.47948,\n",
              "           0.48048,     0.48148,     0.48248,     0.48348,     0.48448,     0.48549,     0.48649,     0.48749,     0.48849,     0.48949,     0.49049,     0.49149,     0.49249,     0.49349,     0.49449,      0.4955,      0.4965,      0.4975,      0.4985,      0.4995,      0.5005,      0.5015,      0.5025,      0.5035,\n",
              "            0.5045,     0.50551,     0.50651,     0.50751,     0.50851,     0.50951,     0.51051,     0.51151,     0.51251,     0.51351,     0.51451,     0.51552,     0.51652,     0.51752,     0.51852,     0.51952,     0.52052,     0.52152,     0.52252,     0.52352,     0.52452,     0.52553,     0.52653,     0.52753,\n",
              "           0.52853,     0.52953,     0.53053,     0.53153,     0.53253,     0.53353,     0.53453,     0.53554,     0.53654,     0.53754,     0.53854,     0.53954,     0.54054,     0.54154,     0.54254,     0.54354,     0.54454,     0.54555,     0.54655,     0.54755,     0.54855,     0.54955,     0.55055,     0.55155,\n",
              "           0.55255,     0.55355,     0.55455,     0.55556,     0.55656,     0.55756,     0.55856,     0.55956,     0.56056,     0.56156,     0.56256,     0.56356,     0.56456,     0.56557,     0.56657,     0.56757,     0.56857,     0.56957,     0.57057,     0.57157,     0.57257,     0.57357,     0.57457,     0.57558,\n",
              "           0.57658,     0.57758,     0.57858,     0.57958,     0.58058,     0.58158,     0.58258,     0.58358,     0.58458,     0.58559,     0.58659,     0.58759,     0.58859,     0.58959,     0.59059,     0.59159,     0.59259,     0.59359,     0.59459,      0.5956,      0.5966,      0.5976,      0.5986,      0.5996,\n",
              "            0.6006,      0.6016,      0.6026,      0.6036,      0.6046,     0.60561,     0.60661,     0.60761,     0.60861,     0.60961,     0.61061,     0.61161,     0.61261,     0.61361,     0.61461,     0.61562,     0.61662,     0.61762,     0.61862,     0.61962,     0.62062,     0.62162,     0.62262,     0.62362,\n",
              "           0.62462,     0.62563,     0.62663,     0.62763,     0.62863,     0.62963,     0.63063,     0.63163,     0.63263,     0.63363,     0.63463,     0.63564,     0.63664,     0.63764,     0.63864,     0.63964,     0.64064,     0.64164,     0.64264,     0.64364,     0.64464,     0.64565,     0.64665,     0.64765,\n",
              "           0.64865,     0.64965,     0.65065,     0.65165,     0.65265,     0.65365,     0.65465,     0.65566,     0.65666,     0.65766,     0.65866,     0.65966,     0.66066,     0.66166,     0.66266,     0.66366,     0.66466,     0.66567,     0.66667,     0.66767,     0.66867,     0.66967,     0.67067,     0.67167,\n",
              "           0.67267,     0.67367,     0.67467,     0.67568,     0.67668,     0.67768,     0.67868,     0.67968,     0.68068,     0.68168,     0.68268,     0.68368,     0.68468,     0.68569,     0.68669,     0.68769,     0.68869,     0.68969,     0.69069,     0.69169,     0.69269,     0.69369,     0.69469,      0.6957,\n",
              "            0.6967,      0.6977,      0.6987,      0.6997,      0.7007,      0.7017,      0.7027,      0.7037,      0.7047,     0.70571,     0.70671,     0.70771,     0.70871,     0.70971,     0.71071,     0.71171,     0.71271,     0.71371,     0.71471,     0.71572,     0.71672,     0.71772,     0.71872,     0.71972,\n",
              "           0.72072,     0.72172,     0.72272,     0.72372,     0.72472,     0.72573,     0.72673,     0.72773,     0.72873,     0.72973,     0.73073,     0.73173,     0.73273,     0.73373,     0.73473,     0.73574,     0.73674,     0.73774,     0.73874,     0.73974,     0.74074,     0.74174,     0.74274,     0.74374,\n",
              "           0.74474,     0.74575,     0.74675,     0.74775,     0.74875,     0.74975,     0.75075,     0.75175,     0.75275,     0.75375,     0.75475,     0.75576,     0.75676,     0.75776,     0.75876,     0.75976,     0.76076,     0.76176,     0.76276,     0.76376,     0.76476,     0.76577,     0.76677,     0.76777,\n",
              "           0.76877,     0.76977,     0.77077,     0.77177,     0.77277,     0.77377,     0.77477,     0.77578,     0.77678,     0.77778,     0.77878,     0.77978,     0.78078,     0.78178,     0.78278,     0.78378,     0.78478,     0.78579,     0.78679,     0.78779,     0.78879,     0.78979,     0.79079,     0.79179,\n",
              "           0.79279,     0.79379,     0.79479,      0.7958,      0.7968,      0.7978,      0.7988,      0.7998,      0.8008,      0.8018,      0.8028,      0.8038,      0.8048,     0.80581,     0.80681,     0.80781,     0.80881,     0.80981,     0.81081,     0.81181,     0.81281,     0.81381,     0.81481,     0.81582,\n",
              "           0.81682,     0.81782,     0.81882,     0.81982,     0.82082,     0.82182,     0.82282,     0.82382,     0.82482,     0.82583,     0.82683,     0.82783,     0.82883,     0.82983,     0.83083,     0.83183,     0.83283,     0.83383,     0.83483,     0.83584,     0.83684,     0.83784,     0.83884,     0.83984,\n",
              "           0.84084,     0.84184,     0.84284,     0.84384,     0.84484,     0.84585,     0.84685,     0.84785,     0.84885,     0.84985,     0.85085,     0.85185,     0.85285,     0.85385,     0.85485,     0.85586,     0.85686,     0.85786,     0.85886,     0.85986,     0.86086,     0.86186,     0.86286,     0.86386,\n",
              "           0.86486,     0.86587,     0.86687,     0.86787,     0.86887,     0.86987,     0.87087,     0.87187,     0.87287,     0.87387,     0.87487,     0.87588,     0.87688,     0.87788,     0.87888,     0.87988,     0.88088,     0.88188,     0.88288,     0.88388,     0.88488,     0.88589,     0.88689,     0.88789,\n",
              "           0.88889,     0.88989,     0.89089,     0.89189,     0.89289,     0.89389,     0.89489,      0.8959,      0.8969,      0.8979,      0.8989,      0.8999,      0.9009,      0.9019,      0.9029,      0.9039,      0.9049,     0.90591,     0.90691,     0.90791,     0.90891,     0.90991,     0.91091,     0.91191,\n",
              "           0.91291,     0.91391,     0.91491,     0.91592,     0.91692,     0.91792,     0.91892,     0.91992,     0.92092,     0.92192,     0.92292,     0.92392,     0.92492,     0.92593,     0.92693,     0.92793,     0.92893,     0.92993,     0.93093,     0.93193,     0.93293,     0.93393,     0.93493,     0.93594,\n",
              "           0.93694,     0.93794,     0.93894,     0.93994,     0.94094,     0.94194,     0.94294,     0.94394,     0.94494,     0.94595,     0.94695,     0.94795,     0.94895,     0.94995,     0.95095,     0.95195,     0.95295,     0.95395,     0.95495,     0.95596,     0.95696,     0.95796,     0.95896,     0.95996,\n",
              "           0.96096,     0.96196,     0.96296,     0.96396,     0.96496,     0.96597,     0.96697,     0.96797,     0.96897,     0.96997,     0.97097,     0.97197,     0.97297,     0.97397,     0.97497,     0.97598,     0.97698,     0.97798,     0.97898,     0.97998,     0.98098,     0.98198,     0.98298,     0.98398,\n",
              "           0.98498,     0.98599,     0.98699,     0.98799,     0.98899,     0.98999,     0.99099,     0.99199,     0.99299,     0.99399,     0.99499,       0.996,       0.997,       0.998,       0.999,           1]), array([[    0.34995,     0.34995,     0.42305,     0.46482,      0.4964,     0.52402,     0.54386,      0.5597,     0.57431,     0.58918,     0.60281,     0.61435,     0.62306,     0.63021,     0.63774,     0.64263,     0.64935,       0.657,     0.66124,     0.66722,     0.67118,     0.67595,      0.6782,\n",
              "            0.68232,     0.68748,     0.69039,     0.69487,     0.69697,     0.69978,     0.70251,     0.70297,     0.70538,     0.70688,      0.7087,     0.71057,      0.7136,     0.71532,     0.71816,     0.72011,     0.72285,     0.72493,     0.72533,     0.72625,     0.72909,     0.72946,     0.73267,\n",
              "            0.73455,     0.73587,     0.73813,     0.73995,     0.74313,     0.74649,     0.74716,     0.74962,     0.75077,     0.75155,     0.75305,     0.75393,     0.75481,     0.75648,     0.75782,     0.75846,     0.75978,     0.76132,     0.76343,     0.76441,     0.76422,     0.76638,     0.76801,\n",
              "            0.76856,     0.76843,     0.76963,     0.76984,     0.77008,     0.77161,     0.77305,     0.77548,     0.77661,     0.77738,     0.77776,     0.77951,     0.77895,     0.77917,     0.77882,      0.7786,     0.77789,     0.77814,     0.77921,     0.77884,     0.77935,     0.78068,      0.7821,\n",
              "            0.78151,     0.78107,     0.78076,     0.78031,     0.77992,     0.78046,     0.78258,     0.78334,     0.78362,     0.78333,     0.78399,     0.78357,     0.78399,     0.78252,     0.78258,     0.78331,     0.78352,     0.78382,     0.78412,     0.78447,     0.78439,     0.78321,      0.7834,\n",
              "            0.78318,     0.78282,     0.78524,     0.78568,     0.78592,     0.78602,     0.78612,     0.78622,     0.78692,      0.7881,     0.78969,     0.78987,      0.7893,     0.78925,     0.78995,     0.79078,     0.79089,     0.79059,     0.79111,     0.79038,     0.79013,      0.7904,     0.79059,\n",
              "            0.79016,     0.79136,     0.79122,     0.79101,     0.79081,     0.79261,     0.79292,     0.79349,     0.79472,     0.79621,     0.79643,     0.79649,      0.7958,     0.79609,     0.79673,     0.79794,     0.79859,     0.79774,     0.79682,     0.79769,     0.79749,     0.79692,     0.79661,\n",
              "            0.79724,     0.79754,     0.79803,     0.79973,     0.79922,     0.80089,     0.80129,     0.80183,     0.80228,     0.80238,      0.8025,      0.8032,     0.80293,     0.80249,      0.8028,     0.80374,     0.80455,     0.80424,     0.80315,     0.80228,     0.80054,     0.80048,     0.80042,\n",
              "            0.80066,     0.80142,     0.80168,     0.80222,     0.80247,     0.80215,     0.80142,     0.80055,     0.79999,      0.8005,     0.80124,     0.80041,     0.80032,     0.80031,     0.80095,     0.80109,     0.80086,     0.80047,     0.80099,     0.80017,     0.79982,     0.80009,     0.80062,\n",
              "            0.80011,      0.8005,     0.80104,     0.80186,      0.8022,     0.80119,     0.80041,     0.80057,     0.80006,      0.7996,     0.79995,     0.79984,     0.80018,     0.79901,     0.79905,     0.79842,     0.79829,     0.79868,     0.79916,     0.79963,     0.79952,     0.79866,     0.79934,\n",
              "            0.79814,     0.79731,     0.79679,     0.79644,     0.79611,     0.79334,     0.79397,     0.79389,     0.79293,     0.79256,     0.79222,     0.79238,     0.79293,     0.79243,     0.79175,     0.79141,      0.7914,     0.79044,     0.79069,     0.79096,     0.79067,     0.78949,     0.78901,\n",
              "            0.78917,     0.78904,     0.78765,     0.78733,     0.78756,     0.78724,     0.78713,     0.78696,     0.78815,     0.78861,     0.78877,     0.78893,     0.78962,     0.78909,      0.7886,     0.78769,     0.78705,     0.78672,     0.78638,     0.78589,     0.78499,     0.78439,     0.78383,\n",
              "            0.78203,     0.78196,     0.78153,      0.7818,     0.78161,     0.78143,     0.78129,      0.7814,     0.78101,     0.78104,     0.78121,     0.78035,     0.78022,     0.78009,     0.77966,     0.77943,     0.77919,     0.77896,     0.77794,     0.77822,     0.77843,     0.77855,     0.77868,\n",
              "             0.7788,       0.779,     0.77927,      0.7775,     0.77727,     0.77683,     0.77665,     0.77579,     0.77533,     0.77461,     0.77505,     0.77533,     0.77552,     0.77513,     0.77464,     0.77478,     0.77492,     0.77506,     0.77554,     0.77411,      0.7731,     0.77288,     0.77266,\n",
              "            0.77199,     0.77117,     0.77002,      0.7697,     0.76934,     0.76889,     0.76844,       0.768,     0.76898,     0.76853,     0.76808,     0.76744,     0.76674,     0.76773,     0.76709,     0.76661,     0.76604,     0.76511,     0.76431,     0.76183,     0.76044,     0.75938,     0.75707,\n",
              "            0.75677,     0.75648,     0.75586,     0.75532,     0.75503,     0.75475,     0.75443,     0.75457,      0.7547,     0.75483,      0.7548,      0.7545,     0.75421,     0.75457,     0.75382,     0.75335,     0.75315,     0.75261,     0.75232,     0.75202,     0.75221,     0.75186,     0.75203,\n",
              "             0.7523,     0.75255,     0.75244,     0.75234,     0.75223,     0.75212,     0.75201,      0.7519,     0.75179,     0.75151,     0.75067,     0.75033,     0.74986,     0.74966,     0.75023,     0.74958,     0.74928,     0.74898,     0.74861,      0.7482,      0.7475,     0.74747,     0.74775,\n",
              "              0.748,      0.7474,     0.74698,      0.7465,     0.74599,     0.74596,     0.74513,     0.74429,     0.74265,     0.74247,     0.74199,     0.74171,     0.74006,        0.74,     0.73852,     0.73767,      0.7367,     0.73627,     0.73575,     0.73442,     0.73419,     0.73267,     0.73236,\n",
              "            0.73205,     0.73224,     0.73321,     0.73336,     0.73385,     0.73379,      0.7335,     0.73322,     0.73193,     0.73141,     0.72723,     0.72679,     0.72545,     0.72381,     0.72337,     0.72284,     0.72026,     0.71938,      0.7185,     0.71763,     0.71712,      0.7173,     0.71748,\n",
              "             0.7177,     0.71795,      0.7177,     0.71726,     0.71562,     0.71387,     0.71395,     0.71363,     0.71387,     0.71137,     0.71113,     0.71095,     0.71077,     0.71059,     0.71043,     0.71059,     0.71075,     0.71077,     0.70811,     0.70766,     0.70633,     0.70588,     0.70488,\n",
              "            0.70512,     0.70501,     0.70455,     0.70255,     0.70164,     0.69895,     0.69804,     0.69623,     0.69629,     0.69535,     0.69477,     0.69431,     0.69348,     0.69256,     0.69073,     0.69028,     0.68886,     0.68839,     0.68792,     0.68703,     0.68755,     0.68852,     0.68941,\n",
              "            0.68767,     0.68817,     0.68847,     0.68753,     0.68667,      0.6862,     0.68595,     0.68644,     0.68653,     0.68466,     0.68419,     0.68324,     0.68247,       0.682,     0.68162,     0.68138,     0.68114,      0.6809,     0.67936,     0.67875,     0.67843,     0.67811,     0.67739,\n",
              "            0.67737,     0.67689,     0.67499,     0.67402,     0.67462,     0.67399,     0.67207,     0.67015,     0.66919,     0.66935,     0.66951,     0.66863,      0.6667,     0.66572,     0.66427,     0.66423,     0.66276,     0.66129,     0.66091,     0.66115,      0.6612,     0.66021,     0.65834,\n",
              "            0.65785,     0.65754,     0.65778,      0.6578,      0.6573,     0.65567,     0.65616,     0.65605,     0.65438,     0.65413,     0.65388,     0.65363,     0.65199,     0.65126,     0.65075,      0.6507,     0.65094,      0.6507,     0.65019,     0.64635,     0.64582,     0.64548,     0.64514,\n",
              "            0.64273,      0.6417,     0.64142,     0.64169,     0.64194,     0.64032,     0.63947,      0.6379,     0.63686,      0.6348,     0.63358,     0.63011,     0.62905,     0.62697,     0.62522,     0.62469,     0.62416,     0.62363,      0.6227,      0.6206,     0.61849,     0.61637,     0.61319,\n",
              "            0.61258,      0.6115,     0.60936,     0.60827,     0.60771,     0.60717,     0.60685,     0.60654,     0.60623,     0.60439,     0.60257,     0.60202,     0.60216,     0.60153,     0.59936,      0.5988,     0.59844,     0.59807,      0.5977,     0.59733,     0.59696,     0.59431,     0.59388,\n",
              "            0.59363,     0.59252,      0.5914,     0.59029,     0.58895,      0.5885,     0.58738,     0.58668,     0.58623,     0.58575,     0.58519,     0.58449,     0.58202,     0.58204,     0.58028,      0.5791,     0.57685,      0.5757,     0.57409,     0.57296,     0.57268,     0.57239,     0.57209,\n",
              "            0.56867,     0.56751,     0.56635,     0.56506,     0.56231,     0.55991,     0.55967,     0.55908,     0.55734,     0.55675,     0.55571,     0.55137,     0.55064,     0.55005,     0.54923,     0.54753,     0.54745,     0.54665,     0.54312,     0.54192,     0.53835,     0.53595,     0.53225,\n",
              "            0.52971,      0.5291,     0.52809,     0.52566,     0.52442,     0.51938,     0.51813,     0.51689,     0.51606,     0.51138,     0.51088,     0.51038,     0.50919,     0.50793,     0.50481,     0.50229,     0.50134,      0.5007,     0.49994,     0.49905,     0.49797,     0.49816,     0.49666,\n",
              "            0.49118,     0.49033,     0.48969,      0.4856,     0.48517,     0.48473,     0.48229,     0.48024,      0.4798,     0.47936,     0.47687,     0.47621,     0.47523,     0.47196,     0.47063,     0.46539,     0.46161,     0.46112,     0.45845,     0.45606,     0.45507,     0.45238,     0.44978,\n",
              "            0.44887,     0.44679,      0.4461,     0.44283,     0.44144,     0.43953,     0.43527,     0.43465,     0.43409,     0.43313,     0.42968,     0.42898,     0.42551,     0.42456,     0.42362,     0.41715,     0.41644,     0.41017,     0.40969,      0.4092,     0.40725,     0.40653,      0.4029,\n",
              "            0.40193,     0.39953,     0.39713,     0.39615,     0.39253,     0.39179,     0.38938,     0.38694,      0.3816,      0.3806,     0.37975,       0.379,     0.37516,     0.37436,     0.37459,     0.37248,     0.37012,     0.36961,      0.3691,     0.36547,     0.36445,     0.36365,     0.36289,\n",
              "            0.36189,     0.35937,     0.35835,     0.34674,     0.34596,     0.34544,     0.34492,     0.34257,     0.33877,     0.33772,     0.33078,      0.3266,     0.32553,     0.31659,     0.31551,     0.31442,     0.31175,     0.30747,     0.30638,     0.30368,     0.29613,     0.29502,     0.29228,\n",
              "            0.28954,     0.28515,     0.28402,     0.27324,      0.2687,     0.26537,     0.26422,     0.26307,     0.25684,     0.25568,     0.25281,     0.24994,     0.24877,     0.24588,     0.24451,     0.24122,     0.24004,     0.23365,     0.23071,     0.22951,     0.22245,     0.21947,     0.21492,\n",
              "            0.20833,     0.20711,     0.20009,     0.19585,      0.1905,     0.19063,     0.18197,     0.17354,      0.1729,     0.17226,     0.16495,     0.16165,     0.15846,     0.15716,     0.15145,     0.15024,      0.1467,     0.14311,     0.13984,     0.13404,     0.13413,     0.12908,      0.1255,\n",
              "            0.12208,     0.11826,     0.11744,     0.11663,     0.11541,     0.11387,     0.11201,     0.11064,     0.10669,     0.10117,    0.097994,     0.09695,    0.091667,    0.090266,    0.081994,    0.073644,    0.072217,    0.069148,    0.068534,    0.067919,    0.067085,    0.062821,    0.056664,\n",
              "           0.055793,    0.054921,    0.054236,    0.053612,    0.052988,    0.047557,    0.045756,    0.044654,    0.040942,    0.037313,    0.036819,    0.036325,    0.035831,    0.035326,    0.034584,    0.033841,    0.030744,    0.026546,    0.025904,    0.025262,    0.024619,    0.024035,    0.023472,\n",
              "           0.022909,    0.022345,    0.020383,    0.017611,    0.017344,    0.017077,    0.016811,    0.016544,    0.016277,     0.01601,    0.015743,    0.014992,    0.013855,    0.012948,    0.012189,    0.011429,   0.0096346,   0.0086009,   0.0080927,   0.0075843,   0.0070756,   0.0065826,   0.0061243,\n",
              "          0.0056659,   0.0052072,   0.0047482,   0.0042891,   0.0038298,   0.0033702,   0.0029105,   0.0024505,           0,           0,           0,           0,           0,           0,           0,           0,           0,           0,           0,           0,           0,           0,           0,\n",
              "                  0,           0,           0,           0,           0,           0,           0,           0,           0,           0,           0,           0,           0,           0,           0,           0,           0,           0,           0,           0,           0,           0,           0,\n",
              "                  0,           0,           0,           0,           0,           0,           0,           0,           0,           0,           0,           0,           0,           0,           0,           0,           0,           0,           0,           0,           0,           0,           0,\n",
              "                  0,           0,           0,           0,           0,           0,           0,           0,           0,           0,           0,           0,           0,           0,           0,           0,           0,           0,           0,           0,           0,           0,           0,\n",
              "                  0,           0,           0,           0,           0,           0,           0,           0,           0,           0,           0,           0,           0,           0,           0,           0,           0,           0,           0,           0,           0,           0,           0,\n",
              "                  0,           0,           0,           0,           0,           0,           0,           0,           0,           0,           0]]), 'Confidence', 'F1'], [array([          0,    0.001001,    0.002002,    0.003003,    0.004004,    0.005005,    0.006006,    0.007007,    0.008008,    0.009009,     0.01001,    0.011011,    0.012012,    0.013013,    0.014014,    0.015015,    0.016016,    0.017017,    0.018018,    0.019019,     0.02002,    0.021021,    0.022022,    0.023023,\n",
              "          0.024024,    0.025025,    0.026026,    0.027027,    0.028028,    0.029029,     0.03003,    0.031031,    0.032032,    0.033033,    0.034034,    0.035035,    0.036036,    0.037037,    0.038038,    0.039039,     0.04004,    0.041041,    0.042042,    0.043043,    0.044044,    0.045045,    0.046046,    0.047047,\n",
              "          0.048048,    0.049049,     0.05005,    0.051051,    0.052052,    0.053053,    0.054054,    0.055055,    0.056056,    0.057057,    0.058058,    0.059059,     0.06006,    0.061061,    0.062062,    0.063063,    0.064064,    0.065065,    0.066066,    0.067067,    0.068068,    0.069069,     0.07007,    0.071071,\n",
              "          0.072072,    0.073073,    0.074074,    0.075075,    0.076076,    0.077077,    0.078078,    0.079079,     0.08008,    0.081081,    0.082082,    0.083083,    0.084084,    0.085085,    0.086086,    0.087087,    0.088088,    0.089089,     0.09009,    0.091091,    0.092092,    0.093093,    0.094094,    0.095095,\n",
              "          0.096096,    0.097097,    0.098098,    0.099099,      0.1001,      0.1011,      0.1021,      0.1031,      0.1041,     0.10511,     0.10611,     0.10711,     0.10811,     0.10911,     0.11011,     0.11111,     0.11211,     0.11311,     0.11411,     0.11512,     0.11612,     0.11712,     0.11812,     0.11912,\n",
              "           0.12012,     0.12112,     0.12212,     0.12312,     0.12412,     0.12513,     0.12613,     0.12713,     0.12813,     0.12913,     0.13013,     0.13113,     0.13213,     0.13313,     0.13413,     0.13514,     0.13614,     0.13714,     0.13814,     0.13914,     0.14014,     0.14114,     0.14214,     0.14314,\n",
              "           0.14414,     0.14515,     0.14615,     0.14715,     0.14815,     0.14915,     0.15015,     0.15115,     0.15215,     0.15315,     0.15415,     0.15516,     0.15616,     0.15716,     0.15816,     0.15916,     0.16016,     0.16116,     0.16216,     0.16316,     0.16416,     0.16517,     0.16617,     0.16717,\n",
              "           0.16817,     0.16917,     0.17017,     0.17117,     0.17217,     0.17317,     0.17417,     0.17518,     0.17618,     0.17718,     0.17818,     0.17918,     0.18018,     0.18118,     0.18218,     0.18318,     0.18418,     0.18519,     0.18619,     0.18719,     0.18819,     0.18919,     0.19019,     0.19119,\n",
              "           0.19219,     0.19319,     0.19419,      0.1952,      0.1962,      0.1972,      0.1982,      0.1992,      0.2002,      0.2012,      0.2022,      0.2032,      0.2042,     0.20521,     0.20621,     0.20721,     0.20821,     0.20921,     0.21021,     0.21121,     0.21221,     0.21321,     0.21421,     0.21522,\n",
              "           0.21622,     0.21722,     0.21822,     0.21922,     0.22022,     0.22122,     0.22222,     0.22322,     0.22422,     0.22523,     0.22623,     0.22723,     0.22823,     0.22923,     0.23023,     0.23123,     0.23223,     0.23323,     0.23423,     0.23524,     0.23624,     0.23724,     0.23824,     0.23924,\n",
              "           0.24024,     0.24124,     0.24224,     0.24324,     0.24424,     0.24525,     0.24625,     0.24725,     0.24825,     0.24925,     0.25025,     0.25125,     0.25225,     0.25325,     0.25425,     0.25526,     0.25626,     0.25726,     0.25826,     0.25926,     0.26026,     0.26126,     0.26226,     0.26326,\n",
              "           0.26426,     0.26527,     0.26627,     0.26727,     0.26827,     0.26927,     0.27027,     0.27127,     0.27227,     0.27327,     0.27427,     0.27528,     0.27628,     0.27728,     0.27828,     0.27928,     0.28028,     0.28128,     0.28228,     0.28328,     0.28428,     0.28529,     0.28629,     0.28729,\n",
              "           0.28829,     0.28929,     0.29029,     0.29129,     0.29229,     0.29329,     0.29429,      0.2953,      0.2963,      0.2973,      0.2983,      0.2993,      0.3003,      0.3013,      0.3023,      0.3033,      0.3043,     0.30531,     0.30631,     0.30731,     0.30831,     0.30931,     0.31031,     0.31131,\n",
              "           0.31231,     0.31331,     0.31431,     0.31532,     0.31632,     0.31732,     0.31832,     0.31932,     0.32032,     0.32132,     0.32232,     0.32332,     0.32432,     0.32533,     0.32633,     0.32733,     0.32833,     0.32933,     0.33033,     0.33133,     0.33233,     0.33333,     0.33433,     0.33534,\n",
              "           0.33634,     0.33734,     0.33834,     0.33934,     0.34034,     0.34134,     0.34234,     0.34334,     0.34434,     0.34535,     0.34635,     0.34735,     0.34835,     0.34935,     0.35035,     0.35135,     0.35235,     0.35335,     0.35435,     0.35536,     0.35636,     0.35736,     0.35836,     0.35936,\n",
              "           0.36036,     0.36136,     0.36236,     0.36336,     0.36436,     0.36537,     0.36637,     0.36737,     0.36837,     0.36937,     0.37037,     0.37137,     0.37237,     0.37337,     0.37437,     0.37538,     0.37638,     0.37738,     0.37838,     0.37938,     0.38038,     0.38138,     0.38238,     0.38338,\n",
              "           0.38438,     0.38539,     0.38639,     0.38739,     0.38839,     0.38939,     0.39039,     0.39139,     0.39239,     0.39339,     0.39439,      0.3954,      0.3964,      0.3974,      0.3984,      0.3994,      0.4004,      0.4014,      0.4024,      0.4034,      0.4044,     0.40541,     0.40641,     0.40741,\n",
              "           0.40841,     0.40941,     0.41041,     0.41141,     0.41241,     0.41341,     0.41441,     0.41542,     0.41642,     0.41742,     0.41842,     0.41942,     0.42042,     0.42142,     0.42242,     0.42342,     0.42442,     0.42543,     0.42643,     0.42743,     0.42843,     0.42943,     0.43043,     0.43143,\n",
              "           0.43243,     0.43343,     0.43443,     0.43544,     0.43644,     0.43744,     0.43844,     0.43944,     0.44044,     0.44144,     0.44244,     0.44344,     0.44444,     0.44545,     0.44645,     0.44745,     0.44845,     0.44945,     0.45045,     0.45145,     0.45245,     0.45345,     0.45445,     0.45546,\n",
              "           0.45646,     0.45746,     0.45846,     0.45946,     0.46046,     0.46146,     0.46246,     0.46346,     0.46446,     0.46547,     0.46647,     0.46747,     0.46847,     0.46947,     0.47047,     0.47147,     0.47247,     0.47347,     0.47447,     0.47548,     0.47648,     0.47748,     0.47848,     0.47948,\n",
              "           0.48048,     0.48148,     0.48248,     0.48348,     0.48448,     0.48549,     0.48649,     0.48749,     0.48849,     0.48949,     0.49049,     0.49149,     0.49249,     0.49349,     0.49449,      0.4955,      0.4965,      0.4975,      0.4985,      0.4995,      0.5005,      0.5015,      0.5025,      0.5035,\n",
              "            0.5045,     0.50551,     0.50651,     0.50751,     0.50851,     0.50951,     0.51051,     0.51151,     0.51251,     0.51351,     0.51451,     0.51552,     0.51652,     0.51752,     0.51852,     0.51952,     0.52052,     0.52152,     0.52252,     0.52352,     0.52452,     0.52553,     0.52653,     0.52753,\n",
              "           0.52853,     0.52953,     0.53053,     0.53153,     0.53253,     0.53353,     0.53453,     0.53554,     0.53654,     0.53754,     0.53854,     0.53954,     0.54054,     0.54154,     0.54254,     0.54354,     0.54454,     0.54555,     0.54655,     0.54755,     0.54855,     0.54955,     0.55055,     0.55155,\n",
              "           0.55255,     0.55355,     0.55455,     0.55556,     0.55656,     0.55756,     0.55856,     0.55956,     0.56056,     0.56156,     0.56256,     0.56356,     0.56456,     0.56557,     0.56657,     0.56757,     0.56857,     0.56957,     0.57057,     0.57157,     0.57257,     0.57357,     0.57457,     0.57558,\n",
              "           0.57658,     0.57758,     0.57858,     0.57958,     0.58058,     0.58158,     0.58258,     0.58358,     0.58458,     0.58559,     0.58659,     0.58759,     0.58859,     0.58959,     0.59059,     0.59159,     0.59259,     0.59359,     0.59459,      0.5956,      0.5966,      0.5976,      0.5986,      0.5996,\n",
              "            0.6006,      0.6016,      0.6026,      0.6036,      0.6046,     0.60561,     0.60661,     0.60761,     0.60861,     0.60961,     0.61061,     0.61161,     0.61261,     0.61361,     0.61461,     0.61562,     0.61662,     0.61762,     0.61862,     0.61962,     0.62062,     0.62162,     0.62262,     0.62362,\n",
              "           0.62462,     0.62563,     0.62663,     0.62763,     0.62863,     0.62963,     0.63063,     0.63163,     0.63263,     0.63363,     0.63463,     0.63564,     0.63664,     0.63764,     0.63864,     0.63964,     0.64064,     0.64164,     0.64264,     0.64364,     0.64464,     0.64565,     0.64665,     0.64765,\n",
              "           0.64865,     0.64965,     0.65065,     0.65165,     0.65265,     0.65365,     0.65465,     0.65566,     0.65666,     0.65766,     0.65866,     0.65966,     0.66066,     0.66166,     0.66266,     0.66366,     0.66466,     0.66567,     0.66667,     0.66767,     0.66867,     0.66967,     0.67067,     0.67167,\n",
              "           0.67267,     0.67367,     0.67467,     0.67568,     0.67668,     0.67768,     0.67868,     0.67968,     0.68068,     0.68168,     0.68268,     0.68368,     0.68468,     0.68569,     0.68669,     0.68769,     0.68869,     0.68969,     0.69069,     0.69169,     0.69269,     0.69369,     0.69469,      0.6957,\n",
              "            0.6967,      0.6977,      0.6987,      0.6997,      0.7007,      0.7017,      0.7027,      0.7037,      0.7047,     0.70571,     0.70671,     0.70771,     0.70871,     0.70971,     0.71071,     0.71171,     0.71271,     0.71371,     0.71471,     0.71572,     0.71672,     0.71772,     0.71872,     0.71972,\n",
              "           0.72072,     0.72172,     0.72272,     0.72372,     0.72472,     0.72573,     0.72673,     0.72773,     0.72873,     0.72973,     0.73073,     0.73173,     0.73273,     0.73373,     0.73473,     0.73574,     0.73674,     0.73774,     0.73874,     0.73974,     0.74074,     0.74174,     0.74274,     0.74374,\n",
              "           0.74474,     0.74575,     0.74675,     0.74775,     0.74875,     0.74975,     0.75075,     0.75175,     0.75275,     0.75375,     0.75475,     0.75576,     0.75676,     0.75776,     0.75876,     0.75976,     0.76076,     0.76176,     0.76276,     0.76376,     0.76476,     0.76577,     0.76677,     0.76777,\n",
              "           0.76877,     0.76977,     0.77077,     0.77177,     0.77277,     0.77377,     0.77477,     0.77578,     0.77678,     0.77778,     0.77878,     0.77978,     0.78078,     0.78178,     0.78278,     0.78378,     0.78478,     0.78579,     0.78679,     0.78779,     0.78879,     0.78979,     0.79079,     0.79179,\n",
              "           0.79279,     0.79379,     0.79479,      0.7958,      0.7968,      0.7978,      0.7988,      0.7998,      0.8008,      0.8018,      0.8028,      0.8038,      0.8048,     0.80581,     0.80681,     0.80781,     0.80881,     0.80981,     0.81081,     0.81181,     0.81281,     0.81381,     0.81481,     0.81582,\n",
              "           0.81682,     0.81782,     0.81882,     0.81982,     0.82082,     0.82182,     0.82282,     0.82382,     0.82482,     0.82583,     0.82683,     0.82783,     0.82883,     0.82983,     0.83083,     0.83183,     0.83283,     0.83383,     0.83483,     0.83584,     0.83684,     0.83784,     0.83884,     0.83984,\n",
              "           0.84084,     0.84184,     0.84284,     0.84384,     0.84484,     0.84585,     0.84685,     0.84785,     0.84885,     0.84985,     0.85085,     0.85185,     0.85285,     0.85385,     0.85485,     0.85586,     0.85686,     0.85786,     0.85886,     0.85986,     0.86086,     0.86186,     0.86286,     0.86386,\n",
              "           0.86486,     0.86587,     0.86687,     0.86787,     0.86887,     0.86987,     0.87087,     0.87187,     0.87287,     0.87387,     0.87487,     0.87588,     0.87688,     0.87788,     0.87888,     0.87988,     0.88088,     0.88188,     0.88288,     0.88388,     0.88488,     0.88589,     0.88689,     0.88789,\n",
              "           0.88889,     0.88989,     0.89089,     0.89189,     0.89289,     0.89389,     0.89489,      0.8959,      0.8969,      0.8979,      0.8989,      0.8999,      0.9009,      0.9019,      0.9029,      0.9039,      0.9049,     0.90591,     0.90691,     0.90791,     0.90891,     0.90991,     0.91091,     0.91191,\n",
              "           0.91291,     0.91391,     0.91491,     0.91592,     0.91692,     0.91792,     0.91892,     0.91992,     0.92092,     0.92192,     0.92292,     0.92392,     0.92492,     0.92593,     0.92693,     0.92793,     0.92893,     0.92993,     0.93093,     0.93193,     0.93293,     0.93393,     0.93493,     0.93594,\n",
              "           0.93694,     0.93794,     0.93894,     0.93994,     0.94094,     0.94194,     0.94294,     0.94394,     0.94494,     0.94595,     0.94695,     0.94795,     0.94895,     0.94995,     0.95095,     0.95195,     0.95295,     0.95395,     0.95495,     0.95596,     0.95696,     0.95796,     0.95896,     0.95996,\n",
              "           0.96096,     0.96196,     0.96296,     0.96396,     0.96496,     0.96597,     0.96697,     0.96797,     0.96897,     0.96997,     0.97097,     0.97197,     0.97297,     0.97397,     0.97497,     0.97598,     0.97698,     0.97798,     0.97898,     0.97998,     0.98098,     0.98198,     0.98298,     0.98398,\n",
              "           0.98498,     0.98599,     0.98699,     0.98799,     0.98899,     0.98999,     0.99099,     0.99199,     0.99299,     0.99399,     0.99499,       0.996,       0.997,       0.998,       0.999,           1]), array([[    0.21323,     0.21323,     0.27019,     0.30546,     0.33332,     0.35887,     0.37792,     0.39376,     0.40837,     0.42358,     0.43804,     0.45034,     0.46028,     0.46892,     0.47786,     0.48366,      0.4919,     0.50105,     0.50661,     0.51402,     0.51907,     0.52514,     0.52821,\n",
              "            0.53323,     0.53956,     0.54352,      0.5491,     0.55261,     0.55722,     0.56148,     0.56246,     0.56557,     0.56833,     0.57069,     0.57312,     0.57749,     0.58019,     0.58394,     0.58742,     0.59107,     0.59401,     0.59606,     0.59796,     0.60233,     0.60327,     0.60817,\n",
              "            0.61077,     0.61309,     0.61623,     0.61877,     0.62324,     0.62798,     0.62946,     0.63296,     0.63459,     0.63679,      0.6395,     0.64077,      0.6426,     0.64502,     0.64696,     0.64791,     0.64983,     0.65208,     0.65519,     0.65664,     0.65693,     0.66014,     0.66315,\n",
              "            0.66456,     0.66557,     0.66738,     0.66889,     0.66977,     0.67221,      0.6744,      0.6781,     0.68047,     0.68165,     0.68224,     0.68494,     0.68502,     0.68636,     0.68663,     0.68809,     0.68831,      0.6887,     0.69039,     0.69116,     0.69196,     0.69474,     0.69699,\n",
              "            0.69744,     0.69812,     0.69922,     0.70042,     0.70123,      0.7021,     0.70554,     0.70677,     0.70785,     0.70822,      0.7093,     0.70934,     0.71038,     0.70985,     0.71025,     0.71201,     0.71301,      0.7135,       0.714,     0.71457,     0.71492,     0.71441,     0.71508,\n",
              "            0.71538,     0.71643,     0.72049,     0.72123,     0.72163,     0.72181,     0.72198,     0.72216,     0.72333,     0.72533,     0.72883,     0.72996,     0.72972,     0.73051,      0.7317,     0.73313,     0.73358,     0.73345,     0.73474,     0.73445,     0.73449,       0.735,     0.73616,\n",
              "            0.73621,     0.73867,      0.7389,     0.73964,     0.73989,     0.74304,     0.74359,     0.74458,     0.74678,     0.75027,     0.75065,     0.75094,     0.75131,     0.75183,     0.75297,     0.75514,     0.75649,     0.75749,     0.75765,     0.75921,      0.7597,     0.76009,     0.75997,\n",
              "            0.76117,     0.76173,     0.76261,     0.76572,     0.76593,     0.76976,     0.77147,     0.77246,     0.77329,     0.77414,     0.77565,     0.77706,     0.77744,     0.77812,     0.77917,     0.78196,     0.78349,     0.78346,     0.78307,     0.78345,     0.78283,      0.7835,     0.78378,\n",
              "            0.78424,     0.78675,     0.78725,      0.7883,     0.78877,     0.78922,     0.79098,     0.79124,      0.7914,     0.79348,     0.79492,     0.79658,     0.79698,     0.79749,     0.79877,     0.79947,     0.79969,     0.80004,      0.8022,     0.80217,     0.80205,     0.80268,     0.80374,\n",
              "              0.805,     0.80696,     0.80804,     0.80972,     0.81041,     0.81022,     0.80997,     0.81081,     0.81064,     0.81129,      0.8129,     0.81388,     0.81459,     0.81458,     0.81512,     0.81493,     0.81551,     0.81632,     0.81733,     0.81956,     0.82018,     0.82001,     0.82143,\n",
              "            0.82143,     0.82117,     0.82101,     0.82091,      0.8208,      0.8201,     0.82145,     0.82266,     0.82237,     0.82397,     0.82387,     0.82452,     0.82581,     0.82652,     0.82632,     0.82637,     0.82709,      0.8268,     0.82749,     0.82943,     0.82952,     0.82917,     0.82902,\n",
              "            0.82957,     0.82992,     0.82951,     0.82961,     0.83038,     0.83029,     0.83053,     0.83111,      0.8342,     0.83524,      0.8356,     0.83596,     0.83751,     0.83812,     0.83798,     0.83773,     0.83754,     0.83745,     0.83735,     0.83721,     0.83789,     0.83772,     0.83756,\n",
              "            0.83755,     0.83797,     0.83784,     0.83887,     0.83881,     0.83876,     0.83879,      0.8397,     0.84113,     0.84248,     0.84311,     0.84325,     0.84381,     0.84416,     0.84404,     0.84397,     0.84391,     0.84384,      0.8446,     0.84525,     0.84576,     0.84605,     0.84633,\n",
              "            0.84662,     0.84709,     0.84774,     0.84739,     0.84932,     0.84921,     0.85017,     0.84993,     0.85082,     0.85084,      0.8519,     0.85258,     0.85468,     0.85535,     0.85581,     0.85615,     0.85649,     0.85683,     0.85801,     0.85774,     0.85748,     0.85742,     0.85736,\n",
              "            0.85719,     0.85698,     0.85668,      0.8566,     0.85651,     0.85639,     0.85627,     0.85616,     0.85961,      0.8595,     0.85938,     0.85922,     0.85991,     0.86241,     0.86238,     0.86226,     0.86211,     0.86188,     0.86168,     0.86105,     0.86159,     0.86264,     0.86206,\n",
              "            0.86199,     0.86191,     0.86176,     0.86162,     0.86155,     0.86148,     0.86253,     0.86287,     0.86321,     0.86355,     0.86374,     0.86367,     0.86359,     0.86476,     0.86463,     0.86452,     0.86479,     0.86547,      0.8654,     0.86533,      0.8661,     0.86644,     0.86754,\n",
              "            0.86826,     0.86891,      0.8689,     0.86887,     0.86885,     0.86882,     0.86879,     0.86877,     0.86874,     0.86984,     0.86964,     0.87073,     0.87062,      0.8709,     0.87308,     0.87292,     0.87285,     0.87278,     0.87269,     0.87259,     0.87243,     0.87292,     0.87369,\n",
              "            0.87436,     0.87481,     0.87471,     0.87459,     0.87494,     0.87568,     0.87549,     0.87529,     0.87491,     0.87609,     0.87598,     0.87715,     0.87676,     0.87907,      0.8789,     0.87871,     0.87849,     0.87839,     0.87827,     0.87829,     0.88045,      0.8801,     0.88003,\n",
              "            0.87996,     0.88082,     0.88365,     0.88632,     0.88777,     0.88814,     0.88807,     0.88801,     0.88774,     0.88762,     0.88672,     0.88663,     0.88633,     0.88598,     0.88588,     0.88576,      0.8852,       0.885,     0.88481,     0.88461,     0.88468,     0.88523,     0.88577,\n",
              "            0.88645,     0.88721,     0.88735,     0.88725,      0.8869,     0.88651,     0.88929,     0.89122,     0.89199,     0.89154,     0.89149,     0.89145,     0.89142,     0.89138,     0.89136,     0.89188,      0.8924,     0.89283,     0.89227,     0.89218,      0.8919,      0.8918,     0.89194,\n",
              "            0.89273,     0.89305,     0.89296,     0.89399,      0.8938,     0.89324,     0.89305,     0.89266,     0.89373,     0.89544,     0.89532,     0.89522,     0.89505,     0.89486,     0.89448,     0.89589,      0.8956,      0.8955,     0.89686,     0.89674,     0.90148,     0.90482,     0.90808,\n",
              "             0.9079,     0.90962,     0.91109,     0.91092,     0.91077,     0.91068,     0.91102,     0.91276,     0.91397,     0.91365,     0.91411,     0.91504,      0.9149,     0.91482,     0.91476,     0.91471,     0.91467,     0.91463,     0.91436,     0.91426,      0.9142,     0.91414,     0.91402,\n",
              "            0.91512,      0.9156,     0.91527,      0.9151,     0.91818,     0.91848,     0.91816,     0.91783,     0.91817,     0.91878,      0.9194,      0.9193,     0.91898,     0.91881,     0.91857,     0.92031,     0.92183,     0.92337,     0.92521,     0.92617,     0.92695,      0.9268,     0.92651,\n",
              "            0.92644,     0.92663,      0.9276,     0.92826,     0.92818,     0.93045,     0.93243,     0.93355,     0.93332,     0.93328,     0.93325,     0.93321,     0.93298,     0.93287,      0.9328,     0.93338,     0.93438,     0.93469,     0.93462,     0.93408,     0.93401,     0.93396,     0.93391,\n",
              "            0.93551,     0.93537,     0.93899,     0.94017,     0.94122,      0.9411,     0.94099,      0.9428,     0.94267,     0.94241,     0.94341,     0.94387,     0.94374,     0.94348,     0.94327,      0.9432,     0.94314,     0.94307,     0.94295,     0.94269,     0.94242,     0.94215,     0.94174,\n",
              "            0.94381,     0.94367,      0.9434,     0.94327,      0.9432,     0.94313,     0.94309,     0.94305,     0.94301,     0.94277,     0.94254,     0.94247,     0.94401,     0.94462,     0.94434,     0.94428,     0.94423,     0.94418,     0.94414,     0.94409,     0.94404,     0.94371,     0.94465,\n",
              "            0.94588,     0.94575,     0.94561,     0.94547,     0.94661,     0.94755,     0.94742,     0.94733,     0.94728,     0.94722,     0.94716,     0.94707,     0.94975,     0.95149,     0.95205,     0.95357,     0.95332,      0.9532,     0.95302,     0.95535,     0.95532,     0.95529,     0.95526,\n",
              "             0.9549,     0.95478,     0.95466,     0.95452,     0.95422,     0.95566,     0.95648,     0.95642,     0.95624,     0.95618,     0.95607,     0.95561,     0.95553,     0.95547,     0.95538,      0.9563,     0.95783,     0.95775,     0.95739,     0.95726,     0.95689,     0.95664,     0.95624,\n",
              "            0.95597,     0.95591,      0.9558,     0.95553,     0.95539,     0.95767,     0.95754,     0.95741,     0.96021,     0.95974,     0.95968,     0.95963,     0.95951,     0.95938,     0.95906,      0.9588,      0.9587,     0.95863,     0.95855,     0.95845,     0.95869,      0.9614,     0.96125,\n",
              "             0.9607,     0.96061,     0.96054,     0.96012,     0.96008,     0.96003,     0.95977,     0.95956,     0.95951,     0.95946,     0.96243,     0.96236,     0.96227,     0.96194,      0.9618,     0.96126,     0.96149,     0.96421,     0.96395,     0.96371,     0.96361,     0.96334,     0.96308,\n",
              "            0.96298,     0.96277,      0.9627,     0.96236,     0.96221,     0.96201,     0.96155,     0.96148,     0.96142,     0.96132,     0.96094,     0.96086,     0.96047,     0.96036,     0.96025,      0.9595,     0.95942,     0.95867,     0.95861,     0.95855,     0.95831,     0.95822,     0.95777,\n",
              "            0.95765,     0.95734,     0.95703,     0.95691,     0.95643,     0.95633,     0.95601,     0.95568,     0.95495,     0.95481,     0.95469,     0.95458,     0.95404,     0.95441,     0.95743,     0.95805,     0.95773,     0.95766,     0.95759,      0.9571,     0.95696,     0.95685,     0.95674,\n",
              "             0.9566,     0.95625,      0.9561,     0.95439,     0.95427,     0.95419,     0.95412,     0.95375,      0.9581,     0.95795,     0.96207,     0.96151,     0.96137,     0.96011,     0.95996,      0.9598,     0.95941,     0.95877,      0.9586,     0.95818,     0.95698,      0.9568,     0.95635,\n",
              "            0.95588,     0.95512,     0.95493,     0.95935,     0.95859,     0.95802,     0.95782,     0.95761,     0.95648,     0.95626,     0.95572,     0.95516,     0.95493,     0.95436,     0.95408,      0.9534,     0.95315,     0.95176,      0.9511,     0.95083,     0.94915,     0.94842,     0.95561,\n",
              "            0.95411,     0.95382,      0.9521,     0.95503,      0.9603,     0.96706,     0.96749,     0.96581,     0.96568,     0.96554,     0.96393,     0.96316,     0.96238,     0.96206,     0.96057,     0.97311,     0.97242,      0.9717,     0.97101,     0.97014,     0.98034,     0.98397,     0.98349,\n",
              "            0.98301,     0.98243,     0.98231,     0.98218,     0.98198,     0.98173,     0.98141,     0.98117,     0.98045,     0.97935,           1,           1,           1,           1,           1,           1,           1,           1,           1,           1,           1,           1,           1,\n",
              "                  1,           1,           1,           1,           1,           1,           1,           1,           1,           1,           1,           1,           1,           1,           1,           1,           1,           1,           1,           1,           1,           1,           1,\n",
              "                  1,           1,           1,           1,           1,           1,           1,           1,           1,           1,           1,           1,           1,           1,           1,           1,           1,           1,           1,           1,           1,           1,           1,\n",
              "                  1,           1,           1,           1,           1,           1,           1,           1,           1,           1,           1,           1,           1,           1,           1,           1,           1,           1,           1,           1,           1,           1,           1,\n",
              "                  1,           1,           1,           1,           1,           1,           1,           1,           1,           1,           1,           1,           1,           1,           1,           1,           1,           1,           1,           1,           1,           1,           1,\n",
              "                  1,           1,           1,           1,           1,           1,           1,           1,           1,           1,           1,           1,           1,           1,           1,           1,           1,           1,           1,           1,           1,           1,           1,\n",
              "                  1,           1,           1,           1,           1,           1,           1,           1,           1,           1,           1,           1,           1,           1,           1,           1,           1,           1,           1,           1,           1,           1,           1,\n",
              "                  1,           1,           1,           1,           1,           1,           1,           1,           1,           1,           1,           1,           1,           1,           1,           1,           1,           1,           1,           1,           1,           1,           1,\n",
              "                  1,           1,           1,           1,           1,           1,           1,           1,           1,           1,           1]]), 'Confidence', 'Precision'], [array([          0,    0.001001,    0.002002,    0.003003,    0.004004,    0.005005,    0.006006,    0.007007,    0.008008,    0.009009,     0.01001,    0.011011,    0.012012,    0.013013,    0.014014,    0.015015,    0.016016,    0.017017,    0.018018,    0.019019,     0.02002,    0.021021,    0.022022,    0.023023,\n",
              "          0.024024,    0.025025,    0.026026,    0.027027,    0.028028,    0.029029,     0.03003,    0.031031,    0.032032,    0.033033,    0.034034,    0.035035,    0.036036,    0.037037,    0.038038,    0.039039,     0.04004,    0.041041,    0.042042,    0.043043,    0.044044,    0.045045,    0.046046,    0.047047,\n",
              "          0.048048,    0.049049,     0.05005,    0.051051,    0.052052,    0.053053,    0.054054,    0.055055,    0.056056,    0.057057,    0.058058,    0.059059,     0.06006,    0.061061,    0.062062,    0.063063,    0.064064,    0.065065,    0.066066,    0.067067,    0.068068,    0.069069,     0.07007,    0.071071,\n",
              "          0.072072,    0.073073,    0.074074,    0.075075,    0.076076,    0.077077,    0.078078,    0.079079,     0.08008,    0.081081,    0.082082,    0.083083,    0.084084,    0.085085,    0.086086,    0.087087,    0.088088,    0.089089,     0.09009,    0.091091,    0.092092,    0.093093,    0.094094,    0.095095,\n",
              "          0.096096,    0.097097,    0.098098,    0.099099,      0.1001,      0.1011,      0.1021,      0.1031,      0.1041,     0.10511,     0.10611,     0.10711,     0.10811,     0.10911,     0.11011,     0.11111,     0.11211,     0.11311,     0.11411,     0.11512,     0.11612,     0.11712,     0.11812,     0.11912,\n",
              "           0.12012,     0.12112,     0.12212,     0.12312,     0.12412,     0.12513,     0.12613,     0.12713,     0.12813,     0.12913,     0.13013,     0.13113,     0.13213,     0.13313,     0.13413,     0.13514,     0.13614,     0.13714,     0.13814,     0.13914,     0.14014,     0.14114,     0.14214,     0.14314,\n",
              "           0.14414,     0.14515,     0.14615,     0.14715,     0.14815,     0.14915,     0.15015,     0.15115,     0.15215,     0.15315,     0.15415,     0.15516,     0.15616,     0.15716,     0.15816,     0.15916,     0.16016,     0.16116,     0.16216,     0.16316,     0.16416,     0.16517,     0.16617,     0.16717,\n",
              "           0.16817,     0.16917,     0.17017,     0.17117,     0.17217,     0.17317,     0.17417,     0.17518,     0.17618,     0.17718,     0.17818,     0.17918,     0.18018,     0.18118,     0.18218,     0.18318,     0.18418,     0.18519,     0.18619,     0.18719,     0.18819,     0.18919,     0.19019,     0.19119,\n",
              "           0.19219,     0.19319,     0.19419,      0.1952,      0.1962,      0.1972,      0.1982,      0.1992,      0.2002,      0.2012,      0.2022,      0.2032,      0.2042,     0.20521,     0.20621,     0.20721,     0.20821,     0.20921,     0.21021,     0.21121,     0.21221,     0.21321,     0.21421,     0.21522,\n",
              "           0.21622,     0.21722,     0.21822,     0.21922,     0.22022,     0.22122,     0.22222,     0.22322,     0.22422,     0.22523,     0.22623,     0.22723,     0.22823,     0.22923,     0.23023,     0.23123,     0.23223,     0.23323,     0.23423,     0.23524,     0.23624,     0.23724,     0.23824,     0.23924,\n",
              "           0.24024,     0.24124,     0.24224,     0.24324,     0.24424,     0.24525,     0.24625,     0.24725,     0.24825,     0.24925,     0.25025,     0.25125,     0.25225,     0.25325,     0.25425,     0.25526,     0.25626,     0.25726,     0.25826,     0.25926,     0.26026,     0.26126,     0.26226,     0.26326,\n",
              "           0.26426,     0.26527,     0.26627,     0.26727,     0.26827,     0.26927,     0.27027,     0.27127,     0.27227,     0.27327,     0.27427,     0.27528,     0.27628,     0.27728,     0.27828,     0.27928,     0.28028,     0.28128,     0.28228,     0.28328,     0.28428,     0.28529,     0.28629,     0.28729,\n",
              "           0.28829,     0.28929,     0.29029,     0.29129,     0.29229,     0.29329,     0.29429,      0.2953,      0.2963,      0.2973,      0.2983,      0.2993,      0.3003,      0.3013,      0.3023,      0.3033,      0.3043,     0.30531,     0.30631,     0.30731,     0.30831,     0.30931,     0.31031,     0.31131,\n",
              "           0.31231,     0.31331,     0.31431,     0.31532,     0.31632,     0.31732,     0.31832,     0.31932,     0.32032,     0.32132,     0.32232,     0.32332,     0.32432,     0.32533,     0.32633,     0.32733,     0.32833,     0.32933,     0.33033,     0.33133,     0.33233,     0.33333,     0.33433,     0.33534,\n",
              "           0.33634,     0.33734,     0.33834,     0.33934,     0.34034,     0.34134,     0.34234,     0.34334,     0.34434,     0.34535,     0.34635,     0.34735,     0.34835,     0.34935,     0.35035,     0.35135,     0.35235,     0.35335,     0.35435,     0.35536,     0.35636,     0.35736,     0.35836,     0.35936,\n",
              "           0.36036,     0.36136,     0.36236,     0.36336,     0.36436,     0.36537,     0.36637,     0.36737,     0.36837,     0.36937,     0.37037,     0.37137,     0.37237,     0.37337,     0.37437,     0.37538,     0.37638,     0.37738,     0.37838,     0.37938,     0.38038,     0.38138,     0.38238,     0.38338,\n",
              "           0.38438,     0.38539,     0.38639,     0.38739,     0.38839,     0.38939,     0.39039,     0.39139,     0.39239,     0.39339,     0.39439,      0.3954,      0.3964,      0.3974,      0.3984,      0.3994,      0.4004,      0.4014,      0.4024,      0.4034,      0.4044,     0.40541,     0.40641,     0.40741,\n",
              "           0.40841,     0.40941,     0.41041,     0.41141,     0.41241,     0.41341,     0.41441,     0.41542,     0.41642,     0.41742,     0.41842,     0.41942,     0.42042,     0.42142,     0.42242,     0.42342,     0.42442,     0.42543,     0.42643,     0.42743,     0.42843,     0.42943,     0.43043,     0.43143,\n",
              "           0.43243,     0.43343,     0.43443,     0.43544,     0.43644,     0.43744,     0.43844,     0.43944,     0.44044,     0.44144,     0.44244,     0.44344,     0.44444,     0.44545,     0.44645,     0.44745,     0.44845,     0.44945,     0.45045,     0.45145,     0.45245,     0.45345,     0.45445,     0.45546,\n",
              "           0.45646,     0.45746,     0.45846,     0.45946,     0.46046,     0.46146,     0.46246,     0.46346,     0.46446,     0.46547,     0.46647,     0.46747,     0.46847,     0.46947,     0.47047,     0.47147,     0.47247,     0.47347,     0.47447,     0.47548,     0.47648,     0.47748,     0.47848,     0.47948,\n",
              "           0.48048,     0.48148,     0.48248,     0.48348,     0.48448,     0.48549,     0.48649,     0.48749,     0.48849,     0.48949,     0.49049,     0.49149,     0.49249,     0.49349,     0.49449,      0.4955,      0.4965,      0.4975,      0.4985,      0.4995,      0.5005,      0.5015,      0.5025,      0.5035,\n",
              "            0.5045,     0.50551,     0.50651,     0.50751,     0.50851,     0.50951,     0.51051,     0.51151,     0.51251,     0.51351,     0.51451,     0.51552,     0.51652,     0.51752,     0.51852,     0.51952,     0.52052,     0.52152,     0.52252,     0.52352,     0.52452,     0.52553,     0.52653,     0.52753,\n",
              "           0.52853,     0.52953,     0.53053,     0.53153,     0.53253,     0.53353,     0.53453,     0.53554,     0.53654,     0.53754,     0.53854,     0.53954,     0.54054,     0.54154,     0.54254,     0.54354,     0.54454,     0.54555,     0.54655,     0.54755,     0.54855,     0.54955,     0.55055,     0.55155,\n",
              "           0.55255,     0.55355,     0.55455,     0.55556,     0.55656,     0.55756,     0.55856,     0.55956,     0.56056,     0.56156,     0.56256,     0.56356,     0.56456,     0.56557,     0.56657,     0.56757,     0.56857,     0.56957,     0.57057,     0.57157,     0.57257,     0.57357,     0.57457,     0.57558,\n",
              "           0.57658,     0.57758,     0.57858,     0.57958,     0.58058,     0.58158,     0.58258,     0.58358,     0.58458,     0.58559,     0.58659,     0.58759,     0.58859,     0.58959,     0.59059,     0.59159,     0.59259,     0.59359,     0.59459,      0.5956,      0.5966,      0.5976,      0.5986,      0.5996,\n",
              "            0.6006,      0.6016,      0.6026,      0.6036,      0.6046,     0.60561,     0.60661,     0.60761,     0.60861,     0.60961,     0.61061,     0.61161,     0.61261,     0.61361,     0.61461,     0.61562,     0.61662,     0.61762,     0.61862,     0.61962,     0.62062,     0.62162,     0.62262,     0.62362,\n",
              "           0.62462,     0.62563,     0.62663,     0.62763,     0.62863,     0.62963,     0.63063,     0.63163,     0.63263,     0.63363,     0.63463,     0.63564,     0.63664,     0.63764,     0.63864,     0.63964,     0.64064,     0.64164,     0.64264,     0.64364,     0.64464,     0.64565,     0.64665,     0.64765,\n",
              "           0.64865,     0.64965,     0.65065,     0.65165,     0.65265,     0.65365,     0.65465,     0.65566,     0.65666,     0.65766,     0.65866,     0.65966,     0.66066,     0.66166,     0.66266,     0.66366,     0.66466,     0.66567,     0.66667,     0.66767,     0.66867,     0.66967,     0.67067,     0.67167,\n",
              "           0.67267,     0.67367,     0.67467,     0.67568,     0.67668,     0.67768,     0.67868,     0.67968,     0.68068,     0.68168,     0.68268,     0.68368,     0.68468,     0.68569,     0.68669,     0.68769,     0.68869,     0.68969,     0.69069,     0.69169,     0.69269,     0.69369,     0.69469,      0.6957,\n",
              "            0.6967,      0.6977,      0.6987,      0.6997,      0.7007,      0.7017,      0.7027,      0.7037,      0.7047,     0.70571,     0.70671,     0.70771,     0.70871,     0.70971,     0.71071,     0.71171,     0.71271,     0.71371,     0.71471,     0.71572,     0.71672,     0.71772,     0.71872,     0.71972,\n",
              "           0.72072,     0.72172,     0.72272,     0.72372,     0.72472,     0.72573,     0.72673,     0.72773,     0.72873,     0.72973,     0.73073,     0.73173,     0.73273,     0.73373,     0.73473,     0.73574,     0.73674,     0.73774,     0.73874,     0.73974,     0.74074,     0.74174,     0.74274,     0.74374,\n",
              "           0.74474,     0.74575,     0.74675,     0.74775,     0.74875,     0.74975,     0.75075,     0.75175,     0.75275,     0.75375,     0.75475,     0.75576,     0.75676,     0.75776,     0.75876,     0.75976,     0.76076,     0.76176,     0.76276,     0.76376,     0.76476,     0.76577,     0.76677,     0.76777,\n",
              "           0.76877,     0.76977,     0.77077,     0.77177,     0.77277,     0.77377,     0.77477,     0.77578,     0.77678,     0.77778,     0.77878,     0.77978,     0.78078,     0.78178,     0.78278,     0.78378,     0.78478,     0.78579,     0.78679,     0.78779,     0.78879,     0.78979,     0.79079,     0.79179,\n",
              "           0.79279,     0.79379,     0.79479,      0.7958,      0.7968,      0.7978,      0.7988,      0.7998,      0.8008,      0.8018,      0.8028,      0.8038,      0.8048,     0.80581,     0.80681,     0.80781,     0.80881,     0.80981,     0.81081,     0.81181,     0.81281,     0.81381,     0.81481,     0.81582,\n",
              "           0.81682,     0.81782,     0.81882,     0.81982,     0.82082,     0.82182,     0.82282,     0.82382,     0.82482,     0.82583,     0.82683,     0.82783,     0.82883,     0.82983,     0.83083,     0.83183,     0.83283,     0.83383,     0.83483,     0.83584,     0.83684,     0.83784,     0.83884,     0.83984,\n",
              "           0.84084,     0.84184,     0.84284,     0.84384,     0.84484,     0.84585,     0.84685,     0.84785,     0.84885,     0.84985,     0.85085,     0.85185,     0.85285,     0.85385,     0.85485,     0.85586,     0.85686,     0.85786,     0.85886,     0.85986,     0.86086,     0.86186,     0.86286,     0.86386,\n",
              "           0.86486,     0.86587,     0.86687,     0.86787,     0.86887,     0.86987,     0.87087,     0.87187,     0.87287,     0.87387,     0.87487,     0.87588,     0.87688,     0.87788,     0.87888,     0.87988,     0.88088,     0.88188,     0.88288,     0.88388,     0.88488,     0.88589,     0.88689,     0.88789,\n",
              "           0.88889,     0.88989,     0.89089,     0.89189,     0.89289,     0.89389,     0.89489,      0.8959,      0.8969,      0.8979,      0.8989,      0.8999,      0.9009,      0.9019,      0.9029,      0.9039,      0.9049,     0.90591,     0.90691,     0.90791,     0.90891,     0.90991,     0.91091,     0.91191,\n",
              "           0.91291,     0.91391,     0.91491,     0.91592,     0.91692,     0.91792,     0.91892,     0.91992,     0.92092,     0.92192,     0.92292,     0.92392,     0.92492,     0.92593,     0.92693,     0.92793,     0.92893,     0.92993,     0.93093,     0.93193,     0.93293,     0.93393,     0.93493,     0.93594,\n",
              "           0.93694,     0.93794,     0.93894,     0.93994,     0.94094,     0.94194,     0.94294,     0.94394,     0.94494,     0.94595,     0.94695,     0.94795,     0.94895,     0.94995,     0.95095,     0.95195,     0.95295,     0.95395,     0.95495,     0.95596,     0.95696,     0.95796,     0.95896,     0.95996,\n",
              "           0.96096,     0.96196,     0.96296,     0.96396,     0.96496,     0.96597,     0.96697,     0.96797,     0.96897,     0.96997,     0.97097,     0.97197,     0.97297,     0.97397,     0.97497,     0.97598,     0.97698,     0.97798,     0.97898,     0.97998,     0.98098,     0.98198,     0.98298,     0.98398,\n",
              "           0.98498,     0.98599,     0.98699,     0.98799,     0.98899,     0.98999,     0.99099,     0.99199,     0.99299,     0.99399,     0.99499,       0.996,       0.997,       0.998,       0.999,           1]), array([[    0.97525,     0.97525,     0.97413,     0.97188,     0.97188,     0.97075,     0.96963,     0.96738,     0.96738,     0.96738,     0.96625,     0.96625,       0.964,     0.96063,     0.95838,     0.95726,     0.95506,     0.95388,     0.95173,     0.95051,     0.94938,     0.94826,     0.94713,\n",
              "            0.94713,     0.94713,     0.94601,     0.94601,     0.94341,     0.94038,     0.93813,     0.93703,     0.93701,     0.93476,     0.93476,     0.93476,     0.93363,     0.93251,     0.93251,     0.93026,     0.93026,     0.92987,      0.9262,     0.92463,     0.92343,     0.92238,     0.92126,\n",
              "            0.92126,     0.92013,     0.92013,     0.92013,     0.92013,     0.92013,     0.91901,     0.91901,     0.91901,     0.91676,     0.91564,     0.91564,     0.91451,     0.91451,     0.91451,     0.91451,     0.91451,     0.91451,     0.91451,     0.91451,     0.91339,     0.91339,     0.91226,\n",
              "            0.91114,     0.90889,     0.90889,     0.90668,     0.90573,     0.90551,     0.90551,     0.90551,     0.90439,     0.90439,     0.90439,     0.90439,     0.90271,     0.90101,     0.89961,     0.89651,     0.89426,     0.89426,     0.89426,     0.89201,     0.89201,     0.89089,     0.89089,\n",
              "            0.88864,     0.88639,     0.88383,     0.88076,     0.87852,     0.87852,     0.87852,     0.87852,     0.87757,     0.87627,     0.87627,     0.87514,     0.87461,     0.87177,     0.87131,     0.87048,     0.86952,     0.86952,     0.86952,     0.86952,     0.86882,     0.86668,     0.86614,\n",
              "            0.86517,     0.86277,     0.86277,     0.86277,     0.86277,     0.86277,     0.86277,     0.86277,     0.86277,     0.86277,     0.86163,     0.86049,     0.85946,     0.85827,     0.85827,     0.85827,     0.85792,     0.85738,     0.85684,     0.85554,     0.85489,     0.85483,      0.8537,\n",
              "            0.85264,     0.85213,     0.85152,     0.85004,     0.84927,     0.84927,     0.84927,     0.84927,     0.84924,     0.84814,     0.84814,     0.84791,     0.84589,     0.84589,     0.84589,     0.84589,     0.84566,     0.84252,     0.84027,     0.84027,     0.83925,      0.8375,     0.83696,\n",
              "             0.8369,      0.8369,      0.8369,      0.8369,     0.83554,     0.83465,     0.83352,     0.83352,     0.83352,     0.83277,     0.83127,     0.83117,     0.83015,     0.82843,      0.8279,     0.82677,     0.82677,     0.82616,     0.82429,     0.82204,     0.81907,     0.81821,     0.81777,\n",
              "            0.81777,     0.81665,     0.81665,     0.81665,     0.81665,     0.81552,     0.81215,     0.81007,     0.80877,     0.80765,     0.80765,     0.80427,     0.80369,     0.80315,     0.80315,     0.80272,     0.80202,      0.8009,     0.79978,     0.79818,     0.79761,     0.79753,     0.79753,\n",
              "            0.79528,     0.79415,     0.79415,     0.79415,     0.79415,     0.79237,     0.79108,     0.79059,     0.78975,     0.78825,      0.7874,     0.78628,     0.78628,     0.78403,     0.78359,     0.78258,     0.78178,     0.78178,     0.78178,     0.78065,     0.77988,      0.7784,      0.7784,\n",
              "            0.77614,      0.7748,     0.77396,      0.7734,     0.77285,     0.76828,     0.76828,     0.76707,     0.76553,     0.76346,     0.76292,     0.76265,     0.76257,     0.76103,     0.75995,     0.75928,     0.75867,     0.75713,     0.75703,     0.75591,      0.7553,     0.75344,     0.75268,\n",
              "            0.75253,       0.752,     0.74981,     0.74916,     0.74894,     0.74843,     0.74803,     0.74727,     0.74691,     0.74691,     0.74691,     0.74691,     0.74691,     0.74548,     0.74471,      0.7433,     0.74229,     0.74178,     0.74126,     0.74049,     0.73838,     0.73745,     0.73659,\n",
              "            0.73341,     0.73297,     0.73231,     0.73201,     0.73172,     0.73143,     0.73116,     0.73066,     0.72891,     0.72796,     0.72778,     0.72617,     0.72553,     0.72506,     0.72441,     0.72405,      0.7237,     0.72334,     0.72103,     0.72103,     0.72103,     0.72103,     0.72103,\n",
              "            0.72103,     0.72103,     0.72103,     0.71827,     0.71648,     0.71582,     0.71484,     0.71355,     0.71214,     0.71091,     0.71091,     0.71091,     0.70979,     0.70866,     0.70754,     0.70754,     0.70754,     0.70754,     0.70754,     0.70533,     0.70385,     0.70352,     0.70319,\n",
              "             0.7022,     0.70098,     0.69928,     0.69882,     0.69828,     0.69762,     0.69696,      0.6963,     0.69564,     0.69498,     0.69432,     0.69338,     0.69179,     0.69179,     0.69077,     0.69006,     0.68923,     0.68787,     0.68672,     0.68311,     0.68054,      0.6782,     0.67487,\n",
              "            0.67445,     0.67403,     0.67314,     0.67238,     0.67196,     0.67154,     0.67042,     0.67042,     0.67042,     0.67042,     0.67026,     0.66984,     0.66942,     0.66929,     0.66818,     0.66752,     0.66704,     0.66579,     0.66537,     0.66495,     0.66479,     0.66405,     0.66367,\n",
              "            0.66367,     0.66367,     0.66352,     0.66336,     0.66321,     0.66305,      0.6629,     0.66275,     0.66259,     0.66152,     0.66034,     0.65919,     0.65852,     0.65804,     0.65769,     0.65678,     0.65636,     0.65594,     0.65542,     0.65485,     0.65387,     0.65354,     0.65354,\n",
              "            0.65354,     0.65238,     0.65181,     0.65113,     0.65017,     0.64971,     0.64855,      0.6474,     0.64512,     0.64422,     0.64356,     0.64251,     0.64023,     0.63892,      0.6368,     0.63565,     0.63432,     0.63374,     0.63303,     0.63105,      0.6296,     0.62754,     0.62713,\n",
              "            0.62671,     0.62655,     0.62655,     0.62542,     0.62542,     0.62515,     0.62476,     0.62438,     0.62265,     0.62195,     0.61636,     0.61578,     0.61399,     0.61182,     0.61124,     0.61053,     0.60713,     0.60598,     0.60482,     0.60367,     0.60292,     0.60292,     0.60292,\n",
              "            0.60292,     0.60292,     0.60251,     0.60193,     0.59979,     0.59751,     0.59636,     0.59505,     0.59505,     0.59178,     0.59147,     0.59123,       0.591,     0.59077,     0.59055,     0.59055,     0.59055,     0.59038,     0.58696,     0.58638,     0.58468,      0.5841,     0.58268,\n",
              "            0.58268,     0.58238,      0.5818,     0.57864,     0.57749,     0.57409,     0.57293,     0.57066,      0.5703,     0.56835,     0.56763,     0.56705,     0.56602,     0.56486,     0.56259,     0.56143,     0.55967,     0.55909,     0.55793,     0.55682,     0.55568,     0.55568,     0.55561,\n",
              "            0.55343,     0.55343,     0.55328,     0.55212,     0.55108,      0.5505,     0.55006,     0.55006,     0.54973,     0.54746,     0.54668,     0.54515,     0.54421,     0.54364,     0.54318,      0.5429,     0.54261,     0.54232,     0.54045,     0.53972,     0.53934,     0.53895,     0.53809,\n",
              "            0.53768,     0.53691,     0.53463,     0.53348,     0.53318,      0.5323,     0.53002,     0.52774,     0.52643,     0.52643,     0.52643,     0.52538,      0.5231,     0.52195,     0.52024,     0.51964,     0.51736,     0.51509,     0.51406,     0.51406,     0.51388,     0.51272,     0.51057,\n",
              "            0.50999,     0.50956,     0.50956,     0.50939,     0.50881,     0.50619,     0.50619,     0.50572,     0.50381,     0.50353,     0.50324,     0.50295,     0.50108,     0.50025,     0.49967,     0.49944,     0.49944,     0.49906,     0.49849,     0.49414,     0.49354,     0.49315,     0.49277,\n",
              "            0.48952,     0.48837,     0.48706,     0.48706,     0.48706,     0.48524,     0.48429,     0.48201,     0.48086,     0.47858,     0.47694,      0.4729,     0.47175,     0.46947,     0.46757,     0.46699,     0.46641,     0.46584,     0.46483,     0.46255,     0.46028,       0.458,      0.4546,\n",
              "            0.45344,     0.45229,     0.45001,     0.44886,     0.44826,     0.44769,     0.44736,     0.44703,      0.4467,     0.44475,     0.44283,     0.44226,     0.44207,     0.44127,     0.43899,     0.43841,     0.43802,     0.43764,     0.43726,     0.43687,     0.43649,     0.43373,     0.43307,\n",
              "            0.43255,     0.43139,     0.43024,     0.42909,     0.42745,     0.42678,     0.42563,     0.42491,     0.42445,     0.42397,     0.42339,     0.42268,     0.41957,     0.41925,     0.41732,     0.41582,     0.41354,     0.41238,     0.41076,     0.40918,      0.4089,     0.40861,     0.40831,\n",
              "             0.4049,     0.40375,      0.4026,     0.40131,      0.3986,     0.39595,     0.39556,     0.39499,     0.39328,     0.39271,     0.39169,     0.38746,     0.38676,     0.38618,     0.38539,     0.38358,     0.38325,     0.38248,     0.37909,     0.37793,     0.37453,     0.37225,     0.36875,\n",
              "            0.36636,     0.36578,     0.36483,     0.36255,      0.3614,     0.35631,     0.35516,       0.354,     0.35285,     0.34855,     0.34809,     0.34763,     0.34655,      0.3454,     0.34256,     0.34028,     0.33942,     0.33884,     0.33816,     0.33735,     0.33633,     0.33617,     0.33483,\n",
              "            0.32993,     0.32918,      0.3286,     0.32498,      0.3246,     0.32422,     0.32207,     0.32026,     0.31988,     0.31949,     0.31696,     0.31639,     0.31553,     0.31269,     0.31154,     0.30701,     0.30371,     0.30302,     0.30074,     0.29871,     0.29787,     0.29559,     0.29341,\n",
              "            0.29264,     0.29089,     0.29032,     0.28758,     0.28643,     0.28483,     0.28131,     0.28079,     0.28033,     0.27954,     0.27671,     0.27613,     0.27329,     0.27252,     0.27175,     0.26651,     0.26593,      0.2609,     0.26051,     0.26013,     0.25857,     0.25799,      0.2551,\n",
              "            0.25434,     0.25244,     0.25055,     0.24978,     0.24694,     0.24636,     0.24447,     0.24258,     0.23844,     0.23767,     0.23701,     0.23644,     0.23349,     0.23285,     0.23285,     0.23118,     0.22938,       0.229,     0.22861,     0.22586,     0.22509,     0.22448,     0.22391,\n",
              "            0.22316,     0.22126,      0.2205,     0.21185,     0.21128,     0.21089,     0.21051,     0.20878,     0.20576,     0.20499,     0.19972,     0.19671,     0.19594,     0.18954,     0.18877,     0.18801,     0.18611,     0.18309,     0.18233,     0.18043,     0.17516,      0.1744,      0.1725,\n",
              "            0.17061,     0.16759,     0.16682,      0.1593,     0.15625,     0.15402,     0.15325,     0.15248,     0.14834,     0.14757,     0.14567,     0.14378,     0.14301,     0.14112,     0.14022,     0.13808,     0.13731,     0.13317,     0.13128,     0.13051,     0.12599,     0.12409,     0.12108,\n",
              "            0.11693,     0.11616,     0.11179,     0.10911,     0.10574,     0.10574,     0.10043,    0.095334,    0.094949,    0.094565,    0.090191,     0.08823,    0.086337,    0.085568,    0.082205,    0.081406,    0.079336,    0.077244,    0.075343,    0.071991,    0.071991,    0.069072,    0.067027,\n",
              "           0.065079,    0.062916,    0.062454,    0.061993,    0.061308,    0.060438,    0.059396,    0.058627,    0.056417,    0.053341,    0.051521,    0.050945,    0.048035,    0.047266,     0.04275,     0.03823,    0.037461,    0.035812,    0.035483,    0.035153,    0.034707,    0.032429,    0.029158,\n",
              "           0.028697,    0.028236,    0.027874,    0.027544,    0.027215,    0.024358,    0.023413,    0.022837,    0.020899,    0.019011,    0.018755,    0.018499,    0.018242,     0.01798,    0.017596,    0.017212,    0.015612,    0.013451,    0.013122,    0.012792,    0.012463,    0.012164,    0.011875,\n",
              "           0.011587,    0.011299,    0.010297,   0.0088836,   0.0087479,   0.0086123,   0.0084766,    0.008341,   0.0082053,   0.0080697,    0.007934,   0.0075525,    0.006976,   0.0065161,   0.0061317,   0.0057474,   0.0048406,    0.004319,   0.0040628,   0.0038066,   0.0035504,   0.0033022,   0.0030716,\n",
              "           0.002841,   0.0026104,   0.0023798,   0.0021492,   0.0019186,    0.001688,   0.0014574,   0.0012268,           0,           0,           0,           0,           0,           0,           0,           0,           0,           0,           0,           0,           0,           0,           0,\n",
              "                  0,           0,           0,           0,           0,           0,           0,           0,           0,           0,           0,           0,           0,           0,           0,           0,           0,           0,           0,           0,           0,           0,           0,\n",
              "                  0,           0,           0,           0,           0,           0,           0,           0,           0,           0,           0,           0,           0,           0,           0,           0,           0,           0,           0,           0,           0,           0,           0,\n",
              "                  0,           0,           0,           0,           0,           0,           0,           0,           0,           0,           0,           0,           0,           0,           0,           0,           0,           0,           0,           0,           0,           0,           0,\n",
              "                  0,           0,           0,           0,           0,           0,           0,           0,           0,           0,           0,           0,           0,           0,           0,           0,           0,           0,           0,           0,           0,           0,           0,\n",
              "                  0,           0,           0,           0,           0,           0,           0,           0,           0,           0,           0]]), 'Confidence', 'Recall']]\n",
              "fitness: np.float64(1.02940914578027)\n",
              "keys: ['metrics/precision(B)', 'metrics/recall(B)', 'metrics/mAP50(B)', 'metrics/mAP50-95(B)', 'metrics/precision(M)', 'metrics/recall(M)', 'metrics/mAP50(M)', 'metrics/mAP50-95(M)']\n",
              "maps: array([    0.95147])\n",
              "names: {0: 'bubble'}\n",
              "nt_per_class: array([889])\n",
              "nt_per_image: array([36])\n",
              "results_dict: {'metrics/precision(B)': np.float64(0.7967976478899081), 'metrics/recall(B)': np.float64(0.8110236220472441), 'metrics/mAP50(B)': np.float64(0.8687052375280273), 'metrics/mAP50-95(B)': np.float64(0.5081531676825526), 'metrics/precision(M)': np.float64(0.7934822623924468), 'metrics/recall(M)': np.float64(0.8076490438695163), 'metrics/mAP50(M)': np.float64(0.8621265884189937), 'metrics/mAP50-95(M)': np.float64(0.44332012474585636), 'fitness': np.float64(1.02940914578027)}\n",
              "save_dir: PosixPath('runs/segment/train3')\n",
              "seg: ultralytics.utils.metrics.Metric object\n",
              "speed: {'preprocess': 0.6778254864420395, 'inference': 10.017549432435574, 'loss': 0.0014445675923205861, 'postprocess': 12.719247162159583}\n",
              "stats: {'tp': [], 'conf': [], 'pred_cls': [], 'target_cls': [], 'target_img': [], 'tp_m': []}\n",
              "task: 'segment'"
            ]
          },
          "metadata": {},
          "execution_count": 8
        }
      ]
    },
    {
      "cell_type": "code",
      "source": [
        "#Model_Performance_Comparison\n",
        "print(\"=\" * 50)\n",
        "print(\"       Model Performance Comparison\")\n",
        "print(\"=\" * 50)\n",
        "\n",
        "#Model 1: YOLOv8n-seg (First Training Run)\n",
        "print(\"\\nModel 1: YOLOv8n-seg\")\n",
        "print(\"-\" * 30)\n",
        "print(\"Configuration:\")\n",
        "print(\"  - Epochs: 50\")\n",
        "print(\"  - Image Size: 640x640\")\n",
        "print(\"  - Batch Size: 8\")\n",
        "print(\"  - Parameters: ~3.26M\")\n",
        "print(\"  - GFLOPs: ~12.1\")\n",
        "print(\"\\nFinal Validation Metrics (Best.pt):\")\n",
        "print(\"  Box Detection:\")\n",
        "print(f\"    Precision: 0.775\")\n",
        "print(f\"    Recall:    0.840\")\n",
        "print(f\"    mAP@0.5:   0.876\")\n",
        "print(f\"    mAP@0.5:0.95: 0.503\")\n",
        "print(\"  Mask Segmentation:\")\n",
        "print(f\"    Precision: 0.777\")\n",
        "print(f\"    Recall:    0.831\")\n",
        "print(f\"    mAP@0.5:   0.873\")\n",
        "print(f\"    mAP@0.5:0.95: 0.444\")\n",
        "print(\"  Notes: Trained successfully, excellent performance, efficient.\")\n",
        "\n",
        "#Model 2: YOLOv8s-seg (Second Training Run) ---\n",
        "#Note: Using the final epoch metrics reported in the log (Epoch 100)\n",
        "print(\"\\n\" + \"=\" * 50)\n",
        "print(\"Model 2: YOLOv8s-seg\")\n",
        "print(\"-\" * 30)\n",
        "print(\"Configuration:\")\n",
        "print(\"  - Epochs: 100\")\n",
        "print(\"  - Image Size: 1280x1280\") #From the training command in the log\n",
        "print(\"  - Batch Size: 16\")\n",
        "print(\"  - Parameters: ~11.79M\")\n",
        "print(\"  - GFLOPs: ~42.7\")\n",
        "print(\"\\nFinal Validation Metrics (Best.pt - Epoch 100):\")\n",
        "print(\"  Box Detection:\")\n",
        "print(f\"    Precision: 0.797\")\n",
        "print(f\"    Recall:    0.811\")\n",
        "print(f\"    mAP@0.5:   0.869\")\n",
        "print(f\"    mAP@0.5:0.95: 0.508\")\n",
        "print(\"  Mask Segmentation:\")\n",
        "print(f\"    Precision: 0.793\")\n",
        "print(f\"    Recall:    0.808\")\n",
        "print(f\"    mAP@0.5:   0.862\")\n",
        "print(f\"    mAP@0.5:0.95: 0.443\")\n",
        "print(\"  Notes: Larger model, higher resolution. Slightly lower mAP than YOLOv8n-seg.\")\n",
        "print(\"         Encountered memory issues during training/prediction.\")\n",
        "\n",
        "print(\"\\n\" + \"=\" * 50)\n",
        "print(\"Comparison Summary:\")\n",
        "print(\"-\" * 30)\n",
        "print(\"The YOLOv8n-seg model achieved slightly better mAP scores while being\")\n",
        "print(\"significantly smaller and faster. The YOLOv8s-seg model, despite its\")\n",
        "print(\"increased complexity and higher training resolution, did not yield\")\n",
        "print(\"substantially better results for this specific bubble detection task.\")\n",
        "print(\"The YOLOv8n-seg model is recommended for deployment due to its\")\n",
        "print(\"efficiency and excellent performance.\")\n",
        "print(\"=\" * 50)\n"
      ],
      "metadata": {
        "colab": {
          "base_uri": "https://localhost:8080/"
        },
        "id": "vZWgHu2DyKo5",
        "outputId": "3c7d3a8f-3eea-433e-90f9-9f729e12ff8a"
      },
      "execution_count": null,
      "outputs": [
        {
          "output_type": "stream",
          "name": "stdout",
          "text": [
            "==================================================\n",
            "       Model Performance Comparison\n",
            "==================================================\n",
            "\n",
            "Model 1: YOLOv8n-seg\n",
            "------------------------------\n",
            "Configuration:\n",
            "  - Epochs: 50\n",
            "  - Image Size: 640x640\n",
            "  - Batch Size: 8\n",
            "  - Parameters: ~3.26M\n",
            "  - GFLOPs: ~12.1\n",
            "\n",
            "Final Validation Metrics (Best.pt):\n",
            "  Box Detection:\n",
            "    Precision: 0.775\n",
            "    Recall:    0.840\n",
            "    mAP@0.5:   0.876\n",
            "    mAP@0.5:0.95: 0.503\n",
            "  Mask Segmentation:\n",
            "    Precision: 0.777\n",
            "    Recall:    0.831\n",
            "    mAP@0.5:   0.873\n",
            "    mAP@0.5:0.95: 0.444\n",
            "  Notes: Trained successfully, excellent performance, efficient.\n",
            "\n",
            "==================================================\n",
            "Model 2: YOLOv8s-seg\n",
            "------------------------------\n",
            "Configuration:\n",
            "  - Epochs: 100\n",
            "  - Image Size: 1280x1280\n",
            "  - Batch Size: 16\n",
            "  - Parameters: ~11.79M\n",
            "  - GFLOPs: ~42.7\n",
            "\n",
            "Final Validation Metrics (Best.pt - Epoch 100):\n",
            "  Box Detection:\n",
            "    Precision: 0.797\n",
            "    Recall:    0.811\n",
            "    mAP@0.5:   0.869\n",
            "    mAP@0.5:0.95: 0.508\n",
            "  Mask Segmentation:\n",
            "    Precision: 0.793\n",
            "    Recall:    0.808\n",
            "    mAP@0.5:   0.862\n",
            "    mAP@0.5:0.95: 0.443\n",
            "  Notes: Larger model, higher resolution. Slightly lower mAP than YOLOv8n-seg.\n",
            "         Encountered memory issues during training/prediction.\n",
            "\n",
            "==================================================\n",
            "Comparison Summary:\n",
            "------------------------------\n",
            "The YOLOv8n-seg model achieved slightly better mAP scores while being\n",
            "significantly smaller and faster. The YOLOv8s-seg model, despite its\n",
            "increased complexity and higher training resolution, did not yield\n",
            "substantially better results for this specific bubble detection task.\n",
            "The YOLOv8n-seg model is recommended for deployment due to its\n",
            "efficiency and excellent performance.\n",
            "==================================================\n"
          ]
        }
      ]
    }
  ]
}